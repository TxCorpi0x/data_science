{
 "cells": [
  {
   "cell_type": "markdown",
   "metadata": {
    "id": "WHCy-1L_i9z0"
   },
   "source": [
    "# Univariate Feature Selection\n",
    "(by Tevfik Aytekin)"
   ]
  },
  {
   "cell_type": "markdown",
   "metadata": {
    "id": "OLWai98Ei9z5"
   },
   "source": [
    "In feature selection we try to find relevant features, that is, features which have an influence on the output. We will also try to quantify the influence of a feature. There are several ways we can find the relevance of features, in this notebook we will look at univariate filter methods. In other words, we will try to find the relevance of a single feature (independent of the others) on the output. \n"
   ]
  },
  {
   "cell_type": "code",
   "execution_count": null,
   "metadata": {
    "id": "tF0seAmIi9z5"
   },
   "outputs": [],
   "source": [
    "import numpy as np\n",
    "from sklearn.tree import DecisionTreeRegressor\n",
    "import pandas as pd\n",
    "import seaborn as sns\n",
    "from sklearn.metrics import mutual_info_score\n",
    "from sklearn.utils import resample\n",
    "from scipy.stats import chisquare\n",
    "from sklearn.feature_selection import chi2, SelectKBest, f_classif, f_regression\n",
    "from sklearn.preprocessing import LabelBinarizer, LabelEncoder, OrdinalEncoder\n",
    "import matplotlib.pyplot as plt\n",
    "from scipy.stats import chi2\n",
    "import scipy.stats as stats\n",
    "from sklearn.feature_selection import mutual_info_classif\n",
    "from sklearn import feature_selection\n",
    "\n"
   ]
  },
  {
   "cell_type": "markdown",
   "metadata": {
    "id": "OS3cejYSi9z6"
   },
   "source": [
    "### Univariate Feature Selection\n",
    "We will look at the pairwise relationships between the output variable and each one of the input variables. Our aim is to understand whether these pairs of variables are independent of each other or there is some kind of relationship between them. Different from visualizations, we will generate a numerical value for measuring the strength of the relationship.\n",
    "\n",
    "Notes:\n",
    "- If there is a significant relationship then that is something valuable. \n",
    "- If there is no significant relationship then it does not show that the input variable and the output variable are independent of each other because:\n",
    "    - Maybe there is another relationship we have not look at yet (for example even if there is no linear correlation may there is another type of correlation.\n",
    "    - Or may be the input variable togother with another variable (may be their product or ratio) has some significant relationship with the output variable.\n",
    "    \n",
    "We will use the following two datasets for illustration.\n",
    "#### Example Datasets"
   ]
  },
  {
   "cell_type": "code",
   "execution_count": null,
   "metadata": {
    "id": "gDLcYEWO19uP"
   },
   "outputs": [],
   "source": [
    "#from google.colab import drive\n",
    "#drive.mount('/content/drive')"
   ]
  },
  {
   "cell_type": "code",
   "execution_count": 56,
   "metadata": {
    "colab": {
     "base_uri": "https://localhost:8080/"
    },
    "executionInfo": {
     "elapsed": 1423,
     "status": "ok",
     "timestamp": 1664045611463,
     "user": {
      "displayName": "Tevfik Aytekin",
      "userId": "03705756795675396046"
     },
     "user_tz": -180
    },
    "id": "8Ut97JAqi9z7",
    "outputId": "b5e37bc5-44f2-43b4-84ed-e85cb385bf6a"
   },
   "outputs": [
    {
     "data": {
      "text/plain": [
       "(45211, 17)"
      ]
     },
     "execution_count": 56,
     "metadata": {},
     "output_type": "execute_result"
    }
   ],
   "source": [
    "# Bank Marketing Dataset from\n",
    "# https://archive.ics.uci.edu/ml/datasets/Bank+Marketing\n",
    "\n",
    "#bank = pd.read_csv(\"drive/MyDrive/PycharmProjects/datasets/bank/bank-full.csv\", delimiter = \";\")\n",
    "bank = pd.read_csv(\"../datasets/bank/bank-full.csv\", delimiter = \";\")\n",
    "bank.shape"
   ]
  },
  {
   "cell_type": "code",
   "execution_count": 57,
   "metadata": {
    "colab": {
     "base_uri": "https://localhost:8080/",
     "height": 427
    },
    "executionInfo": {
     "elapsed": 269,
     "status": "ok",
     "timestamp": 1664045614550,
     "user": {
      "displayName": "Tevfik Aytekin",
      "userId": "03705756795675396046"
     },
     "user_tz": -180
    },
    "id": "Kq6o0Froi9z7",
    "outputId": "31f0d0ea-7714-4505-dae9-60e90affae49"
   },
   "outputs": [
    {
     "data": {
      "text/html": [
       "<div>\n",
       "<style scoped>\n",
       "    .dataframe tbody tr th:only-of-type {\n",
       "        vertical-align: middle;\n",
       "    }\n",
       "\n",
       "    .dataframe tbody tr th {\n",
       "        vertical-align: top;\n",
       "    }\n",
       "\n",
       "    .dataframe thead th {\n",
       "        text-align: right;\n",
       "    }\n",
       "</style>\n",
       "<table border=\"1\" class=\"dataframe\">\n",
       "  <thead>\n",
       "    <tr style=\"text-align: right;\">\n",
       "      <th></th>\n",
       "      <th>age</th>\n",
       "      <th>job</th>\n",
       "      <th>marital</th>\n",
       "      <th>education</th>\n",
       "      <th>default</th>\n",
       "      <th>balance</th>\n",
       "      <th>housing</th>\n",
       "      <th>loan</th>\n",
       "      <th>contact</th>\n",
       "      <th>day</th>\n",
       "      <th>month</th>\n",
       "      <th>duration</th>\n",
       "      <th>campaign</th>\n",
       "      <th>pdays</th>\n",
       "      <th>previous</th>\n",
       "      <th>poutcome</th>\n",
       "      <th>y</th>\n",
       "    </tr>\n",
       "  </thead>\n",
       "  <tbody>\n",
       "    <tr>\n",
       "      <th>39219</th>\n",
       "      <td>29</td>\n",
       "      <td>blue-collar</td>\n",
       "      <td>divorced</td>\n",
       "      <td>unknown</td>\n",
       "      <td>no</td>\n",
       "      <td>101</td>\n",
       "      <td>yes</td>\n",
       "      <td>no</td>\n",
       "      <td>cellular</td>\n",
       "      <td>18</td>\n",
       "      <td>may</td>\n",
       "      <td>295</td>\n",
       "      <td>2</td>\n",
       "      <td>355</td>\n",
       "      <td>4</td>\n",
       "      <td>failure</td>\n",
       "      <td>no</td>\n",
       "    </tr>\n",
       "    <tr>\n",
       "      <th>17276</th>\n",
       "      <td>49</td>\n",
       "      <td>services</td>\n",
       "      <td>married</td>\n",
       "      <td>tertiary</td>\n",
       "      <td>no</td>\n",
       "      <td>475</td>\n",
       "      <td>yes</td>\n",
       "      <td>no</td>\n",
       "      <td>cellular</td>\n",
       "      <td>28</td>\n",
       "      <td>jul</td>\n",
       "      <td>273</td>\n",
       "      <td>2</td>\n",
       "      <td>-1</td>\n",
       "      <td>0</td>\n",
       "      <td>unknown</td>\n",
       "      <td>no</td>\n",
       "    </tr>\n",
       "    <tr>\n",
       "      <th>27290</th>\n",
       "      <td>43</td>\n",
       "      <td>services</td>\n",
       "      <td>married</td>\n",
       "      <td>primary</td>\n",
       "      <td>no</td>\n",
       "      <td>-88</td>\n",
       "      <td>yes</td>\n",
       "      <td>yes</td>\n",
       "      <td>cellular</td>\n",
       "      <td>21</td>\n",
       "      <td>nov</td>\n",
       "      <td>94</td>\n",
       "      <td>2</td>\n",
       "      <td>-1</td>\n",
       "      <td>0</td>\n",
       "      <td>unknown</td>\n",
       "      <td>no</td>\n",
       "    </tr>\n",
       "    <tr>\n",
       "      <th>12639</th>\n",
       "      <td>29</td>\n",
       "      <td>admin.</td>\n",
       "      <td>single</td>\n",
       "      <td>secondary</td>\n",
       "      <td>no</td>\n",
       "      <td>2802</td>\n",
       "      <td>no</td>\n",
       "      <td>yes</td>\n",
       "      <td>unknown</td>\n",
       "      <td>4</td>\n",
       "      <td>jul</td>\n",
       "      <td>840</td>\n",
       "      <td>2</td>\n",
       "      <td>-1</td>\n",
       "      <td>0</td>\n",
       "      <td>unknown</td>\n",
       "      <td>no</td>\n",
       "    </tr>\n",
       "    <tr>\n",
       "      <th>43162</th>\n",
       "      <td>34</td>\n",
       "      <td>self-employed</td>\n",
       "      <td>married</td>\n",
       "      <td>secondary</td>\n",
       "      <td>no</td>\n",
       "      <td>173</td>\n",
       "      <td>no</td>\n",
       "      <td>no</td>\n",
       "      <td>unknown</td>\n",
       "      <td>26</td>\n",
       "      <td>feb</td>\n",
       "      <td>36</td>\n",
       "      <td>1</td>\n",
       "      <td>-1</td>\n",
       "      <td>0</td>\n",
       "      <td>unknown</td>\n",
       "      <td>no</td>\n",
       "    </tr>\n",
       "    <tr>\n",
       "      <th>19111</th>\n",
       "      <td>50</td>\n",
       "      <td>admin.</td>\n",
       "      <td>married</td>\n",
       "      <td>secondary</td>\n",
       "      <td>no</td>\n",
       "      <td>350</td>\n",
       "      <td>no</td>\n",
       "      <td>no</td>\n",
       "      <td>cellular</td>\n",
       "      <td>5</td>\n",
       "      <td>aug</td>\n",
       "      <td>66</td>\n",
       "      <td>2</td>\n",
       "      <td>-1</td>\n",
       "      <td>0</td>\n",
       "      <td>unknown</td>\n",
       "      <td>no</td>\n",
       "    </tr>\n",
       "    <tr>\n",
       "      <th>10001</th>\n",
       "      <td>39</td>\n",
       "      <td>blue-collar</td>\n",
       "      <td>married</td>\n",
       "      <td>secondary</td>\n",
       "      <td>no</td>\n",
       "      <td>138</td>\n",
       "      <td>no</td>\n",
       "      <td>no</td>\n",
       "      <td>unknown</td>\n",
       "      <td>9</td>\n",
       "      <td>jun</td>\n",
       "      <td>61</td>\n",
       "      <td>2</td>\n",
       "      <td>-1</td>\n",
       "      <td>0</td>\n",
       "      <td>unknown</td>\n",
       "      <td>no</td>\n",
       "    </tr>\n",
       "    <tr>\n",
       "      <th>588</th>\n",
       "      <td>30</td>\n",
       "      <td>technician</td>\n",
       "      <td>single</td>\n",
       "      <td>secondary</td>\n",
       "      <td>no</td>\n",
       "      <td>0</td>\n",
       "      <td>yes</td>\n",
       "      <td>no</td>\n",
       "      <td>unknown</td>\n",
       "      <td>6</td>\n",
       "      <td>may</td>\n",
       "      <td>369</td>\n",
       "      <td>1</td>\n",
       "      <td>-1</td>\n",
       "      <td>0</td>\n",
       "      <td>unknown</td>\n",
       "      <td>no</td>\n",
       "    </tr>\n",
       "    <tr>\n",
       "      <th>43801</th>\n",
       "      <td>67</td>\n",
       "      <td>retired</td>\n",
       "      <td>married</td>\n",
       "      <td>primary</td>\n",
       "      <td>no</td>\n",
       "      <td>1430</td>\n",
       "      <td>no</td>\n",
       "      <td>no</td>\n",
       "      <td>telephone</td>\n",
       "      <td>26</td>\n",
       "      <td>may</td>\n",
       "      <td>283</td>\n",
       "      <td>2</td>\n",
       "      <td>135</td>\n",
       "      <td>5</td>\n",
       "      <td>success</td>\n",
       "      <td>yes</td>\n",
       "    </tr>\n",
       "    <tr>\n",
       "      <th>20052</th>\n",
       "      <td>43</td>\n",
       "      <td>management</td>\n",
       "      <td>married</td>\n",
       "      <td>tertiary</td>\n",
       "      <td>no</td>\n",
       "      <td>2759</td>\n",
       "      <td>yes</td>\n",
       "      <td>yes</td>\n",
       "      <td>cellular</td>\n",
       "      <td>8</td>\n",
       "      <td>aug</td>\n",
       "      <td>329</td>\n",
       "      <td>2</td>\n",
       "      <td>-1</td>\n",
       "      <td>0</td>\n",
       "      <td>unknown</td>\n",
       "      <td>no</td>\n",
       "    </tr>\n",
       "  </tbody>\n",
       "</table>\n",
       "</div>"
      ],
      "text/plain": [
       "       age            job   marital  education default  balance housing loan  \\\n",
       "39219   29    blue-collar  divorced    unknown      no      101     yes   no   \n",
       "17276   49       services   married   tertiary      no      475     yes   no   \n",
       "27290   43       services   married    primary      no      -88     yes  yes   \n",
       "12639   29         admin.    single  secondary      no     2802      no  yes   \n",
       "43162   34  self-employed   married  secondary      no      173      no   no   \n",
       "19111   50         admin.   married  secondary      no      350      no   no   \n",
       "10001   39    blue-collar   married  secondary      no      138      no   no   \n",
       "588     30     technician    single  secondary      no        0     yes   no   \n",
       "43801   67        retired   married    primary      no     1430      no   no   \n",
       "20052   43     management   married   tertiary      no     2759     yes  yes   \n",
       "\n",
       "         contact  day month  duration  campaign  pdays  previous poutcome    y  \n",
       "39219   cellular   18   may       295         2    355         4  failure   no  \n",
       "17276   cellular   28   jul       273         2     -1         0  unknown   no  \n",
       "27290   cellular   21   nov        94         2     -1         0  unknown   no  \n",
       "12639    unknown    4   jul       840         2     -1         0  unknown   no  \n",
       "43162    unknown   26   feb        36         1     -1         0  unknown   no  \n",
       "19111   cellular    5   aug        66         2     -1         0  unknown   no  \n",
       "10001    unknown    9   jun        61         2     -1         0  unknown   no  \n",
       "588      unknown    6   may       369         1     -1         0  unknown   no  \n",
       "43801  telephone   26   may       283         2    135         5  success  yes  \n",
       "20052   cellular    8   aug       329         2     -1         0  unknown   no  "
      ]
     },
     "execution_count": 57,
     "metadata": {},
     "output_type": "execute_result"
    }
   ],
   "source": [
    "# list random rows from the dataset\n",
    "bank.iloc[np.random.randint(1,bank.shape[0],10),:] "
   ]
  },
  {
   "cell_type": "code",
   "execution_count": null,
   "metadata": {
    "colab": {
     "base_uri": "https://localhost:8080/",
     "height": 299
    },
    "executionInfo": {
     "elapsed": 478,
     "status": "ok",
     "timestamp": 1664045642828,
     "user": {
      "displayName": "Tevfik Aytekin",
      "userId": "03705756795675396046"
     },
     "user_tz": -180
    },
    "id": "bjT2wG99i9z8",
    "outputId": "5a56b6bb-b7d5-4974-bd49-db6b676fcf2f"
   },
   "outputs": [],
   "source": [
    "# load train.csv file from Kaggle \"House Prices: Advanced Regression Techniques\" dataset \n",
    "#house = pd.read_csv(\"drive/MyDrive/PycharmProjects/datasets/house_prices/train.csv\")\n",
    "house = pd.read_csv(\"../datasets/house_prices/train.csv\")\n",
    "# print first 5 examples\n",
    "house.head(5)"
   ]
  },
  {
   "cell_type": "markdown",
   "metadata": {
    "id": "Wz9OAjF7i9z9"
   },
   "source": [
    "# Case 1: Numerical Input vs. Numeric Output\n",
    "\n",
    "For this type of analysis a common technique is to look at the correlation between the variables. There are three commonly used correlation measures: Pearson, Spearman, and Kendall. We will look at each in turn.\n",
    "\n",
    "\n",
    "### Pearson correlation\n",
    "\n",
    "Pearson correlation is a measure of linear relationship between two random variables X and Y. It is a scaled version of covariance (between -1 and 1); note that the two parameters always have the same sign (positive, negative, or 0). When the sign is positive, the variables are said to be positively correlated; when the sign is negative, the variables are said to be negatively correlated; and when the sign is 0, the variables are said to be uncorrelated. For basic statistical concepts like variance, covariance, and standard deviation check this [notebook](stats.ipynb).\n",
    "\n",
    "$$pcorr(X,Y) = \\frac{cov(X,Y)}{\\sigma_X \\sigma_Y}$$"
   ]
  },
  {
   "cell_type": "code",
   "execution_count": 34,
   "metadata": {
    "colab": {
     "base_uri": "https://localhost:8080/",
     "height": 287
    },
    "executionInfo": {
     "elapsed": 286,
     "status": "ok",
     "timestamp": 1664045647300,
     "user": {
      "displayName": "Tevfik Aytekin",
      "userId": "03705756795675396046"
     },
     "user_tz": -180
    },
    "id": "LgO9n6MUi9z9",
    "outputId": "cdf9c18f-3b28-4c83-9f30-ff88a7041291"
   },
   "outputs": [
    {
     "data": {
      "text/plain": [
       "PearsonRResult(statistic=0.9874100874179736, pvalue=7.282637065765987e-07)"
      ]
     },
     "execution_count": 34,
     "metadata": {},
     "output_type": "execute_result"
    },
    {
     "data": {
      "image/png": "[encoded data removed]",
      "text/plain": [
       "<Figure size 640x480 with 1 Axes>"
      ]
     },
     "metadata": {},
     "output_type": "display_data"
    }
   ],
   "source": [
    "# Example\n",
    "X = [2, 4, 6, 8, 12, 14, 18, 21, 23]\n",
    "Y = [3, 5, 7, 9, 11, 12, 17, 22, 24]\n",
    "\n",
    "plt.plot(X,Y, \"o\")\n",
    "\n",
    "# returns correlation and p-value\n",
    "stats.pearsonr(X,Y)"
   ]
  },
  {
   "cell_type": "markdown",
   "metadata": {
    "id": "uC0qBRLDi9z-"
   },
   "source": [
    "### A note on p-value\n",
    "\n",
    "p-value is an important statistical concept used in hypothesis testing. Technically, the p-value is the probability of observing a test statistic that is as extreme or more extreme than the observed test statistic under the null hypothesis. Intiutively, it means how likely it is to observe the sample by chance. If the p-value is small (typically less then 0.05) then we can reject the null hypothesis, that is, we can conclude that its very unlikely to observe the sample by chance.\n",
    "\n",
    "For Pearson correlation the null hypothesis is that the samples come from a uncorrelated bivariate normal distribution. \n",
    "\n",
    "p-values are important when the sample sizes are small. Check out the sample below, the correlation is high but p-value > 0.05 which implies that the samples might come from uncorrelated populations. As a rule of thumb, you should ignore correlations which are not statistically significant (p > 0.05) even if the correlation is high."
   ]
  },
  {
   "cell_type": "code",
   "execution_count": 33,
   "metadata": {
    "colab": {
     "base_uri": "https://localhost:8080/",
     "height": 283
    },
    "executionInfo": {
     "elapsed": 9,
     "status": "ok",
     "timestamp": 1664045648848,
     "user": {
      "displayName": "Tevfik Aytekin",
      "userId": "03705756795675396046"
     },
     "user_tz": -180
    },
    "id": "xiH7SytPi9z-",
    "outputId": "861eb303-4886-492e-fb7a-365da834e26a"
   },
   "outputs": [
    {
     "data": {
      "text/plain": [
       "PearsonRResult(statistic=0.8944271909999159, pvalue=0.10557280900008426)"
      ]
     },
     "execution_count": 33,
     "metadata": {},
     "output_type": "execute_result"
    },
    {
     "data": {
      "image/png": "[encoded data removed]",
      "text/plain": [
       "<Figure size 640x480 with 1 Axes>"
      ]
     },
     "metadata": {},
     "output_type": "display_data"
    }
   ],
   "source": [
    "# Example\n",
    "X = [6, 4, 6, 8] \n",
    "Y = [6, 5, 8, 9] \n",
    "plt.plot(X,Y, \"o\")\n",
    "\n",
    "# returns correlation and p-value\n",
    "stats.pearsonr(X,Y)"
   ]
  },
  {
   "cell_type": "markdown",
   "metadata": {
    "id": "SY7u6GG5i9z_"
   },
   "source": [
    "Below are some example datases with various degrees of Pearson correlation.\n",
    "\n",
    "Question: Note that there is no correlation coefficient value for the dataset in the middle position. Why is that? Hint: Check the definition of correlation.\n",
    "\n",
    "[image source](http://commons.wikimedia.org/wiki/File:Correlation_examples2.svg)\n",
    "\n",
    "<img src=\"images/cor1.png\" alt=\"drawing\" width=\"500\" align=\"left\">\n"
   ]
  },
  {
   "cell_type": "markdown",
   "metadata": {
    "id": "WzJ6sE05i9z_"
   },
   "source": [
    "### <center>Anscombe's Quartet</center>\n",
    "\n",
    "For all four datasets below the Pearson correlation coefficient is: +0.816.\n",
    "\n",
    "<img src=\"images/cor2.png\" alt=\"drawing\" width=\"500\" align=\"left\">  \n",
    "\n",
    "\n",
    "[image source](http://commons.wikimedia.org/wiki/File:Anscombe%27s_quartet_3.svg)  \n"
   ]
  },
  {
   "cell_type": "markdown",
   "metadata": {
    "id": "7n96HHjci9z_"
   },
   "source": [
    "#### Outlier Problem\n",
    "\n",
    "Outliers might dratically influence the correlation values, so one should be careful with outliers in the evaluation of correlation results."
   ]
  },
  {
   "cell_type": "code",
   "execution_count": 35,
   "metadata": {
    "colab": {
     "base_uri": "https://localhost:8080/",
     "height": 287
    },
    "executionInfo": {
     "elapsed": 469,
     "status": "ok",
     "timestamp": 1664045652023,
     "user": {
      "displayName": "Tevfik Aytekin",
      "userId": "03705756795675396046"
     },
     "user_tz": -180
    },
    "id": "i1nznBCii9z_",
    "outputId": "db99580c-4077-4eb2-8e39-6daf5d8efe20"
   },
   "outputs": [
    {
     "data": {
      "text/plain": [
       "PearsonRResult(statistic=0.0020896678072882535, pvalue=0.9957429791908512)"
      ]
     },
     "execution_count": 35,
     "metadata": {},
     "output_type": "execute_result"
    },
    {
     "data": {
      "image/png": "[encoded data removed]",
      "text/plain": [
       "<Figure size 640x480 with 1 Axes>"
      ]
     },
     "metadata": {},
     "output_type": "display_data"
    }
   ],
   "source": [
    "# Example\n",
    "X = [13, 10, 6, 8, 12, 9, 18, 21, 6]\n",
    "Y = [3, 5, 7, 9, 11, 12, 17, 12, 24]\n",
    "plt.plot(X,Y, \"o\")\n",
    "stats.pearsonr(X,Y)"
   ]
  },
  {
   "cell_type": "code",
   "execution_count": 36,
   "metadata": {
    "colab": {
     "base_uri": "https://localhost:8080/",
     "height": 283
    },
    "executionInfo": {
     "elapsed": 574,
     "status": "ok",
     "timestamp": 1664045652798,
     "user": {
      "displayName": "Tevfik Aytekin",
      "userId": "03705756795675396046"
     },
     "user_tz": -180
    },
    "id": "5yeMyDWIi90A",
    "outputId": "91e709c3-2c24-409f-fb37-c27aca58e80b"
   },
   "outputs": [
    {
     "data": {
      "text/plain": [
       "PearsonRResult(statistic=0.9632125532618062, pvalue=7.664333701501093e-06)"
      ]
     },
     "execution_count": 36,
     "metadata": {},
     "output_type": "execute_result"
    },
    {
     "data": {
      "image/png": "[encoded data removed]",
      "text/plain": [
       "<Figure size 640x480 with 1 Axes>"
      ]
     },
     "metadata": {},
     "output_type": "display_data"
    }
   ],
   "source": [
    "# After adding a single outlier\n",
    "X = [13, 10, 6, 8, 12, 9, 18, 21, 6, 100]\n",
    "Y = [3, 5, 7, 9, 11, 12, 17, 12, 24, 100]\n",
    "plt.plot(X,Y, \"o\")\n",
    "stats.pearsonr(X,Y)"
   ]
  },
  {
   "cell_type": "markdown",
   "metadata": {
    "id": "KrQhSZVki90A"
   },
   "source": [
    "### Spearman rank correlation\n",
    "Spearman rank correlation is the Pearson correlation between the rank values of two variables.\n",
    "\n",
    "<img src=\"images/spearman.png\" width=\"400\" align=\"left\">\n",
    "\n",
    "[image source](https://upload.wikimedia.org/wikipedia/commons/thumb/4/4e/Spearman_fig1.svg/600px-Spearman_fig1.svg.png)"
   ]
  },
  {
   "cell_type": "code",
   "execution_count": 37,
   "metadata": {
    "colab": {
     "base_uri": "https://localhost:8080/",
     "height": 301
    },
    "executionInfo": {
     "elapsed": 398,
     "status": "ok",
     "timestamp": 1664045654199,
     "user": {
      "displayName": "Tevfik Aytekin",
      "userId": "03705756795675396046"
     },
     "user_tz": -180
    },
    "id": "3Pe3Egvwi90A",
    "outputId": "c021090a-7ff8-4a6f-89a1-dbf339345bb1"
   },
   "outputs": [
    {
     "name": "stdout",
     "output_type": "stream",
     "text": [
      "SignificanceResult(statistic=1.0, pvalue=0.0)\n",
      "Pearson: PearsonRResult(statistic=0.8140522903309356, pvalue=0.00039463198897921417)\n"
     ]
    },
    {
     "data": {
      "image/png": "[encoded data removed]",
      "text/plain": [
       "<Figure size 640x480 with 1 Axes>"
      ]
     },
     "metadata": {},
     "output_type": "display_data"
    }
   ],
   "source": [
    "# Example\n",
    "X = [0, 5, 41, 15, 20, 25, 30, 35, 36, 37, 38, 39, 40, 10]\n",
    "Y = [1, 2, 40, 4, 5, 6, 7, 10, 15, 20, 25, 30, 35, 3]\n",
    "\n",
    "plt.plot(X,Y, \"o\")\n",
    "plt.gca().set_aspect('equal')\n",
    "print(stats.spearmanr(X,Y))\n",
    "print(\"Pearson:\",stats.pearsonr(X,Y))"
   ]
  },
  {
   "cell_type": "code",
   "execution_count": 38,
   "metadata": {
    "colab": {
     "base_uri": "https://localhost:8080/"
    },
    "executionInfo": {
     "elapsed": 20,
     "status": "ok",
     "timestamp": 1664045654638,
     "user": {
      "displayName": "Tevfik Aytekin",
      "userId": "03705756795675396046"
     },
     "user_tz": -180
    },
    "id": "g4bFTS5Li90B",
    "outputId": "33e4e61b-4fde-4f7c-cd3d-ae4880b63f9e"
   },
   "outputs": [
    {
     "name": "stdout",
     "output_type": "stream",
     "text": [
      "[ 1.  2. 14.  4.  5.  6.  7.  8.  9. 10. 11. 12. 13.  3.]\n",
      "[ 1.  2. 14.  4.  5.  6.  7.  8.  9. 10. 11. 12. 13.  3.]\n"
     ]
    }
   ],
   "source": [
    "print(stats.rankdata(X))\n",
    "print(stats.rankdata(Y))"
   ]
  },
  {
   "cell_type": "code",
   "execution_count": 39,
   "metadata": {
    "colab": {
     "base_uri": "https://localhost:8080/",
     "height": 283
    },
    "executionInfo": {
     "elapsed": 297,
     "status": "ok",
     "timestamp": 1664045655547,
     "user": {
      "displayName": "Tevfik Aytekin",
      "userId": "03705756795675396046"
     },
     "user_tz": -180
    },
    "id": "Pedzx4pei90B",
    "outputId": "384d4517-6e94-43d7-c5f2-87bdd3dc46b7"
   },
   "outputs": [
    {
     "data": {
      "text/plain": [
       "SignificanceResult(statistic=0.9340659340659341, pvalue=1.0279787693084366e-06)"
      ]
     },
     "execution_count": 39,
     "metadata": {},
     "output_type": "execute_result"
    },
    {
     "data": {
      "image/png": "[encoded data removed]",
      "text/plain": [
       "<Figure size 640x480 with 1 Axes>"
      ]
     },
     "metadata": {},
     "output_type": "display_data"
    }
   ],
   "source": [
    "# Let us change the example a little\n",
    "X = [0, 5, 10, 15, 20, 25, 30, 35, 36, 37, 38, 39, 40, 41]\n",
    "Y = [1, 2, 3, 4, 5, 6, 7, 10, 20, 25, 30, 35, 8, 40]\n",
    "\n",
    "plt.plot(X,Y, \"o\")\n",
    "stats.spearmanr(X,Y)"
   ]
  },
  {
   "cell_type": "code",
   "execution_count": 41,
   "metadata": {
    "colab": {
     "base_uri": "https://localhost:8080/"
    },
    "executionInfo": {
     "elapsed": 10,
     "status": "ok",
     "timestamp": 1664045655547,
     "user": {
      "displayName": "Tevfik Aytekin",
      "userId": "03705756795675396046"
     },
     "user_tz": -180
    },
    "id": "MFGbWr3ei90B",
    "outputId": "c1d0f266-75b5-4675-f3bf-764f299960fe"
   },
   "outputs": [
    {
     "name": "stdout",
     "output_type": "stream",
     "text": [
      "[ 1.  2.  3.  4.  5.  6.  7.  8.  9. 10. 11. 12. 13. 14.]\n",
      "[ 1.  2.  3.  4.  5.  6.  7.  9. 10. 11. 12. 13.  8. 14.]\n"
     ]
    }
   ],
   "source": [
    "X_ranks = stats.rankdata(X)\n",
    "Y_ranks = stats.rankdata(Y)\n",
    "print(X_ranks); print(Y_ranks)"
   ]
  },
  {
   "cell_type": "code",
   "execution_count": 42,
   "metadata": {
    "colab": {
     "base_uri": "https://localhost:8080/"
    },
    "executionInfo": {
     "elapsed": 2,
     "status": "ok",
     "timestamp": 1664045655990,
     "user": {
      "displayName": "Tevfik Aytekin",
      "userId": "03705756795675396046"
     },
     "user_tz": -180
    },
    "id": "C-P74yfSi90C",
    "outputId": "74583e29-286c-4fab-91c6-c5cfa10ed767"
   },
   "outputs": [
    {
     "data": {
      "text/plain": [
       "PearsonRResult(statistic=0.9340659340659341, pvalue=1.0279787693084372e-06)"
      ]
     },
     "execution_count": 42,
     "metadata": {},
     "output_type": "execute_result"
    }
   ],
   "source": [
    "stats.pearsonr(X_ranks,Y_ranks)"
   ]
  },
  {
   "cell_type": "markdown",
   "metadata": {
    "id": "FQ1Uqkfsi90C"
   },
   "source": [
    "### Kendall Rank Correlation"
   ]
  },
  {
   "cell_type": "code",
   "execution_count": 43,
   "metadata": {
    "id": "NpDw7HP5i90C"
   },
   "outputs": [],
   "source": [
    "def my_kendall_tau(x,y):\n",
    "    concordant = 0\n",
    "    discordant = 0\n",
    "    for i in range(len(x)):\n",
    "        for j in range(i+1, len(x)):\n",
    "            if ((x[i]-x[j]) * (y[i]-y[j])) > 0:\n",
    "                concordant += 1\n",
    "            else:\n",
    "                discordant += 1\n",
    "    return (concordant-discordant)/(concordant+discordant)"
   ]
  },
  {
   "cell_type": "code",
   "execution_count": 44,
   "metadata": {
    "colab": {
     "base_uri": "https://localhost:8080/"
    },
    "executionInfo": {
     "elapsed": 6,
     "status": "ok",
     "timestamp": 1664045656986,
     "user": {
      "displayName": "Tevfik Aytekin",
      "userId": "03705756795675396046"
     },
     "user_tz": -180
    },
    "id": "TS-D75kti90C",
    "outputId": "20a896cb-a270-4077-d8e7-162a1e384ddb"
   },
   "outputs": [
    {
     "name": "stdout",
     "output_type": "stream",
     "text": [
      "[ 1.  2. 14.  4.  5.  6.  7.  8.  9. 10. 11. 12. 13.  3.]\n",
      "[ 1.  2. 14.  4.  5.  6.  7.  8.  9. 10. 11. 12. 13.  3.]\n"
     ]
    }
   ],
   "source": [
    "X = [0, 5, 41, 15, 20, 25, 30, 35, 36, 37, 38, 39, 40, 10]\n",
    "Y = [1, 2, 40, 4, 5, 6, 7, 10, 15, 20, 25, 30, 35, 3]\n",
    "X_ranks = stats.rankdata(X)\n",
    "Y_ranks = stats.rankdata(Y)\n",
    "print(X_ranks)\n",
    "print(Y_ranks)"
   ]
  },
  {
   "cell_type": "code",
   "execution_count": 45,
   "metadata": {
    "colab": {
     "base_uri": "https://localhost:8080/"
    },
    "executionInfo": {
     "elapsed": 5,
     "status": "ok",
     "timestamp": 1664045656987,
     "user": {
      "displayName": "Tevfik Aytekin",
      "userId": "03705756795675396046"
     },
     "user_tz": -180
    },
    "id": "HMzOZVu1i90C",
    "outputId": "8a1b0c4a-06d7-4680-a730-8e92980be9d1"
   },
   "outputs": [
    {
     "data": {
      "text/plain": [
       "1.0"
      ]
     },
     "execution_count": 45,
     "metadata": {},
     "output_type": "execute_result"
    }
   ],
   "source": [
    "my_kendall_tau(X_ranks,Y_ranks)"
   ]
  },
  {
   "cell_type": "code",
   "execution_count": 46,
   "metadata": {
    "colab": {
     "base_uri": "https://localhost:8080/"
    },
    "executionInfo": {
     "elapsed": 4,
     "status": "ok",
     "timestamp": 1664045657910,
     "user": {
      "displayName": "Tevfik Aytekin",
      "userId": "03705756795675396046"
     },
     "user_tz": -180
    },
    "id": "ep7YhCMZi90D",
    "outputId": "5a45f34f-f289-4ac0-8887-b8938fd54b4b"
   },
   "outputs": [
    {
     "data": {
      "text/plain": [
       "1.0"
      ]
     },
     "execution_count": 46,
     "metadata": {},
     "output_type": "execute_result"
    }
   ],
   "source": [
    "my_kendall_tau(X,Y)"
   ]
  },
  {
   "cell_type": "code",
   "execution_count": 47,
   "metadata": {
    "colab": {
     "base_uri": "https://localhost:8080/",
     "height": 283
    },
    "executionInfo": {
     "elapsed": 11,
     "status": "ok",
     "timestamp": 1664045659117,
     "user": {
      "displayName": "Tevfik Aytekin",
      "userId": "03705756795675396046"
     },
     "user_tz": -180
    },
    "id": "WuhnQYMVi90D",
    "outputId": "e074e717-7942-49a9-db0a-147dedfe8556"
   },
   "outputs": [
    {
     "data": {
      "text/plain": [
       "SignificanceResult(statistic=0.8176920377625482, pvalue=4.966324030587148e-05)"
      ]
     },
     "execution_count": 47,
     "metadata": {},
     "output_type": "execute_result"
    },
    {
     "data": {
      "image/png": "[encoded data removed]",
      "text/plain": [
       "<Figure size 640x480 with 1 Axes>"
      ]
     },
     "metadata": {},
     "output_type": "display_data"
    }
   ],
   "source": [
    "X = [0, 5, 10, 15, 2, 25, 30, 35, 36, 37, 38, 39, 40, 41]\n",
    "Y = [1, 2, 3, 4, 5, 6, 7, 10, 15, 20, 5, 30, 35, 40]\n",
    "plt.plot(X,Y, \"o\")\n",
    "stats.kendalltau(X,Y)"
   ]
  },
  {
   "cell_type": "code",
   "execution_count": 48,
   "metadata": {
    "colab": {
     "base_uri": "https://localhost:8080/"
    },
    "executionInfo": {
     "elapsed": 3,
     "status": "ok",
     "timestamp": 1664045659442,
     "user": {
      "displayName": "Tevfik Aytekin",
      "userId": "03705756795675396046"
     },
     "user_tz": -180
    },
    "id": "o-yYvr02i90D",
    "outputId": "c9cd00e8-a962-45c2-9523-7f3671d13625"
   },
   "outputs": [
    {
     "data": {
      "text/plain": [
       "0.8021978021978022"
      ]
     },
     "execution_count": 48,
     "metadata": {},
     "output_type": "execute_result"
    }
   ],
   "source": [
    "my_kendall_tau(X,Y)"
   ]
  },
  {
   "cell_type": "markdown",
   "metadata": {},
   "source": [
    "You can get all pairwise correlations easily as follows: (Note that you can set the method parameter to pearson, kendall, and spearman."
   ]
  },
  {
   "cell_type": "code",
   "execution_count": 90,
   "metadata": {},
   "outputs": [
    {
     "data": {
      "image/png": "[encoded data removed]",
      "text/plain": [
       "<Figure size 1200x1000 with 2 Axes>"
      ]
     },
     "metadata": {},
     "output_type": "display_data"
    }
   ],
   "source": [
    "plt.figure(figsize=(12,10));\n",
    "sns.heatmap(house.corr(numeric_only=True));"
   ]
  },
  {
   "cell_type": "code",
   "execution_count": 97,
   "metadata": {},
   "outputs": [
    {
     "data": {
      "image/png": "[encoded data removed]",
      "text/plain": [
       "<Figure size 1200x1000 with 2 Axes>"
      ]
     },
     "metadata": {},
     "output_type": "display_data"
    }
   ],
   "source": [
    "plt.figure(figsize=(12,10));\n",
    "sns.heatmap(bank.corr(numeric_only=True));"
   ]
  },
  {
   "cell_type": "markdown",
   "metadata": {
    "id": "UTBr9aXci90D"
   },
   "source": [
    "# Case 2: Numerical Input vs. Categorical Output\n"
   ]
  },
  {
   "cell_type": "markdown",
   "metadata": {
    "id": "gC7t8yuoi90D"
   },
   "source": [
    "Now we will try to see if a numerical feature is relevant for a categorical class variable. One thing we can do is to look at the distribution of the numerical variable grouped by each value of the categorical variable. If the categorical and numerical variables are independent then we expect to see a similar distribution of the values of the numerical variable for each value of the categorical variable (i.e., the grouping of the numerical variable by the values of the categorical variable should not create any difference). But if the distributions are not similar then we may say that the numerical variable is relevant and also as the dissimilarity of the distributions increase it is reasonable to assume that the relevancy also increases. Of course we need some formula to measure similarity of distributions. Note that there can be two or more distributions. So our measure should work for two or more distributions. One such measure is Anova F-value.\n",
    "\n",
    "F-statistic is a way of measuring the difference between sample distributions which is defined below. Further below you will find the implementation.\n",
    "\n",
    "$$ F = \\frac{Variation\\: between\\: sample\\: means}{Variation\\: within\\: the\\: samples} $$\n",
    "\n",
    "\n",
    "**Look at the following figures and try to answer this question: are these groups come from the same population or not? How can we measure this probability, that is, the probability of coming form the same distribution?**"
   ]
  },
  {
   "cell_type": "code",
   "execution_count": 77,
   "metadata": {
    "colab": {
     "base_uri": "https://localhost:8080/",
     "height": 336
    },
    "executionInfo": {
     "elapsed": 911,
     "status": "ok",
     "timestamp": 1664045662106,
     "user": {
      "displayName": "Tevfik Aytekin",
      "userId": "03705756795675396046"
     },
     "user_tz": -180
    },
    "id": "IOuJ7_C-i90D",
    "outputId": "f3c814d2-a40a-4fe9-e59c-3f32e903c6ad"
   },
   "outputs": [
    {
     "data": {
      "image/png": "[encoded data removed]",
      "text/plain": [
       "<Figure size 1500x500 with 3 Axes>"
      ]
     },
     "metadata": {},
     "output_type": "display_data"
    }
   ],
   "source": [
    "f, ax = plt.subplots(1,3)\n",
    "ax[0].set_xlim(-10,10)\n",
    "f.set_size_inches(12,10)\n",
    "\n",
    "x = np.arange(-10, 10, 0.01)\n",
    "sns.lineplot(x=x, y=stats.norm.pdf(x,-1,1), ax= ax[0])\n",
    "sns.lineplot(x=x, y=stats.norm.pdf(x,1,1), ax= ax[0])\n",
    "\n",
    "ax[1].set_xlim(-10,10)\n",
    "sns.lineplot(x=x, y=stats.norm.pdf(x,-5,1), ax= ax[1])\n",
    "sns.lineplot(x=x, y=stats.norm.pdf(x,5,1), ax= ax[1])\n",
    "\n",
    "ax[2].set_xlim(-10,10)\n",
    "sns.lineplot(x=x, y=stats.norm.pdf(x,-1,5), ax= ax[2])\n",
    "sns.lineplot(x=x, y=stats.norm.pdf(x,1,5), ax= ax[2])\n",
    "\n",
    "ax[0].title.set_text(\"Figure A\")\n",
    "ax[1].title.set_text(\"Figure B\")\n",
    "ax[2].title.set_text(\"Figure C\")\n",
    "f.set_figwidth(15)\n",
    "f.set_figheight(5)\n",
    "\n",
    "\n",
    "# Mean = 0, Std = 2. You can play wth these parameters.\n"
   ]
  },
  {
   "cell_type": "code",
   "execution_count": 78,
   "metadata": {
    "colab": {
     "base_uri": "https://localhost:8080/",
     "height": 606
    },
    "executionInfo": {
     "elapsed": 544,
     "status": "ok",
     "timestamp": 1664045662641,
     "user": {
      "displayName": "Tevfik Aytekin",
      "userId": "03705756795675396046"
     },
     "user_tz": -180
    },
    "id": "lF9O6w_yi90E",
    "outputId": "a086f0e5-9b05-4093-ef85-d405e52e1ab8"
   },
   "outputs": [
    {
     "data": {
      "image/png": "[encoded data removed]",
      "text/plain": [
       "<Figure size 1200x1000 with 4 Axes>"
      ]
     },
     "metadata": {},
     "output_type": "display_data"
    }
   ],
   "source": [
    "f, ax = plt.subplots(2,2)\n",
    "f.set_size_inches(12,10)\n",
    "sns.boxplot(y=\"age\", x=\"y\", data= bank, ax = ax[0,0]);\n",
    "sns.boxplot(y=\"duration\", x=\"y\", data= bank, ax = ax[0,1]);\n",
    "sns.boxplot(x=\"MSZoning\", y=\"SalePrice\", data= house, ax = ax[1,0]);\n",
    "sns.boxplot(x=\"SaleCondition\", y=\"SalePrice\", data= house, ax = ax[1,1]);\n"
   ]
  },
  {
   "cell_type": "code",
   "execution_count": 79,
   "metadata": {
    "colab": {
     "base_uri": "https://localhost:8080/",
     "height": 336
    },
    "executionInfo": {
     "elapsed": 388,
     "status": "ok",
     "timestamp": 1664045662987,
     "user": {
      "displayName": "Tevfik Aytekin",
      "userId": "03705756795675396046"
     },
     "user_tz": -180
    },
    "id": "zp9yKP8Oi90E",
    "outputId": "24260932-db46-4864-9abb-5c8a58ca0a57"
   },
   "outputs": [
    {
     "data": {
      "text/plain": [
       "array([<Axes: title={'center': 'no'}>, <Axes: title={'center': 'yes'}>],\n",
       "      dtype=object)"
      ]
     },
     "execution_count": 79,
     "metadata": {},
     "output_type": "execute_result"
    },
    {
     "data": {
      "image/png": "[encoded data removed]",
      "text/plain": [
       "<Figure size 640x480 with 2 Axes>"
      ]
     },
     "metadata": {},
     "output_type": "display_data"
    }
   ],
   "source": [
    "bank[\"age\"].hist(by=bank[\"y\"])"
   ]
  },
  {
   "cell_type": "markdown",
   "metadata": {
    "id": "lTMAAL0ti90E"
   },
   "source": [
    "Below is the result of one-way anova test. As can be seen the result is statistically significant, so smaller age indeeds affects the result in the positive way, however, what is the size of this affect?\n"
   ]
  },
  {
   "cell_type": "code",
   "execution_count": 80,
   "metadata": {
    "colab": {
     "base_uri": "https://localhost:8080/"
    },
    "executionInfo": {
     "elapsed": 8,
     "status": "ok",
     "timestamp": 1664045662988,
     "user": {
      "displayName": "Tevfik Aytekin",
      "userId": "03705756795675396046"
     },
     "user_tz": -180
    },
    "id": "smbs3eZ5i90E",
    "outputId": "55e3c8a4-f886-4bc3-a036-2d3a77e50776"
   },
   "outputs": [
    {
     "name": "stdout",
     "output_type": "stream",
     "text": [
      "28.625233091728465 8.825643691900577e-08\n"
     ]
    }
   ],
   "source": [
    "group1 = bank[bank[\"y\"]==\"yes\"].age\n",
    "group2 = bank[bank[\"y\"]==\"no\"].age\n",
    "fvalue, pvalue = stats.f_oneway(group1, group2)\n",
    "print(fvalue, pvalue)\n"
   ]
  },
  {
   "cell_type": "markdown",
   "metadata": {
    "id": "z5OiEIbEi90F"
   },
   "source": [
    "Let us calculate the f-value from scratch."
   ]
  },
  {
   "cell_type": "code",
   "execution_count": 81,
   "metadata": {
    "id": "RKYIVyVvi90F"
   },
   "outputs": [],
   "source": [
    "def my_f_statistic(*groups):\n",
    "    \n",
    "    merged_groups = np.concatenate(groups)\n",
    "    grand_mean = np.mean(merged_groups)\n",
    "    group_means = [np.mean(g) for g in groups]\n",
    "    ss_within = 0\n",
    "    ss_between = 0\n",
    "    for i in range(len(groups)):\n",
    "        ss_within += np.sum((groups[i] - group_means[i])**2)\n",
    "        ss_between += groups[i].size * (group_means[i] - grand_mean)**2\n",
    "        \n",
    "    df1 = len(groups) - 1\n",
    "    df2 = merged_groups.size - len(groups)\n",
    "    f_stat = (ss_between / df1) / (ss_within / df2)\n",
    "    \n",
    "    #print(ss_between / df1)\n",
    "    #print(ss_within / df2)\n",
    "    #print(ss_total,\" \",ss_within,\" \", ss_between)\n",
    "    #print(ss_within + ss_between)\n",
    "    #print(f_statistic)\n",
    "    \n",
    "    return f_stat"
   ]
  },
  {
   "cell_type": "markdown",
   "metadata": {
    "id": "8gaO1uo6i90F"
   },
   "source": [
    "An example step by step"
   ]
  },
  {
   "cell_type": "code",
   "execution_count": 82,
   "metadata": {
    "colab": {
     "base_uri": "https://localhost:8080/"
    },
    "executionInfo": {
     "elapsed": 14,
     "status": "ok",
     "timestamp": 1664045664986,
     "user": {
      "displayName": "Tevfik Aytekin",
      "userId": "03705756795675396046"
     },
     "user_tz": -180
    },
    "id": "4SEI1IJpi90F",
    "outputId": "abbd40d0-d77d-41b4-c3e2-77baf915e076"
   },
   "outputs": [
    {
     "name": "stdout",
     "output_type": "stream",
     "text": [
      "grand mean 4.0\n",
      "group means [3.0, 5.0]\n"
     ]
    }
   ],
   "source": [
    "groups = [[1,2,3,4,5],[3,4,5,6,7]]\n",
    "merged_groups = np.concatenate(groups)\n",
    "grand_mean = np.mean(merged_groups)\n",
    "print(\"grand mean\",grand_mean)\n",
    "group_means = [np.mean(g) for g in groups]\n",
    "print(\"group means\", group_means)"
   ]
  },
  {
   "cell_type": "code",
   "execution_count": null,
   "metadata": {
    "colab": {
     "base_uri": "https://localhost:8080/"
    },
    "executionInfo": {
     "elapsed": 29,
     "status": "ok",
     "timestamp": 1664045665564,
     "user": {
      "displayName": "Tevfik Aytekin",
      "userId": "03705756795675396046"
     },
     "user_tz": -180
    },
    "id": "6T4yPsHhi90F",
    "outputId": "f118f035-7e07-4246-883e-8e12f19829e1"
   },
   "outputs": [],
   "source": [
    "i=0\n",
    "(groups[i] - group_means[i])**2"
   ]
  },
  {
   "cell_type": "code",
   "execution_count": 83,
   "metadata": {
    "colab": {
     "base_uri": "https://localhost:8080/"
    },
    "executionInfo": {
     "elapsed": 15,
     "status": "ok",
     "timestamp": 1664045666119,
     "user": {
      "displayName": "Tevfik Aytekin",
      "userId": "03705756795675396046"
     },
     "user_tz": -180
    },
    "id": "meS8AWPSi90F",
    "outputId": "1c241e00-d983-43c8-d12c-383e7ea1b1ab"
   },
   "outputs": [
    {
     "data": {
      "text/plain": [
       "28.62523309172829"
      ]
     },
     "execution_count": 83,
     "metadata": {},
     "output_type": "execute_result"
    }
   ],
   "source": [
    "group1 = bank[bank[\"y\"]==\"yes\"].age.values\n",
    "group2 = bank[bank[\"y\"]==\"no\"].age.values\n",
    "my_f_statistic(group1, group2)\n"
   ]
  },
  {
   "cell_type": "code",
   "execution_count": 64,
   "metadata": {
    "colab": {
     "base_uri": "https://localhost:8080/",
     "height": 279
    },
    "executionInfo": {
     "elapsed": 9,
     "status": "ok",
     "timestamp": 1664045666983,
     "user": {
      "displayName": "Tevfik Aytekin",
      "userId": "03705756795675396046"
     },
     "user_tz": -180
    },
    "id": "cy24bBMvi90G",
    "outputId": "da478cfe-043d-4d2f-8b5f-23699e41b5a7"
   },
   "outputs": [
    {
     "data": {
      "image/png": "[encoded data removed]",
      "text/plain": [
       "<Figure size 640x480 with 1 Axes>"
      ]
     },
     "metadata": {},
     "output_type": "display_data"
    }
   ],
   "source": [
    "sns.boxplot(y=\"balance\", x=\"y\", data= bank);"
   ]
  },
  {
   "cell_type": "code",
   "execution_count": 65,
   "metadata": {
    "colab": {
     "base_uri": "https://localhost:8080/",
     "height": 279
    },
    "executionInfo": {
     "elapsed": 7,
     "status": "ok",
     "timestamp": 1664045667270,
     "user": {
      "displayName": "Tevfik Aytekin",
      "userId": "03705756795675396046"
     },
     "user_tz": -180
    },
    "id": "Os_s5hQBi90G",
    "outputId": "fb904051-318b-41d1-f976-bbff1972a8e1"
   },
   "outputs": [
    {
     "data": {
      "image/png": "[encoded data removed]",
      "text/plain": [
       "<Figure size 640x480 with 1 Axes>"
      ]
     },
     "metadata": {},
     "output_type": "display_data"
    }
   ],
   "source": [
    "bank2 = bank[(bank.balance < 5000)]\n",
    "sns.boxplot(y=\"balance\", x=\"y\", data= bank2);"
   ]
  },
  {
   "cell_type": "code",
   "execution_count": 66,
   "metadata": {
    "colab": {
     "base_uri": "https://localhost:8080/"
    },
    "executionInfo": {
     "elapsed": 17,
     "status": "ok",
     "timestamp": 1664045667613,
     "user": {
      "displayName": "Tevfik Aytekin",
      "userId": "03705756795675396046"
     },
     "user_tz": -180
    },
    "id": "m9eNwtjKi90G",
    "outputId": "e6c3e8c0-9eed-47fe-956c-776a0ed8cb62"
   },
   "outputs": [
    {
     "name": "stdout",
     "output_type": "stream",
     "text": [
      "126.57227551143087 2.5211136918594683e-29\n"
     ]
    }
   ],
   "source": [
    "group1 = bank[bank[\"y\"]==\"yes\"].balance\n",
    "group2 = bank[bank[\"y\"]==\"no\"].balance\n",
    "fvalue, pvalue = stats.f_oneway(group1, group2)\n",
    "print(fvalue, pvalue)"
   ]
  },
  {
   "cell_type": "code",
   "execution_count": 67,
   "metadata": {
    "colab": {
     "base_uri": "https://localhost:8080/",
     "height": 279
    },
    "executionInfo": {
     "elapsed": 604,
     "status": "ok",
     "timestamp": 1664045668207,
     "user": {
      "displayName": "Tevfik Aytekin",
      "userId": "03705756795675396046"
     },
     "user_tz": -180
    },
    "id": "xsGn8juci90G",
    "outputId": "1ae5161a-a94a-4f85-a391-f11e21f55e4e"
   },
   "outputs": [
    {
     "data": {
      "image/png": "[encoded data removed]",
      "text/plain": [
       "<Figure size 640x480 with 1 Axes>"
      ]
     },
     "metadata": {},
     "output_type": "display_data"
    }
   ],
   "source": [
    "bank2 = bank[(bank.duration < 2000)]\n",
    "sns.boxplot(y=\"duration\", x=\"y\", data= bank2);"
   ]
  },
  {
   "cell_type": "code",
   "execution_count": 68,
   "metadata": {
    "colab": {
     "base_uri": "https://localhost:8080/"
    },
    "executionInfo": {
     "elapsed": 4,
     "status": "ok",
     "timestamp": 1664045668426,
     "user": {
      "displayName": "Tevfik Aytekin",
      "userId": "03705756795675396046"
     },
     "user_tz": -180
    },
    "id": "IKWPU3q2i90G",
    "outputId": "5115083c-3791-42c5-d13d-6fdef9417bb0"
   },
   "outputs": [
    {
     "name": "stdout",
     "output_type": "stream",
     "text": [
      "8333.761148332413 0.0\n"
     ]
    }
   ],
   "source": [
    "group1 = bank[bank[\"y\"]==\"yes\"].duration\n",
    "group2 = bank[bank[\"y\"]==\"no\"].duration\n",
    "fvalue, pvalue = stats.f_oneway(group1, group2)\n",
    "print(fvalue, pvalue)"
   ]
  },
  {
   "cell_type": "markdown",
   "metadata": {
    "id": "-E2UWv3hi90G"
   },
   "source": [
    "### SelectKBest\n",
    "\n",
    "We can use SelectKBest to find features with the highest scores."
   ]
  },
  {
   "cell_type": "code",
   "execution_count": 69,
   "metadata": {
    "colab": {
     "base_uri": "https://localhost:8080/"
    },
    "executionInfo": {
     "elapsed": 9,
     "status": "ok",
     "timestamp": 1664045669354,
     "user": {
      "displayName": "Tevfik Aytekin",
      "userId": "03705756795675396046"
     },
     "user_tz": -180
    },
    "id": "7z2-HWbri90G",
    "outputId": "a60c371c-56ba-40de-f8ea-9764a2371abd"
   },
   "outputs": [
    {
     "data": {
      "text/html": [
       "<style>#sk-container-id-1 {color: black;background-color: white;}#sk-container-id-1 pre{padding: 0;}#sk-container-id-1 div.sk-toggleable {background-color: white;}#sk-container-id-1 label.sk-toggleable__label {cursor: pointer;display: block;width: 100%;margin-bottom: 0;padding: 0.3em;box-sizing: border-box;text-align: center;}#sk-container-id-1 label.sk-toggleable__label-arrow:before {content: \"▸\";float: left;margin-right: 0.25em;color: #696969;}#sk-container-id-1 label.sk-toggleable__label-arrow:hover:before {color: black;}#sk-container-id-1 div.sk-estimator:hover label.sk-toggleable__label-arrow:before {color: black;}#sk-container-id-1 div.sk-toggleable__content {max-height: 0;max-width: 0;overflow: hidden;text-align: left;background-color: #f0f8ff;}#sk-container-id-1 div.sk-toggleable__content pre {margin: 0.2em;color: black;border-radius: 0.25em;background-color: #f0f8ff;}#sk-container-id-1 input.sk-toggleable__control:checked~div.sk-toggleable__content {max-height: 200px;max-width: 100%;overflow: auto;}#sk-container-id-1 input.sk-toggleable__control:checked~label.sk-toggleable__label-arrow:before {content: \"▾\";}#sk-container-id-1 div.sk-estimator input.sk-toggleable__control:checked~label.sk-toggleable__label {background-color: #d4ebff;}#sk-container-id-1 div.sk-label input.sk-toggleable__control:checked~label.sk-toggleable__label {background-color: #d4ebff;}#sk-container-id-1 input.sk-hidden--visually {border: 0;clip: rect(1px 1px 1px 1px);clip: rect(1px, 1px, 1px, 1px);height: 1px;margin: -1px;overflow: hidden;padding: 0;position: absolute;width: 1px;}#sk-container-id-1 div.sk-estimator {font-family: monospace;background-color: #f0f8ff;border: 1px dotted black;border-radius: 0.25em;box-sizing: border-box;margin-bottom: 0.5em;}#sk-container-id-1 div.sk-estimator:hover {background-color: #d4ebff;}#sk-container-id-1 div.sk-parallel-item::after {content: \"\";width: 100%;border-bottom: 1px solid gray;flex-grow: 1;}#sk-container-id-1 div.sk-label:hover label.sk-toggleable__label {background-color: #d4ebff;}#sk-container-id-1 div.sk-serial::before {content: \"\";position: absolute;border-left: 1px solid gray;box-sizing: border-box;top: 0;bottom: 0;left: 50%;z-index: 0;}#sk-container-id-1 div.sk-serial {display: flex;flex-direction: column;align-items: center;background-color: white;padding-right: 0.2em;padding-left: 0.2em;position: relative;}#sk-container-id-1 div.sk-item {position: relative;z-index: 1;}#sk-container-id-1 div.sk-parallel {display: flex;align-items: stretch;justify-content: center;background-color: white;position: relative;}#sk-container-id-1 div.sk-item::before, #sk-container-id-1 div.sk-parallel-item::before {content: \"\";position: absolute;border-left: 1px solid gray;box-sizing: border-box;top: 0;bottom: 0;left: 50%;z-index: -1;}#sk-container-id-1 div.sk-parallel-item {display: flex;flex-direction: column;z-index: 1;position: relative;background-color: white;}#sk-container-id-1 div.sk-parallel-item:first-child::after {align-self: flex-end;width: 50%;}#sk-container-id-1 div.sk-parallel-item:last-child::after {align-self: flex-start;width: 50%;}#sk-container-id-1 div.sk-parallel-item:only-child::after {width: 0;}#sk-container-id-1 div.sk-dashed-wrapped {border: 1px dashed gray;margin: 0 0.4em 0.5em 0.4em;box-sizing: border-box;padding-bottom: 0.4em;background-color: white;}#sk-container-id-1 div.sk-label label {font-family: monospace;font-weight: bold;display: inline-block;line-height: 1.2em;}#sk-container-id-1 div.sk-label-container {text-align: center;}#sk-container-id-1 div.sk-container {/* jupyter's `normalize.less` sets `[hidden] { display: none; }` but bootstrap.min.css set `[hidden] { display: none !important; }` so we also need the `!important` here to be able to override the default hidden behavior on the sphinx rendered scikit-learn.org. See: https://github.com/scikit-learn/scikit-learn/issues/21755 */display: inline-block !important;position: relative;}#sk-container-id-1 div.sk-text-repr-fallback {display: none;}</style><div id=\"sk-container-id-1\" class=\"sk-top-container\"><div class=\"sk-text-repr-fallback\"><pre>SelectKBest(k=7)</pre><b>In a Jupyter environment, please rerun this cell to show the HTML representation or trust the notebook. <br />On GitHub, the HTML representation is unable to render, please try loading this page with nbviewer.org.</b></div><div class=\"sk-container\" hidden><div class=\"sk-item\"><div class=\"sk-estimator sk-toggleable\"><input class=\"sk-toggleable__control sk-hidden--visually\" id=\"sk-estimator-id-1\" type=\"checkbox\" checked><label for=\"sk-estimator-id-1\" class=\"sk-toggleable__label sk-toggleable__label-arrow\">SelectKBest</label><div class=\"sk-toggleable__content\"><pre>SelectKBest(k=7)</pre></div></div></div></div></div>"
      ],
      "text/plain": [
       "SelectKBest(k=7)"
      ]
     },
     "execution_count": 69,
     "metadata": {},
     "output_type": "execute_result"
    }
   ],
   "source": [
    "X = bank.loc[:,'age':'poutcome']\n",
    "X = bank.select_dtypes(include=np.number) # select numeric columns\n",
    "\n",
    "y = bank.loc[:,'y']\n",
    "y = y.replace([\"yes\",\"no\"],[1,-1])\n",
    "selector = SelectKBest(f_classif, k=7)\n",
    "selector.fit(X, y)"
   ]
  },
  {
   "cell_type": "code",
   "execution_count": 70,
   "metadata": {
    "colab": {
     "base_uri": "https://localhost:8080/",
     "height": 269
    },
    "executionInfo": {
     "elapsed": 5,
     "status": "ok",
     "timestamp": 1664045670223,
     "user": {
      "displayName": "Tevfik Aytekin",
      "userId": "03705756795675396046"
     },
     "user_tz": -180
    },
    "id": "7vFz8zdLi90H",
    "outputId": "52b3a2c8-cbcc-4274-87c5-865595625896"
   },
   "outputs": [
    {
     "data": {
      "text/html": [
       "<div>\n",
       "<style scoped>\n",
       "    .dataframe tbody tr th:only-of-type {\n",
       "        vertical-align: middle;\n",
       "    }\n",
       "\n",
       "    .dataframe tbody tr th {\n",
       "        vertical-align: top;\n",
       "    }\n",
       "\n",
       "    .dataframe thead th {\n",
       "        text-align: right;\n",
       "    }\n",
       "</style>\n",
       "<table border=\"1\" class=\"dataframe\">\n",
       "  <thead>\n",
       "    <tr style=\"text-align: right;\">\n",
       "      <th></th>\n",
       "      <th>features</th>\n",
       "      <th>values</th>\n",
       "      <th>p-values</th>\n",
       "    </tr>\n",
       "  </thead>\n",
       "  <tbody>\n",
       "    <tr>\n",
       "      <th>0</th>\n",
       "      <td>duration</td>\n",
       "      <td>8333.761148</td>\n",
       "      <td>0.000000e+00</td>\n",
       "    </tr>\n",
       "    <tr>\n",
       "      <th>1</th>\n",
       "      <td>pdays</td>\n",
       "      <td>490.696563</td>\n",
       "      <td>3.790553e-108</td>\n",
       "    </tr>\n",
       "    <tr>\n",
       "      <th>2</th>\n",
       "      <td>previous</td>\n",
       "      <td>396.443989</td>\n",
       "      <td>7.801830e-88</td>\n",
       "    </tr>\n",
       "    <tr>\n",
       "      <th>3</th>\n",
       "      <td>campaign</td>\n",
       "      <td>243.358404</td>\n",
       "      <td>1.012347e-54</td>\n",
       "    </tr>\n",
       "    <tr>\n",
       "      <th>4</th>\n",
       "      <td>balance</td>\n",
       "      <td>126.572276</td>\n",
       "      <td>2.521114e-29</td>\n",
       "    </tr>\n",
       "    <tr>\n",
       "      <th>5</th>\n",
       "      <td>day</td>\n",
       "      <td>36.359010</td>\n",
       "      <td>1.653880e-09</td>\n",
       "    </tr>\n",
       "    <tr>\n",
       "      <th>6</th>\n",
       "      <td>age</td>\n",
       "      <td>28.625233</td>\n",
       "      <td>8.825644e-08</td>\n",
       "    </tr>\n",
       "  </tbody>\n",
       "</table>\n",
       "</div>"
      ],
      "text/plain": [
       "   features       values       p-values\n",
       "0  duration  8333.761148   0.000000e+00\n",
       "1     pdays   490.696563  3.790553e-108\n",
       "2  previous   396.443989   7.801830e-88\n",
       "3  campaign   243.358404   1.012347e-54\n",
       "4   balance   126.572276   2.521114e-29\n",
       "5       day    36.359010   1.653880e-09\n",
       "6       age    28.625233   8.825644e-08"
      ]
     },
     "execution_count": 70,
     "metadata": {},
     "output_type": "execute_result"
    }
   ],
   "source": [
    "sorted_idx = np.argsort(selector.scores_)[::-1]\n",
    "sorted_vals = np.sort(selector.scores_)[::-1]\n",
    "\n",
    "d = {\"features\":X.columns[sorted_idx], \"values\":sorted_vals, \"p-values\":selector.pvalues_[sorted_idx]}\n",
    "df = pd.DataFrame(d)\n",
    "df"
   ]
  },
  {
   "cell_type": "markdown",
   "metadata": {
    "id": "Fy1nvzmSi90H"
   },
   "source": [
    "### More than two groups"
   ]
  },
  {
   "cell_type": "code",
   "execution_count": 71,
   "metadata": {
    "colab": {
     "base_uri": "https://localhost:8080/",
     "height": 279
    },
    "executionInfo": {
     "elapsed": 529,
     "status": "ok",
     "timestamp": 1664045671199,
     "user": {
      "displayName": "Tevfik Aytekin",
      "userId": "03705756795675396046"
     },
     "user_tz": -180
    },
    "id": "PNCCnKeLi90H",
    "outputId": "671faa4f-d476-4820-8217-4e141f17c997"
   },
   "outputs": [
    {
     "data": {
      "image/png": "[encoded data removed]",
      "text/plain": [
       "<Figure size 640x480 with 1 Axes>"
      ]
     },
     "metadata": {},
     "output_type": "display_data"
    }
   ],
   "source": [
    "sns.boxplot(y=\"age\", x=\"education\", data= bank);"
   ]
  },
  {
   "cell_type": "code",
   "execution_count": 73,
   "metadata": {
    "colab": {
     "base_uri": "https://localhost:8080/"
    },
    "executionInfo": {
     "elapsed": 24,
     "status": "ok",
     "timestamp": 1664045671200,
     "user": {
      "displayName": "Tevfik Aytekin",
      "userId": "03705756795675396046"
     },
     "user_tz": -180
    },
    "id": "G3kvbCS4i90H",
    "outputId": "f51be1b1-d975-4bc1-8b1d-894ce8b3507c"
   },
   "outputs": [
    {
     "name": "stdout",
     "output_type": "stream",
     "text": [
      "731.7577454812724 0.0\n"
     ]
    }
   ],
   "source": [
    "group1 = bank[bank[\"education\"]==\"primary\"].age\n",
    "group2 = bank[bank[\"education\"]==\"secondary\"].age\n",
    "group3 = bank[bank[\"education\"]==\"tertiary\"].age\n",
    "group4 = bank[bank[\"education\"]==\"unknown\"].age\n",
    "\n",
    "fvalue, pvalue = stats.f_oneway(group1, group2, group3, group4)\n",
    "print(fvalue, pvalue)"
   ]
  },
  {
   "cell_type": "code",
   "execution_count": 74,
   "metadata": {
    "colab": {
     "base_uri": "https://localhost:8080/"
    },
    "executionInfo": {
     "elapsed": 5,
     "status": "ok",
     "timestamp": 1664045671458,
     "user": {
      "displayName": "Tevfik Aytekin",
      "userId": "03705756795675396046"
     },
     "user_tz": -180
    },
    "id": "BbMtfVw2i90H",
    "outputId": "287fa6a1-b4ba-4f68-de09-5c7f59ab42d3"
   },
   "outputs": [
    {
     "data": {
      "text/plain": [
       "731.7577454812732"
      ]
     },
     "execution_count": 74,
     "metadata": {},
     "output_type": "execute_result"
    }
   ],
   "source": [
    "my_f_statistic(group1,group2,group3,group4)"
   ]
  },
  {
   "cell_type": "code",
   "execution_count": 75,
   "metadata": {
    "colab": {
     "base_uri": "https://localhost:8080/",
     "height": 279
    },
    "executionInfo": {
     "elapsed": 383,
     "status": "ok",
     "timestamp": 1664045672160,
     "user": {
      "displayName": "Tevfik Aytekin",
      "userId": "03705756795675396046"
     },
     "user_tz": -180
    },
    "id": "sukt7YPmi90H",
    "outputId": "1b860713-35d3-4a46-db45-892e5f05f52b"
   },
   "outputs": [
    {
     "data": {
      "image/png": "[encoded data removed]",
      "text/plain": [
       "<Figure size 640x480 with 1 Axes>"
      ]
     },
     "metadata": {},
     "output_type": "display_data"
    }
   ],
   "source": [
    "sns.boxplot(y=\"age\", x=\"marital\", data= bank);"
   ]
  },
  {
   "cell_type": "code",
   "execution_count": 76,
   "metadata": {
    "colab": {
     "base_uri": "https://localhost:8080/"
    },
    "executionInfo": {
     "elapsed": 4,
     "status": "ok",
     "timestamp": 1664045672481,
     "user": {
      "displayName": "Tevfik Aytekin",
      "userId": "03705756795675396046"
     },
     "user_tz": -180
    },
    "id": "NIiTDVY8i90I",
    "outputId": "4b2715c1-b958-4dee-cdab-bb4d266dfc95"
   },
   "outputs": [
    {
     "name": "stdout",
     "output_type": "stream",
     "text": [
      "5228.732920484922 0.0\n"
     ]
    }
   ],
   "source": [
    "group1 = bank[bank[\"marital\"]==\"single\"].age\n",
    "group2 = bank[bank[\"marital\"]==\"married\"].age\n",
    "group3 = bank[bank[\"marital\"]==\"divorced\"].age\n",
    "\n",
    "\n",
    "fvalue, pvalue = stats.f_oneway(group1, group2, group3)\n",
    "print(fvalue, pvalue)"
   ]
  },
  {
   "cell_type": "markdown",
   "metadata": {
    "id": "fokTPSRMi90I"
   },
   "source": [
    "# Case 3: Categorical Input vs. Numerical Output\n",
    "\n",
    "Actually this case is essentially the same as case 3, so we can use F-value.\n"
   ]
  },
  {
   "cell_type": "markdown",
   "metadata": {
    "id": "NML8OaCci90I"
   },
   "source": [
    "# Case 4: Categorical Input vs. Categorical Output\n",
    "\n",
    "When the input feature is categorical and the class is also categorical, the most common measures used are chi-square test and mutual information.\n"
   ]
  },
  {
   "cell_type": "markdown",
   "metadata": {
    "id": "g7O58LK5i90I"
   },
   "source": [
    "### Chi Square Test"
   ]
  },
  {
   "cell_type": "markdown",
   "metadata": {
    "id": "IBP2LDYAi90I"
   },
   "source": [
    "You can read this [part](https://online.stat.psu.edu/stat500/lesson/8/8.1) first as a general introduction.\n",
    "\n",
    "As an example let us consider if there is a relationship between marital status and the class y for the banking dataset. Chi-square test relies on a contingency table. Let us first remember the banking dataset: "
   ]
  },
  {
   "cell_type": "code",
   "execution_count": null,
   "metadata": {
    "colab": {
     "base_uri": "https://localhost:8080/",
     "height": 488
    },
    "executionInfo": {
     "elapsed": 7,
     "status": "ok",
     "timestamp": 1664045675548,
     "user": {
      "displayName": "Tevfik Aytekin",
      "userId": "03705756795675396046"
     },
     "user_tz": -180
    },
    "id": "k0AmpdCzi90I",
    "outputId": "46116fec-7da4-4c60-f756-5251608fc2a0",
    "scrolled": true
   },
   "outputs": [],
   "source": [
    "bank"
   ]
  },
  {
   "cell_type": "code",
   "execution_count": null,
   "metadata": {
    "id": "sPixtdRyi90I"
   },
   "outputs": [],
   "source": [
    "def calc_contingency_table(df, a1, a2):\n",
    "    group1 = np.unique(df[a1])\n",
    "    group2 = np.unique(df[a2])\n",
    "    con_table = np.zeros((len(group1),len(group2)))\n",
    "    for i in range(len(group1)):\n",
    "        for j in range(len(group2)):\n",
    "            con_table[i][j] = sum((df[a1] == group1[i]) & (df[a2] == group2[j]))\n",
    "    return con_table, group1, group2"
   ]
  },
  {
   "cell_type": "code",
   "execution_count": null,
   "metadata": {
    "id": "MTilq2CZi90J"
   },
   "outputs": [],
   "source": [
    "con_table,g1,g2 = calc_contingency_table(bank,\"y\",\"marital\")"
   ]
  },
  {
   "cell_type": "code",
   "execution_count": null,
   "metadata": {
    "colab": {
     "base_uri": "https://localhost:8080/",
     "height": 112
    },
    "executionInfo": {
     "elapsed": 5,
     "status": "ok",
     "timestamp": 1664045681189,
     "user": {
      "displayName": "Tevfik Aytekin",
      "userId": "03705756795675396046"
     },
     "user_tz": -180
    },
    "id": "Pw8VRh_ai90J",
    "outputId": "072f4d4b-d834-433e-e705-bdd08aa3dfd0"
   },
   "outputs": [],
   "source": [
    "pd.DataFrame(con_table, index=g1, columns=g2)"
   ]
  },
  {
   "cell_type": "markdown",
   "metadata": {
    "id": "QECpd9_Zi90J"
   },
   "source": [
    "Marital status M and y are two discrete random variables denoted with the letters M and Y respectively. If we assume that they are independent random variables what will be \n",
    "\n",
    "$$ P(M = single, Y = yes) $$\n",
    "\n",
    "Since we are assuming that they are independent variables:\n",
    "\n",
    "$$ P(M = single, Y = yes) = P(M = single) * P(Y = yes) $$\n",
    "\n",
    "So, let us calculate these probabilities."
   ]
  },
  {
   "cell_type": "code",
   "execution_count": null,
   "metadata": {
    "colab": {
     "base_uri": "https://localhost:8080/"
    },
    "executionInfo": {
     "elapsed": 265,
     "status": "ok",
     "timestamp": 1664045683763,
     "user": {
      "displayName": "Tevfik Aytekin",
      "userId": "03705756795675396046"
     },
     "user_tz": -180
    },
    "id": "n3rRDtG9i90J",
    "outputId": "77ce9645-3038-4886-99a9-eaaf080913f8"
   },
   "outputs": [],
   "source": [
    "marginals_col = con_table.sum(axis=0)\n",
    "marginals_col"
   ]
  },
  {
   "cell_type": "code",
   "execution_count": null,
   "metadata": {
    "colab": {
     "base_uri": "https://localhost:8080/"
    },
    "executionInfo": {
     "elapsed": 3,
     "status": "ok",
     "timestamp": 1664045684518,
     "user": {
      "displayName": "Tevfik Aytekin",
      "userId": "03705756795675396046"
     },
     "user_tz": -180
    },
    "id": "n5RSIbrwi90J",
    "outputId": "6f986fda-5c58-4da7-c371-3891af36aada"
   },
   "outputs": [],
   "source": [
    "marginals_row = con_table.sum(axis=1)\n",
    "marginals_row"
   ]
  },
  {
   "cell_type": "code",
   "execution_count": null,
   "metadata": {
    "colab": {
     "base_uri": "https://localhost:8080/"
    },
    "executionInfo": {
     "elapsed": 5,
     "status": "ok",
     "timestamp": 1664045685974,
     "user": {
      "displayName": "Tevfik Aytekin",
      "userId": "03705756795675396046"
     },
     "user_tz": -180
    },
    "id": "q3ENP3i7i90J",
    "outputId": "758be150-6017-4dd2-bfa5-4841908f28f5"
   },
   "outputs": [],
   "source": [
    "total = con_table.sum()\n",
    "total"
   ]
  },
  {
   "cell_type": "markdown",
   "metadata": {
    "id": "0qW5JUdJi90J"
   },
   "source": [
    "The above calculations show that there are a total of 45211 people and 12790 of them are single. So $P(M = single) = 12790/45211$ and similarly $P(Y = yes) = 5289/45211$. If you multiply these values you will get their joint probability.\n",
    "\n",
    "How can we calculate the \"expected count\" in each cell of the contingency table given the independence assumption. As an example the expected count of the number of individuals who are single and subscribed a term deposit (Y = yes) can be calculated as:\n",
    "\n",
    "$$ P(M = single, Y = yes)*total = (\\#singles / total) * (\\#yes / total) * total = \\#singles * \\#yes / total$$ "
   ]
  },
  {
   "cell_type": "code",
   "execution_count": null,
   "metadata": {
    "id": "cmPLQpDgi90J"
   },
   "outputs": [],
   "source": [
    "def my_chi2_contingency(con_table):\n",
    "    con_table = con_table.astype(float)\n",
    "    expected_table = con_table.copy()\n",
    "    marginals_col = con_table.sum(axis=0)\n",
    "    marginals_row = con_table.sum(axis=1)\n",
    "    total = con_table.sum()\n",
    "    for i in range(con_table.shape[0]):\n",
    "        for j in range(con_table.shape[1]):\n",
    "            expected = (marginals_row[i]) * (marginals_col[j]) / total\n",
    "            expected_table[i,j] = expected\n",
    "            con_table[i][j] = ((con_table[i][j] - expected)**2) / expected\n",
    "    return con_table.sum(), expected_table"
   ]
  },
  {
   "cell_type": "code",
   "execution_count": null,
   "metadata": {
    "colab": {
     "base_uri": "https://localhost:8080/"
    },
    "executionInfo": {
     "elapsed": 4,
     "status": "ok",
     "timestamp": 1664045688988,
     "user": {
      "displayName": "Tevfik Aytekin",
      "userId": "03705756795675396046"
     },
     "user_tz": -180
    },
    "id": "6dWSe7PHi90K",
    "outputId": "0bacd224-996b-465a-f9de-ecc4a9e7a83a"
   },
   "outputs": [],
   "source": [
    "chi2_stat, expected_table = my_chi2_contingency(con_table)\n",
    "print(chi2_stat)\n",
    "print(expected_table)"
   ]
  },
  {
   "cell_type": "markdown",
   "metadata": {
    "id": "-7en9HVni90K"
   },
   "source": [
    "### Using statsmodels package"
   ]
  },
  {
   "cell_type": "code",
   "execution_count": null,
   "metadata": {
    "colab": {
     "base_uri": "https://localhost:8080/"
    },
    "executionInfo": {
     "elapsed": 262,
     "status": "ok",
     "timestamp": 1664045690901,
     "user": {
      "displayName": "Tevfik Aytekin",
      "userId": "03705756795675396046"
     },
     "user_tz": -180
    },
    "id": "MfqcBePsi90K",
    "outputId": "ecd93626-0c65-4076-dc69-7449d8c86a72"
   },
   "outputs": [],
   "source": [
    "stats.chi2_contingency(con_table)"
   ]
  },
  {
   "cell_type": "markdown",
   "metadata": {
    "id": "1uRdl_Wfi90K"
   },
   "source": [
    "### Using sklearn package"
   ]
  },
  {
   "cell_type": "code",
   "execution_count": null,
   "metadata": {
    "colab": {
     "base_uri": "https://localhost:8080/",
     "height": 424
    },
    "executionInfo": {
     "elapsed": 278,
     "status": "ok",
     "timestamp": 1664045694746,
     "user": {
      "displayName": "Tevfik Aytekin",
      "userId": "03705756795675396046"
     },
     "user_tz": -180
    },
    "id": "7OHWzNIMi90K",
    "outputId": "a58fa586-5815-4600-935d-10b0eccd1b4a"
   },
   "outputs": [],
   "source": [
    "le = LabelEncoder()\n",
    "X = bank.loc[:,'age':'poutcome']\n",
    "X = X.select_dtypes(include=object) # select string columns\n",
    "X = X.apply(LabelEncoder().fit_transform)\n",
    "X"
   ]
  },
  {
   "cell_type": "code",
   "execution_count": null,
   "metadata": {
    "id": "tWR1XhOwi90K"
   },
   "outputs": [],
   "source": [
    "le = LabelEncoder()\n",
    "X = bank.loc[:,'age':'poutcome']\n",
    "X = X.select_dtypes(include=object) # select string columns\n",
    "X = X.apply(LabelEncoder().fit_transform)\n",
    "y = le.fit_transform(bank.loc[:,'y'])\n",
    "chi2, pval=feature_selection.chi2(X, y)"
   ]
  },
  {
   "cell_type": "code",
   "execution_count": null,
   "metadata": {
    "colab": {
     "base_uri": "https://localhost:8080/",
     "height": 332
    },
    "executionInfo": {
     "elapsed": 265,
     "status": "ok",
     "timestamp": 1664045705425,
     "user": {
      "displayName": "Tevfik Aytekin",
      "userId": "03705756795675396046"
     },
     "user_tz": -180
    },
    "id": "yIV9K_oVi90K",
    "outputId": "76363058-18a2-4b02-bf3f-a924d500f39b"
   },
   "outputs": [],
   "source": [
    "sorted_idx = np.argsort(chi2)[::-1]\n",
    "sorted_vals = np.sort(chi2)[::-1]\n",
    "\n",
    "d = {\"features\":X.columns[sorted_idx], \"values (sklearn)\":sorted_vals, \"p-values\":pval[sorted_idx]}\n",
    "df1 = pd.DataFrame(d)\n",
    "df1"
   ]
  },
  {
   "cell_type": "markdown",
   "metadata": {
    "id": "wj7mwgZji90K"
   },
   "source": [
    "#### Some notes on chi2 test\n",
    "\n",
    "- **Note 1**: The range of the chi2 statistic is between 0 and infinity which makes it difficult to interpret the magnitude of the dependency. For example check the following two cases:"
   ]
  },
  {
   "cell_type": "code",
   "execution_count": null,
   "metadata": {
    "colab": {
     "base_uri": "https://localhost:8080/"
    },
    "executionInfo": {
     "elapsed": 337,
     "status": "ok",
     "timestamp": 1664045716740,
     "user": {
      "displayName": "Tevfik Aytekin",
      "userId": "03705756795675396046"
     },
     "user_tz": -180
    },
    "id": "Qkg7OdPgi90L",
    "outputId": "3ace8dce-1280-43b8-ac5d-b476279a31fc"
   },
   "outputs": [],
   "source": [
    "con_table = np.array([[10, 20, 20],[20, 10, 20]])\n",
    "print(con_table)\n",
    "print(stats.chi2_contingency(con_table));"
   ]
  },
  {
   "cell_type": "code",
   "execution_count": null,
   "metadata": {
    "colab": {
     "base_uri": "https://localhost:8080/"
    },
    "executionInfo": {
     "elapsed": 2,
     "status": "ok",
     "timestamp": 1664045717066,
     "user": {
      "displayName": "Tevfik Aytekin",
      "userId": "03705756795675396046"
     },
     "user_tz": -180
    },
    "id": "u0Ucm2zbi90L",
    "outputId": "6a54c765-bd8b-4564-9ac2-d2fb53e2f8cb"
   },
   "outputs": [],
   "source": [
    "con_table = 10*con_table\n",
    "print(con_table)\n",
    "print(stats.chi2_contingency(con_table))"
   ]
  },
  {
   "cell_type": "markdown",
   "metadata": {
    "id": "DgsX4vp1i90L"
   },
   "source": [
    "Even though the ratios of the numbers are the same, the chi2 value in the second case is larger. This makes the p-value of the second case much smaller which means that the second set of variables is much more unlikely to be independent. However, with respect to feature selection this might create a difficulty. Within the same dataset this is not a problem since the number of cases are the same for all the features but we should be careful in interpreting the strength of dependency by looking at the chi2 values which comes from two different datasets. For a possible technique for normalizing the chi2 value one can check [Cramer's V](https://www.wikiwand.com/en/Cram%C3%A9r%27s_V)"
   ]
  },
  {
   "cell_type": "markdown",
   "metadata": {
    "id": "Ma5sb23ti90L"
   },
   "source": [
    "- **Note 2**: InPython's implementation of chi2 test there is a difference between chi2 values as calculated in stats.chi2_contingency and feature_selection.chi2"
   ]
  },
  {
   "cell_type": "code",
   "execution_count": null,
   "metadata": {
    "id": "A1SCjL6mi90L"
   },
   "outputs": [],
   "source": [
    "X = bank.select_dtypes(include=['object'])\n",
    "y = X.y\n",
    "X = X.drop(labels = [\"y\"], axis = 1)"
   ]
  },
  {
   "cell_type": "code",
   "execution_count": null,
   "metadata": {
    "id": "kUcRoayii90L"
   },
   "outputs": [],
   "source": [
    "scores = []\n",
    "for i in range(X.shape[1]):\n",
    "    result = stats.chi2_contingency(pd.crosstab(y,X.iloc[:,i]))\n",
    "    scores.append(result[0])"
   ]
  },
  {
   "cell_type": "code",
   "execution_count": null,
   "metadata": {
    "colab": {
     "base_uri": "https://localhost:8080/"
    },
    "executionInfo": {
     "elapsed": 261,
     "status": "ok",
     "timestamp": 1664045720961,
     "user": {
      "displayName": "Tevfik Aytekin",
      "userId": "03705756795675396046"
     },
     "user_tz": -180
    },
    "id": "j8dm31lvi90L",
    "outputId": "c04c69d6-3efd-481c-dcc6-b04e6c28ddcc"
   },
   "outputs": [],
   "source": [
    "scores"
   ]
  },
  {
   "cell_type": "code",
   "execution_count": null,
   "metadata": {
    "colab": {
     "base_uri": "https://localhost:8080/",
     "height": 332
    },
    "executionInfo": {
     "elapsed": 5,
     "status": "ok",
     "timestamp": 1664045722521,
     "user": {
      "displayName": "Tevfik Aytekin",
      "userId": "03705756795675396046"
     },
     "user_tz": -180
    },
    "id": "5F2327yBi90L",
    "outputId": "74fbfc38-c9da-45f5-f02f-e53e18db38fe"
   },
   "outputs": [],
   "source": [
    "sorted_idx = np.argsort(scores)[::-1]\n",
    "sorted_vals = np.sort(scores)[::-1]\n",
    "\n",
    "d = {\"features\":X.columns[sorted_idx], \"values (SM)\":sorted_vals, \"p-values\":pval[sorted_idx]}\n",
    "df2 = pd.DataFrame(d)\n",
    "pd.concat([df1, df2], axis=1)"
   ]
  },
  {
   "cell_type": "markdown",
   "metadata": {
    "id": "nO3kv01oi90M"
   },
   "source": [
    "### Mutual Information"
   ]
  },
  {
   "cell_type": "markdown",
   "metadata": {
    "id": "02DStACei90M"
   },
   "source": [
    "#### Entropy\n",
    "\n",
    "Given a discrete random variable $X$ with outcomes $\\mathcal{X}=\\{x_{1},...,x_{n}\\}$ which occur with probability $p(x_{1}),...,p(x_{n})$ can we quantify the uncertainity in $X$? In other words, how uncertain we are of the outcome of $X$?\n",
    "\n",
    "Let us look at an example. Assume that we gave the following coins with the given probabilities of heads and tails. When we flip the coins how uncertain of the outcome in each case.\n",
    "\n",
    "Coin $A$: $P(H) = 0.5, P(T) = 0.5$ \n",
    "\n",
    "Coin $B$: $P(H) = 0.1, P(T) = 0.9$ \n",
    "\n",
    "Coin $C$: $P(H) = 0, P(T) = 1$\n",
    "\n",
    "Actually for coin $C$ there is no uncertainity, we are 100% sure that the outcome will be $T$, what about coins $A$ and $B$?. For coin $B$ even though we are not 100% sure of the outcome it is less uncertain compared to coin $B$. Now actually what we have done is to order these coins with respect to uncertainity in them which is A, B and then C (in decreasing order of uncertainity). The following famous formula (called the entropy) quantifies this intuition of uncertainity: \n",
    "\n",
    "\n",
    "$$\n",
    "H(X) = -\\sum_{x \\in \\mathcal{X}}p(x)logp(x) \n",
    "$$\n",
    "\n",
    "Note that the above explanation is not a complete reason to choose this particular formula. There can be other formulas we can use to quantify uncertainity. Indeed there are, for example we can use Gini index or variance to quantify similar notions (uncertainity, diversity, impurity, etc.). If you want to learn why this specific formula is used you should consult the paper written by its inventor C. E. Shannon [A Mathematical Theory of Communication](http://people.math.harvard.edu/~ctm/home/text/others/shannon/entropy/entropy.pdf) especially Section 6. \"CHOICE, UNCERTAINTY AND ENTROPY\"."
   ]
  },
  {
   "cell_type": "code",
   "execution_count": null,
   "metadata": {
    "id": "81CJvnYJi90M"
   },
   "outputs": [],
   "source": [
    "# pk[i] is the probability of outcome i\n",
    "def my_entropy(pk):\n",
    "    S = 0\n",
    "    for i in range(len(pk)):\n",
    "        if pk[i] > 0:\n",
    "            S = S - pk[i]*np.log2(pk[i])\n",
    "    return S"
   ]
  },
  {
   "cell_type": "markdown",
   "metadata": {
    "id": "N3gbK-pgi90M"
   },
   "source": [
    "Some examples"
   ]
  },
  {
   "cell_type": "code",
   "execution_count": null,
   "metadata": {
    "colab": {
     "base_uri": "https://localhost:8080/"
    },
    "executionInfo": {
     "elapsed": 288,
     "status": "ok",
     "timestamp": 1664045744256,
     "user": {
      "displayName": "Tevfik Aytekin",
      "userId": "03705756795675396046"
     },
     "user_tz": -180
    },
    "id": "72caxSMOi90M",
    "outputId": "03663fb9-18fd-4bc4-d423-e9b64844a398"
   },
   "outputs": [],
   "source": [
    "# Entropy of a coin\n",
    "pk = [0.5, 0.5]\n",
    "print(\"Entropy of a fair coin:\", my_entropy(pk))\n",
    "pk = [0.1, 0.9]\n",
    "print(\"Entropy of a biased coin:\", my_entropy(pk))\n",
    "pk = [0, 1]\n",
    "print(\"Entropy of a perfect biased coin:\", my_entropy(pk))\n",
    "\n",
    "# Entropy of a dice\n",
    "pk = [1/6,1/6,1/6,1/6,1/6,1/6]\n",
    "print(\"Entropy of a fair dice:\", my_entropy(pk))\n",
    "pk = [2/6,2/6,0/6,0/6,2/6,0/6]\n",
    "print(\"Entropy of biased dice:\", my_entropy(pk))\n",
    "pk = [0,0,0,0,0,1]\n",
    "print(\"Entropy of a perfect biased dice:\", my_entropy(pk))"
   ]
  },
  {
   "cell_type": "markdown",
   "metadata": {
    "id": "knBmLZzei90M"
   },
   "source": [
    "Shape of the entropy function for a variable with two outcomes"
   ]
  },
  {
   "cell_type": "code",
   "execution_count": null,
   "metadata": {
    "colab": {
     "base_uri": "https://localhost:8080/",
     "height": 283
    },
    "executionInfo": {
     "elapsed": 296,
     "status": "ok",
     "timestamp": 1664045754396,
     "user": {
      "displayName": "Tevfik Aytekin",
      "userId": "03705756795675396046"
     },
     "user_tz": -180
    },
    "id": "DfcC-KXCi90M",
    "outputId": "4dade0ee-f70b-4d16-ed7b-0374805a6f79"
   },
   "outputs": [],
   "source": [
    "x = np.arange(0.01,1,0.01)\n",
    "s = []\n",
    "for i in x:\n",
    "    s.append(my_entropy([i,1-i]))\n",
    "plt.plot(x,s)\n"
   ]
  },
  {
   "cell_type": "markdown",
   "metadata": {
    "id": "x962DIWKi90N"
   },
   "source": [
    "#### Some facts about entropy\n",
    "\n",
    "- The range of Entropy:\n",
    "    $0 ≤ Entropy ≤ log(n)$, where $n$ is number of outcomes\n",
    "- Minimum entropy, $0$, occurs when one of the probabilities is $1$ and rest are $0$’s.\n",
    "- Maximum entropy, $log(n)$, occurs when all the probabilities are the same, namely, $1/n$."
   ]
  },
  {
   "cell_type": "markdown",
   "metadata": {
    "id": "sCUHLu0di90N"
   },
   "source": [
    "#### Joint Entropy\n",
    "\n",
    "The joint entropy of two discrete random variables is given by \n",
    "$$\n",
    "H(X,Y) = -\\sum_{x \\in \\mathcal{X}}\\sum_{y \\in \\mathcal{Y}}p(x,y)logp(x,y)\n",
    "$$\n",
    "\n",
    "where $p(x,y)$ is the joint probability mass function."
   ]
  },
  {
   "cell_type": "markdown",
   "metadata": {
    "id": "oMfsMOLJi90N"
   },
   "source": [
    "#### Conditional Entropy\n",
    "\n",
    "Conditional entropy quantifies the entropy of a random variable $X$ given the value of another random variable $Y$. For a single value of Y:\n",
    "\n",
    "$$\n",
    "H(X|Y=y) = -\\sum_{x \\in \\mathcal{X}}P(X=x|Y=y)logP(X=x|Y=y)\n",
    "$$\n",
    "\n",
    "Weighted average over all possible values of $Y$ gives the conditional entropy of $X$ given $Y$.\n",
    "\n",
    "$$\n",
    "\\begin{aligned}\n",
    "H(X|Y) &= \\sum_{y \\in \\mathcal{Y}}P(Y=y)H(X|Y=y) \\\\\n",
    "&= -\\sum_{y \\in \\mathcal{Y}}P(Y=y)\\sum_{x \\in \\mathcal{X}}P(X=x|Y=y)logP(X=x|Y=y) \\\\\n",
    "&= -\\sum_{x \\in \\mathcal{X}}\\sum_{y \\in \\mathcal{Y}}P(X=x,Y=y)log(P(X=x|Y=y) \\\\\n",
    "&= -\\sum_{x \\in \\mathcal{X}}\\sum_{y \\in \\mathcal{Y}}p(x,y)log(p(x|y)) \\\\\n",
    "\\end{aligned}\n",
    "$$"
   ]
  },
  {
   "cell_type": "markdown",
   "metadata": {
    "id": "2dLyPeXGi90N"
   },
   "source": [
    "#### The chain rule of entropy\n",
    "\n",
    "For two random variables $X$ and $Y$\n",
    "\n",
    "$$\n",
    "H(X,Y)=H(X)+H(Y∣X)\n",
    "$$\n",
    "\n",
    "Proof:\n",
    "\n",
    "$$\n",
    "\\begin{aligned}\n",
    "H(X,Y) &= -\\sum_{x \\in \\mathcal{X}}\\sum_{y \\in \\mathcal{Y}}p(x,y)logp(x,y)\\\\\n",
    "&= -\\sum_{x \\in \\mathcal{X}}\\sum_{y \\in \\mathcal{Y}}p(x,y)log(p(x)p(y|x)) \\\\\n",
    "&= -\\sum_{x \\in \\mathcal{X}}\\sum_{y \\in \\mathcal{Y}}p(x,y)logp(x)-\\sum_{x \\in \\mathcal{X}}\\sum_{y \\in \\mathcal{Y}}p(x,y)logp(y|x) \\\\\n",
    "&= -\\sum_{x \\in \\mathcal{X}}p(x)logp(x)-\\sum_{x \\in \\mathcal{X}}\\sum_{y \\in \\mathcal{Y}}p(x,y)logp(y|x) \\\\\n",
    "&= H(X)+H(Y|X)\n",
    "\\end{aligned}\n",
    "$$\n",
    "\n",
    "Similary, it can also be proved that\n",
    "$$\n",
    "\\begin{aligned}\n",
    "H(X,Y) &= H(Y)+H(X|Y)\n",
    "\\end{aligned}\n",
    "$$"
   ]
  },
  {
   "cell_type": "markdown",
   "metadata": {
    "id": "MTc_ZMbpi90N"
   },
   "source": [
    "#### Mutual Information\n",
    "\n",
    "Mutual information between the random variables $X$ and $Y$ is defined as\n",
    "\n",
    "$$\n",
    "\\begin{aligned}\n",
    "I(X;Y) &= H(X) - H(X|Y) \\\\\n",
    "&= -\\sum_{x \\in \\mathcal{X}}p(x)logp(x)+\\sum_{x \\in \\mathcal{X}}\\sum_{y \\in \\mathcal{Y}}p(x,y)logp(x|y) \\\\\n",
    "&= -\\sum_{x \\in \\mathcal{X}}\\sum_{y \\in \\mathcal{Y}}p(x,y)logp(x)+\\sum_{x \\in \\mathcal{X}}\\sum_{y \\in \\mathcal{Y}}p(x,y)logp(x|y) \\\\\n",
    "&= -\\sum_{x \\in \\mathcal{X}}\\sum_{y \\in \\mathcal{Y}}p(x,y)log\\frac{p(x|y)}{p(x)} \\\\\n",
    "&= \\sum_{x \\in \\mathcal{X}}\\sum_{y \\in \\mathcal{Y}}p(x,y)log\\frac{p(x,y)}{p(x)p(y)}\n",
    "\\end{aligned}\n",
    "$$\n",
    "\n",
    "Initutively, $H(X)$ is the amount of information in $X$ and $H(X|Y)$ is the information left in $X$ when $Y$ is known.  So, $H(X) - H(X|Y)$ can be interpreted as the information common in both $X$ and $Y$.\n",
    "\n",
    "Note that it can be shown that I(X;Y) = I(Y;X)\n",
    "\n"
   ]
  },
  {
   "cell_type": "markdown",
   "metadata": {
    "id": "TlsrMOMoi90N"
   },
   "source": [
    "### Mutual information vs. Chi2\n",
    "\n",
    "As also can be seen in the calculation in the following function, there is a close relationship between MI and chi2. Both compare joint and independent probabilities of two random variables. One might ask so which one is better? There is no best measure here, it is like asking whether MAE or MSE better for accuracy calculation. The answer should be: both measures have different properties, and it is best to use these measures with an understanding about these properties.  "
   ]
  },
  {
   "cell_type": "code",
   "execution_count": null,
   "metadata": {
    "id": "C8M125t7i90O"
   },
   "outputs": [],
   "source": [
    "def my_mutual_info(df, a1, a2):\n",
    "    con_table, g1, g2 = calc_contingency_table(df, a1, a2)\n",
    "    con_table[0,0]=10\n",
    "    print(con_table)\n",
    "    marginals_col = con_table.sum(axis=0)\n",
    "    marginals_row = con_table.sum(axis=1)\n",
    "    total = con_table.sum()\n",
    "    mi = 0\n",
    "    for i in range(con_table.shape[0]):\n",
    "        for j in range(con_table.shape[1]):\n",
    "            # Calculate joint probability.\n",
    "            p = con_table[i][j] / total\n",
    "            m = (marginals_row[i] / total)*(marginals_col[j] / total)\n",
    "            print(p,m)\n",
    "            if (p > 0):\n",
    "                print(p*np.log(p / m))\n",
    "                mi += p*np.log(p / m)\n",
    "    return mi"
   ]
  },
  {
   "cell_type": "code",
   "execution_count": null,
   "metadata": {
    "colab": {
     "base_uri": "https://localhost:8080/"
    },
    "executionInfo": {
     "elapsed": 3,
     "status": "ok",
     "timestamp": 1664045763288,
     "user": {
      "displayName": "Tevfik Aytekin",
      "userId": "03705756795675396046"
     },
     "user_tz": -180
    },
    "id": "2XEp3qwdi90O",
    "outputId": "95a58e26-0d6e-4268-f312-9ea8eacf52cc"
   },
   "outputs": [],
   "source": [
    "x = np.array([1,2,3,4,5,6,8,7,9,10,6,6,6,6,6,6])\n",
    "y = np.array([0,0,0,0,0,1,1,1,1,1,1,1,1,1,1,1])\n",
    "con_table = pd.crosstab(x, y)\n",
    "con_table = con_table.to_numpy()\n",
    "con_table"
   ]
  },
  {
   "cell_type": "code",
   "execution_count": null,
   "metadata": {
    "id": "yderERDGi90O",
    "outputId": "ab7d146b-1251-4001-e524-f55029f0c01b"
   },
   "outputs": [],
   "source": [
    "my_mutual_info(con_table,0,1)"
   ]
  },
  {
   "cell_type": "code",
   "execution_count": null,
   "metadata": {
    "id": "xN41BwaHi90O",
    "outputId": "d06b46c9-de08-4f72-e9a2-233d42515ad2"
   },
   "outputs": [],
   "source": [
    "my_mutual_info(bank,\"y\",\"marital\")"
   ]
  },
  {
   "cell_type": "code",
   "execution_count": null,
   "metadata": {
    "id": "BHPSZKY3i90O",
    "outputId": "9f12fd97-c2ad-432a-b87b-324d0b02ea9f"
   },
   "outputs": [],
   "source": [
    "X = bank.loc[:,['marital', 'education', 'y']]\n",
    "X"
   ]
  },
  {
   "cell_type": "code",
   "execution_count": null,
   "metadata": {
    "id": "618M25pKi90O",
    "outputId": "381d1782-e938-452a-84fc-befb17384b38"
   },
   "outputs": [],
   "source": [
    "X = X.apply(LabelEncoder().fit_transform)\n",
    "X"
   ]
  },
  {
   "cell_type": "code",
   "execution_count": null,
   "metadata": {
    "id": "AttcwYITi90P",
    "outputId": "2b15e00c-d2d7-4001-f72b-bd6677531f55"
   },
   "outputs": [],
   "source": [
    "importances_mi = mutual_info_classif(X.loc[:,['marital','education']], X.y,discrete_features=True)\n",
    "importances_mi\n"
   ]
  },
  {
   "cell_type": "code",
   "execution_count": null,
   "metadata": {
    "id": "w95eRhdIi90P"
   },
   "outputs": [],
   "source": [
    "le = LabelEncoder()\n",
    "X = bank.loc[:,'age':'poutcome']\n",
    "X = X.select_dtypes(include=object) # select string columns\n",
    "X = X.apply(LabelEncoder().fit_transform)\n",
    "y = le.fit_transform(bank.loc[:,'y'])\n",
    "importances_mi=mutual_info_classif(X, y,discrete_features=True)\n"
   ]
  },
  {
   "cell_type": "code",
   "execution_count": null,
   "metadata": {
    "id": "2qsguDIHi90P",
    "outputId": "b9b0c46e-7897-4f41-8f9b-5634a2809975"
   },
   "outputs": [],
   "source": [
    "sorted_idx = np.argsort(importances_mi)[::-1]\n",
    "sorted_vals = np.sort(importances_mi)[::-1]\n",
    "\n",
    "d = {\"features\":X.columns[sorted_idx], \"values\":sorted_vals}\n",
    "df = pd.DataFrame(d)\n",
    "df"
   ]
  },
  {
   "cell_type": "code",
   "execution_count": null,
   "metadata": {},
   "outputs": [],
   "source": []
  },
  {
   "cell_type": "code",
   "execution_count": null,
   "metadata": {},
   "outputs": [],
   "source": []
  },
  {
   "cell_type": "code",
   "execution_count": null,
   "metadata": {},
   "outputs": [],
   "source": []
  },
  {
   "cell_type": "markdown",
   "metadata": {
    "id": "nlUYUb1mi90P"
   },
   "source": [
    "# Categorical (nominal, ordinal) vs. Numerical (interval, ratio) Variables\n",
    "\n",
    "Have a look at slides 6 and 7 for more information about these types of variables.\n",
    "\n",
    "https://www-users.cs.umn.edu/~kumar001/dmbook/slides/chap2_data.pdf"
   ]
  },
  {
   "cell_type": "markdown",
   "metadata": {
    "id": "gdNjj4qUi90P"
   },
   "source": [
    "### Be careful in using OrdinalEncoder\n",
    "There is some confusion on the use of LabelEncoder and OrdinalEncoder in Python. LabelEncoder is generally used to encode class variable, and OrdinalEncoder is generally used to encode features in X. However, note that OrdinalEncoder cannot not assign integer based on the inherent order of the values, you have to give these mapping."
   ]
  },
  {
   "cell_type": "code",
   "execution_count": null,
   "metadata": {
    "colab": {
     "base_uri": "https://localhost:8080/",
     "height": 226
    },
    "executionInfo": {
     "elapsed": 20,
     "status": "error",
     "timestamp": 1665745965467,
     "user": {
      "displayName": "Tevfik Aytekin",
      "userId": "03705756795675396046"
     },
     "user_tz": -180
    },
    "id": "ank6eBozi90Q",
    "outputId": "45a5768d-bfc1-4173-9938-18d69ecbf8b7"
   },
   "outputs": [],
   "source": [
    "oe = OrdinalEncoder()\n",
    "X = bank.loc[:,'age':'poutcome']\n",
    "X = X.select_dtypes(include=object) # select string columns\n",
    "oe.fit_transform(X)"
   ]
  },
  {
   "cell_type": "code",
   "execution_count": null,
   "metadata": {
    "executionInfo": {
     "elapsed": 15,
     "status": "aborted",
     "timestamp": 1665745965469,
     "user": {
      "displayName": "Tevfik Aytekin",
      "userId": "03705756795675396046"
     },
     "user_tz": -180
    },
    "id": "L-3iTEIci90Q"
   },
   "outputs": [],
   "source": [
    "X.columns"
   ]
  },
  {
   "cell_type": "code",
   "execution_count": null,
   "metadata": {
    "executionInfo": {
     "elapsed": 15,
     "status": "aborted",
     "timestamp": 1665745965470,
     "user": {
      "displayName": "Tevfik Aytekin",
      "userId": "03705756795675396046"
     },
     "user_tz": -180
    },
    "id": "9Zq_7MWVi90Q"
   },
   "outputs": [],
   "source": [
    "X.education.unique()"
   ]
  },
  {
   "cell_type": "code",
   "execution_count": null,
   "metadata": {
    "executionInfo": {
     "elapsed": 15,
     "status": "aborted",
     "timestamp": 1665745965471,
     "user": {
      "displayName": "Tevfik Aytekin",
      "userId": "03705756795675396046"
     },
     "user_tz": -180
    },
    "id": "SEq1rSJ4i90Q"
   },
   "outputs": [],
   "source": [
    "ordinal_map = {'tertiary':3, 'secondary':2, 'primary':1, 'unknown':0}"
   ]
  },
  {
   "cell_type": "code",
   "execution_count": null,
   "metadata": {
    "executionInfo": {
     "elapsed": 14,
     "status": "aborted",
     "timestamp": 1665745965471,
     "user": {
      "displayName": "Tevfik Aytekin",
      "userId": "03705756795675396046"
     },
     "user_tz": -180
    },
    "id": "Inge_MGki90Q"
   },
   "outputs": [],
   "source": [
    "X"
   ]
  },
  {
   "cell_type": "markdown",
   "metadata": {
    "id": "iE2pELQIi90Q"
   },
   "source": [
    "If you want to give integer labels in the correct order for the feature education, you should do it manually."
   ]
  },
  {
   "cell_type": "code",
   "execution_count": null,
   "metadata": {},
   "outputs": [],
   "source": [
    "X.education.map(ordinal_map)"
   ]
  },
  {
   "cell_type": "code",
   "execution_count": null,
   "metadata": {
    "executionInfo": {
     "elapsed": 14,
     "status": "aborted",
     "timestamp": 1665745965472,
     "user": {
      "displayName": "Tevfik Aytekin",
      "userId": "03705756795675396046"
     },
     "user_tz": -180
    },
    "id": "AQXRRMi6i90Q"
   },
   "outputs": [],
   "source": [
    "X = bank.loc[:,'age':'poutcome']\n",
    "X['education'] = X.education.map(ordinal_map)\n",
    "X"
   ]
  },
  {
   "cell_type": "code",
   "execution_count": null,
   "metadata": {
    "executionInfo": {
     "elapsed": 14,
     "status": "aborted",
     "timestamp": 1665745965473,
     "user": {
      "displayName": "Tevfik Aytekin",
      "userId": "03705756795675396046"
     },
     "user_tz": -180
    },
    "id": "Frt-ooEOi90Q"
   },
   "outputs": [],
   "source": [
    "C = np.array([[1,10],[10, 10]])\n",
    "C"
   ]
  },
  {
   "cell_type": "code",
   "execution_count": null,
   "metadata": {
    "executionInfo": {
     "elapsed": 1542,
     "status": "aborted",
     "timestamp": 1665745965474,
     "user": {
      "displayName": "Tevfik Aytekin",
      "userId": "03705756795675396046"
     },
     "user_tz": -180
    },
    "id": "SBNFCY74i90R"
   },
   "outputs": [],
   "source": [
    "total = C.sum()\n",
    "total"
   ]
  },
  {
   "cell_type": "code",
   "execution_count": null,
   "metadata": {
    "executionInfo": {
     "elapsed": 1540,
     "status": "aborted",
     "timestamp": 1665745965475,
     "user": {
      "displayName": "Tevfik Aytekin",
      "userId": "03705756795675396046"
     },
     "user_tz": -180
    },
    "id": "9Ol-i7dki90R"
   },
   "outputs": [],
   "source": [
    "((C[0,0]+C[1,0])/total)*((C[0,0]+C[0,1])/total)"
   ]
  },
  {
   "cell_type": "code",
   "execution_count": null,
   "metadata": {
    "executionInfo": {
     "elapsed": 1537,
     "status": "aborted",
     "timestamp": 1665745965475,
     "user": {
      "displayName": "Tevfik Aytekin",
      "userId": "03705756795675396046"
     },
     "user_tz": -180
    },
    "id": "-4ARkXcDi90R"
   },
   "outputs": [],
   "source": [
    "C[0,0]/total"
   ]
  },
  {
   "cell_type": "code",
   "execution_count": null,
   "metadata": {
    "executionInfo": {
     "elapsed": 1535,
     "status": "aborted",
     "timestamp": 1665745965476,
     "user": {
      "displayName": "Tevfik Aytekin",
      "userId": "03705756795675396046"
     },
     "user_tz": -180
    },
    "id": "oBMShj73i90R"
   },
   "outputs": [],
   "source": [
    "C[0,1]/total"
   ]
  },
  {
   "cell_type": "code",
   "execution_count": null,
   "metadata": {
    "executionInfo": {
     "elapsed": 1534,
     "status": "aborted",
     "timestamp": 1665745965477,
     "user": {
      "displayName": "Tevfik Aytekin",
      "userId": "03705756795675396046"
     },
     "user_tz": -180
    },
    "id": "zmMKGN3yi90R"
   },
   "outputs": [],
   "source": [
    "C[1,0]/total"
   ]
  },
  {
   "cell_type": "code",
   "execution_count": null,
   "metadata": {
    "executionInfo": {
     "elapsed": 1532,
     "status": "aborted",
     "timestamp": 1665745965478,
     "user": {
      "displayName": "Tevfik Aytekin",
      "userId": "03705756795675396046"
     },
     "user_tz": -180
    },
    "id": "vmFe8Kzqi90R"
   },
   "outputs": [],
   "source": [
    "C[1,1]/total"
   ]
  },
  {
   "cell_type": "code",
   "execution_count": null,
   "metadata": {
    "executionInfo": {
     "elapsed": 1530,
     "status": "aborted",
     "timestamp": 1665745965478,
     "user": {
      "displayName": "Tevfik Aytekin",
      "userId": "03705756795675396046"
     },
     "user_tz": -180
    },
    "id": "twQ_jZM7i90R"
   },
   "outputs": [],
   "source": [
    "(C[0,0]+C[1,0])/total"
   ]
  },
  {
   "cell_type": "code",
   "execution_count": null,
   "metadata": {
    "executionInfo": {
     "elapsed": 1528,
     "status": "aborted",
     "timestamp": 1665745965479,
     "user": {
      "displayName": "Tevfik Aytekin",
      "userId": "03705756795675396046"
     },
     "user_tz": -180
    },
    "id": "p_77iCe5i90S"
   },
   "outputs": [],
   "source": [
    "(C[0,0]+C[0,1])/total"
   ]
  },
  {
   "cell_type": "code",
   "execution_count": null,
   "metadata": {
    "executionInfo": {
     "elapsed": 4,
     "status": "aborted",
     "timestamp": 1665745965827,
     "user": {
      "displayName": "Tevfik Aytekin",
      "userId": "03705756795675396046"
     },
     "user_tz": -180
    },
    "id": "RpoHpjCSi90S"
   },
   "outputs": [],
   "source": [
    "C"
   ]
  },
  {
   "cell_type": "code",
   "execution_count": null,
   "metadata": {
    "executionInfo": {
     "elapsed": 5,
     "status": "aborted",
     "timestamp": 1665745965828,
     "user": {
      "displayName": "Tevfik Aytekin",
      "userId": "03705756795675396046"
     },
     "user_tz": -180
    },
    "id": "aVUgTWW1i90S"
   },
   "outputs": [],
   "source": [
    "C.sum()"
   ]
  },
  {
   "cell_type": "code",
   "execution_count": null,
   "metadata": {
    "executionInfo": {
     "elapsed": 4,
     "status": "aborted",
     "timestamp": 1665745965828,
     "user": {
      "displayName": "Tevfik Aytekin",
      "userId": "03705756795675396046"
     },
     "user_tz": -180
    },
    "id": "Hg-MPFT2i90S"
   },
   "outputs": [],
   "source": []
  }
 ],
 "metadata": {
  "colab": {
   "collapsed_sections": [
    "KrQhSZVki90A",
    "FQ1Uqkfsi90C",
    "-E2UWv3hi90G",
    "Fy1nvzmSi90H",
    "-7en9HVni90K",
    "1uRdl_Wfi90K",
    "wj7mwgZji90K",
    "02DStACei90M",
    "x962DIWKi90N",
    "sCUHLu0di90N",
    "oMfsMOLJi90N",
    "2dLyPeXGi90N",
    "MTc_ZMbpi90N",
    "gdNjj4qUi90P"
   ],
   "provenance": []
  },
  "kernelspec": {
   "display_name": "Python 3 (ipykernel)",
   "language": "python",
   "name": "python3"
  },
  "language_info": {
   "codemirror_mode": {
    "name": "ipython",
    "version": 3
   },
   "file_extension": ".py",
   "mimetype": "text/x-python",
   "name": "python",
   "nbconvert_exporter": "python",
   "pygments_lexer": "ipython3",
   "version": "3.9.17"
  }
 },
 "nbformat": 4,
 "nbformat_minor": 1
}
