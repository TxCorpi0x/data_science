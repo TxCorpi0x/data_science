{
 "cells": [
  {
   "cell_type": "markdown",
   "metadata": {},
   "source": [
    "## Locality Sensitive Hashing (LSH)\n",
    "(by Tevfik Aytekin)"
   ]
  },
  {
   "cell_type": "markdown",
   "metadata": {},
   "source": [
    "### Approximate Nearest Neighbor\n",
    "\n",
    "Finding nearest neighbors in a set of objects is a very general problem which has applications in many areas. If the size of the set of objects is very large then an exhaustive search can be very costly. In those cases approximate nearest neighbor techniques can be used. These techniques do not guarantee to find all the nearest neighbors but instead give some probabilistic guaranties. This implies that not all nearest neighbors will be returned and some not so nearest neigbors might appear in the returned list. But the gain is that these methods are much faster than their exhaustive versions. LSH is one such popular method.\n"
   ]
  },
  {
   "cell_type": "markdown",
   "metadata": {},
   "source": [
    "### The main idea of LSH\n",
    "\n",
    "The main idea of LSH is to design hash functions such that the probability of a collision is much higher for closer points compared to points which are far apart. Given such hash functions one can hash a query point and retrive the elements in the buckets that contain the query point.\n"
   ]
  },
  {
   "cell_type": "markdown",
   "metadata": {},
   "source": [
    "### Formal Definition of LSH \n",
    "(following definition and figure is taken from [mmds book](http://www.mmds.org/) where you can read more about LSH)\n",
    "\n",
    "Let $d_1 < d_2$ be two distances according to some distance measure $d$. A family $F$ of functions is said to be $(d_1, d_2, p_1, p_2)-sensitive$ if for every $f$ in $F$:\n",
    "1. If $d(x,y) ≤ d_1$, then the probability that $f(x) = f(y)$ is at least $p_1$. \n",
    "2. If $d(x,y) ≥ d_2$, then the probability that $f(x) = f(y)$ is at most $p_2$.\n",
    "\n",
    "In order for a LSH family to be useful: $p_1 > p_2$.\n",
    "\n",
    "<img src=\"images/lsh.png\" width = \"400\">\n",
    "\n",
    "Once you have a family $F$ of functions we can amplify the gap between the $p_1$ and $p_2$ by AND and OR constructions. \n",
    "\n",
    "Suppose we are given a $(d_1, d_2, p_1, p_2)-sensitive$ family $F$. We can make an AND construction by building $g=(f_1,f_2,...,f_k)$ by choosing $k$ functions at random from $F$. We say that $g(x) = g(y)$ iff $g_i(x) = g_i(y)$ for all $i = 1, 2, . . . , k$.\n",
    "\n",
    "We can make OR constructions by building $h=(g_1,f_2,...,g_l)$ by choosing $l$ functions from the set of $g$ functions as defined above. at random from $F$. Note that all the $f_i$'s in each $g_j$ are choosen at random from $F$. We define $h(x) = h(y)$ iff $g_i(x) = g_i(y)$ for one or more values of $i$. \n",
    "\n",
    "We assume a seperate hash table for each $g_i$. We will insert every point $p$ by the key $q_i(p)$ into each bucket of $g_i$'s during the build phase of LSH. When a query point $q$ comes we will return the elemements in the buckets at each $g_i(q)$\n"
   ]
  },
  {
   "cell_type": "markdown",
   "metadata": {},
   "source": []
  },
  {
   "cell_type": "markdown",
   "metadata": {},
   "source": [
    "### An LSH Function for Cosine Similarity\n",
    "\n",
    "For every distance metric (such as cosine, Jaccard, hamming, etc.) you should define a LSH family of hash functions (note that for some distance metrics this may not be possible). For cosine distance sign of the dot product of the data point with a random unit vector is used for construction the LSH. Each such random unit vector constitutes a different function in the LSH family F. The following figure illustrates why dot product with a random unit vector can be used to build an LSH family of function for cosine distance. \n",
    "\n",
    "<img src=\"images/lsh_cosine.jpg\" width = \"400\">"
   ]
  },
  {
   "cell_type": "markdown",
   "metadata": {},
   "source": [
    "In the above equation, $r$ is the random unit vector, $sign(r.a)$ is the sign of the dot product of $r$ and $a$. The equation gives the probability of the sign of the dot product of $r$ witg vectors $a$ and $b$. The figure above can be used for the proof. The arcs show the regions of $r$ where the dot product with $a$ or $b$ is positive. If $r$ is in the insersecting region $(180-\\alpha)$ of the arcs then the signs will be the same. Hence we can conclude that the probability of this to happen is $\\frac{180-\\alpha}{180}$\n",
    "\n",
    "But why does the above result show that we can build LSH family for cosine? Because as the distance between two vectors decreases (or equivalently as $\\alpha$ decreases) the probability of a collusion increases, i.e., similar vectors have a higher probability of being mapped to the same hash bucket. "
   ]
  },
  {
   "cell_type": "code",
   "execution_count": 1,
   "metadata": {},
   "outputs": [],
   "source": [
    "import numpy as np\n",
    "from scipy.spatial import distance\n",
    "import time\n",
    "from sklearn.metrics.pairwise import pairwise_distances\n",
    "import itertools\n",
    "import pandas as pd\n",
    "import matplotlib.pyplot as plt\n"
   ]
  },
  {
   "cell_type": "markdown",
   "metadata": {},
   "source": [
    "### Performance measurement\n",
    "\n",
    "Nearest neighbor search: Suppose that we have a large dataset of vectors X and given a target vector we want to find the most similar k vectors to the target vector in the dataset X. Note that we can do this type of search more than once. \n",
    "\n",
    "First let us generate the dataset X:"
   ]
  },
  {
   "cell_type": "code",
   "execution_count": 2,
   "metadata": {},
   "outputs": [],
   "source": [
    "n_vectors = 100000\n",
    "dim = 10\n",
    "n_neighbors = 100\n",
    "n_queries = 2000\n",
    "\n",
    "target_vectors = np.random.randn(n_queries, dim)\n",
    "dataset = np.random.randn(n_vectors, dim)"
   ]
  },
  {
   "cell_type": "markdown",
   "metadata": {},
   "source": [
    "### Naive search implementation"
   ]
  },
  {
   "cell_type": "code",
   "execution_count": 3,
   "metadata": {},
   "outputs": [],
   "source": [
    "class NaiveSearch:\n",
    "    def __init__(self, data):\n",
    "        # data is a n-by-d matrix where d is the length of the vectors\n",
    "        # and n is the number of vectors. \n",
    "        self.data = data\n",
    "        self.norms = None\n",
    "        self.data_normalized_T = None\n",
    "    \n",
    "        \n",
    "    def build(self):\n",
    "        self.norms = np.linalg.norm(self.data, axis=1)\n",
    "        self.norms.shape = (len(self.norms), 1)\n",
    "        \n",
    "        data_normalized = np.divide(self.data, self.norms)\n",
    "        self.data_normalized_T = data_normalized.T\n",
    "            \n",
    "            \n",
    "    def find_nn(self, target_vector, n_neighbors=10):\n",
    "\n",
    "        #target_vector_normalized = np.linalg.norm(target_vector)\n",
    "        \n",
    "        sims = np.dot(target_vector,self.data_normalized_T)[0]\n",
    "        return sims.argsort()[::-1][:n_neighbors]\n"
   ]
  },
  {
   "cell_type": "markdown",
   "metadata": {},
   "source": [
    "### LSH Implementation"
   ]
  },
  {
   "cell_type": "code",
   "execution_count": 4,
   "metadata": {},
   "outputs": [],
   "source": [
    "class LSH:\n",
    "    def __init__(self, data):\n",
    "        # data is a n-by-d matrix where d is the length of the vectors\n",
    "        # and n is the number of vectors. \n",
    "        self.data = data\n",
    "        self.bands = []\n",
    "        self.random_vectors = []\n",
    "    \n",
    "    def build(self, n_random_vectors, n_bands = 1):\n",
    "        for b in range(n_bands):\n",
    "            # generate random vectors\n",
    "            self.bands.append({})\n",
    "            dim = self.data.shape[1]\n",
    "            self.random_vectors.append(np.random.randn(n_random_vectors, dim))\n",
    "            # generate dim-by-n index bits\n",
    "            sign_bits = np.dot(self.data, self.random_vectors[b].T) >= 0\n",
    "            n_data_vectors = self.data.shape[0]\n",
    "            for i in range(n_data_vectors):\n",
    "                key = tuple(sign_bits[i,:])\n",
    "                if key not in self.bands[b]:\n",
    "                    self.bands[b][key] = []\n",
    "                self.bands[b][key].append(i)\n",
    "            \n",
    "            \n",
    "    def find_nn(self, target_vector, n_neighbors=10, n_bands = 1):\n",
    "\n",
    "        candidate_ids = []\n",
    "        for b in range(n_bands):\n",
    "            sign_bits = (np.dot(target_vector, self.random_vectors[b].T) >= 0).flatten()\n",
    "            sign_bits_tuple = tuple(sign_bits)\n",
    "            ids = self.bands[b].get(sign_bits_tuple)\n",
    "            if ids is None: \n",
    "                ids = []\n",
    "            candidate_ids = candidate_ids + ids\n",
    "        if len(candidate_ids) > 0:\n",
    "            return candidate_ids\n",
    "        \n",
    "          # Instead of directly returning the candidates, you can compute teh similarities\n",
    "          # between the target vector and all the candidates and eliminate false positives,\n",
    "          # however this is a costly operation and will increase the running time. You can \n",
    "          # remove the following comments if you want to do that.\n",
    "        \n",
    "          # candidate_vectors = self.data[candidate_ids, :]\n",
    "          # dists = pairwise_distances(target_vector, candidate_vectors, metric='cosine').flatten()\n",
    "          # sorted_nn = dists.argsort()\n",
    "          # return np.array([candidate_ids[i] for i in sorted_nn])\n",
    "        else:\n",
    "            return []"
   ]
  },
  {
   "cell_type": "markdown",
   "metadata": {},
   "source": [
    "### Naive search experiment"
   ]
  },
  {
   "cell_type": "code",
   "execution_count": 5,
   "metadata": {},
   "outputs": [
    {
     "name": "stdout",
     "output_type": "stream",
     "text": [
      "Time:18362.91790008545ms\n"
     ]
    }
   ],
   "source": [
    "ns = NaiveSearch(dataset)\n",
    "tic = time.time()\n",
    "ns.build()\n",
    "ns_nn = []\n",
    "for i in range(n_queries):\n",
    "    target_vector = target_vectors[i,:].reshape(1,dim)\n",
    "    neighbors = ns.find_nn(target_vector, n_neighbors)\n",
    "    ns_nn.append(neighbors)\n",
    "toc = time.time()\n",
    "print(\"Time:\"+str(1000*(toc-tic))+\"ms\")"
   ]
  },
  {
   "cell_type": "code",
   "execution_count": 7,
   "metadata": {},
   "outputs": [
    {
     "data": {
      "text/plain": [
       "array([72493, 72415,  7856, 61269, 17246, 90510, 36934, 53245, 57669,\n",
       "       24336, 21242, 32736, 20638, 39320, 26064, 84062, 63116,   836,\n",
       "       39221, 16945, 98110, 98022, 43512, 41737,  8118, 37456, 14840,\n",
       "       60839, 89851, 58855, 69816, 61470, 86147, 69864, 83656, 77205,\n",
       "       10071, 53292, 29951, 91754, 87496, 37586, 89561, 66857, 94565,\n",
       "       33777, 20496, 11206, 56731, 28645, 25172, 56159, 13748, 48443,\n",
       "       64919, 68091,  2415, 80844, 73406, 33721, 19933, 26663, 60789,\n",
       "       45494,  9530, 29606, 25740, 99308, 93135, 88565, 35676, 73766,\n",
       "       98761,  2499, 64335, 85255, 61032, 66670, 37386, 16889, 51058,\n",
       "       81923, 46653, 49549,   382,  8414, 62127, 28797, 27935, 29612,\n",
       "       85772, 81965, 30044, 99521, 28189, 59119, 18121, 83976, 61650,\n",
       "        4580])"
      ]
     },
     "execution_count": 7,
     "metadata": {},
     "output_type": "execute_result"
    }
   ],
   "source": [
    "ns_nn[0]"
   ]
  },
  {
   "cell_type": "markdown",
   "metadata": {},
   "source": [
    "### Naive search with sklearn\n",
    "\n",
    "You can also implement naive search using pairwise_distances() function."
   ]
  },
  {
   "cell_type": "code",
   "execution_count": 112,
   "metadata": {},
   "outputs": [
    {
     "name": "stdout",
     "output_type": "stream",
     "text": [
      "Time:24566.1141872406ms\n"
     ]
    }
   ],
   "source": [
    "tic = time.time()\n",
    "dists = pairwise_distances(target_vectors, dataset, metric='cosine')\n",
    "ns_nn = []\n",
    "for i in range(n_queries):\n",
    "    neighbors = dists[i,:].argsort()[:n_neighbors]\n",
    "    ns_nn.append(neighbors)\n",
    "toc = time.time()\n",
    "print(\"Time:\"+str(1000*(toc-tic))+\"ms\")"
   ]
  },
  {
   "cell_type": "code",
   "execution_count": 113,
   "metadata": {},
   "outputs": [
    {
     "data": {
      "text/plain": [
       "array([10439, 54436, 78849, 53593, 24455, 89676, 44299, 21832, 56687,\n",
       "       65730,  2852, 35671, 68547, 47210, 57942, 57735, 97698, 50668,\n",
       "       13380, 16457, 55733,  3666,  8721, 99667, 68002, 78029, 94636,\n",
       "       32779, 67252, 11524, 42685,  5310, 94430, 18126, 45511, 77286,\n",
       "       90569, 70094, 48794, 64874, 72855,  6964, 29542, 90611, 88491,\n",
       "       89829, 94639, 74306, 10612, 66092, 66337, 27164, 27674, 85264,\n",
       "           9, 64308, 85051, 39242, 48933, 90441, 63177, 45489,  2158,\n",
       "       14244, 33535,  9323, 94899, 48293, 92453, 64798, 48665, 48225,\n",
       "       30825,  3538, 61981,  8050, 63390, 64541, 32341,  8218, 38162,\n",
       "       17382, 29835, 83302, 96494, 89437, 55249, 37937, 60825, 32079,\n",
       "       73536, 54711, 81008, 77465, 85432, 44119, 89734,   428, 49543,\n",
       "        8488])"
      ]
     },
     "execution_count": 113,
     "metadata": {},
     "output_type": "execute_result"
    }
   ],
   "source": [
    "ns_nn[0]"
   ]
  },
  {
   "cell_type": "markdown",
   "metadata": {},
   "source": [
    "### Analysis of the main parameters of LSH\n",
    "\n",
    "The are two main parameters of the LSH technique: the number of hash tables (bands) and the size of signatures (rows). The following figure shows an example where we have 4 bands and the signature size is 3. One can see that in band 1 columns 2 and 4 have identical signatures (101). So, the items corresponding to these columns will map into the same bucket. The signatures of items 1 and 2 in band 1 are not identical but in band 2 they are identical. So, they will map to the same bucket in the hash table corresponding to band 2. \n",
    "\n",
    "\n",
    "<table border=1>\n",
    "    <tr>\n",
    "        <td>Band 1</td>\n",
    "        <td>01010 ...<br>00001 ...<br>01110 ...</td>\n",
    "    </tr>\n",
    "    <tr>\n",
    "        <td>Band 2</td>\n",
    "        <td>11010 ...<br>11011 ...<br>00100 ...</td>\n",
    "    </tr>\n",
    "    <tr>\n",
    "        <td>Band 3</td>\n",
    "        <td>01110 ...<br>10001 ...<br>00111 ...</td>\n",
    "    </tr>\n",
    "    <tr>\n",
    "        <td>Band 4</td>\n",
    "        <td>11000 ...<br>10010 ...<br>00111 ...</td>\n",
    "    </tr>\n",
    "</table>\n",
    "\n",
    "There can be to types of errors: false positives and false negatives. False positives are cases where two dissimilar items map to the same bucket. False negatives are cases where two similar items map to different buckets. As the number of bands increases the possibility of false negatives will decrease and as the size of the signatures increases the possiblity of false positives will decreases.\n",
    " \n",
    "By changing the values of $b$ (number og bands) and $r$ (number of rows) one can adjust the ratio of false negatives and false positives. Given that the probability of the signature values of two items to agree in any one particular row is $s$, the probability of becoming a candidate pair is $1 - (1 - s^r)^b$ which can be calculated as below:\n",
    "\n",
    "Given two items:\n",
    "\n",
    "- The probability that signatures agree in all rows of a particular band is $s^r$\n",
    "- The probability that signatures disagree in at least one row of a particular band is $1-s^r$\n",
    "- The probability that signatures disagree in at least one row of each of the bands is ($1-s^r)^b$\n",
    "- The probability that signatures agree in all rows of at least one band (that is, they become a candidate pair is $1 - (1 - s^r)^b$"
   ]
  },
  {
   "cell_type": "code",
   "execution_count": 75,
   "metadata": {},
   "outputs": [
    {
     "data": {
      "image/png": "[encoded data removed]",
      "text/plain": [
       "<Figure size 432x288 with 1 Axes>"
      ]
     },
     "metadata": {
      "needs_background": "light"
     },
     "output_type": "display_data"
    }
   ],
   "source": [
    "def prob_cand_func(b, r):\n",
    "    return 1 - (1-s**r)**b\n",
    "r = 5\n",
    "b = 20\n",
    "\n",
    "s = np.arange(0,1,0.01)\n",
    "plt.plot(s, prob_cand_func(b, r))\n",
    "plt.ylabel(\"Probability of becoming a candidate\")\n",
    "plt.xlabel(\"Cosine similarity of items\");"
   ]
  },
  {
   "cell_type": "markdown",
   "metadata": {},
   "source": [
    "### LSH experiment\n",
    "\n",
    "This experiment runs LSH with different number of bands and rows. Here, each random vector corresponds to a different row. In the end of the experiment, time, recall, and avg. neighbor list sizes are shown for each value of number of bands and rows. Time is the time to return the neighbors from the LSH data structure (build time of LSH is not included). Recall is the ratio of items that are returned by LSH in the true nearest neighbor list (of size n_neighbors). Avg. neighbor list size is the average size of the lists returned by LSH."
   ]
  },
  {
   "cell_type": "code",
   "execution_count": 8,
   "metadata": {
    "scrolled": true
   },
   "outputs": [
    {
     "name": "stdout",
     "output_type": "stream",
     "text": [
      "Elapsed Time\n"
     ]
    },
    {
     "data": {
      "text/html": [
       "<div>\n",
       "<style scoped>\n",
       "    .dataframe tbody tr th:only-of-type {\n",
       "        vertical-align: middle;\n",
       "    }\n",
       "\n",
       "    .dataframe tbody tr th {\n",
       "        vertical-align: top;\n",
       "    }\n",
       "\n",
       "    .dataframe thead th {\n",
       "        text-align: right;\n",
       "    }\n",
       "</style>\n",
       "<table border=\"1\" class=\"dataframe\">\n",
       "  <thead>\n",
       "    <tr style=\"text-align: right;\">\n",
       "      <th></th>\n",
       "      <th>15</th>\n",
       "      <th>16</th>\n",
       "      <th>17</th>\n",
       "      <th>18</th>\n",
       "      <th>19</th>\n",
       "      <th>20</th>\n",
       "    </tr>\n",
       "  </thead>\n",
       "  <tbody>\n",
       "    <tr>\n",
       "      <th>5</th>\n",
       "      <td>148.081</td>\n",
       "      <td>95.565</td>\n",
       "      <td>85.622</td>\n",
       "      <td>78.043</td>\n",
       "      <td>77.539</td>\n",
       "      <td>77.335</td>\n",
       "    </tr>\n",
       "    <tr>\n",
       "      <th>6</th>\n",
       "      <td>106.254</td>\n",
       "      <td>134.013</td>\n",
       "      <td>130.305</td>\n",
       "      <td>101.175</td>\n",
       "      <td>106.565</td>\n",
       "      <td>89.177</td>\n",
       "    </tr>\n",
       "    <tr>\n",
       "      <th>7</th>\n",
       "      <td>159.470</td>\n",
       "      <td>160.998</td>\n",
       "      <td>139.918</td>\n",
       "      <td>116.530</td>\n",
       "      <td>119.904</td>\n",
       "      <td>92.872</td>\n",
       "    </tr>\n",
       "    <tr>\n",
       "      <th>8</th>\n",
       "      <td>192.396</td>\n",
       "      <td>123.884</td>\n",
       "      <td>168.606</td>\n",
       "      <td>149.394</td>\n",
       "      <td>134.326</td>\n",
       "      <td>104.455</td>\n",
       "    </tr>\n",
       "    <tr>\n",
       "      <th>9</th>\n",
       "      <td>224.867</td>\n",
       "      <td>189.323</td>\n",
       "      <td>173.932</td>\n",
       "      <td>161.434</td>\n",
       "      <td>130.784</td>\n",
       "      <td>131.868</td>\n",
       "    </tr>\n",
       "    <tr>\n",
       "      <th>10</th>\n",
       "      <td>228.450</td>\n",
       "      <td>215.374</td>\n",
       "      <td>189.493</td>\n",
       "      <td>150.110</td>\n",
       "      <td>145.448</td>\n",
       "      <td>134.048</td>\n",
       "    </tr>\n",
       "  </tbody>\n",
       "</table>\n",
       "</div>"
      ],
      "text/plain": [
       "         15       16       17       18       19       20\n",
       "5   148.081   95.565   85.622   78.043   77.539   77.335\n",
       "6   106.254  134.013  130.305  101.175  106.565   89.177\n",
       "7   159.470  160.998  139.918  116.530  119.904   92.872\n",
       "8   192.396  123.884  168.606  149.394  134.326  104.455\n",
       "9   224.867  189.323  173.932  161.434  130.784  131.868\n",
       "10  228.450  215.374  189.493  150.110  145.448  134.048"
      ]
     },
     "metadata": {},
     "output_type": "display_data"
    },
    {
     "name": "stdout",
     "output_type": "stream",
     "text": [
      "Recall\n"
     ]
    },
    {
     "data": {
      "text/html": [
       "<div>\n",
       "<style scoped>\n",
       "    .dataframe tbody tr th:only-of-type {\n",
       "        vertical-align: middle;\n",
       "    }\n",
       "\n",
       "    .dataframe tbody tr th {\n",
       "        vertical-align: top;\n",
       "    }\n",
       "\n",
       "    .dataframe thead th {\n",
       "        text-align: right;\n",
       "    }\n",
       "</style>\n",
       "<table border=\"1\" class=\"dataframe\">\n",
       "  <thead>\n",
       "    <tr style=\"text-align: right;\">\n",
       "      <th></th>\n",
       "      <th>15</th>\n",
       "      <th>16</th>\n",
       "      <th>17</th>\n",
       "      <th>18</th>\n",
       "      <th>19</th>\n",
       "      <th>20</th>\n",
       "    </tr>\n",
       "  </thead>\n",
       "  <tbody>\n",
       "    <tr>\n",
       "      <th>5</th>\n",
       "      <td>0.107515</td>\n",
       "      <td>0.113260</td>\n",
       "      <td>0.136850</td>\n",
       "      <td>0.129780</td>\n",
       "      <td>0.115505</td>\n",
       "      <td>0.106995</td>\n",
       "    </tr>\n",
       "    <tr>\n",
       "      <th>6</th>\n",
       "      <td>0.120535</td>\n",
       "      <td>0.121030</td>\n",
       "      <td>0.137460</td>\n",
       "      <td>0.141650</td>\n",
       "      <td>0.130600</td>\n",
       "      <td>0.123280</td>\n",
       "    </tr>\n",
       "    <tr>\n",
       "      <th>7</th>\n",
       "      <td>0.117635</td>\n",
       "      <td>0.120400</td>\n",
       "      <td>0.144595</td>\n",
       "      <td>0.150180</td>\n",
       "      <td>0.133975</td>\n",
       "      <td>0.137980</td>\n",
       "    </tr>\n",
       "    <tr>\n",
       "      <th>8</th>\n",
       "      <td>0.113250</td>\n",
       "      <td>0.134640</td>\n",
       "      <td>0.139595</td>\n",
       "      <td>0.152745</td>\n",
       "      <td>0.151905</td>\n",
       "      <td>0.147285</td>\n",
       "    </tr>\n",
       "    <tr>\n",
       "      <th>9</th>\n",
       "      <td>0.108730</td>\n",
       "      <td>0.122515</td>\n",
       "      <td>0.140505</td>\n",
       "      <td>0.153065</td>\n",
       "      <td>0.167510</td>\n",
       "      <td>0.158565</td>\n",
       "    </tr>\n",
       "    <tr>\n",
       "      <th>10</th>\n",
       "      <td>0.109740</td>\n",
       "      <td>0.125435</td>\n",
       "      <td>0.145470</td>\n",
       "      <td>0.150085</td>\n",
       "      <td>0.167070</td>\n",
       "      <td>0.169065</td>\n",
       "    </tr>\n",
       "  </tbody>\n",
       "</table>\n",
       "</div>"
      ],
      "text/plain": [
       "          15        16        17        18        19        20\n",
       "5   0.107515  0.113260  0.136850  0.129780  0.115505  0.106995\n",
       "6   0.120535  0.121030  0.137460  0.141650  0.130600  0.123280\n",
       "7   0.117635  0.120400  0.144595  0.150180  0.133975  0.137980\n",
       "8   0.113250  0.134640  0.139595  0.152745  0.151905  0.147285\n",
       "9   0.108730  0.122515  0.140505  0.153065  0.167510  0.158565\n",
       "10  0.109740  0.125435  0.145470  0.150085  0.167070  0.169065"
      ]
     },
     "metadata": {},
     "output_type": "display_data"
    },
    {
     "name": "stdout",
     "output_type": "stream",
     "text": [
      "Avg. Neighbor Size\n"
     ]
    },
    {
     "data": {
      "text/html": [
       "<div>\n",
       "<style scoped>\n",
       "    .dataframe tbody tr th:only-of-type {\n",
       "        vertical-align: middle;\n",
       "    }\n",
       "\n",
       "    .dataframe tbody tr th {\n",
       "        vertical-align: top;\n",
       "    }\n",
       "\n",
       "    .dataframe thead th {\n",
       "        text-align: right;\n",
       "    }\n",
       "</style>\n",
       "<table border=\"1\" class=\"dataframe\">\n",
       "  <thead>\n",
       "    <tr style=\"text-align: right;\">\n",
       "      <th></th>\n",
       "      <th>15</th>\n",
       "      <th>16</th>\n",
       "      <th>17</th>\n",
       "      <th>18</th>\n",
       "      <th>19</th>\n",
       "      <th>20</th>\n",
       "    </tr>\n",
       "  </thead>\n",
       "  <tbody>\n",
       "    <tr>\n",
       "      <th>5</th>\n",
       "      <td>325.5770</td>\n",
       "      <td>271.1670</td>\n",
       "      <td>123.3580</td>\n",
       "      <td>106.5870</td>\n",
       "      <td>79.3275</td>\n",
       "      <td>59.5650</td>\n",
       "    </tr>\n",
       "    <tr>\n",
       "      <th>6</th>\n",
       "      <td>347.0380</td>\n",
       "      <td>275.0880</td>\n",
       "      <td>191.1345</td>\n",
       "      <td>128.6475</td>\n",
       "      <td>115.4530</td>\n",
       "      <td>75.9440</td>\n",
       "    </tr>\n",
       "    <tr>\n",
       "      <th>7</th>\n",
       "      <td>438.0605</td>\n",
       "      <td>319.4250</td>\n",
       "      <td>185.6095</td>\n",
       "      <td>144.2625</td>\n",
       "      <td>151.0770</td>\n",
       "      <td>84.0950</td>\n",
       "    </tr>\n",
       "    <tr>\n",
       "      <th>8</th>\n",
       "      <td>499.2625</td>\n",
       "      <td>326.2735</td>\n",
       "      <td>292.8190</td>\n",
       "      <td>171.5245</td>\n",
       "      <td>132.8510</td>\n",
       "      <td>101.5545</td>\n",
       "    </tr>\n",
       "    <tr>\n",
       "      <th>9</th>\n",
       "      <td>590.4165</td>\n",
       "      <td>371.0990</td>\n",
       "      <td>273.0920</td>\n",
       "      <td>197.4215</td>\n",
       "      <td>134.8510</td>\n",
       "      <td>118.4225</td>\n",
       "    </tr>\n",
       "    <tr>\n",
       "      <th>10</th>\n",
       "      <td>615.7995</td>\n",
       "      <td>480.9295</td>\n",
       "      <td>327.3735</td>\n",
       "      <td>236.1475</td>\n",
       "      <td>158.3005</td>\n",
       "      <td>124.5160</td>\n",
       "    </tr>\n",
       "  </tbody>\n",
       "</table>\n",
       "</div>"
      ],
      "text/plain": [
       "          15        16        17        18        19        20\n",
       "5   325.5770  271.1670  123.3580  106.5870   79.3275   59.5650\n",
       "6   347.0380  275.0880  191.1345  128.6475  115.4530   75.9440\n",
       "7   438.0605  319.4250  185.6095  144.2625  151.0770   84.0950\n",
       "8   499.2625  326.2735  292.8190  171.5245  132.8510  101.5545\n",
       "9   590.4165  371.0990  273.0920  197.4215  134.8510  118.4225\n",
       "10  615.7995  480.9295  327.3735  236.1475  158.3005  124.5160"
      ]
     },
     "metadata": {},
     "output_type": "display_data"
    }
   ],
   "source": [
    "min_n_random_vectors = 15\n",
    "max_n_random_vectors = 20\n",
    "max_n_bands = 10\n",
    "min_n_bands = 5\n",
    "\n",
    "\n",
    "elapsed_time = np.zeros((max_n_bands-min_n_bands+1, (max_n_random_vectors-min_n_random_vectors)+1))\n",
    "recall = np.zeros((max_n_bands-min_n_bands+1, (max_n_random_vectors-min_n_random_vectors)+1))\n",
    "avg_neigbor_size = np.zeros((max_n_bands-min_n_bands+1, (max_n_random_vectors-min_n_random_vectors)+1))\n",
    "\n",
    "for b in range(min_n_bands, max_n_bands+1):\n",
    "    for v in range(min_n_random_vectors,max_n_random_vectors+1):\n",
    "        lsh_nn = []\n",
    "        lsh = LSH(dataset)\n",
    "        lsh.build(v, n_bands = b)\n",
    "        tic = time.process_time()\n",
    "        for i in range(n_queries):\n",
    "            target_vector = target_vectors[i,:].reshape(1,dim)\n",
    "            neighbors = lsh.find_nn(target_vector, n_neighbors, n_bands = b)\n",
    "            lsh_nn.append(neighbors)\n",
    "        toc = time.process_time()\n",
    "        elapsed_time[b-min_n_bands,v-min_n_random_vectors] = (toc-tic)*1000\n",
    "        true_positives = sum([len(np.intersect1d(ns_nn[i], lsh_nn[i][:n_neighbors])) for i in range(n_queries)])\n",
    "        recall[b-min_n_bands,v-min_n_random_vectors] = true_positives / (n_queries*n_neighbors)\n",
    "        avg_neigbor_size[b-min_n_bands,v-min_n_random_vectors] = len(list(itertools.chain(*lsh_nn)))/n_queries\n",
    "    \n",
    "\n",
    "\n",
    "elapsed_time_df = pd.DataFrame(elapsed_time)\n",
    "recall_df = pd.DataFrame(recall)\n",
    "avg_neigbor_size_df = pd.DataFrame(avg_neigbor_size)\n",
    "\n",
    "row_names = [str(i) for i in range(min_n_bands, max_n_bands+1)]\n",
    "column_names = [str(i) for i in range(min_n_random_vectors, max_n_random_vectors+1)]\n",
    "elapsed_time_df.columns = recall_df.columns =avg_neigbor_size_df.columns = column_names\n",
    "elapsed_time_df.index = recall_df.index = avg_neigbor_size_df.index = row_names\n",
    "print(\"Elapsed Time\")\n",
    "display(elapsed_time_df)\n",
    "print(\"Recall\")\n",
    "display(recall_df)\n",
    "print(\"Avg. Neighbor Size\")\n",
    "display(avg_neigbor_size_df)"
   ]
  },
  {
   "cell_type": "markdown",
   "metadata": {},
   "source": [
    "### Single LSH experiment\n",
    "\n",
    "Below is a single LSH experiment with a fixed value for n_bands and n_random_vectors."
   ]
  },
  {
   "cell_type": "code",
   "execution_count": 117,
   "metadata": {},
   "outputs": [
    {
     "name": "stdout",
     "output_type": "stream",
     "text": [
      "Elapsed Time: 77.77000000010048ms\n",
      "Recall: 0.10828\n",
      "Avg neigbor size: 60.136\n"
     ]
    }
   ],
   "source": [
    "n_random_vectors = 20\n",
    "n_bands = 5\n",
    "\n",
    "lsh_nn = []\n",
    "lsh = LSH(dataset)\n",
    "lsh.build(n_random_vectors = n_random_vectors, n_bands = n_bands)\n",
    "tic = time.process_time()\n",
    "for i in range(n_queries):\n",
    "    target_vector = target_vectors[i,:].reshape(1,dim)\n",
    "    neighbors = lsh.find_nn(target_vector, n_neighbors, n_bands = n_bands)\n",
    "    lsh_nn.append(neighbors)\n",
    "toc = time.process_time()\n",
    "print(\"Elapsed Time: \"+str(1000*(toc-tic))+\"ms\")\n",
    "true_positives = sum([len(np.intersect1d(ns_nn[i], lsh_nn[i][:n_neighbors])) for i in range(n_queries)])\n",
    "print(\"Recall: \"+str(true_positives / (n_queries*n_neighbors)))\n",
    "print(\"Avg neigbor size: \"+ str(len(list(itertools.chain(*lsh_nn)))/n_queries))\n"
   ]
  },
  {
   "cell_type": "markdown",
   "metadata": {},
   "source": [
    "### A note on running time comparison\n",
    "\n",
    "In the above implementations you can find both the exhaustive and LSH-based search experiments. But one should be careful when evaluating the running times of these experiments. The dominating cost in exhaustive search is the matrix multiplication operation which is done using numpy's dot() function which implemented in C. So the above running time results do not reflect the true capacity of LSH (which should be better). In order to make a fair comparison it would be better to write everything in C/C++."
   ]
  }
 ],
 "metadata": {
  "kernelspec": {
   "display_name": "Python 3",
   "language": "python",
   "name": "python3"
  },
  "language_info": {
   "codemirror_mode": {
    "name": "ipython",
    "version": 3
   },
   "file_extension": ".py",
   "mimetype": "text/x-python",
   "name": "python",
   "nbconvert_exporter": "python",
   "pygments_lexer": "ipython3",
   "version": "3.7.7"
  }
 },
 "nbformat": 4,
 "nbformat_minor": 4
}
