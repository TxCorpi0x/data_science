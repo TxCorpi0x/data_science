{
 "cells": [
  {
   "cell_type": "code",
   "execution_count": 2,
   "metadata": {},
   "outputs": [],
   "source": [
    "#import utils\n",
    "import pandas as pd\n",
    "import numpy as np\n",
    "import seaborn as sns\n",
    "import matplotlib\n",
    "import matplotlib.pyplot as plt\n",
    "from statsmodels.graphics.mosaicplot import mosaic\n",
    "import tkinter\n",
    "from matplotlib.backends.backend_tkagg import (\n",
    "    FigureCanvasTkAgg, NavigationToolbar2Tk)\n",
    "# Implement the default Matplotlib key bindings.\n",
    "from matplotlib.backend_bases import key_press_handler\n",
    "from matplotlib.figure import Figure\n",
    "from sklearn.neighbors import KernelDensity\n",
    "from sklearn import datasets\n",
    "from sklearn.decomposition import PCA\n",
    "import matplotlib as mpl\n",
    "mpl.rcParams.update(mpl.rcParamsDefault)\n",
    "plt.rcParams['figure.figsize'] = [4.5, 3.5]\n",
    "#plt.rcParams['figure.dpi'] = 100\n",
    "\n",
    "\n",
    "\n",
    "pd.options.display.max_rows = 2000\n",
    "pd.options.display.max_columns = 100"
   ]
  },
  {
   "cell_type": "code",
   "execution_count": null,
   "metadata": {},
   "outputs": [],
   "source": []
  },
  {
   "cell_type": "markdown",
   "metadata": {},
   "source": [
    "### Not easy to interpret\n",
    "\n",
    "Many researchers point out that box plots are not easy to interpret because they are not well aligned how the visual system works. For example, in the following box plot, does the left (Q1-Q2) or the right (Q2-Q3) region of the box contain more data?"
   ]
  },
  {
   "cell_type": "code",
   "execution_count": 26,
   "metadata": {},
   "outputs": [
    {
     "data": {
      "image/png": "[encoded data removed]",
      "text/plain": [
       "<Figure size 600x300 with 1 Axes>"
      ]
     },
     "metadata": {},
     "output_type": "display_data"
    }
   ],
   "source": [
    "data = [1,2,3,4,5,6,6.3,6.4,6.5,6.6,7,8]\n",
    "fig = plt.figure(1, figsize=(6, 3))\n",
    "ax = fig.add_subplot(111)\n",
    "\n",
    "quantiles = np.quantile(data, np.array([0.25, 0.50, 0.75]))\n",
    "ax.vlines(quantiles, [0] * quantiles.size, [1] * quantiles.size,\n",
    "          color='b', ls=':', lw=0.5, zorder=0)\n",
    "ax.set_xticks(quantiles, labels=[\"Q1\",\"Q2\",\"Q3\"])\n",
    "ax.set_ylim(0.5, 1.5)\n",
    "\n",
    "plt.boxplot(data, vert=False);"
   ]
  },
  {
   "cell_type": "markdown",
   "metadata": {},
   "source": [
    "Various [research studies](https://psychologicabelgica.com/articles/10.5334/pb.az) show that students tend to think that the larger area contains more data points. Actually, the quartile ranges in a box plot roughly contain equal number of data points. The size of the area of a box plot represent the density of the data points not the number of data points. This seems to be counter intuitive since humans tend to associate larger/longer shapes with larger quantities however in a box plot the number of data points in quartiles are always the same (roughly) regardless of their relative sizes. Moreover, shorter segments represent higher densities and longer segments represent lower densities which is again counter intuitive."
   ]
  },
  {
   "cell_type": "markdown",
   "metadata": {},
   "source": [
    "### Hides the details of the data distribution"
   ]
  },
  {
   "cell_type": "code",
   "execution_count": 8,
   "metadata": {},
   "outputs": [
    {
     "data": {
      "image/png": "[encoded data removed]",
      "text/plain": [
       "<Figure size 1200x500 with 2 Axes>"
      ]
     },
     "metadata": {},
     "output_type": "display_data"
    }
   ],
   "source": [
    "data = list(np.random.normal(5, 2, 1000)) + list(np.random.normal(20, 3, 2000))\n",
    "f, axarr = plt.subplots(1,2)\n",
    "f.set_size_inches(12,5)\n",
    "axarr[0].boxplot(data, vert=False)\n",
    "axarr[1].hist(data, 30);"
   ]
  },
  {
   "cell_type": "code",
   "execution_count": null,
   "metadata": {},
   "outputs": [],
   "source": []
  }
 ],
 "metadata": {
  "kernelspec": {
   "display_name": "Python 3",
   "language": "python",
   "name": "python3"
  },
  "language_info": {
   "codemirror_mode": {
    "name": "ipython",
    "version": 3
   },
   "file_extension": ".py",
   "mimetype": "text/x-python",
   "name": "python",
   "nbconvert_exporter": "python",
   "pygments_lexer": "ipython3",
   "version": "3.11.5"
  }
 },
 "nbformat": 4,
 "nbformat_minor": 2
}
