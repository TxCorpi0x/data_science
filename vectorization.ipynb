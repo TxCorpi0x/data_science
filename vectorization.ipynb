{
 "cells": [
  {
   "cell_type": "markdown",
   "metadata": {},
   "source": [
    "# Vectorization \n",
    "(by Tevfik Aytekin)\n",
    "\n",
    "Examples showing the speed difference between vectorization vs. for loops in Python.\n",
    "\n",
    "### Dot Product"
   ]
  },
  {
   "cell_type": "code",
   "execution_count": 1,
   "metadata": {},
   "outputs": [
    {
     "name": "stdout",
     "output_type": "stream",
     "text": [
      "250103.35721024178\n",
      "For loop: 425.2660274505615ms\n",
      "250103.35721025066\n",
      "Vectorized version: 2.2020339965820312ms\n"
     ]
    }
   ],
   "source": [
    "import numpy as np\n",
    "import time\n",
    "\n",
    "a = np.random.rand(1000000)\n",
    "b = np.random.rand(1000000)\n",
    "\n",
    "\n",
    "c = 0\n",
    "tic = time.time()\n",
    "for i in range(1000000):\n",
    "    c+=a[i]*b[i]\n",
    "toc = time.time()\n",
    "\n",
    "print(c)\n",
    "print(\"For loop: \"+str(1000*(toc-tic))+\"ms\")\n",
    "tic = time.time()\n",
    "c = np.dot(a,b)\n",
    "toc = time.time()\n",
    "\n",
    "print(c)\n",
    "print(\"Vectorized version: \"+str(1000*(toc-tic))+\"ms\")\n",
    "\n"
   ]
  },
  {
   "cell_type": "markdown",
   "metadata": {},
   "source": [
    "### Matrix Multiplication"
   ]
  },
  {
   "cell_type": "code",
   "execution_count": null,
   "metadata": {},
   "outputs": [],
   "source": [
    "Ax = 100\n",
    "Ay = 100\n",
    "Bx = 100\n",
    "By = 100\n",
    "A = np.random.rand(Ax,Ay)\n",
    "B = np.random.rand(Bx,By)\n",
    "\n",
    "result = np.zeros((Ax,  By))\n",
    "tic = time.time()\n",
    "for i in range(Ax):\n",
    "    for j in range(By):\n",
    "        for k in range(Bx):\n",
    "            result[i][j] += A[i][k] * B[k][j]\n",
    "toc = time.time()\n",
    "print(\"For loop: \"+str(1000*(toc-tic))+\"ms\")\n",
    "\n",
    "result = np.zeros((Ax,  By))\n",
    "tic = time.time()\n",
    "result = np.dot(Ax,By)\n",
    "toc = time.time()\n",
    "print(\"Vectorized version: \"+str(1000*(toc-tic))+\"ms\")\n"
   ]
  },
  {
   "cell_type": "markdown",
   "metadata": {},
   "source": [
    "### dot vs matmul\n",
    "\n",
    "In Python in addition to dot function there is another matrix multiplication function called matmul. Look at this [discussion](https://stackoverflow.com/questions/34142485/difference-between-numpy-dot-and-python-3-5-matrix-multiplication) for their difference."
   ]
  },
  {
   "cell_type": "markdown",
   "metadata": {},
   "source": [
    "### Calling a C/C++ function from Python\n",
    "\n",
    "You can write the most time consuming part of your code in C/C++ and then call it from Python code. To do this, first create a C/C++ funtction.\n",
    "\n",
    "Then, create a shared libriary using the following command\n",
    "\n",
    "cc -fPIC -shared -o my_function.so my_function.c\n",
    "\n",
    "Then call your function from Python code as follows:"
   ]
  },
  {
   "cell_type": "code",
   "execution_count": null,
   "metadata": {
    "scrolled": true
   },
   "outputs": [],
   "source": [
    "import numpy as np\n",
    "import time\n",
    "from ctypes import *\n",
    "\n",
    "lib = cdll.LoadLibrary(\"c_codes/c_dot.so\")\n",
    "c_dot = lib.c_dot\n",
    "c_sum = lib.c_sum\n",
    "c_dot.restype = c_int\n",
    "\n",
    "\n",
    "a = np.random.randint(1,100,100000)\n",
    "b = np.random.randint(1,100,100000)\n",
    "print(a)\n",
    "print(b)\n",
    "\n",
    "c = 0\n",
    "tic = time.time()\n",
    "for i in range(len(a)):\n",
    "    c+=a[i]*b[i]\n",
    "toc = time.time()\n",
    "\n",
    "print(c)\n",
    "print(\"Python: \"+str(1000*(toc-tic))+\"ms\")\n",
    "\n",
    "\n",
    "tic = time.time()\n",
    "c = c_dot(c_void_p(a.ctypes.data), c_void_p(b.ctypes.data), len(a))\n",
    "\n",
    "toc = time.time()\n",
    "\n",
    "print(c)\n",
    "print(\"C function: \"+str(1000*(toc-tic))+\"ms\")\n",
    "\n"
   ]
  },
  {
   "cell_type": "code",
   "execution_count": null,
   "metadata": {},
   "outputs": [],
   "source": [
    "import numpy as np\n",
    "import time\n",
    "from ctypes import *\n",
    "\n",
    "lib = cdll.LoadLibrary(\"c_codes/c_dot.so\")\n",
    "c_sum = lib.c_sum\n",
    "c_sum.restype = c_int\n",
    "\n",
    "\n",
    "a = np.random.randint(1,5,6)\n",
    "print(a)\n",
    "\n",
    "c = c_sum(c_void_p(a.ctypes.data), c_int(len(a)))\n",
    "print(c)\n"
   ]
  },
  {
   "cell_type": "code",
   "execution_count": null,
   "metadata": {},
   "outputs": [],
   "source": []
  }
 ],
 "metadata": {
  "kernelspec": {
   "display_name": "Python 3",
   "language": "python",
   "name": "python3"
  },
  "language_info": {
   "codemirror_mode": {
    "name": "ipython",
    "version": 3
   },
   "file_extension": ".py",
   "mimetype": "text/x-python",
   "name": "python",
   "nbconvert_exporter": "python",
   "pygments_lexer": "ipython3",
   "version": "3.7.7"
  }
 },
 "nbformat": 4,
 "nbformat_minor": 2
}
