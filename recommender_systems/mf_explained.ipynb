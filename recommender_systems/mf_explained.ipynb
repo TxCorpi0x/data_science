{
 "cells": [
  {
   "cell_type": "code",
   "execution_count": 102,
   "id": "d5d50363",
   "metadata": {
    "id": "d5d50363"
   },
   "outputs": [],
   "source": [
    "import numpy as np\n",
    "import scipy.stats as stats\n",
    "from sklearn.utils import shuffle\n",
    "from sklearn import linear_model\n",
    "from sklearn.tree import DecisionTreeRegressor, DecisionTreeClassifier\n",
    "from sklearn.ensemble import GradientBoostingRegressor, RandomForestRegressor, GradientBoostingClassifier, RandomForestClassifier\n",
    "from sklearn.inspection import PartialDependenceDisplay\n",
    "import matplotlib.pyplot as plt\n",
    "from sklearn.model_selection import cross_val_score, KFold, cross_validate\n",
    "from sklearn.decomposition import NMF, LatentDirichletAllocation, FactorAnalysis, PCA\n",
    "from scipy.sparse import coo_matrix, csr_matrix, lil_matrix\n",
    "import sys\n",
    "sys.path.append('../data_science')\n",
    "from sklearn.model_selection import train_test_split\n",
    "from tqdm import tqdm\n",
    "import seaborn as sns\n",
    "\n",
    "\n",
    "\n",
    "np.set_printoptions(precision=2)\n",
    "np.set_printoptions(suppress=True)\n",
    "import pandas as pd"
   ]
  },
  {
   "cell_type": "markdown",
   "id": "b3bcc5c2",
   "metadata": {
    "id": "b3bcc5c2"
   },
   "source": [
    "### Latent Variable Models\n",
    "\n",
    "Assume that we have n students and k courses. All students have grades for all courses. Factor analysis assumes that actually there are few parameters (latent variables) which determine students' grades. For example IQ and study_time might be the basic factors which determine the grades. \n",
    "\n",
    "Let us assume that there are 5 courses. We will assume that IQ scores and study times of the students determine the grades they get from these courses. In other words we can model the grade of a student $s$ for course $c$ as follows:\n",
    "\n",
    "$$\n",
    "grade_{sc} = IQ_s*F_c + ST_s*F_c\n",
    "$$\n",
    "\n",
    "$F_c$ is the factor for each course which together with IQ and study time determine the grade. This is also reasonable to assume since otherwise a student would get the same grade from all courses.\n"
   ]
  },
  {
   "cell_type": "code",
   "execution_count": 158,
   "id": "b4efdd5b",
   "metadata": {
    "colab": {
     "base_uri": "https://localhost:8080/"
    },
    "executionInfo": {
     "elapsed": 4,
     "status": "ok",
     "timestamp": 1671551957051,
     "user": {
      "displayName": "Tevfik Aytekin",
      "userId": "03705756795675396046"
     },
     "user_tz": -180
    },
    "id": "b4efdd5b",
    "outputId": "1bc96f01-7e0b-47b4-a436-82cd996db647"
   },
   "outputs": [
    {
     "name": "stdout",
     "output_type": "stream",
     "text": [
      "[[0.01 0.79 0.49 0.42 0.4 ]\n",
      " [0.33 0.91 0.07 0.19 0.02]]\n",
      "[[ 74.51   6.87]\n",
      " [ 90.79  10.52]\n",
      " [125.67   6.74]\n",
      " [ 82.23   8.87]\n",
      " [145.3    6.68]\n",
      " [ 97.57  12.28]\n",
      " [134.     8.28]\n",
      " [ 93.85   7.15]\n",
      " [111.31  11.34]\n",
      " [ 76.71  11.3 ]]\n"
     ]
    }
   ],
   "source": [
    "n = 100\n",
    "k = 5\n",
    "\n",
    "# Students IQs normally distributed with mean = 100, std = 20\n",
    "IQ = np.random.normal(100,20,n).reshape(n,-1)\n",
    "ST = np.random.normal(10,2,n).reshape(n,-1)\n",
    "IQST = np.hstack([IQ,ST])\n",
    "\n",
    "# Course factors,  what do these values represent? why do we need them?\n",
    "CF = np.random.rand(2,5)\n",
    "\n",
    "print(CF)\n",
    "print(IQST[:10])\n"
   ]
  },
  {
   "cell_type": "code",
   "execution_count": 159,
   "id": "Kl1JV3EhoZR6",
   "metadata": {
    "colab": {
     "base_uri": "https://localhost:8080/"
    },
    "executionInfo": {
     "elapsed": 368,
     "status": "ok",
     "timestamp": 1671551959687,
     "user": {
      "displayName": "Tevfik Aytekin",
      "userId": "03705756795675396046"
     },
     "user_tz": -180
    },
    "id": "Kl1JV3EhoZR6",
    "outputId": "25c742bb-e4c2-4dc8-a7c5-576025ed53ec"
   },
   "outputs": [
    {
     "data": {
      "text/plain": [
       "array([[  3.32,  64.84,  37.15,  32.47,  29.64],\n",
       "       [  4.75,  80.95,  45.42,  39.97,  36.16],\n",
       "       [  4.03, 104.95,  62.3 ,  53.84,  49.89],\n",
       "       [  4.08,  72.72,  41.09,  36.08,  32.74],\n",
       "       [  4.29, 120.33,  71.95,  62.03,  57.66],\n",
       "       [  5.42,  87.89,  48.88,  43.15,  38.88],\n",
       "       [  4.65, 112.9 ,  66.51,  57.62,  53.22],\n",
       "       [  3.69,  80.29,  46.68,  40.61,  37.3 ],\n",
       "       [  5.31,  97.83,  55.57,  48.71,  44.3 ],\n",
       "       [  4.79,  70.58,  38.55,  34.24,  30.6 ]])"
      ]
     },
     "execution_count": 159,
     "metadata": {},
     "output_type": "execute_result"
    }
   ],
   "source": [
    "GM = np.dot(IQST,CF)\n",
    "GM[:10]"
   ]
  },
  {
   "cell_type": "code",
   "execution_count": 105,
   "id": "80592914",
   "metadata": {
    "id": "80592914",
    "outputId": "671ce365-f7c2-4d79-d04c-a9ab5b1e6206"
   },
   "outputs": [
    {
     "data": {
      "text/html": [
       "<div>\n",
       "<style scoped>\n",
       "    .dataframe tbody tr th:only-of-type {\n",
       "        vertical-align: middle;\n",
       "    }\n",
       "\n",
       "    .dataframe tbody tr th {\n",
       "        vertical-align: top;\n",
       "    }\n",
       "\n",
       "    .dataframe thead th {\n",
       "        text-align: right;\n",
       "    }\n",
       "</style>\n",
       "<table border=\"1\" class=\"dataframe\">\n",
       "  <thead>\n",
       "    <tr style=\"text-align: right;\">\n",
       "      <th></th>\n",
       "      <th>0</th>\n",
       "      <th>1</th>\n",
       "      <th>2</th>\n",
       "      <th>3</th>\n",
       "      <th>4</th>\n",
       "    </tr>\n",
       "  </thead>\n",
       "  <tbody>\n",
       "    <tr>\n",
       "      <th>0</th>\n",
       "      <td>1.000000</td>\n",
       "      <td>0.768615</td>\n",
       "      <td>0.723923</td>\n",
       "      <td>0.994148</td>\n",
       "      <td>0.840067</td>\n",
       "    </tr>\n",
       "    <tr>\n",
       "      <th>1</th>\n",
       "      <td>0.768615</td>\n",
       "      <td>1.000000</td>\n",
       "      <td>0.997743</td>\n",
       "      <td>0.695013</td>\n",
       "      <td>0.992721</td>\n",
       "    </tr>\n",
       "    <tr>\n",
       "      <th>2</th>\n",
       "      <td>0.723923</td>\n",
       "      <td>0.997743</td>\n",
       "      <td>1.000000</td>\n",
       "      <td>0.645163</td>\n",
       "      <td>0.982392</td>\n",
       "    </tr>\n",
       "    <tr>\n",
       "      <th>3</th>\n",
       "      <td>0.994148</td>\n",
       "      <td>0.695013</td>\n",
       "      <td>0.645163</td>\n",
       "      <td>1.000000</td>\n",
       "      <td>0.776549</td>\n",
       "    </tr>\n",
       "    <tr>\n",
       "      <th>4</th>\n",
       "      <td>0.840067</td>\n",
       "      <td>0.992721</td>\n",
       "      <td>0.982392</td>\n",
       "      <td>0.776549</td>\n",
       "      <td>1.000000</td>\n",
       "    </tr>\n",
       "  </tbody>\n",
       "</table>\n",
       "</div>"
      ],
      "text/plain": [
       "          0         1         2         3         4\n",
       "0  1.000000  0.768615  0.723923  0.994148  0.840067\n",
       "1  0.768615  1.000000  0.997743  0.695013  0.992721\n",
       "2  0.723923  0.997743  1.000000  0.645163  0.982392\n",
       "3  0.994148  0.695013  0.645163  1.000000  0.776549\n",
       "4  0.840067  0.992721  0.982392  0.776549  1.000000"
      ]
     },
     "execution_count": 105,
     "metadata": {},
     "output_type": "execute_result"
    }
   ],
   "source": [
    "pd.DataFrame(GM).corr()"
   ]
  },
  {
   "cell_type": "code",
   "execution_count": 106,
   "id": "e4660e53",
   "metadata": {
    "id": "e4660e53",
    "outputId": "79cece03-4355-47a3-a4ea-5d4734ecb1d5"
   },
   "outputs": [
    {
     "data": {
      "text/plain": [
       "<Axes: >"
      ]
     },
     "execution_count": 106,
     "metadata": {},
     "output_type": "execute_result"
    },
    {
     "data": {
      "image/png": "[encoded data removed]",
      "text/plain": [
       "<Figure size 640x480 with 2 Axes>"
      ]
     },
     "metadata": {},
     "output_type": "display_data"
    }
   ],
   "source": [
    "sns.heatmap(pd.DataFrame(GM).corr())"
   ]
  },
  {
   "cell_type": "markdown",
   "id": "Rev7kiBrpmmm",
   "metadata": {
    "id": "Rev7kiBrpmmm"
   },
   "source": [
    "### Factor Analysis"
   ]
  },
  {
   "cell_type": "code",
   "execution_count": 107,
   "id": "c7K5SG1kpi7X",
   "metadata": {
    "id": "c7K5SG1kpi7X"
   },
   "outputs": [],
   "source": [
    "fa = FactorAnalysis(n_components=2).fit(GM)"
   ]
  },
  {
   "cell_type": "code",
   "execution_count": 108,
   "id": "Zh2d56IOpyVu",
   "metadata": {
    "colab": {
     "base_uri": "https://localhost:8080/"
    },
    "executionInfo": {
     "elapsed": 614,
     "status": "ok",
     "timestamp": 1671551965806,
     "user": {
      "displayName": "Tevfik Aytekin",
      "userId": "03705756795675396046"
     },
     "user_tz": -180
    },
    "id": "Zh2d56IOpyVu",
    "outputId": "4016ae9b-656c-4ea0-97b0-b7e358099074"
   },
   "outputs": [
    {
     "name": "stdout",
     "output_type": "stream",
     "text": [
      "[[ -1.5  -17.53 -18.48  -1.56  -8.05]\n",
      " [  1.29   0.26  -0.97   1.66   1.1 ]]\n",
      "[[ 0.72  1.09]\n",
      " [ 0.1  -0.44]\n",
      " [-0.26 -0.89]\n",
      " [-1.76  0.65]\n",
      " [ 0.37  0.31]\n",
      " [ 0.23 -0.84]\n",
      " [-0.56 -0.03]\n",
      " [ 0.85 -1.67]\n",
      " [ 0.16 -1.19]\n",
      " [-1.57  1.08]]\n"
     ]
    }
   ],
   "source": [
    "L = fa.components_\n",
    "print(L)\n",
    "F = fa.transform(GM)\n",
    "print(F[:10])"
   ]
  },
  {
   "cell_type": "code",
   "execution_count": 109,
   "id": "giaRc19cpi-A",
   "metadata": {
    "colab": {
     "base_uri": "https://localhost:8080/"
    },
    "executionInfo": {
     "elapsed": 279,
     "status": "ok",
     "timestamp": 1671551968409,
     "user": {
      "displayName": "Tevfik Aytekin",
      "userId": "03705756795675396046"
     },
     "user_tz": -180
    },
    "id": "giaRc19cpi-A",
    "outputId": "733c09e6-c814-431f-d252-582e3e264d3f"
   },
   "outputs": [
    {
     "data": {
      "text/plain": [
       "array([[ 15.08,  86.68,  83.83,  17.65,  45.74],\n",
       "       [ 14.02,  97.07,  96.7 ,  16.05,  49.01],\n",
       "       [ 13.99, 103.31, 103.83,  15.88,  51.44],\n",
       "       [ 18.22, 129.98, 130.03,  20.78,  65.2 ],\n",
       "       [ 14.59,  92.54,  90.99,  16.88,  47.67],\n",
       "       [ 13.32,  94.68,  94.67,  15.19,  47.52],\n",
       "       [ 15.53, 108.69, 108.44,  17.76,  54.75],\n",
       "       [ 11.32,  83.6 ,  84.03,  12.84,  41.62],\n",
       "       [ 12.98,  95.84,  96.32,  14.73,  47.72],\n",
       "       [ 18.47, 126.66, 125.99,  21.17,  64.08]])"
      ]
     },
     "execution_count": 109,
     "metadata": {},
     "output_type": "execute_result"
    }
   ],
   "source": [
    "GM_recovered = fa.mean_ + np.dot(F,L)\n",
    "GM_recovered[:10]"
   ]
  },
  {
   "cell_type": "code",
   "execution_count": 110,
   "id": "awiu9TLvLlQq",
   "metadata": {
    "colab": {
     "base_uri": "https://localhost:8080/"
    },
    "executionInfo": {
     "elapsed": 281,
     "status": "ok",
     "timestamp": 1671468211495,
     "user": {
      "displayName": "Tevfik Aytekin",
      "userId": "03705756795675396046"
     },
     "user_tz": -180
    },
    "id": "awiu9TLvLlQq",
    "outputId": "5deebeef-23d8-4e23-b01f-36a727fd1b58"
   },
   "outputs": [
    {
     "data": {
      "text/plain": [
       "array([[ 15.08,  86.68,  83.83,  17.65,  45.74],\n",
       "       [ 14.02,  97.07,  96.7 ,  16.05,  49.01],\n",
       "       [ 13.99, 103.31, 103.83,  15.88,  51.44],\n",
       "       [ 18.22, 129.98, 130.03,  20.78,  65.2 ],\n",
       "       [ 14.59,  92.54,  90.99,  16.88,  47.67],\n",
       "       [ 13.32,  94.68,  94.67,  15.19,  47.52],\n",
       "       [ 15.53, 108.69, 108.44,  17.76,  54.75],\n",
       "       [ 11.32,  83.6 ,  84.03,  12.84,  41.62],\n",
       "       [ 12.98,  95.84,  96.32,  14.73,  47.72],\n",
       "       [ 18.47, 126.66, 125.99,  21.17,  64.08]])"
      ]
     },
     "execution_count": 110,
     "metadata": {},
     "output_type": "execute_result"
    }
   ],
   "source": [
    "GM[:10]"
   ]
  },
  {
   "cell_type": "markdown",
   "id": "Z7liUGH-qbfN",
   "metadata": {
    "id": "Z7liUGH-qbfN"
   },
   "source": [
    "### TruncatedSVD and Nonnegative Matrix Factorization\n",
    "\n",
    "We can also do similar factorizations with TruncatedSVD or NMF."
   ]
  },
  {
   "cell_type": "code",
   "execution_count": 111,
   "id": "ba188432",
   "metadata": {},
   "outputs": [
    {
     "name": "stdout",
     "output_type": "stream",
     "text": [
      "  (1, 1)\t5\n",
      "  (2, 3)\t8\n"
     ]
    }
   ],
   "source": [
    "from scipy.sparse import csr_matrix\n",
    "\n",
    "\n",
    "# Create a dense matrix\n",
    "dense_matrix = np.array([[0, 0, 0, 0],\n",
    "                        [0, 5, 0, 0],\n",
    "                        [0, 0, 0, 8]])\n",
    "\n",
    "# Convert the dense matrix to a sparse matrix\n",
    "sparse_matrix = csr_matrix(dense_matrix)\n",
    "\n",
    "print(sparse_matrix)"
   ]
  },
  {
   "cell_type": "code",
   "execution_count": 112,
   "id": "3a6ff040",
   "metadata": {},
   "outputs": [],
   "source": [
    "from sklearn.decomposition import TruncatedSVD"
   ]
  },
  {
   "cell_type": "code",
   "execution_count": 113,
   "id": "77171dc5",
   "metadata": {},
   "outputs": [
    {
     "name": "stdout",
     "output_type": "stream",
     "text": [
      "[[130.96   4.78]\n",
      " [147.07  -0.53]\n",
      " [156.65  -2.48]\n",
      " [197.01  -1.85]\n",
      " [140.03   2.  ]\n",
      " [143.49  -1.25]\n",
      " [164.7   -0.93]\n",
      " [126.77  -2.01]\n",
      " [145.33  -2.3 ]\n",
      " [191.87  -0.33]]\n",
      "[[ 0.1   0.66  0.66  0.11  0.33]\n",
      " [ 0.49  0.05 -0.43  0.64  0.4 ]]\n"
     ]
    }
   ],
   "source": [
    "tsvd = TruncatedSVD(n_components=2).fit(GM)\n",
    "W = tsvd.transform(GM)\n",
    "H = tsvd.components_\n",
    "print(W[:10])\n",
    "print(H)"
   ]
  },
  {
   "cell_type": "code",
   "execution_count": 114,
   "metadata": {},
   "outputs": [
    {
     "data": {
      "text/plain": [
       "array([[ 15.08,  86.68,  83.83,  17.65,  45.74],\n",
       "       [ 14.02,  97.07,  96.7 ,  16.05,  49.01],\n",
       "       [ 13.99, 103.31, 103.83,  15.88,  51.44],\n",
       "       [ 18.22, 129.98, 130.03,  20.78,  65.2 ],\n",
       "       [ 14.59,  92.54,  90.99,  16.88,  47.67],\n",
       "       [ 13.32,  94.68,  94.67,  15.19,  47.52],\n",
       "       [ 15.53, 108.69, 108.44,  17.76,  54.75],\n",
       "       [ 11.32,  83.6 ,  84.03,  12.84,  41.62],\n",
       "       [ 12.98,  95.84,  96.32,  14.73,  47.72],\n",
       "       [ 18.47, 126.66, 125.99,  21.17,  64.08]])"
      ]
     },
     "execution_count": 114,
     "metadata": {},
     "output_type": "execute_result"
    }
   ],
   "source": [
    "GM_recovered = np.dot(W,H)\n",
    "GM_recovered[:10]"
   ]
  },
  {
   "cell_type": "code",
   "execution_count": 115,
   "metadata": {},
   "outputs": [
    {
     "data": {
      "text/plain": [
       "array([[ 15.08,  86.68,  83.83,  17.65,  45.74],\n",
       "       [ 14.02,  97.07,  96.7 ,  16.05,  49.01],\n",
       "       [ 13.99, 103.31, 103.83,  15.88,  51.44],\n",
       "       [ 18.22, 129.98, 130.03,  20.78,  65.2 ],\n",
       "       [ 14.59,  92.54,  90.99,  16.88,  47.67],\n",
       "       [ 13.32,  94.68,  94.67,  15.19,  47.52],\n",
       "       [ 15.53, 108.69, 108.44,  17.76,  54.75],\n",
       "       [ 11.32,  83.6 ,  84.03,  12.84,  41.62],\n",
       "       [ 12.98,  95.84,  96.32,  14.73,  47.72],\n",
       "       [ 18.47, 126.66, 125.99,  21.17,  64.08]])"
      ]
     },
     "execution_count": 115,
     "metadata": {},
     "output_type": "execute_result"
    }
   ],
   "source": [
    "GM[:10]"
   ]
  },
  {
   "cell_type": "code",
   "execution_count": 116,
   "id": "6vVOrjN8qaeu",
   "metadata": {
    "colab": {
     "base_uri": "https://localhost:8080/"
    },
    "executionInfo": {
     "elapsed": 298,
     "status": "ok",
     "timestamp": 1671551982091,
     "user": {
      "displayName": "Tevfik Aytekin",
      "userId": "03705756795675396046"
     },
     "user_tz": -180
    },
    "id": "6vVOrjN8qaeu",
    "outputId": "95093a50-fb41-42da-d779-65e9bf0cd495"
   },
   "outputs": [
    {
     "name": "stdout",
     "output_type": "stream",
     "text": [
      "[[3.1  0.  ]\n",
      " [2.88 0.31]\n",
      " [2.78 0.48]\n",
      " [3.69 0.5 ]\n",
      " [3.11 0.1 ]\n",
      " [2.7  0.36]\n",
      " [3.18 0.37]\n",
      " [2.25 0.39]\n",
      " [2.58 0.44]\n",
      " [3.81 0.38]]\n",
      "[[ 4.6  27.99 27.33  5.35 14.56]\n",
      " [ 7.42 53.68 53.8   8.45 26.85]]\n"
     ]
    },
    {
     "name": "stderr",
     "output_type": "stream",
     "text": [
      "/Users/tevfikaytekin/anaconda3/envs/sklearn-env/lib/python3.11/site-packages/sklearn/decomposition/_nmf.py:1710: ConvergenceWarning: Maximum number of iterations 200 reached. Increase it to improve convergence.\n",
      "  warnings.warn(\n"
     ]
    }
   ],
   "source": [
    "nmf = NMF(n_components=2).fit(GM)\n",
    "W = nmf.transform(GM)\n",
    "H = nmf.components_\n",
    "print(W[:10])\n",
    "print(H)"
   ]
  },
  {
   "cell_type": "code",
   "execution_count": 117,
   "id": "3r8kASOPpjAs",
   "metadata": {
    "colab": {
     "base_uri": "https://localhost:8080/"
    },
    "executionInfo": {
     "elapsed": 291,
     "status": "ok",
     "timestamp": 1671551986397,
     "user": {
      "displayName": "Tevfik Aytekin",
      "userId": "03705756795675396046"
     },
     "user_tz": -180
    },
    "id": "3r8kASOPpjAs",
    "outputId": "73b4ce66-a22b-4739-ae41-8b01cf44c3a1"
   },
   "outputs": [
    {
     "data": {
      "text/plain": [
       "array([[ 14.25,  86.63,  84.59,  16.57,  45.08],\n",
       "       [ 15.56,  97.24,  95.38,  18.04,  50.27],\n",
       "       [ 16.36, 103.57, 101.79,  18.94,  53.38],\n",
       "       [ 20.72, 130.26, 127.88,  24.01,  67.24],\n",
       "       [ 15.09,  92.6 ,  90.56,  17.53,  48.08],\n",
       "       [ 15.1 ,  94.87,  93.14,  17.5 ,  48.98],\n",
       "       [ 17.39, 108.89, 106.84,  20.15,  56.26],\n",
       "       [ 13.24,  83.82,  82.38,  15.33,  43.19],\n",
       "       [ 15.18,  96.08,  94.43,  17.57,  49.52],\n",
       "       [ 20.34, 126.86, 124.39,  23.59,  65.61]])"
      ]
     },
     "execution_count": 117,
     "metadata": {},
     "output_type": "execute_result"
    }
   ],
   "source": [
    "GM_recovered = np.dot(W,H)\n",
    "GM_recovered[:10]"
   ]
  },
  {
   "cell_type": "code",
   "execution_count": 118,
   "metadata": {},
   "outputs": [
    {
     "data": {
      "text/plain": [
       "array([[ 15.08,  86.68,  83.83,  17.65,  45.74],\n",
       "       [ 14.02,  97.07,  96.7 ,  16.05,  49.01],\n",
       "       [ 13.99, 103.31, 103.83,  15.88,  51.44],\n",
       "       [ 18.22, 129.98, 130.03,  20.78,  65.2 ],\n",
       "       [ 14.59,  92.54,  90.99,  16.88,  47.67],\n",
       "       [ 13.32,  94.68,  94.67,  15.19,  47.52],\n",
       "       [ 15.53, 108.69, 108.44,  17.76,  54.75],\n",
       "       [ 11.32,  83.6 ,  84.03,  12.84,  41.62],\n",
       "       [ 12.98,  95.84,  96.32,  14.73,  47.72],\n",
       "       [ 18.47, 126.66, 125.99,  21.17,  64.08]])"
      ]
     },
     "execution_count": 118,
     "metadata": {},
     "output_type": "execute_result"
    }
   ],
   "source": [
    "GM[:10]"
   ]
  },
  {
   "cell_type": "markdown",
   "id": "FQm8U_liv6K-",
   "metadata": {
    "id": "FQm8U_liv6K-"
   },
   "source": [
    "# Missing Value\n",
    "Suppose that one of the values in the GM matrix is missing. Can we find/recover it? Unfortunately FA and NMF will not work if there are missing values in the dataset."
   ]
  },
  {
   "cell_type": "code",
   "execution_count": 119,
   "id": "taFWYd9QpjDU",
   "metadata": {
    "colab": {
     "base_uri": "https://localhost:8080/"
    },
    "executionInfo": {
     "elapsed": 333,
     "status": "ok",
     "timestamp": 1671552019488,
     "user": {
      "displayName": "Tevfik Aytekin",
      "userId": "03705756795675396046"
     },
     "user_tz": -180
    },
    "id": "taFWYd9QpjDU",
    "outputId": "5725ecba-59fc-4881-bf4b-452f584a561f"
   },
   "outputs": [
    {
     "data": {
      "text/plain": [
       "array([[   nan,  86.68,  83.83,  17.65,  45.74],\n",
       "       [ 14.02,  97.07,  96.7 ,  16.05,  49.01],\n",
       "       [ 13.99, 103.31, 103.83,  15.88,  51.44],\n",
       "       [ 18.22, 129.98, 130.03,  20.78,  65.2 ],\n",
       "       [ 14.59,  92.54,  90.99,  16.88,  47.67],\n",
       "       [ 13.32,  94.68,  94.67,  15.19,  47.52],\n",
       "       [ 15.53, 108.69, 108.44,  17.76,  54.75],\n",
       "       [ 11.32,  83.6 ,  84.03,  12.84,  41.62],\n",
       "       [ 12.98,  95.84,  96.32,  14.73,  47.72],\n",
       "       [ 18.47, 126.66, 125.99,  21.17,  64.08]])"
      ]
     },
     "execution_count": 119,
     "metadata": {},
     "output_type": "execute_result"
    }
   ],
   "source": [
    "GM00 = GM[0,0]\n",
    "GM[0,0] = np.nan\n",
    "GM[:10]"
   ]
  },
  {
   "cell_type": "code",
   "execution_count": 120,
   "id": "S6aan92hpjFr",
   "metadata": {
    "colab": {
     "base_uri": "https://localhost:8080/",
     "height": 346
    },
    "executionInfo": {
     "elapsed": 321,
     "status": "error",
     "timestamp": 1671552023244,
     "user": {
      "displayName": "Tevfik Aytekin",
      "userId": "03705756795675396046"
     },
     "user_tz": -180
    },
    "id": "S6aan92hpjFr",
    "outputId": "efb22504-a6cd-4490-ff0e-c684b0476df1"
   },
   "outputs": [
    {
     "ename": "ValueError",
     "evalue": "Input X contains NaN.\nFactorAnalysis does not accept missing values encoded as NaN natively. For supervised learning, you might want to consider sklearn.ensemble.HistGradientBoostingClassifier and Regressor which accept missing values encoded as NaNs natively. Alternatively, it is possible to preprocess the data, for instance by using an imputer transformer in a pipeline or drop samples with missing values. See https://scikit-learn.org/stable/modules/impute.html You can find a list of all estimators that handle NaN values at the following page: https://scikit-learn.org/stable/modules/impute.html#estimators-that-handle-nan-values",
     "output_type": "error",
     "traceback": [
      "\u001b[0;31m---------------------------------------------------------------------------\u001b[0m",
      "\u001b[0;31mValueError\u001b[0m                                Traceback (most recent call last)",
      "\u001b[1;32m/Users/tevfikaytekin/Documents/data_science/recommender_systems/mf_explained.ipynb Cell 23\u001b[0m line \u001b[0;36m1\n\u001b[0;32m----> <a href='vscode-notebook-cell:/Users/tevfikaytekin/Documents/data_science/recommender_systems/mf_explained.ipynb#X25sZmlsZQ%3D%3D?line=0'>1</a>\u001b[0m fa \u001b[39m=\u001b[39m FactorAnalysis(n_components\u001b[39m=\u001b[39;49m\u001b[39m2\u001b[39;49m)\u001b[39m.\u001b[39;49mfit(GM)\n\u001b[1;32m      <a href='vscode-notebook-cell:/Users/tevfikaytekin/Documents/data_science/recommender_systems/mf_explained.ipynb#X25sZmlsZQ%3D%3D?line=1'>2</a>\u001b[0m \u001b[39m#tsvd = TruncatedSVD(n_components=2).fit(GM)\u001b[39;00m\n\u001b[1;32m      <a href='vscode-notebook-cell:/Users/tevfikaytekin/Documents/data_science/recommender_systems/mf_explained.ipynb#X25sZmlsZQ%3D%3D?line=2'>3</a>\u001b[0m \u001b[39m#nmf = NMF(n_components=2).fit(GM)\u001b[39;00m\n",
      "File \u001b[0;32m~/anaconda3/envs/sklearn-env/lib/python3.11/site-packages/sklearn/base.py:1151\u001b[0m, in \u001b[0;36m_fit_context.<locals>.decorator.<locals>.wrapper\u001b[0;34m(estimator, *args, **kwargs)\u001b[0m\n\u001b[1;32m   1144\u001b[0m     estimator\u001b[39m.\u001b[39m_validate_params()\n\u001b[1;32m   1146\u001b[0m \u001b[39mwith\u001b[39;00m config_context(\n\u001b[1;32m   1147\u001b[0m     skip_parameter_validation\u001b[39m=\u001b[39m(\n\u001b[1;32m   1148\u001b[0m         prefer_skip_nested_validation \u001b[39mor\u001b[39;00m global_skip_validation\n\u001b[1;32m   1149\u001b[0m     )\n\u001b[1;32m   1150\u001b[0m ):\n\u001b[0;32m-> 1151\u001b[0m     \u001b[39mreturn\u001b[39;00m fit_method(estimator, \u001b[39m*\u001b[39;49margs, \u001b[39m*\u001b[39;49m\u001b[39m*\u001b[39;49mkwargs)\n",
      "File \u001b[0;32m~/anaconda3/envs/sklearn-env/lib/python3.11/site-packages/sklearn/decomposition/_factor_analysis.py:222\u001b[0m, in \u001b[0;36mFactorAnalysis.fit\u001b[0;34m(self, X, y)\u001b[0m\n\u001b[1;32m    205\u001b[0m \u001b[39m@_fit_context\u001b[39m(prefer_skip_nested_validation\u001b[39m=\u001b[39m\u001b[39mTrue\u001b[39;00m)\n\u001b[1;32m    206\u001b[0m \u001b[39mdef\u001b[39;00m \u001b[39mfit\u001b[39m(\u001b[39mself\u001b[39m, X, y\u001b[39m=\u001b[39m\u001b[39mNone\u001b[39;00m):\n\u001b[1;32m    207\u001b[0m \u001b[39m    \u001b[39m\u001b[39m\"\"\"Fit the FactorAnalysis model to X using SVD based approach.\u001b[39;00m\n\u001b[1;32m    208\u001b[0m \n\u001b[1;32m    209\u001b[0m \u001b[39m    Parameters\u001b[39;00m\n\u001b[0;32m   (...)\u001b[0m\n\u001b[1;32m    220\u001b[0m \u001b[39m        FactorAnalysis class instance.\u001b[39;00m\n\u001b[1;32m    221\u001b[0m \u001b[39m    \"\"\"\u001b[39;00m\n\u001b[0;32m--> 222\u001b[0m     X \u001b[39m=\u001b[39m \u001b[39mself\u001b[39;49m\u001b[39m.\u001b[39;49m_validate_data(X, copy\u001b[39m=\u001b[39;49m\u001b[39mself\u001b[39;49m\u001b[39m.\u001b[39;49mcopy, dtype\u001b[39m=\u001b[39;49mnp\u001b[39m.\u001b[39;49mfloat64)\n\u001b[1;32m    224\u001b[0m     n_samples, n_features \u001b[39m=\u001b[39m X\u001b[39m.\u001b[39mshape\n\u001b[1;32m    225\u001b[0m     n_components \u001b[39m=\u001b[39m \u001b[39mself\u001b[39m\u001b[39m.\u001b[39mn_components\n",
      "File \u001b[0;32m~/anaconda3/envs/sklearn-env/lib/python3.11/site-packages/sklearn/base.py:604\u001b[0m, in \u001b[0;36mBaseEstimator._validate_data\u001b[0;34m(self, X, y, reset, validate_separately, cast_to_ndarray, **check_params)\u001b[0m\n\u001b[1;32m    602\u001b[0m         out \u001b[39m=\u001b[39m X, y\n\u001b[1;32m    603\u001b[0m \u001b[39melif\u001b[39;00m \u001b[39mnot\u001b[39;00m no_val_X \u001b[39mand\u001b[39;00m no_val_y:\n\u001b[0;32m--> 604\u001b[0m     out \u001b[39m=\u001b[39m check_array(X, input_name\u001b[39m=\u001b[39;49m\u001b[39m\"\u001b[39;49m\u001b[39mX\u001b[39;49m\u001b[39m\"\u001b[39;49m, \u001b[39m*\u001b[39;49m\u001b[39m*\u001b[39;49mcheck_params)\n\u001b[1;32m    605\u001b[0m \u001b[39melif\u001b[39;00m no_val_X \u001b[39mand\u001b[39;00m \u001b[39mnot\u001b[39;00m no_val_y:\n\u001b[1;32m    606\u001b[0m     out \u001b[39m=\u001b[39m _check_y(y, \u001b[39m*\u001b[39m\u001b[39m*\u001b[39mcheck_params)\n",
      "File \u001b[0;32m~/anaconda3/envs/sklearn-env/lib/python3.11/site-packages/sklearn/utils/validation.py:959\u001b[0m, in \u001b[0;36mcheck_array\u001b[0;34m(array, accept_sparse, accept_large_sparse, dtype, order, copy, force_all_finite, ensure_2d, allow_nd, ensure_min_samples, ensure_min_features, estimator, input_name)\u001b[0m\n\u001b[1;32m    953\u001b[0m         \u001b[39mraise\u001b[39;00m \u001b[39mValueError\u001b[39;00m(\n\u001b[1;32m    954\u001b[0m             \u001b[39m\"\u001b[39m\u001b[39mFound array with dim \u001b[39m\u001b[39m%d\u001b[39;00m\u001b[39m. \u001b[39m\u001b[39m%s\u001b[39;00m\u001b[39m expected <= 2.\u001b[39m\u001b[39m\"\u001b[39m\n\u001b[1;32m    955\u001b[0m             \u001b[39m%\u001b[39m (array\u001b[39m.\u001b[39mndim, estimator_name)\n\u001b[1;32m    956\u001b[0m         )\n\u001b[1;32m    958\u001b[0m     \u001b[39mif\u001b[39;00m force_all_finite:\n\u001b[0;32m--> 959\u001b[0m         _assert_all_finite(\n\u001b[1;32m    960\u001b[0m             array,\n\u001b[1;32m    961\u001b[0m             input_name\u001b[39m=\u001b[39;49minput_name,\n\u001b[1;32m    962\u001b[0m             estimator_name\u001b[39m=\u001b[39;49mestimator_name,\n\u001b[1;32m    963\u001b[0m             allow_nan\u001b[39m=\u001b[39;49mforce_all_finite \u001b[39m==\u001b[39;49m \u001b[39m\"\u001b[39;49m\u001b[39mallow-nan\u001b[39;49m\u001b[39m\"\u001b[39;49m,\n\u001b[1;32m    964\u001b[0m         )\n\u001b[1;32m    966\u001b[0m \u001b[39mif\u001b[39;00m ensure_min_samples \u001b[39m>\u001b[39m \u001b[39m0\u001b[39m:\n\u001b[1;32m    967\u001b[0m     n_samples \u001b[39m=\u001b[39m _num_samples(array)\n",
      "File \u001b[0;32m~/anaconda3/envs/sklearn-env/lib/python3.11/site-packages/sklearn/utils/validation.py:124\u001b[0m, in \u001b[0;36m_assert_all_finite\u001b[0;34m(X, allow_nan, msg_dtype, estimator_name, input_name)\u001b[0m\n\u001b[1;32m    121\u001b[0m \u001b[39mif\u001b[39;00m first_pass_isfinite:\n\u001b[1;32m    122\u001b[0m     \u001b[39mreturn\u001b[39;00m\n\u001b[0;32m--> 124\u001b[0m _assert_all_finite_element_wise(\n\u001b[1;32m    125\u001b[0m     X,\n\u001b[1;32m    126\u001b[0m     xp\u001b[39m=\u001b[39;49mxp,\n\u001b[1;32m    127\u001b[0m     allow_nan\u001b[39m=\u001b[39;49mallow_nan,\n\u001b[1;32m    128\u001b[0m     msg_dtype\u001b[39m=\u001b[39;49mmsg_dtype,\n\u001b[1;32m    129\u001b[0m     estimator_name\u001b[39m=\u001b[39;49mestimator_name,\n\u001b[1;32m    130\u001b[0m     input_name\u001b[39m=\u001b[39;49minput_name,\n\u001b[1;32m    131\u001b[0m )\n",
      "File \u001b[0;32m~/anaconda3/envs/sklearn-env/lib/python3.11/site-packages/sklearn/utils/validation.py:173\u001b[0m, in \u001b[0;36m_assert_all_finite_element_wise\u001b[0;34m(X, xp, allow_nan, msg_dtype, estimator_name, input_name)\u001b[0m\n\u001b[1;32m    156\u001b[0m \u001b[39mif\u001b[39;00m estimator_name \u001b[39mand\u001b[39;00m input_name \u001b[39m==\u001b[39m \u001b[39m\"\u001b[39m\u001b[39mX\u001b[39m\u001b[39m\"\u001b[39m \u001b[39mand\u001b[39;00m has_nan_error:\n\u001b[1;32m    157\u001b[0m     \u001b[39m# Improve the error message on how to handle missing values in\u001b[39;00m\n\u001b[1;32m    158\u001b[0m     \u001b[39m# scikit-learn.\u001b[39;00m\n\u001b[1;32m    159\u001b[0m     msg_err \u001b[39m+\u001b[39m\u001b[39m=\u001b[39m (\n\u001b[1;32m    160\u001b[0m         \u001b[39mf\u001b[39m\u001b[39m\"\u001b[39m\u001b[39m\\n\u001b[39;00m\u001b[39m{\u001b[39;00mestimator_name\u001b[39m}\u001b[39;00m\u001b[39m does not accept missing values\u001b[39m\u001b[39m\"\u001b[39m\n\u001b[1;32m    161\u001b[0m         \u001b[39m\"\u001b[39m\u001b[39m encoded as NaN natively. For supervised learning, you might want\u001b[39m\u001b[39m\"\u001b[39m\n\u001b[0;32m   (...)\u001b[0m\n\u001b[1;32m    171\u001b[0m         \u001b[39m\"\u001b[39m\u001b[39m#estimators-that-handle-nan-values\u001b[39m\u001b[39m\"\u001b[39m\n\u001b[1;32m    172\u001b[0m     )\n\u001b[0;32m--> 173\u001b[0m \u001b[39mraise\u001b[39;00m \u001b[39mValueError\u001b[39;00m(msg_err)\n",
      "\u001b[0;31mValueError\u001b[0m: Input X contains NaN.\nFactorAnalysis does not accept missing values encoded as NaN natively. For supervised learning, you might want to consider sklearn.ensemble.HistGradientBoostingClassifier and Regressor which accept missing values encoded as NaNs natively. Alternatively, it is possible to preprocess the data, for instance by using an imputer transformer in a pipeline or drop samples with missing values. See https://scikit-learn.org/stable/modules/impute.html You can find a list of all estimators that handle NaN values at the following page: https://scikit-learn.org/stable/modules/impute.html#estimators-that-handle-nan-values"
     ]
    }
   ],
   "source": [
    "fa = FactorAnalysis(n_components=2).fit(GM)\n",
    "#tsvd = TruncatedSVD(n_components=2).fit(GM)\n",
    "#nmf = NMF(n_components=2).fit(GM)\n",
    "\n"
   ]
  },
  {
   "cell_type": "markdown",
   "id": "KoU4MqH9RHPv",
   "metadata": {
    "id": "KoU4MqH9RHPv"
   },
   "source": [
    "### First Solution\n",
    "\n",
    "One solution might be to set missing values to zero. This might work when there are a few missing values, but if most of the data is missing such as the case in rec. sys. this might not give good results."
   ]
  },
  {
   "cell_type": "code",
   "execution_count": 121,
   "id": "HcaoGpx7OvTA",
   "metadata": {
    "colab": {
     "base_uri": "https://localhost:8080/"
    },
    "executionInfo": {
     "elapsed": 296,
     "status": "ok",
     "timestamp": 1671552086238,
     "user": {
      "displayName": "Tevfik Aytekin",
      "userId": "03705756795675396046"
     },
     "user_tz": -180
    },
    "id": "HcaoGpx7OvTA",
    "outputId": "268d8087-ab36-49f6-e19d-7ad396cbe820"
   },
   "outputs": [
    {
     "data": {
      "text/plain": [
       "array([[ 11.27,  85.37,  86.09,  12.74,  42.28],\n",
       "       [ 14.02,  97.07,  96.7 ,  16.05,  49.01],\n",
       "       [ 13.99, 103.31, 103.83,  15.88,  51.44],\n",
       "       [ 18.22, 129.98, 130.03,  20.78,  65.2 ],\n",
       "       [ 14.59,  92.54,  90.99,  16.88,  47.67],\n",
       "       [ 13.32,  94.68,  94.67,  15.19,  47.52],\n",
       "       [ 15.53, 108.69, 108.44,  17.76,  54.75],\n",
       "       [ 11.32,  83.6 ,  84.03,  12.84,  41.62],\n",
       "       [ 12.98,  95.84,  96.32,  14.73,  47.72],\n",
       "       [ 18.47, 126.66, 125.99,  21.17,  64.08]])"
      ]
     },
     "execution_count": 121,
     "metadata": {},
     "output_type": "execute_result"
    }
   ],
   "source": [
    "GM[0,0] = 0\n",
    "L = fa.components_\n",
    "F = fa.transform(GM)\n",
    "GM_recovered = fa.mean_ + np.dot(F,L)\n",
    "GM_recovered[:10]"
   ]
  },
  {
   "cell_type": "code",
   "execution_count": 122,
   "id": "fDulGAzupjH7",
   "metadata": {
    "colab": {
     "base_uri": "https://localhost:8080/"
    },
    "executionInfo": {
     "elapsed": 3,
     "status": "ok",
     "timestamp": 1671552117246,
     "user": {
      "displayName": "Tevfik Aytekin",
      "userId": "03705756795675396046"
     },
     "user_tz": -180
    },
    "id": "fDulGAzupjH7",
    "outputId": "703b557c-3e63-4505-dd4c-b95c5a05f04f"
   },
   "outputs": [
    {
     "name": "stderr",
     "output_type": "stream",
     "text": [
      "/Users/tevfikaytekin/anaconda3/envs/sklearn-env/lib/python3.11/site-packages/sklearn/decomposition/_nmf.py:1710: ConvergenceWarning: Maximum number of iterations 200 reached. Increase it to improve convergence.\n",
      "  warnings.warn(\n"
     ]
    },
    {
     "data": {
      "text/plain": [
       "array([[ 13.37,  85.62,  84.26,  15.51,  44.04],\n",
       "       [ 15.53,  97.24,  95.38,  18.03,  50.26],\n",
       "       [ 16.32, 103.57, 101.8 ,  18.94,  53.38],\n",
       "       [ 20.68, 130.26, 127.89,  24.  ,  67.23],\n",
       "       [ 15.08,  92.6 ,  90.57,  17.51,  48.06],\n",
       "       [ 15.07,  94.88,  93.14,  17.49,  48.98],\n",
       "       [ 17.35, 108.89, 106.85,  20.14,  56.25],\n",
       "       [ 13.21,  83.82,  82.38,  15.33,  43.19],\n",
       "       [ 15.14,  96.08,  94.43,  17.57,  49.52],\n",
       "       [ 20.31, 126.86, 124.4 ,  23.57,  65.6 ]])"
      ]
     },
     "execution_count": 122,
     "metadata": {},
     "output_type": "execute_result"
    }
   ],
   "source": [
    "nmf = NMF(n_components=2)\n",
    "nmf.fit(GM)\n",
    "W = nmf.transform(GM)\n",
    "H = nmf.components_\n",
    "GM_recovered = np.dot(W,H)\n",
    "GM_recovered[:10]\n"
   ]
  },
  {
   "cell_type": "markdown",
   "id": "KUlnEBOWxWFw",
   "metadata": {
    "id": "KUlnEBOWxWFw"
   },
   "source": [
    "### MF with SGD"
   ]
  },
  {
   "cell_type": "code",
   "execution_count": 132,
   "id": "zin2epNKSn0V",
   "metadata": {
    "id": "zin2epNKSn0V"
   },
   "outputs": [],
   "source": [
    "GM[0,0] = GM00\n"
   ]
  },
  {
   "cell_type": "code",
   "execution_count": 160,
   "id": "9b3470d0",
   "metadata": {
    "colab": {
     "base_uri": "https://localhost:8080/",
     "height": 424
    },
    "executionInfo": {
     "elapsed": 476,
     "status": "ok",
     "timestamp": 1671468604566,
     "user": {
      "displayName": "Tevfik Aytekin",
      "userId": "03705756795675396046"
     },
     "user_tz": -180
    },
    "id": "9b3470d0",
    "outputId": "dec452c2-6aab-4be2-fade-8a0f67088a73"
   },
   "outputs": [
    {
     "data": {
      "text/html": [
       "<div>\n",
       "<style scoped>\n",
       "    .dataframe tbody tr th:only-of-type {\n",
       "        vertical-align: middle;\n",
       "    }\n",
       "\n",
       "    .dataframe tbody tr th {\n",
       "        vertical-align: top;\n",
       "    }\n",
       "\n",
       "    .dataframe thead th {\n",
       "        text-align: right;\n",
       "    }\n",
       "</style>\n",
       "<table border=\"1\" class=\"dataframe\">\n",
       "  <thead>\n",
       "    <tr style=\"text-align: right;\">\n",
       "      <th></th>\n",
       "      <th>StudentID</th>\n",
       "      <th>CourseID</th>\n",
       "      <th>Grade</th>\n",
       "    </tr>\n",
       "  </thead>\n",
       "  <tbody>\n",
       "    <tr>\n",
       "      <th>0</th>\n",
       "      <td>0</td>\n",
       "      <td>0</td>\n",
       "      <td>3.322196</td>\n",
       "    </tr>\n",
       "    <tr>\n",
       "      <th>1</th>\n",
       "      <td>0</td>\n",
       "      <td>1</td>\n",
       "      <td>64.837506</td>\n",
       "    </tr>\n",
       "    <tr>\n",
       "      <th>2</th>\n",
       "      <td>0</td>\n",
       "      <td>2</td>\n",
       "      <td>37.148155</td>\n",
       "    </tr>\n",
       "    <tr>\n",
       "      <th>3</th>\n",
       "      <td>0</td>\n",
       "      <td>3</td>\n",
       "      <td>32.471649</td>\n",
       "    </tr>\n",
       "    <tr>\n",
       "      <th>4</th>\n",
       "      <td>0</td>\n",
       "      <td>4</td>\n",
       "      <td>29.640991</td>\n",
       "    </tr>\n",
       "    <tr>\n",
       "      <th>...</th>\n",
       "      <td>...</td>\n",
       "      <td>...</td>\n",
       "      <td>...</td>\n",
       "    </tr>\n",
       "    <tr>\n",
       "      <th>495</th>\n",
       "      <td>99</td>\n",
       "      <td>0</td>\n",
       "      <td>3.964945</td>\n",
       "    </tr>\n",
       "    <tr>\n",
       "      <th>496</th>\n",
       "      <td>99</td>\n",
       "      <td>1</td>\n",
       "      <td>87.080379</td>\n",
       "    </tr>\n",
       "    <tr>\n",
       "      <th>497</th>\n",
       "      <td>99</td>\n",
       "      <td>2</td>\n",
       "      <td>50.690633</td>\n",
       "    </tr>\n",
       "    <tr>\n",
       "      <th>498</th>\n",
       "      <td>99</td>\n",
       "      <td>3</td>\n",
       "      <td>44.080791</td>\n",
       "    </tr>\n",
       "    <tr>\n",
       "      <th>499</th>\n",
       "      <td>99</td>\n",
       "      <td>4</td>\n",
       "      <td>40.513163</td>\n",
       "    </tr>\n",
       "  </tbody>\n",
       "</table>\n",
       "<p>500 rows × 3 columns</p>\n",
       "</div>"
      ],
      "text/plain": [
       "     StudentID  CourseID      Grade\n",
       "0            0         0   3.322196\n",
       "1            0         1  64.837506\n",
       "2            0         2  37.148155\n",
       "3            0         3  32.471649\n",
       "4            0         4  29.640991\n",
       "..         ...       ...        ...\n",
       "495         99         0   3.964945\n",
       "496         99         1  87.080379\n",
       "497         99         2  50.690633\n",
       "498         99         3  44.080791\n",
       "499         99         4  40.513163\n",
       "\n",
       "[500 rows x 3 columns]"
      ]
     },
     "execution_count": 160,
     "metadata": {},
     "output_type": "execute_result"
    }
   ],
   "source": [
    "x = GM.shape[0]\n",
    "y = GM.shape[1] \n",
    "c1 = []\n",
    "c2 = []\n",
    "c3 = []\n",
    "for i in range(x):\n",
    "    for j in range(y):\n",
    "        c1.append(i)\n",
    "        c2.append(j)\n",
    "        c3.append(GM[i,j])\n",
    "SM = pd.DataFrame({\"StudentID\":c1,\"CourseID\":c2,\"Grade\":c3})\n",
    "SM"
   ]
  },
  {
   "cell_type": "code",
   "execution_count": 161,
   "metadata": {},
   "outputs": [
    {
     "data": {
      "text/html": [
       "<div>\n",
       "<style scoped>\n",
       "    .dataframe tbody tr th:only-of-type {\n",
       "        vertical-align: middle;\n",
       "    }\n",
       "\n",
       "    .dataframe tbody tr th {\n",
       "        vertical-align: top;\n",
       "    }\n",
       "\n",
       "    .dataframe thead th {\n",
       "        text-align: right;\n",
       "    }\n",
       "</style>\n",
       "<table border=\"1\" class=\"dataframe\">\n",
       "  <thead>\n",
       "    <tr style=\"text-align: right;\">\n",
       "      <th></th>\n",
       "      <th>StudentID</th>\n",
       "      <th>CourseID</th>\n",
       "      <th>Grade</th>\n",
       "    </tr>\n",
       "  </thead>\n",
       "  <tbody>\n",
       "    <tr>\n",
       "      <th>1</th>\n",
       "      <td>0</td>\n",
       "      <td>1</td>\n",
       "      <td>64.837506</td>\n",
       "    </tr>\n",
       "    <tr>\n",
       "      <th>2</th>\n",
       "      <td>0</td>\n",
       "      <td>2</td>\n",
       "      <td>37.148155</td>\n",
       "    </tr>\n",
       "    <tr>\n",
       "      <th>3</th>\n",
       "      <td>0</td>\n",
       "      <td>3</td>\n",
       "      <td>32.471649</td>\n",
       "    </tr>\n",
       "    <tr>\n",
       "      <th>4</th>\n",
       "      <td>0</td>\n",
       "      <td>4</td>\n",
       "      <td>29.640991</td>\n",
       "    </tr>\n",
       "    <tr>\n",
       "      <th>5</th>\n",
       "      <td>1</td>\n",
       "      <td>0</td>\n",
       "      <td>4.746402</td>\n",
       "    </tr>\n",
       "    <tr>\n",
       "      <th>...</th>\n",
       "      <td>...</td>\n",
       "      <td>...</td>\n",
       "      <td>...</td>\n",
       "    </tr>\n",
       "    <tr>\n",
       "      <th>495</th>\n",
       "      <td>99</td>\n",
       "      <td>0</td>\n",
       "      <td>3.964945</td>\n",
       "    </tr>\n",
       "    <tr>\n",
       "      <th>496</th>\n",
       "      <td>99</td>\n",
       "      <td>1</td>\n",
       "      <td>87.080379</td>\n",
       "    </tr>\n",
       "    <tr>\n",
       "      <th>497</th>\n",
       "      <td>99</td>\n",
       "      <td>2</td>\n",
       "      <td>50.690633</td>\n",
       "    </tr>\n",
       "    <tr>\n",
       "      <th>498</th>\n",
       "      <td>99</td>\n",
       "      <td>3</td>\n",
       "      <td>44.080791</td>\n",
       "    </tr>\n",
       "    <tr>\n",
       "      <th>499</th>\n",
       "      <td>99</td>\n",
       "      <td>4</td>\n",
       "      <td>40.513163</td>\n",
       "    </tr>\n",
       "  </tbody>\n",
       "</table>\n",
       "<p>499 rows × 3 columns</p>\n",
       "</div>"
      ],
      "text/plain": [
       "     StudentID  CourseID      Grade\n",
       "1            0         1  64.837506\n",
       "2            0         2  37.148155\n",
       "3            0         3  32.471649\n",
       "4            0         4  29.640991\n",
       "5            1         0   4.746402\n",
       "..         ...       ...        ...\n",
       "495         99         0   3.964945\n",
       "496         99         1  87.080379\n",
       "497         99         2  50.690633\n",
       "498         99         3  44.080791\n",
       "499         99         4  40.513163\n",
       "\n",
       "[499 rows x 3 columns]"
      ]
     },
     "execution_count": 161,
     "metadata": {},
     "output_type": "execute_result"
    }
   ],
   "source": [
    "SM = SM.iloc[1:,:]\n",
    "SM"
   ]
  },
  {
   "cell_type": "code",
   "execution_count": 135,
   "id": "8df95263",
   "metadata": {
    "id": "8df95263"
   },
   "outputs": [],
   "source": [
    "class MF:\n",
    "    \"\"\"\n",
    "    prefs: matrix of prefences, column0=userid, column1=itemid, column2=pref, column3=timestamp \n",
    "    \"\"\"\n",
    "    def __init__(self, prefs, alpha=0.03, mylambda=0.1, n_factors = 10, n_iters = 50):\n",
    "        self.alpha = alpha\n",
    "        self.mylambda = mylambda\n",
    "        self.n_iters = n_iters\n",
    "        self.item_factors = {}\n",
    "        self.user_factors = {}\n",
    "        self.prefs = prefs\n",
    "        # prefs is a matrix containing u, i, r values in each row. This is useful to shuffle and pass over\n",
    "        # the data multiple times in an efficient way in the fit() method.\n",
    "        for r in range(self.prefs.shape[0]):\n",
    "            self.user_factors[self.prefs.iloc[r,0]] = np.random.rand(n_factors,1) - 0.5\n",
    "            self.item_factors[self.prefs.iloc[r,1]] = np.random.rand(n_factors,1) - 0.5\n",
    "        print(\"Finished initialization\")\n",
    "        \n",
    "     \n",
    "    def calc_error(self, X):\n",
    "        error = 0\n",
    "        for i in range(X.shape[0]):\n",
    "            u_idx = X.iloc[i,0]\n",
    "            i_idx = X.iloc[i,1]\n",
    "            error += np.abs(X.iloc[i,2] - np.dot(self.user_factors[u_idx].T, self.item_factors[i_idx])[0,0])\n",
    "        return error/X.shape[0]\n",
    "\n",
    "        #print(\"Random Predictor Error:\",error/self.prefs.shape[0])\n",
    "        \n",
    "    def fit(self, verbose=False, method=\"SGD\"):\n",
    "        if (method == \"Random\"):\n",
    "            error = 0\n",
    "            for i in range(self.prefs.shape[0]):\n",
    "                u_idx = self.prefs.iloc[i,0]\n",
    "                i_idx = self.prefs.iloc[i,1]\n",
    "                error += np.abs(self.prefs.iloc[i,2] - np.random.randint(1,6))\n",
    "            return error/self.prefs.shape[0]\n",
    "            \n",
    "        elif (method == \"SGD\"):\n",
    "            if (verbose): \n",
    "                print(\"Initial error: \", self.calc_error(self.prefs))                      \n",
    "            for t in range(self.n_iters):\n",
    "                self.prefs = shuffle(self.prefs)\n",
    "                for r in range(self.prefs.shape[0]):\n",
    "                    u = self.prefs.iloc[r,0]\n",
    "                    i = self.prefs.iloc[r,1]\n",
    "                    error = self.prefs.iloc[r,2] - np.dot(self.user_factors[u].T, self.item_factors[i])[0,0]\n",
    "                    self.user_factors[u] = self.user_factors[u] + self.alpha*(error*self.item_factors[i] - self.mylambda*self.user_factors[u])\n",
    "                    self.item_factors[i] = self.item_factors[i] + self.alpha*(error*self.user_factors[u] - self.mylambda*self.item_factors[i])  \n",
    "            \n",
    "                if (verbose): \n",
    "                    print(\"Iteration: \", t)\n",
    "                if (verbose): \n",
    "                    print(\"Train error: \", self.calc_error(self.prefs))                      \n"
   ]
  },
  {
   "cell_type": "code",
   "execution_count": 162,
   "id": "71a12bbd",
   "metadata": {
    "colab": {
     "base_uri": "https://localhost:8080/"
    },
    "executionInfo": {
     "elapsed": 1856,
     "status": "ok",
     "timestamp": 1671472485520,
     "user": {
      "displayName": "Tevfik Aytekin",
      "userId": "03705756795675396046"
     },
     "user_tz": -180
    },
    "id": "71a12bbd",
    "outputId": "c2e93ac5-f31a-48f9-f6f0-eba5987ad1d8"
   },
   "outputs": [
    {
     "name": "stdout",
     "output_type": "stream",
     "text": [
      "Finished initialization\n",
      "Initial error:  45.30426847962915\n",
      "Iteration:  0\n",
      "Train error:  45.300425519818255\n",
      "Iteration:  1\n",
      "Train error:  45.25093688894465\n",
      "Iteration:  2\n",
      "Train error:  44.524451894196126\n",
      "Iteration:  3\n",
      "Train error:  35.556011713233815\n",
      "Iteration:  4\n",
      "Train error:  7.210569893141565\n",
      "Iteration:  5\n",
      "Train error:  1.7037454990877425\n",
      "Iteration:  6\n",
      "Train error:  0.7632006974129658\n",
      "Iteration:  7\n",
      "Train error:  0.6515080531582107\n",
      "Iteration:  8\n",
      "Train error:  0.6190395525195147\n",
      "Iteration:  9\n",
      "Train error:  0.612040445732923\n",
      "Iteration:  10\n",
      "Train error:  0.6160043324594361\n",
      "Iteration:  11\n",
      "Train error:  0.6167477063948874\n",
      "Iteration:  12\n",
      "Train error:  0.6193560044391969\n",
      "Iteration:  13\n",
      "Train error:  0.6151905932100941\n",
      "Iteration:  14\n",
      "Train error:  0.6194105167818923\n",
      "Iteration:  15\n",
      "Train error:  0.6248592955704304\n",
      "Iteration:  16\n",
      "Train error:  0.6126149373634564\n",
      "Iteration:  17\n",
      "Train error:  0.6150359253427591\n",
      "Iteration:  18\n",
      "Train error:  0.6216275594270099\n",
      "Iteration:  19\n",
      "Train error:  0.6193065107110266\n",
      "Iteration:  20\n",
      "Train error:  0.6077218304600265\n",
      "Iteration:  21\n",
      "Train error:  0.614329292994556\n",
      "Iteration:  22\n",
      "Train error:  0.6123579117482628\n",
      "Iteration:  23\n",
      "Train error:  0.6127202457698334\n",
      "Iteration:  24\n",
      "Train error:  0.6138936245032739\n",
      "Iteration:  25\n",
      "Train error:  0.6161748186276669\n",
      "Iteration:  26\n",
      "Train error:  0.6128705663080017\n",
      "Iteration:  27\n",
      "Train error:  0.6083188225643129\n",
      "Iteration:  28\n",
      "Train error:  0.6315066772136988\n",
      "Iteration:  29\n",
      "Train error:  0.603578274118254\n",
      "Iteration:  30\n",
      "Train error:  0.6294743840999106\n",
      "Iteration:  31\n",
      "Train error:  0.6150239911137443\n",
      "Iteration:  32\n",
      "Train error:  0.6109445578323568\n",
      "Iteration:  33\n",
      "Train error:  0.6227241758034966\n",
      "Iteration:  34\n",
      "Train error:  0.616242481407236\n",
      "Iteration:  35\n",
      "Train error:  0.6102310390708986\n",
      "Iteration:  36\n",
      "Train error:  0.6240074085483074\n",
      "Iteration:  37\n",
      "Train error:  0.6141544348073552\n",
      "Iteration:  38\n",
      "Train error:  0.6040191135582763\n",
      "Iteration:  39\n",
      "Train error:  0.6136610686758215\n",
      "Iteration:  40\n",
      "Train error:  0.6076071318623963\n",
      "Iteration:  41\n",
      "Train error:  0.6188831276871287\n",
      "Iteration:  42\n",
      "Train error:  0.6255166661971178\n",
      "Iteration:  43\n",
      "Train error:  0.6092545296817455\n",
      "Iteration:  44\n",
      "Train error:  0.6219537879670652\n",
      "Iteration:  45\n",
      "Train error:  0.6169143104217086\n",
      "Iteration:  46\n",
      "Train error:  0.6026453954132595\n",
      "Iteration:  47\n",
      "Train error:  0.6123828660768117\n",
      "Iteration:  48\n",
      "Train error:  0.6157580088046081\n",
      "Iteration:  49\n",
      "Train error:  0.607819454869448\n"
     ]
    }
   ],
   "source": [
    "mf = MF(SM, alpha=0.001, n_factors = 2, n_iters=50)\n",
    "mf.fit(verbose=True, method=\"SGD\")"
   ]
  },
  {
   "cell_type": "code",
   "execution_count": 163,
   "id": "DOpeOJf1ybyi",
   "metadata": {
    "colab": {
     "base_uri": "https://localhost:8080/",
     "height": 424
    },
    "executionInfo": {
     "elapsed": 430,
     "status": "ok",
     "timestamp": 1671469035896,
     "user": {
      "displayName": "Tevfik Aytekin",
      "userId": "03705756795675396046"
     },
     "user_tz": -180
    },
    "id": "DOpeOJf1ybyi",
    "outputId": "019c6a3e-6f7d-4233-9651-205a623b8a12"
   },
   "outputs": [
    {
     "data": {
      "text/html": [
       "<div>\n",
       "<style scoped>\n",
       "    .dataframe tbody tr th:only-of-type {\n",
       "        vertical-align: middle;\n",
       "    }\n",
       "\n",
       "    .dataframe tbody tr th {\n",
       "        vertical-align: top;\n",
       "    }\n",
       "\n",
       "    .dataframe thead th {\n",
       "        text-align: right;\n",
       "    }\n",
       "</style>\n",
       "<table border=\"1\" class=\"dataframe\">\n",
       "  <thead>\n",
       "    <tr style=\"text-align: right;\">\n",
       "      <th></th>\n",
       "      <th>0</th>\n",
       "      <th>1</th>\n",
       "    </tr>\n",
       "  </thead>\n",
       "  <tbody>\n",
       "    <tr>\n",
       "      <th>0</th>\n",
       "      <td>2.690306</td>\n",
       "      <td>1.105234</td>\n",
       "    </tr>\n",
       "    <tr>\n",
       "      <th>0</th>\n",
       "      <td>3.401613</td>\n",
       "      <td>1.180867</td>\n",
       "    </tr>\n",
       "    <tr>\n",
       "      <th>0</th>\n",
       "      <td>4.398141</td>\n",
       "      <td>1.821422</td>\n",
       "    </tr>\n",
       "    <tr>\n",
       "      <th>0</th>\n",
       "      <td>3.168354</td>\n",
       "      <td>0.796883</td>\n",
       "    </tr>\n",
       "    <tr>\n",
       "      <th>0</th>\n",
       "      <td>5.123247</td>\n",
       "      <td>1.878710</td>\n",
       "    </tr>\n",
       "    <tr>\n",
       "      <th>...</th>\n",
       "      <td>...</td>\n",
       "      <td>...</td>\n",
       "    </tr>\n",
       "    <tr>\n",
       "      <th>0</th>\n",
       "      <td>3.453876</td>\n",
       "      <td>0.877622</td>\n",
       "    </tr>\n",
       "    <tr>\n",
       "      <th>0</th>\n",
       "      <td>4.944595</td>\n",
       "      <td>1.957179</td>\n",
       "    </tr>\n",
       "    <tr>\n",
       "      <th>0</th>\n",
       "      <td>4.375463</td>\n",
       "      <td>1.380185</td>\n",
       "    </tr>\n",
       "    <tr>\n",
       "      <th>0</th>\n",
       "      <td>4.491752</td>\n",
       "      <td>1.411832</td>\n",
       "    </tr>\n",
       "    <tr>\n",
       "      <th>0</th>\n",
       "      <td>3.737465</td>\n",
       "      <td>1.243937</td>\n",
       "    </tr>\n",
       "  </tbody>\n",
       "</table>\n",
       "<p>100 rows × 2 columns</p>\n",
       "</div>"
      ],
      "text/plain": [
       "           0         1\n",
       "0   2.690306  1.105234\n",
       "0   3.401613  1.180867\n",
       "0   4.398141  1.821422\n",
       "0   3.168354  0.796883\n",
       "0   5.123247  1.878710\n",
       "..       ...       ...\n",
       "0   3.453876  0.877622\n",
       "0   4.944595  1.957179\n",
       "0   4.375463  1.380185\n",
       "0   4.491752  1.411832\n",
       "0   3.737465  1.243937\n",
       "\n",
       "[100 rows x 2 columns]"
      ]
     },
     "execution_count": 163,
     "metadata": {},
     "output_type": "execute_result"
    }
   ],
   "source": [
    "U = pd.DataFrame()\n",
    "for i in range(n):\n",
    "  U = pd.concat([U,pd.DataFrame(mf.user_factors[i].T)])\n",
    "U"
   ]
  },
  {
   "cell_type": "code",
   "execution_count": 164,
   "id": "RTCYj8Kvy9pS",
   "metadata": {
    "colab": {
     "base_uri": "https://localhost:8080/",
     "height": 206
    },
    "executionInfo": {
     "elapsed": 6,
     "status": "ok",
     "timestamp": 1671469037578,
     "user": {
      "displayName": "Tevfik Aytekin",
      "userId": "03705756795675396046"
     },
     "user_tz": -180
    },
    "id": "RTCYj8Kvy9pS",
    "outputId": "a7f4cf87-e050-49a6-91db-b32750eb255c"
   },
   "outputs": [
    {
     "data": {
      "text/html": [
       "<div>\n",
       "<style scoped>\n",
       "    .dataframe tbody tr th:only-of-type {\n",
       "        vertical-align: middle;\n",
       "    }\n",
       "\n",
       "    .dataframe tbody tr th {\n",
       "        vertical-align: top;\n",
       "    }\n",
       "\n",
       "    .dataframe thead th {\n",
       "        text-align: right;\n",
       "    }\n",
       "</style>\n",
       "<table border=\"1\" class=\"dataframe\">\n",
       "  <thead>\n",
       "    <tr style=\"text-align: right;\">\n",
       "      <th></th>\n",
       "      <th>0</th>\n",
       "      <th>1</th>\n",
       "    </tr>\n",
       "  </thead>\n",
       "  <tbody>\n",
       "    <tr>\n",
       "      <th>0</th>\n",
       "      <td>1.097536</td>\n",
       "      <td>0.410712</td>\n",
       "    </tr>\n",
       "    <tr>\n",
       "      <th>0</th>\n",
       "      <td>20.787912</td>\n",
       "      <td>7.939462</td>\n",
       "    </tr>\n",
       "    <tr>\n",
       "      <th>0</th>\n",
       "      <td>11.831068</td>\n",
       "      <td>4.552522</td>\n",
       "    </tr>\n",
       "    <tr>\n",
       "      <th>0</th>\n",
       "      <td>10.433483</td>\n",
       "      <td>3.811076</td>\n",
       "    </tr>\n",
       "    <tr>\n",
       "      <th>0</th>\n",
       "      <td>9.485821</td>\n",
       "      <td>3.513032</td>\n",
       "    </tr>\n",
       "  </tbody>\n",
       "</table>\n",
       "</div>"
      ],
      "text/plain": [
       "           0         1\n",
       "0   1.097536  0.410712\n",
       "0  20.787912  7.939462\n",
       "0  11.831068  4.552522\n",
       "0  10.433483  3.811076\n",
       "0   9.485821  3.513032"
      ]
     },
     "execution_count": 164,
     "metadata": {},
     "output_type": "execute_result"
    }
   ],
   "source": [
    "I = pd.DataFrame()\n",
    "for i in range(k):\n",
    "  I = pd.concat([I,pd.DataFrame(mf.item_factors[i].T)])\n",
    "I"
   ]
  },
  {
   "cell_type": "code",
   "execution_count": 165,
   "id": "s34_8FwfzwB1",
   "metadata": {
    "colab": {
     "base_uri": "https://localhost:8080/"
    },
    "executionInfo": {
     "elapsed": 2,
     "status": "ok",
     "timestamp": 1671469039344,
     "user": {
      "displayName": "Tevfik Aytekin",
      "userId": "03705756795675396046"
     },
     "user_tz": -180
    },
    "id": "s34_8FwfzwB1",
    "outputId": "3c8626b1-cd1f-4f09-88b2-474182ea323a"
   },
   "outputs": [
    {
     "data": {
      "text/plain": [
       "array([[  3.41,  64.7 ,  36.86,  32.28,  29.4 ],\n",
       "       [  4.22,  80.09,  45.62,  39.99,  36.42],\n",
       "       [  5.58, 105.89,  60.33,  52.83,  48.12],\n",
       "       [  3.8 ,  72.19,  41.11,  36.09,  32.85],\n",
       "       [  6.39, 121.42,  69.17,  60.61,  55.2 ],\n",
       "       [  4.58,  87.  ,  49.55,  43.48,  39.59],\n",
       "       [  5.99, 113.79,  64.82,  56.81,  51.73],\n",
       "       [  4.25,  80.65,  45.95,  40.23,  36.65],\n",
       "       [  5.13,  97.47,  55.53,  48.62,  44.29],\n",
       "       [  3.65,  69.38,  39.54,  34.54,  31.48]])"
      ]
     },
     "execution_count": 165,
     "metadata": {},
     "output_type": "execute_result"
    }
   ],
   "source": [
    "GM_recovered = np.dot(U,I.T)[:10]\n",
    "GM_recovered"
   ]
  },
  {
   "cell_type": "code",
   "execution_count": 166,
   "id": "fsJ-1uXDzw4C",
   "metadata": {
    "colab": {
     "base_uri": "https://localhost:8080/"
    },
    "executionInfo": {
     "elapsed": 382,
     "status": "ok",
     "timestamp": 1671469040987,
     "user": {
      "displayName": "Tevfik Aytekin",
      "userId": "03705756795675396046"
     },
     "user_tz": -180
    },
    "id": "fsJ-1uXDzw4C",
    "outputId": "c174e570-5611-4e8b-8036-d69d34b33fa2"
   },
   "outputs": [
    {
     "data": {
      "text/plain": [
       "array([[  3.32,  64.84,  37.15,  32.47,  29.64],\n",
       "       [  4.75,  80.95,  45.42,  39.97,  36.16],\n",
       "       [  4.03, 104.95,  62.3 ,  53.84,  49.89],\n",
       "       [  4.08,  72.72,  41.09,  36.08,  32.74],\n",
       "       [  4.29, 120.33,  71.95,  62.03,  57.66],\n",
       "       [  5.42,  87.89,  48.88,  43.15,  38.88],\n",
       "       [  4.65, 112.9 ,  66.51,  57.62,  53.22],\n",
       "       [  3.69,  80.29,  46.68,  40.61,  37.3 ],\n",
       "       [  5.31,  97.83,  55.57,  48.71,  44.3 ],\n",
       "       [  4.79,  70.58,  38.55,  34.24,  30.6 ]])"
      ]
     },
     "execution_count": 166,
     "metadata": {},
     "output_type": "execute_result"
    }
   ],
   "source": [
    "GM[:10]"
   ]
  },
  {
   "cell_type": "code",
   "execution_count": null,
   "id": "QoQzKanJcCMo",
   "metadata": {
    "id": "QoQzKanJcCMo"
   },
   "outputs": [],
   "source": []
  }
 ],
 "metadata": {
  "colab": {
   "provenance": []
  },
  "kernelspec": {
   "display_name": "Python 3 (ipykernel)",
   "language": "python",
   "name": "python3"
  },
  "language_info": {
   "codemirror_mode": {
    "name": "ipython",
    "version": 3
   },
   "file_extension": ".py",
   "mimetype": "text/x-python",
   "name": "python",
   "nbconvert_exporter": "python",
   "pygments_lexer": "ipython3",
   "version": "3.11.5"
  }
 },
 "nbformat": 4,
 "nbformat_minor": 5
}
