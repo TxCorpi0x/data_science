{
 "cells": [
  {
   "cell_type": "code",
   "execution_count": 1,
   "metadata": {},
   "outputs": [],
   "source": [
    "import torch\n",
    "import torch.nn as nn\n",
    "import torch.optim as optim\n",
    "from torch.utils.data import Dataset, DataLoader\n",
    "from sklearn.model_selection import train_test_split\n",
    "import pandas as pd\n",
    "import numpy as np"
   ]
  },
  {
   "cell_type": "code",
   "execution_count": 2,
   "metadata": {},
   "outputs": [
    {
     "data": {
      "text/html": [
       "<div>\n",
       "<style scoped>\n",
       "    .dataframe tbody tr th:only-of-type {\n",
       "        vertical-align: middle;\n",
       "    }\n",
       "\n",
       "    .dataframe tbody tr th {\n",
       "        vertical-align: top;\n",
       "    }\n",
       "\n",
       "    .dataframe thead th {\n",
       "        text-align: right;\n",
       "    }\n",
       "</style>\n",
       "<table border=\"1\" class=\"dataframe\">\n",
       "  <thead>\n",
       "    <tr style=\"text-align: right;\">\n",
       "      <th></th>\n",
       "      <th>userId</th>\n",
       "      <th>movieId</th>\n",
       "      <th>rating</th>\n",
       "      <th>timestamp</th>\n",
       "    </tr>\n",
       "  </thead>\n",
       "  <tbody>\n",
       "    <tr>\n",
       "      <th>0</th>\n",
       "      <td>1</td>\n",
       "      <td>1</td>\n",
       "      <td>4.0</td>\n",
       "      <td>964982703</td>\n",
       "    </tr>\n",
       "    <tr>\n",
       "      <th>1</th>\n",
       "      <td>1</td>\n",
       "      <td>3</td>\n",
       "      <td>4.0</td>\n",
       "      <td>964981247</td>\n",
       "    </tr>\n",
       "    <tr>\n",
       "      <th>2</th>\n",
       "      <td>1</td>\n",
       "      <td>6</td>\n",
       "      <td>4.0</td>\n",
       "      <td>964982224</td>\n",
       "    </tr>\n",
       "    <tr>\n",
       "      <th>3</th>\n",
       "      <td>1</td>\n",
       "      <td>47</td>\n",
       "      <td>5.0</td>\n",
       "      <td>964983815</td>\n",
       "    </tr>\n",
       "    <tr>\n",
       "      <th>4</th>\n",
       "      <td>1</td>\n",
       "      <td>50</td>\n",
       "      <td>5.0</td>\n",
       "      <td>964982931</td>\n",
       "    </tr>\n",
       "  </tbody>\n",
       "</table>\n",
       "</div>"
      ],
      "text/plain": [
       "   userId  movieId  rating  timestamp\n",
       "0       1        1     4.0  964982703\n",
       "1       1        3     4.0  964981247\n",
       "2       1        6     4.0  964982224\n",
       "3       1       47     5.0  964983815\n",
       "4       1       50     5.0  964982931"
      ]
     },
     "execution_count": 2,
     "metadata": {},
     "output_type": "execute_result"
    }
   ],
   "source": [
    "\n",
    "# Load MovieLens Small dataset\n",
    "data = pd.read_csv(\"../../datasets/ml-latest-small/ratings.csv\", sep=\",\")\n",
    "#prefs = pd.read_csv(\"ratings.csv\", sep=\",\")\n",
    "#prefs = pd.read_csv(\"drive/MyDrive/PycharmProjects/datasets/ml-latest-small/ratings.csv\", sep=\",\")\n",
    "\n",
    "data.head()"
   ]
  },
  {
   "cell_type": "code",
   "execution_count": 3,
   "metadata": {},
   "outputs": [],
   "source": [
    "# Map user and movie IDs to unique indices\n",
    "user_ids = data['userId'].unique()\n",
    "movie_ids = data['movieId'].unique()\n",
    "\n",
    "user_mapping = {user_id: idx for idx, user_id in enumerate(user_ids)}\n",
    "movie_mapping = {movie_id: idx for idx, movie_id in enumerate(movie_ids)}\n",
    "\n",
    "data['userId'] = data['userId'].map(user_mapping)\n",
    "data['movieId'] = data['movieId'].map(movie_mapping)"
   ]
  },
  {
   "cell_type": "code",
   "execution_count": 4,
   "metadata": {},
   "outputs": [],
   "source": [
    "class MovieLensDataset(Dataset):\n",
    "    def __init__(self, dataframe):\n",
    "        self.data = dataframe[['userId', 'movieId']].values\n",
    "        self.ratings = dataframe['rating'].values.astype(np.float32)\n",
    "\n",
    "    def __len__(self):\n",
    "        return len(self.data)\n",
    "\n",
    "    def __getitem__(self, idx):\n",
    "        return torch.LongTensor(self.data[idx]), torch.FloatTensor([self.ratings[idx]])\n"
   ]
  },
  {
   "cell_type": "markdown",
   "metadata": {},
   "source": []
  },
  {
   "cell_type": "code",
   "execution_count": 39,
   "metadata": {},
   "outputs": [],
   "source": [
    "# Define the matrix factorization model\n",
    "class MatrixFactorization(nn.Module):\n",
    "    def __init__(self, num_users, num_movies, embedding_size=10):\n",
    "        super(MatrixFactorization, self).__init__()\n",
    "        self.user_embedding = nn.Embedding(num_users, embedding_size)\n",
    "        self.movie_embedding = nn.Embedding(num_movies, embedding_size)\n",
    "\n",
    "    def forward(self, X):\n",
    "        user_embedding = self.user_embedding(X[:,0])\n",
    "        movie_embedding = self.movie_embedding(X[:,1])\n",
    "        #print(\"***********\")\n",
    "        #print(user_embedding)\n",
    "        #print(\"***********\")\n",
    "        #print(movie_embedding)\n",
    "        #print(\"***********\")\n",
    "        prediction = torch.sum(torch.cat((user_embedding, movie_embedding)), dim=1)\n",
    "        prediction = torch.sum(user_embedding + movie_embedding, dim=1)\n",
    "        prediction = torch.sum(user_embedding * movie_embedding, dim=1)\n",
    "        #print(prediction)\n",
    "        #print(\"***********\")\n",
    "\n",
    "        return prediction"
   ]
  },
  {
   "cell_type": "code",
   "execution_count": 36,
   "metadata": {},
   "outputs": [],
   "source": [
    "# Split the data into training and testing sets\n",
    "train_data, test_data = train_test_split(data, test_size=0.1)\n",
    "\n",
    "# Initialize dataset and data loaders\n",
    "train_dataset = MovieLensDataset(train_data)\n",
    "test_dataset = MovieLensDataset(test_data)\n",
    "\n",
    "train_loader = DataLoader(train_dataset, batch_size=64, shuffle=True)\n",
    "test_loader = DataLoader(test_dataset, batch_size=64, shuffle=False)"
   ]
  },
  {
   "cell_type": "code",
   "execution_count": 30,
   "metadata": {},
   "outputs": [
    {
     "data": {
      "text/plain": [
       "tensor([-0.7838,  1.2935])"
      ]
     },
     "execution_count": 30,
     "metadata": {},
     "output_type": "execute_result"
    }
   ],
   "source": [
    "a = torch.Tensor([[-0.4266, -0.4373, -0.4427, -0.7173,  0.1183],\n",
    "        [ 0.5720,  1.3187, -1.5295, -1.7553,  0.9981]])\n",
    "b = torch.Tensor([[-0.1013,  0.8980, -0.3187,  0.5583, -1.4790],\n",
    "        [ 0.1501,  0.8112, -0.4382,  0.5182,  0.3780]])\n",
    "torch.sum(a * b, dim=1)"
   ]
  },
  {
   "cell_type": "code",
   "execution_count": 37,
   "metadata": {},
   "outputs": [
    {
     "name": "stderr",
     "output_type": "stream",
     "text": [
      "/home/tevfik/miniforge3/envs/pytorch/lib/python3.11/site-packages/torch/nn/modules/loss.py:535: UserWarning: Using a target size (torch.Size([64, 1])) that is different to the input size (torch.Size([128])). This will likely lead to incorrect results due to broadcasting. Please ensure they have the same size.\n",
      "  return F.mse_loss(input, target, reduction=self.reduction)\n"
     ]
    },
    {
     "name": "stdout",
     "output_type": "stream",
     "text": [
      "Epoch 1/20, Loss: 6.961808997081601\n",
      "Train MAE: 1.9764682991965115\n",
      "Epoch 2/20, Loss: 3.4000893672363377\n",
      "Train MAE: 1.317171505664847\n",
      "Epoch 3/20, Loss: 2.626991707406024\n",
      "Train MAE: 1.1751197286382677\n",
      "Epoch 4/20, Loss: 2.252529650296075\n",
      "Train MAE: 1.0970759160182215\n",
      "Epoch 5/20, Loss: 2.027180241680952\n",
      "Train MAE: 1.0252675947543413\n",
      "Epoch 6/20, Loss: 1.8730281814617566\n",
      "Train MAE: 1.01046812196695\n",
      "Epoch 7/20, Loss: 1.7597913827395069\n",
      "Train MAE: 0.9989574343653734\n",
      "Epoch 8/20, Loss: 1.6724679549507093\n",
      "Train MAE: 0.923383530015382\n",
      "Epoch 9/20, Loss: 1.60428967197624\n",
      "Train MAE: 0.9512799793594269\n",
      "Epoch 10/20, Loss: 1.5478148763875867\n",
      "Train MAE: 0.9226388404326782\n",
      "Epoch 11/20, Loss: 1.5018978620365746\n",
      "Train MAE: 0.9226502189609749\n",
      "Epoch 12/20, Loss: 1.4619037617833388\n",
      "Train MAE: 0.91149575994905\n",
      "Epoch 13/20, Loss: 1.428564539160816\n",
      "Train MAE: 0.8948324308234789\n",
      "Epoch 14/20, Loss: 1.399082693083498\n",
      "Train MAE: 0.8872047227762024\n",
      "Epoch 15/20, Loss: 1.373966230996405\n",
      "Train MAE: 0.8943056144475101\n",
      "Epoch 16/20, Loss: 1.3509140580430186\n",
      "Train MAE: 0.8862867903032331\n",
      "Epoch 17/20, Loss: 1.3306773243989527\n",
      "Train MAE: 0.8717771738439888\n",
      "Epoch 18/20, Loss: 1.3124752926557457\n",
      "Train MAE: 0.8853112691221956\n",
      "Epoch 19/20, Loss: 1.296868536763198\n",
      "Train MAE: 0.9039073590114016\n",
      "Epoch 20/20, Loss: 1.281794990277593\n",
      "Train MAE: 0.865299996497945\n"
     ]
    }
   ],
   "source": [
    "# Initialize the model and optimizer\n",
    "num_users = len(user_ids)\n",
    "num_movies = len(movie_ids)\n",
    "model = MatrixFactorization(num_users, num_movies, embedding_size=5)\n",
    "criterion = nn.MSELoss()\n",
    "optimizer = optim.SGD(model.parameters(), lr=0.03, momentum=0.9)\n",
    "\n",
    "# Training loop\n",
    "num_epochs = 20\n",
    "\n",
    "for epoch in range(num_epochs):\n",
    "    model.train()\n",
    "    total_loss = 0.0\n",
    "    absolute_errors = []\n",
    "\n",
    "    for batch_idx, (X, y) in enumerate(train_loader):\n",
    "        optimizer.zero_grad()\n",
    "        predictions = model(X).squeeze()\n",
    "        loss = criterion(predictions, y)\n",
    "        loss.backward()\n",
    "        optimizer.step()\n",
    "        total_loss += loss.item()\n",
    "        absolute_errors.extend(torch.abs(predictions - y).tolist()[0])\n",
    "        \n",
    "\n",
    "\n",
    "    print(f\"Epoch {epoch + 1}/{num_epochs}, Loss: {total_loss / len(train_loader)}\")\n",
    "    print(f\"Train MAE: {np.mean(absolute_errors)}\")\n",
    "\n"
   ]
  },
  {
   "cell_type": "code",
   "execution_count": 38,
   "metadata": {},
   "outputs": [
    {
     "name": "stdout",
     "output_type": "stream",
     "text": [
      "Test Loss: 1.561858127388773\n",
      "Test MAE: 0.8138730464099018\n"
     ]
    },
    {
     "name": "stderr",
     "output_type": "stream",
     "text": [
      "/home/tevfik/miniforge3/envs/pytorch/lib/python3.11/site-packages/torch/nn/modules/loss.py:535: UserWarning: Using a target size (torch.Size([36, 1])) that is different to the input size (torch.Size([72])). This will likely lead to incorrect results due to broadcasting. Please ensure they have the same size.\n",
      "  return F.mse_loss(input, target, reduction=self.reduction)\n"
     ]
    }
   ],
   "source": [
    "# Evaluation on the test set\n",
    "model.eval()\n",
    "test_loss = 0.0\n",
    "absolute_errors = []\n",
    "with torch.no_grad():\n",
    "    for batch_idx, (X, y) in enumerate(test_loader):\n",
    "        predictions = model(X).squeeze()\n",
    "        loss = criterion(predictions, y)\n",
    "        test_loss += loss.item()\n",
    "        absolute_errors.extend(torch.abs(predictions - y).tolist()[0])\n",
    "\n",
    "print(f\"Test Loss: {test_loss / len(test_loader)}\")\n",
    "print(f\"Test MAE: {np.mean(absolute_errors)}\")"
   ]
  },
  {
   "cell_type": "code",
   "execution_count": null,
   "metadata": {},
   "outputs": [],
   "source": []
  }
 ],
 "metadata": {
  "kernelspec": {
   "display_name": "pytorch",
   "language": "python",
   "name": "python3"
  },
  "language_info": {
   "codemirror_mode": {
    "name": "ipython",
    "version": 3
   },
   "file_extension": ".py",
   "mimetype": "text/x-python",
   "name": "python",
   "nbconvert_exporter": "python",
   "pygments_lexer": "ipython3",
   "version": "3.11.5"
  }
 },
 "nbformat": 4,
 "nbformat_minor": 2
}
