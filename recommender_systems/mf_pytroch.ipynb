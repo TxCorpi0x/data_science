{
 "cells": [
  {
   "cell_type": "code",
   "execution_count": 10,
   "metadata": {},
   "outputs": [],
   "source": [
    "import torch\n",
    "import torch.nn as nn\n",
    "import torch.optim as optim\n",
    "from torch.utils.data import Dataset, DataLoader\n",
    "from sklearn.model_selection import train_test_split\n",
    "import pandas as pd\n",
    "import numpy as np"
   ]
  },
  {
   "cell_type": "code",
   "execution_count": 3,
   "metadata": {},
   "outputs": [
    {
     "data": {
      "text/html": [
       "<div>\n",
       "<style scoped>\n",
       "    .dataframe tbody tr th:only-of-type {\n",
       "        vertical-align: middle;\n",
       "    }\n",
       "\n",
       "    .dataframe tbody tr th {\n",
       "        vertical-align: top;\n",
       "    }\n",
       "\n",
       "    .dataframe thead th {\n",
       "        text-align: right;\n",
       "    }\n",
       "</style>\n",
       "<table border=\"1\" class=\"dataframe\">\n",
       "  <thead>\n",
       "    <tr style=\"text-align: right;\">\n",
       "      <th></th>\n",
       "      <th>userId</th>\n",
       "      <th>movieId</th>\n",
       "      <th>rating</th>\n",
       "      <th>timestamp</th>\n",
       "    </tr>\n",
       "  </thead>\n",
       "  <tbody>\n",
       "    <tr>\n",
       "      <th>0</th>\n",
       "      <td>1</td>\n",
       "      <td>1</td>\n",
       "      <td>4.0</td>\n",
       "      <td>964982703</td>\n",
       "    </tr>\n",
       "    <tr>\n",
       "      <th>1</th>\n",
       "      <td>1</td>\n",
       "      <td>3</td>\n",
       "      <td>4.0</td>\n",
       "      <td>964981247</td>\n",
       "    </tr>\n",
       "    <tr>\n",
       "      <th>2</th>\n",
       "      <td>1</td>\n",
       "      <td>6</td>\n",
       "      <td>4.0</td>\n",
       "      <td>964982224</td>\n",
       "    </tr>\n",
       "    <tr>\n",
       "      <th>3</th>\n",
       "      <td>1</td>\n",
       "      <td>47</td>\n",
       "      <td>5.0</td>\n",
       "      <td>964983815</td>\n",
       "    </tr>\n",
       "    <tr>\n",
       "      <th>4</th>\n",
       "      <td>1</td>\n",
       "      <td>50</td>\n",
       "      <td>5.0</td>\n",
       "      <td>964982931</td>\n",
       "    </tr>\n",
       "  </tbody>\n",
       "</table>\n",
       "</div>"
      ],
      "text/plain": [
       "   userId  movieId  rating  timestamp\n",
       "0       1        1     4.0  964982703\n",
       "1       1        3     4.0  964981247\n",
       "2       1        6     4.0  964982224\n",
       "3       1       47     5.0  964983815\n",
       "4       1       50     5.0  964982931"
      ]
     },
     "execution_count": 3,
     "metadata": {},
     "output_type": "execute_result"
    }
   ],
   "source": [
    "\n",
    "# Load MovieLens Small dataset\n",
    "data = pd.read_csv(\"../../datasets/ml-latest-small/ratings.csv\", sep=\",\")\n",
    "#prefs = pd.read_csv(\"ratings.csv\", sep=\",\")\n",
    "#prefs = pd.read_csv(\"drive/MyDrive/PycharmProjects/datasets/ml-latest-small/ratings.csv\", sep=\",\")\n",
    "\n",
    "data.head()"
   ]
  },
  {
   "cell_type": "code",
   "execution_count": 4,
   "metadata": {},
   "outputs": [],
   "source": [
    "# Map user and movie IDs to unique indices\n",
    "user_ids = data['userId'].unique()\n",
    "movie_ids = data['movieId'].unique()\n",
    "\n",
    "user_mapping = {user_id: idx for idx, user_id in enumerate(user_ids)}\n",
    "movie_mapping = {movie_id: idx for idx, movie_id in enumerate(movie_ids)}\n",
    "\n",
    "data['userId'] = data['userId'].map(user_mapping)\n",
    "data['movieId'] = data['movieId'].map(movie_mapping)"
   ]
  },
  {
   "cell_type": "code",
   "execution_count": 15,
   "metadata": {},
   "outputs": [],
   "source": [
    "\n",
    "\n",
    "class MovieLensDataset(Dataset):\n",
    "    def __init__(self, dataframe):\n",
    "        self.data = dataframe[['userId', 'movieId']].values\n",
    "        self.ratings = dataframe['rating'].values.astype(np.float32)\n",
    "\n",
    "    def __len__(self):\n",
    "        return len(self.data)\n",
    "\n",
    "    def __getitem__(self, idx):\n",
    "        return torch.LongTensor(self.data[idx]), torch.FloatTensor([self.ratings[idx]])\n"
   ]
  },
  {
   "cell_type": "markdown",
   "metadata": {},
   "source": []
  },
  {
   "cell_type": "code",
   "execution_count": 46,
   "metadata": {},
   "outputs": [],
   "source": [
    "# Define the matrix factorization model\n",
    "class MatrixFactorization(nn.Module):\n",
    "    def __init__(self, num_users, num_movies, embedding_size=10):\n",
    "        super(MatrixFactorization, self).__init__()\n",
    "        self.user_embedding = nn.Embedding(num_users, embedding_size)\n",
    "        self.movie_embedding = nn.Embedding(num_movies, embedding_size)\n",
    "\n",
    "    def forward(self, X):\n",
    "        user_embedding = self.user_embedding(X[:,0])\n",
    "        movie_embedding = self.movie_embedding(X[:,1])\n",
    "        prediction = torch.sum(user_embedding * movie_embedding, dim=1)\n",
    "        return prediction"
   ]
  },
  {
   "cell_type": "code",
   "execution_count": 16,
   "metadata": {},
   "outputs": [],
   "source": [
    "# Split the data into training and testing sets\n",
    "train_data, test_data = train_test_split(data, test_size=0.1)\n",
    "\n",
    "# Initialize dataset and data loaders\n",
    "train_dataset = MovieLensDataset(train_data)\n",
    "test_dataset = MovieLensDataset(test_data)\n",
    "\n",
    "train_loader = DataLoader(train_dataset, batch_size=64, shuffle=True)\n",
    "test_loader = DataLoader(test_dataset, batch_size=64, shuffle=False)"
   ]
  },
  {
   "cell_type": "code",
   "execution_count": 84,
   "metadata": {},
   "outputs": [
    {
     "name": "stderr",
     "output_type": "stream",
     "text": [
      "/Users/tevfikaytekin/miniforge3/envs/pytorch/lib/python3.11/site-packages/torch/nn/modules/loss.py:535: UserWarning: Using a target size (torch.Size([64, 1])) that is different to the input size (torch.Size([64])). This will likely lead to incorrect results due to broadcasting. Please ensure they have the same size.\n",
      "  return F.mse_loss(input, target, reduction=self.reduction)\n"
     ]
    },
    {
     "name": "stdout",
     "output_type": "stream",
     "text": [
      "Epoch 1/20, Loss: 14.422742045984954\n",
      "Train MAE: 3.472874481689411\n",
      "Epoch 2/20, Loss: 9.16441351671313\n",
      "Train MAE: 2.60714994117812\n",
      "Epoch 3/20, Loss: 4.838072515172918\n",
      "Train MAE: 1.6483400150613363\n",
      "Epoch 4/20, Loss: 3.368247222328724\n",
      "Train MAE: 1.334041022049652\n",
      "Epoch 5/20, Loss: 2.69239187820674\n",
      "Train MAE: 1.2096932899917519\n",
      "Epoch 6/20, Loss: 2.297594761394479\n",
      "Train MAE: 1.117897429833207\n",
      "Epoch 7/20, Loss: 2.0356852540428445\n",
      "Train MAE: 1.0475897935129785\n",
      "Epoch 8/20, Loss: 1.8510580745082985\n",
      "Train MAE: 1.0017842948991722\n",
      "Epoch 9/20, Loss: 1.712286000653618\n",
      "Train MAE: 0.9832450229019762\n",
      "Epoch 10/20, Loss: 1.6051621564436698\n",
      "Train MAE: 0.9696744242531993\n",
      "Epoch 11/20, Loss: 1.520357853813131\n",
      "Train MAE: 0.9315203795477496\n",
      "Epoch 12/20, Loss: 1.451890031987084\n",
      "Train MAE: 0.9082881939743235\n",
      "Epoch 13/20, Loss: 1.396779225012143\n",
      "Train MAE: 0.9098692313828394\n",
      "Epoch 14/20, Loss: 1.3506638863779425\n",
      "Train MAE: 0.8754684763779267\n",
      "Epoch 15/20, Loss: 1.3106977058566676\n",
      "Train MAE: 0.8845962068901433\n",
      "Epoch 16/20, Loss: 1.278292484570962\n",
      "Train MAE: 0.8829121908513837\n",
      "Epoch 17/20, Loss: 1.2512182853958334\n",
      "Train MAE: 0.8771638841084527\n",
      "Epoch 18/20, Loss: 1.2273873326136127\n",
      "Train MAE: 0.8480365534302514\n",
      "Epoch 19/20, Loss: 1.2078140511667443\n",
      "Train MAE: 0.8542774215784602\n",
      "Epoch 20/20, Loss: 1.1905593743024996\n",
      "Train MAE: 0.8639109042487587\n"
     ]
    }
   ],
   "source": [
    "# Initialize the model and optimizer\n",
    "num_users = len(user_ids)\n",
    "num_movies = len(movie_ids)\n",
    "model = MatrixFactorization(num_users, num_movies, embedding_size=5)\n",
    "criterion = nn.MSELoss()\n",
    "optimizer = optim.SGD(model.parameters(), lr=0.03, momentum=0.9)\n",
    "\n",
    "# Training loop\n",
    "num_epochs = 20\n",
    "\n",
    "for epoch in range(num_epochs):\n",
    "    model.train()\n",
    "    total_loss = 0.0\n",
    "    absolute_errors = []\n",
    "\n",
    "    for batch_idx, (X, y) in enumerate(train_loader):\n",
    "        optimizer.zero_grad()\n",
    "        predictions = model(X).squeeze()\n",
    "        loss = criterion(predictions, y)\n",
    "        loss.backward()\n",
    "        optimizer.step()\n",
    "        total_loss += loss.item()\n",
    "        absolute_errors.extend(torch.abs(predictions - y).tolist()[0])\n",
    "\n",
    "\n",
    "    print(f\"Epoch {epoch + 1}/{num_epochs}, Loss: {total_loss / len(train_loader)}\")\n",
    "    print(f\"Train MAE: {np.mean(absolute_errors)}\")\n",
    "\n"
   ]
  },
  {
   "cell_type": "code",
   "execution_count": 85,
   "metadata": {},
   "outputs": [
    {
     "name": "stdout",
     "output_type": "stream",
     "text": [
      "Test Loss: 1.886280511376224\n",
      "Test MAE: 1.0429305349879678\n"
     ]
    },
    {
     "name": "stderr",
     "output_type": "stream",
     "text": [
      "/Users/tevfikaytekin/miniforge3/envs/pytorch/lib/python3.11/site-packages/torch/nn/modules/loss.py:535: UserWarning: Using a target size (torch.Size([36, 1])) that is different to the input size (torch.Size([36])). This will likely lead to incorrect results due to broadcasting. Please ensure they have the same size.\n",
      "  return F.mse_loss(input, target, reduction=self.reduction)\n"
     ]
    }
   ],
   "source": [
    "# Evaluation on the test set\n",
    "model.eval()\n",
    "test_loss = 0.0\n",
    "absolute_errors = []\n",
    "with torch.no_grad():\n",
    "    for batch_idx, (X, y) in enumerate(test_loader):\n",
    "        predictions = model(X).squeeze()\n",
    "        loss = criterion(predictions, y)\n",
    "        test_loss += loss.item()\n",
    "        absolute_errors.extend(torch.abs(predictions - y).tolist()[0])\n",
    "\n",
    "print(f\"Test Loss: {test_loss / len(test_loader)}\")\n",
    "print(f\"Test MAE: {np.mean(absolute_errors)}\")"
   ]
  },
  {
   "cell_type": "code",
   "execution_count": 93,
   "metadata": {},
   "outputs": [
    {
     "name": "stdout",
     "output_type": "stream",
     "text": [
      "x.grad:  None\n",
      "y.grad:  None\n",
      "z.grad:  None\n"
     ]
    },
    {
     "name": "stderr",
     "output_type": "stream",
     "text": [
      "/var/folders/8v/tw2k9h3n5k5d1stxdsh3q6d00000gn/T/ipykernel_37054/220526028.py:7: UserWarning: The .grad attribute of a Tensor that is not a leaf Tensor is being accessed. Its .grad attribute won't be populated during autograd.backward(). If you indeed want the .grad field to be populated for a non-leaf Tensor, use .retain_grad() on the non-leaf Tensor. If you access the non-leaf Tensor by mistake, make sure you access the leaf Tensor instead. See github.com/pytorch/pytorch/pull/30531 for more informations. (Triggered internally at /Users/runner/work/_temp/anaconda/conda-bld/pytorch_1702400277931/work/build/aten/src/ATen/core/TensorBody.h:494.)\n",
      "  print(\"z.grad: \", z.grad)\n"
     ]
    }
   ],
   "source": [
    "x = torch.tensor([1.0], requires_grad=True)\n",
    "y = torch.tensor([2.0], requires_grad=True)\n",
    "z = 3*x**2+y**3\n",
    "\n",
    "print(\"x.grad: \", x.grad)\n",
    "print(\"y.grad: \", y.grad)\n",
    "print(\"z.grad: \", z.grad)\n",
    "\n"
   ]
  },
  {
   "cell_type": "code",
   "execution_count": 94,
   "metadata": {},
   "outputs": [
    {
     "name": "stdout",
     "output_type": "stream",
     "text": [
      "x.grad:  tensor([6.])\n",
      "y.grad:  tensor([12.])\n",
      "z.grad:  None\n"
     ]
    },
    {
     "name": "stderr",
     "output_type": "stream",
     "text": [
      "/var/folders/8v/tw2k9h3n5k5d1stxdsh3q6d00000gn/T/ipykernel_37054/997972128.py:6: UserWarning: The .grad attribute of a Tensor that is not a leaf Tensor is being accessed. Its .grad attribute won't be populated during autograd.backward(). If you indeed want the .grad field to be populated for a non-leaf Tensor, use .retain_grad() on the non-leaf Tensor. If you access the non-leaf Tensor by mistake, make sure you access the leaf Tensor instead. See github.com/pytorch/pytorch/pull/30531 for more informations. (Triggered internally at /Users/runner/work/_temp/anaconda/conda-bld/pytorch_1702400277931/work/build/aten/src/ATen/core/TensorBody.h:494.)\n",
      "  print(\"z.grad: \", z.grad)\n"
     ]
    }
   ],
   "source": [
    "# calculate the gradient\n",
    "z.backward()\n",
    "\n",
    "print(\"x.grad: \", x.grad)\n",
    "print(\"y.grad: \", y.grad)\n",
    "print(\"z.grad: \", z.grad)"
   ]
  },
  {
   "cell_type": "code",
   "execution_count": 95,
   "metadata": {},
   "outputs": [],
   "source": [
    "a = torch.tensor([1.0])"
   ]
  },
  {
   "cell_type": "code",
   "execution_count": 92,
   "metadata": {},
   "outputs": [
    {
     "data": {
      "text/plain": [
       "tensor([1.])"
      ]
     },
     "execution_count": 92,
     "metadata": {},
     "output_type": "execute_result"
    }
   ],
   "source": [
    "a"
   ]
  },
  {
   "cell_type": "code",
   "execution_count": null,
   "metadata": {},
   "outputs": [],
   "source": []
  }
 ],
 "metadata": {
  "kernelspec": {
   "display_name": "pytorch",
   "language": "python",
   "name": "python3"
  },
  "language_info": {
   "codemirror_mode": {
    "name": "ipython",
    "version": 3
   },
   "file_extension": ".py",
   "mimetype": "text/x-python",
   "name": "python",
   "nbconvert_exporter": "python",
   "pygments_lexer": "ipython3",
   "version": "3.11.7"
  }
 },
 "nbformat": 4,
 "nbformat_minor": 2
}
