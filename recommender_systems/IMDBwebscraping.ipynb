{
 "cells": [
  {
   "cell_type": "code",
   "execution_count": 27,
   "metadata": {},
   "outputs": [],
   "source": [
    "import bs4\n",
    "import requests\n",
    "import time\n",
    "import random as ran\n",
    "import sys\n",
    "import pandas as pd"
   ]
  },
  {
   "cell_type": "code",
   "execution_count": 29,
   "metadata": {},
   "outputs": [],
   "source": [
    "url= \"https://www.imdb.com/title/tt2514902/plotsummary/?ref_=tt_ov_pl\""
   ]
  },
  {
   "cell_type": "code",
   "execution_count": 37,
   "metadata": {},
   "outputs": [],
   "source": [
    "header = {\"User-Agent\": \"Mozilla/5.0 (Windows NT 10.0; Win64; x64) AppleWebKit/537.36 (KHTML, like Gecko) Chrome/81.0.4044.138 Safari/537.36\"}\n",
    "response = requests.get(url, headers=header) .text\n",
    "soup = bs4.BeautifulSoup(response,'html.parser')"
   ]
  },
  {
   "cell_type": "code",
   "execution_count": 40,
   "metadata": {},
   "outputs": [
    {
     "name": "stdout",
     "output_type": "stream",
     "text": [
      "Basil, a screenwriter, wakes up one morning with the hope of finally finding the idea for the script his producers are asking for. The inspiration doesn't come. He then decides to go out for a walk to possibly find... something. For lack of ideas, Basil runs into a man, coming out of a cinema, inviting him to discuss the famous writer's block. From this discussion, it will stand out, first, that Basil likes smoking regardless of his wife's ban, and second, that you have to be completely crazy to want to be an artist. Or the opposite.—ViceVersal Production\n"
     ]
    }
   ],
   "source": [
    "# articleTitle = soup.find(\"div\", class_=\"ipc-html-content-inner-div\").text.replace(\"\\n\",\"\")\n",
    "articleTitle = soup.find('div',{'class':'ipc-html-content-inner-div'}).text.replace(\"\\n\",\"\")\n",
    "print(articleTitle)"
   ]
  },
  {
   "cell_type": "code",
   "execution_count": null,
   "metadata": {},
   "outputs": [],
   "source": []
  }
 ],
 "metadata": {
  "kernelspec": {
   "display_name": "Python 3",
   "language": "python",
   "name": "python3"
  },
  "language_info": {
   "codemirror_mode": {
    "name": "ipython",
    "version": 3
   },
   "file_extension": ".py",
   "mimetype": "text/x-python",
   "name": "python",
   "nbconvert_exporter": "python",
   "pygments_lexer": "ipython3",
   "version": "3.10.12"
  }
 },
 "nbformat": 4,
 "nbformat_minor": 2
}
