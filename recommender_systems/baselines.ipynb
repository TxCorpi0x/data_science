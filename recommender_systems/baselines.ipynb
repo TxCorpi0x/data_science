{
 "cells": [
  {
   "cell_type": "markdown",
   "id": "68de13f3",
   "metadata": {
    "id": "68de13f3"
   },
   "source": [
    "# Baseline Recommender Algorithms\n",
    "\n",
    "Following are simple methods which can be used as baselines for comparing recommation techniques. Recommendation techniques in general should perform better (indeed much better) then these baseline techniques"
   ]
  },
  {
   "cell_type": "code",
   "execution_count": 2,
   "id": "43dfe958",
   "metadata": {
    "id": "43dfe958"
   },
   "outputs": [],
   "source": [
    "import numpy as np\n",
    "import pandas as pd\n",
    "from sklearn.model_selection import train_test_split\n",
    "from sklearn.utils import shuffle\n",
    "from scipy.sparse import csr_matrix\n",
    "import copy"
   ]
  },
  {
   "cell_type": "markdown",
   "id": "b25e5a5b",
   "metadata": {
    "id": "b25e5a5b"
   },
   "source": [
    "### Movielens ml-latest-small dataset"
   ]
  },
  {
   "cell_type": "code",
   "execution_count": 40,
   "id": "c97c59f2",
   "metadata": {
    "id": "c97c59f2",
    "outputId": "956fca9a-5949-42bf-f242-d603f2eca2dc"
   },
   "outputs": [
    {
     "data": {
      "text/html": [
       "<div>\n",
       "<style scoped>\n",
       "    .dataframe tbody tr th:only-of-type {\n",
       "        vertical-align: middle;\n",
       "    }\n",
       "\n",
       "    .dataframe tbody tr th {\n",
       "        vertical-align: top;\n",
       "    }\n",
       "\n",
       "    .dataframe thead th {\n",
       "        text-align: right;\n",
       "    }\n",
       "</style>\n",
       "<table border=\"1\" class=\"dataframe\">\n",
       "  <thead>\n",
       "    <tr style=\"text-align: right;\">\n",
       "      <th></th>\n",
       "      <th>UserID</th>\n",
       "      <th>ItemID</th>\n",
       "      <th>Rating</th>\n",
       "    </tr>\n",
       "  </thead>\n",
       "  <tbody>\n",
       "    <tr>\n",
       "      <th>0</th>\n",
       "      <td>1</td>\n",
       "      <td>1</td>\n",
       "      <td>5.0</td>\n",
       "    </tr>\n",
       "    <tr>\n",
       "      <th>1</th>\n",
       "      <td>2</td>\n",
       "      <td>2</td>\n",
       "      <td>3.5</td>\n",
       "    </tr>\n",
       "    <tr>\n",
       "      <th>2</th>\n",
       "      <td>3</td>\n",
       "      <td>3</td>\n",
       "      <td>0.5</td>\n",
       "    </tr>\n",
       "    <tr>\n",
       "      <th>3</th>\n",
       "      <td>4</td>\n",
       "      <td>4</td>\n",
       "      <td>2.0</td>\n",
       "    </tr>\n",
       "    <tr>\n",
       "      <th>4</th>\n",
       "      <td>5</td>\n",
       "      <td>5</td>\n",
       "      <td>4.5</td>\n",
       "    </tr>\n",
       "  </tbody>\n",
       "</table>\n",
       "</div>"
      ],
      "text/plain": [
       "   UserID  ItemID  Rating\n",
       "0       1       1     5.0\n",
       "1       2       2     3.5\n",
       "2       3       3     0.5\n",
       "3       4       4     2.0\n",
       "4       5       5     4.5"
      ]
     },
     "execution_count": 40,
     "metadata": {},
     "output_type": "execute_result"
    }
   ],
   "source": [
    "ratings = pd.read_csv(\"../../datasets/ml-latest-small/ratings.csv\", sep=\",\")\n",
    "ratings = pd.read_csv(\"/users/tevfikaytekin/Documents/datasets/ml-25m/ratings_reduced.csv\")\n",
    "\n",
    "ratings.head(5)"
   ]
  },
  {
   "cell_type": "code",
   "execution_count": 36,
   "id": "d179bc1e",
   "metadata": {
    "id": "d179bc1e",
    "outputId": "f39bd4b4-7d48-4643-f703-93003c5363f1"
   },
   "outputs": [
    {
     "data": {
      "text/plain": [
       "(1247512, 4)"
      ]
     },
     "execution_count": 36,
     "metadata": {},
     "output_type": "execute_result"
    }
   ],
   "source": [
    "ratings.shape"
   ]
  },
  {
   "cell_type": "code",
   "execution_count": 41,
   "id": "20e74b7c",
   "metadata": {
    "id": "20e74b7c",
    "outputId": "366f0fea-ffa1-4c73-ed3b-421057780c9c"
   },
   "outputs": [
    {
     "name": "stdout",
     "output_type": "stream",
     "text": [
      "Number of users: 35504\n",
      "Number of items: 8707\n",
      "Number of ratings: 1173561\n",
      "Sparsity: 0.003796294005543136\n"
     ]
    }
   ],
   "source": [
    "n_users = ratings.iloc[:,0].unique().size\n",
    "n_items = ratings.iloc[:,1].unique().size\n",
    "n_ratings = ratings.iloc[:,1].size\n",
    "users = ratings.iloc[:,0].unique()\n",
    "items = ratings.iloc[:,1].unique()\n",
    "\n",
    "print(\"Number of users:\",n_users)\n",
    "print(\"Number of items:\",n_items)\n",
    "print(\"Number of ratings:\",n_ratings)\n",
    "print(\"Sparsity:\",n_ratings/(n_users*n_items))"
   ]
  },
  {
   "cell_type": "markdown",
   "id": "e7ad45c1",
   "metadata": {
    "id": "e7ad45c1"
   },
   "source": [
    "# Rating Prediction"
   ]
  },
  {
   "cell_type": "markdown",
   "id": "be569d47",
   "metadata": {
    "id": "be569d47"
   },
   "source": [
    "### Random Prediction\n",
    "\n",
    "Randomly makes a rating prediction in the range 1 to 5."
   ]
  },
  {
   "cell_type": "code",
   "execution_count": 42,
   "id": "e0068c83",
   "metadata": {
    "id": "e0068c83",
    "outputId": "52870fe8-57e9-4ba9-fe0f-6c39890eb22d"
   },
   "outputs": [
    {
     "name": "stdout",
     "output_type": "stream",
     "text": [
      "1.8514982910527973\n"
     ]
    }
   ],
   "source": [
    "error = 0\n",
    "for i in range(n_ratings): \n",
    "    #error += np.abs(ratings.iloc[i,2] - np.random.randint(1,6))\n",
    "    error += (ratings.iloc[i,2] - np.random.randint(1,6))**2\n",
    "print(np.sqrt(error/n_ratings))\n",
    "#print(error/n_ratings)"
   ]
  },
  {
   "cell_type": "markdown",
   "id": "c64c0e13",
   "metadata": {
    "id": "c64c0e13"
   },
   "source": [
    "### Average Prediction\n",
    "\n",
    "Always makes the same prediction which is the average rating of all users. This can be improved as follows: For a given $(u,i)$ pair, make the prediction as the average rating of user $u$ or the average rating of item $i$."
   ]
  },
  {
   "cell_type": "code",
   "execution_count": 44,
   "id": "fc40a971",
   "metadata": {
    "id": "fc40a971",
    "outputId": "e6209f16-8860-4238-8867-a2166f35447f"
   },
   "outputs": [
    {
     "name": "stdout",
     "output_type": "stream",
     "text": [
      "Avg. rating: 3.567128130550538\n",
      "1.0529329784075943\n"
     ]
    }
   ],
   "source": [
    "X_train, X_test = train_test_split(ratings, test_size=0.1)\n",
    "train_size = X_train.shape[0]\n",
    "test_size = X_test.shape[0]\n",
    "\n",
    "avg_rating = X_train.iloc[:,2].mean()\n",
    "print(\"Avg. rating:\",avg_rating)\n",
    "error = 0\n",
    "for i in range(test_size): \n",
    "    #error += np.abs(X_test.iloc[i,2] - avg_rating)\n",
    "    error += (X_test.iloc[i,2] - avg_rating)**2\n",
    "print(np.sqrt(error/test_size))\n",
    "#print(error/test_size)"
   ]
  },
  {
   "cell_type": "markdown",
   "id": "937b8f36",
   "metadata": {
    "id": "937b8f36"
   },
   "source": [
    "- "
   ]
  },
  {
   "cell_type": "code",
   "execution_count": 25,
   "id": "1f220cf6",
   "metadata": {
    "id": "1f220cf6"
   },
   "outputs": [
    {
     "data": {
      "text/plain": [
       "0.7999999999999998"
      ]
     },
     "execution_count": 25,
     "metadata": {},
     "output_type": "execute_result"
    }
   ],
   "source": [
    "np.sqrt((4-3.2)**2)"
   ]
  },
  {
   "cell_type": "code",
   "execution_count": null,
   "id": "be431e6e",
   "metadata": {},
   "outputs": [],
   "source": []
  }
 ],
 "metadata": {
  "colab": {
   "provenance": []
  },
  "kernelspec": {
   "display_name": "Python 3",
   "language": "python",
   "name": "python3"
  },
  "language_info": {
   "codemirror_mode": {
    "name": "ipython",
    "version": 3
   },
   "file_extension": ".py",
   "mimetype": "text/x-python",
   "name": "python",
   "nbconvert_exporter": "python",
   "pygments_lexer": "ipython3",
   "version": "3.7.7"
  }
 },
 "nbformat": 4,
 "nbformat_minor": 5
}
