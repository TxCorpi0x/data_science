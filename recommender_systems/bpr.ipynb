{
 "cells": [
  {
   "cell_type": "markdown",
   "id": "92b08fe0",
   "metadata": {},
   "source": [
    "## Bayesian Personalized Ranking\n",
    "(by Tevfik Aytekin)"
   ]
  },
  {
   "cell_type": "code",
   "execution_count": null,
   "id": "f9a88ff2",
   "metadata": {},
   "outputs": [],
   "source": []
  },
  {
   "cell_type": "code",
   "execution_count": 16,
   "id": "06f3c03b",
   "metadata": {},
   "outputs": [],
   "source": [
    "import numpy as np\n",
    "import pandas as pd\n",
    "from sklearn.model_selection import train_test_split\n",
    "from sklearn.utils import shuffle\n",
    "from scipy.sparse import csr_matrix\n",
    "import copy"
   ]
  },
  {
   "cell_type": "code",
   "execution_count": 17,
   "id": "d25f998f",
   "metadata": {},
   "outputs": [
    {
     "data": {
      "text/html": [
       "<div>\n",
       "<style scoped>\n",
       "    .dataframe tbody tr th:only-of-type {\n",
       "        vertical-align: middle;\n",
       "    }\n",
       "\n",
       "    .dataframe tbody tr th {\n",
       "        vertical-align: top;\n",
       "    }\n",
       "\n",
       "    .dataframe thead th {\n",
       "        text-align: right;\n",
       "    }\n",
       "</style>\n",
       "<table border=\"1\" class=\"dataframe\">\n",
       "  <thead>\n",
       "    <tr style=\"text-align: right;\">\n",
       "      <th></th>\n",
       "      <th>userId</th>\n",
       "      <th>movieId</th>\n",
       "      <th>rating</th>\n",
       "      <th>timestamp</th>\n",
       "    </tr>\n",
       "  </thead>\n",
       "  <tbody>\n",
       "    <tr>\n",
       "      <th>0</th>\n",
       "      <td>1</td>\n",
       "      <td>1</td>\n",
       "      <td>4.0</td>\n",
       "      <td>964982703</td>\n",
       "    </tr>\n",
       "    <tr>\n",
       "      <th>1</th>\n",
       "      <td>1</td>\n",
       "      <td>3</td>\n",
       "      <td>4.0</td>\n",
       "      <td>964981247</td>\n",
       "    </tr>\n",
       "    <tr>\n",
       "      <th>2</th>\n",
       "      <td>1</td>\n",
       "      <td>6</td>\n",
       "      <td>4.0</td>\n",
       "      <td>964982224</td>\n",
       "    </tr>\n",
       "    <tr>\n",
       "      <th>3</th>\n",
       "      <td>1</td>\n",
       "      <td>47</td>\n",
       "      <td>5.0</td>\n",
       "      <td>964983815</td>\n",
       "    </tr>\n",
       "    <tr>\n",
       "      <th>4</th>\n",
       "      <td>1</td>\n",
       "      <td>50</td>\n",
       "      <td>5.0</td>\n",
       "      <td>964982931</td>\n",
       "    </tr>\n",
       "  </tbody>\n",
       "</table>\n",
       "</div>"
      ],
      "text/plain": [
       "   userId  movieId  rating  timestamp\n",
       "0       1        1     4.0  964982703\n",
       "1       1        3     4.0  964981247\n",
       "2       1        6     4.0  964982224\n",
       "3       1       47     5.0  964983815\n",
       "4       1       50     5.0  964982931"
      ]
     },
     "execution_count": 17,
     "metadata": {},
     "output_type": "execute_result"
    }
   ],
   "source": [
    "prefs = pd.read_csv(\"../datasets/ml-latest-small/ratings.csv\", sep=\",\")\n",
    "\n",
    "prefs.head()"
   ]
  },
  {
   "cell_type": "code",
   "execution_count": 18,
   "id": "23498bae",
   "metadata": {},
   "outputs": [
    {
     "name": "stdout",
     "output_type": "stream",
     "text": [
      "Number of users: 610\n",
      "Number of items: 9724\n",
      "Number of preferences: 100836\n",
      "Sparsity: 0.016999683055613623\n"
     ]
    }
   ],
   "source": [
    "n_users = prefs.iloc[:,0].unique().size\n",
    "n_items = prefs.iloc[:,1].unique().size\n",
    "n_prefs = prefs.iloc[:,1].size\n",
    "n_factors = 5\n",
    "users = prefs.iloc[:,0].unique()\n",
    "items = prefs.iloc[:,1].unique()\n",
    "\n",
    "print(\"Number of users:\",n_users)\n",
    "print(\"Number of items:\",n_items)\n",
    "print(\"Number of preferences:\",n_prefs)\n",
    "print(\"Sparsity:\",n_prefs/(n_users*n_items))"
   ]
  },
  {
   "cell_type": "code",
   "execution_count": 19,
   "id": "55ffbd9f",
   "metadata": {},
   "outputs": [],
   "source": [
    "def calc_rank_error(X, u, i_p, i_n):\n",
    " \n",
    "    pos_pred = np.dot(user_factors[u].T, item_factors[i_p])\n",
    "    neg_pred = np.dot(user_factors[u].T, item_factors[i_n])\n",
    "        \n",
    "    return pos_pred - neg_pred"
   ]
  },
  {
   "cell_type": "code",
   "execution_count": 28,
   "id": "a279a950",
   "metadata": {},
   "outputs": [],
   "source": [
    "def calc_error(X, u_factors, i_factors):\n",
    "    error = 0\n",
    "    n_iters = 10\n",
    "    all_items = set(X.iloc[:,1].unique())\n",
    "    for t in range(n_iters):\n",
    "        # sample a user\n",
    "        r = np.random.randint(X.shape[0])\n",
    "        u = X.iloc[r,0]\n",
    "  \n",
    "        #sample a positive item\n",
    "        I_u = X[X.userId==u].iloc[:,1].array\n",
    "        r = np.random.randint(len(I_u))\n",
    "        i_p = I_u[r]\n",
    "\n",
    "        #sample a negative item\n",
    "        diff = all_items.difference(set(I_u))\n",
    "        r = np.random.randint(len(diff))\n",
    "        i_n = items[r]\n",
    "        \n",
    "        error += sigmoid(calc_rank_error(X, u, i_p, i_n))\n",
    "    return error/X.shape[0]"
   ]
  },
  {
   "cell_type": "code",
   "execution_count": 29,
   "id": "ca414c07",
   "metadata": {},
   "outputs": [],
   "source": [
    "def sigmoid(x):\n",
    "    s = 1 / (1 + np.exp(-x))    \n",
    "    return s"
   ]
  },
  {
   "cell_type": "code",
   "execution_count": 30,
   "id": "84082dd6",
   "metadata": {},
   "outputs": [
    {
     "name": "stdout",
     "output_type": "stream",
     "text": [
      "Iteration  0\n",
      "Train error:  [[5.28238138e-05]]\n",
      "Test error:  [[0.0005051]]\n",
      "Iteration  10000\n",
      "Train error:  [[5.50781963e-05]]\n",
      "Test error:  [[0.00051287]]\n",
      "Iteration  20000\n",
      "Train error:  [[5.62486645e-05]]\n",
      "Test error:  [[0.00052305]]\n",
      "Iteration  30000\n",
      "Train error:  [[7.77567962e-05]]\n",
      "Test error:  [[0.00063867]]\n",
      "Iteration  40000\n",
      "Train error:  [[6.86010699e-05]]\n",
      "Test error:  [[0.00068049]]\n",
      "Iteration  50000\n",
      "Train error:  [[6.66986256e-05]]\n",
      "Test error:  [[0.0005711]]\n",
      "Iteration  60000\n",
      "Train error:  [[8.82960471e-05]]\n",
      "Test error:  [[0.00049518]]\n",
      "Iteration  70000\n",
      "Train error:  [[9.34092343e-05]]\n",
      "Test error:  [[0.00065032]]\n",
      "Iteration  80000\n",
      "Train error:  [[8.21442753e-05]]\n",
      "Test error:  [[0.00071805]]\n",
      "Iteration  90000\n",
      "Train error:  [[0.00010439]]\n",
      "Test error:  [[0.00087282]]\n"
     ]
    }
   ],
   "source": [
    "item_factors = {}\n",
    "user_factors = {}\n",
    "for r in range(n_prefs):\n",
    "    user_factors[prefs.iloc[r,0]] = np.random.rand(n_factors,1) - 0.5\n",
    "    item_factors[prefs.iloc[r,1]] = np.random.rand(n_factors,1) - 0.5\n",
    "    \n",
    "X_train, X_test = train_test_split(prefs, test_size=0.1)\n",
    "\n",
    "\n",
    "alpha = 0.5\n",
    "my_lambda = 0.01\n",
    "n_iters = 100000\n",
    "\n",
    "all_items = set(X_train.iloc[:,1].unique())\n",
    "for t in range(n_iters):\n",
    "    # sample a user\n",
    "    r = np.random.randint(X_train.shape[0])\n",
    "    u = X_train.iloc[r,0]\n",
    "\n",
    "    #sample a positive item\n",
    "    I_u = X_train[X_train.userId==u].iloc[:,1].array\n",
    "    r = np.random.randint(len(I_u))\n",
    "    i_p = I_u[r]\n",
    "\n",
    "    #sample a negative item\n",
    "    diff = all_items.difference(set(I_u))\n",
    "    r = np.random.randint(len(diff))\n",
    "    i_n = items[r]\n",
    "\n",
    "\n",
    "    error = sigmoid(calc_rank_error(X_train, u, i_p, i_n))\n",
    "    user_factors[u] = user_factors[u] + alpha*(error*(1-error)*(item_factors[i_p]-item_factors[i_n]) - my_lambda*user_factors[u])\n",
    "    item_factors[i_p] = item_factors[i_p] + alpha*(error*(1-error)*user_factors[u] - my_lambda*item_factors[i_p])  \n",
    "    item_factors[i_n] = item_factors[i_n] + alpha*(-1*error*(1-error)*user_factors[u] - my_lambda*item_factors[i_n])  \n",
    "\n",
    "       \n",
    "    if (t % 10000 == 0):      \n",
    "        print(\"Iteration \", t)\n",
    "        print(\"Train error: \", calc_error(X_train, user_factors, item_factors))\n",
    "        print(\"Test error: \", calc_error(X_test, user_factors, item_factors))\n",
    "    "
   ]
  },
  {
   "cell_type": "code",
   "execution_count": null,
   "id": "cd008f4b",
   "metadata": {},
   "outputs": [],
   "source": []
  }
 ],
 "metadata": {
  "kernelspec": {
   "display_name": "Python 3",
   "language": "python",
   "name": "python3"
  },
  "language_info": {
   "codemirror_mode": {
    "name": "ipython",
    "version": 3
   },
   "file_extension": ".py",
   "mimetype": "text/x-python",
   "name": "python",
   "nbconvert_exporter": "python",
   "pygments_lexer": "ipython3",
   "version": "3.7.7"
  }
 },
 "nbformat": 4,
 "nbformat_minor": 5
}
