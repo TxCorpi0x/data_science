{
 "cells": [
  {
   "cell_type": "markdown",
   "metadata": {
    "id": "8x0Zf0Pn1vPB"
   },
   "source": [
    "# Regression\n",
    "(by Tevfik Aytekin)"
   ]
  },
  {
   "cell_type": "code",
   "execution_count": 62,
   "metadata": {
    "id": "BIftSzVb1vPI"
   },
   "outputs": [],
   "source": [
    "import pandas as pd\n",
    "import matplotlib.pyplot as plt\n",
    "import numpy as np\n",
    "from matplotlib.animation import FuncAnimation\n",
    "from sklearn.metrics import mean_squared_error, mean_absolute_error\n",
    "from sklearn.model_selection import cross_val_score\n",
    "from sklearn import linear_model\n",
    "from sklearn.model_selection import train_test_split\n",
    "%matplotlib inline\n",
    "import math\n",
    "import time\n",
    "from tqdm import tqdm\n",
    "import copy\n",
    "from IPython import display\n",
    "import pylab as pl\n",
    "\n",
    "\n",
    "\n",
    "# IMPORTANT: You need to download the following file to your computer from here:\n",
    "# https://www.kaggle.com/c/house-prices-advanced-regression-techniques/data\n",
    "train = pd.read_csv(\"../datasets/house_prices/train.csv\")\n",
    "#train = pd.read_csv(\"train.csv\")"
   ]
  },
  {
   "cell_type": "code",
   "execution_count": 63,
   "metadata": {},
   "outputs": [
    {
     "data": {
      "text/plain": [
       "(1460, 81)"
      ]
     },
     "execution_count": 63,
     "metadata": {},
     "output_type": "execute_result"
    }
   ],
   "source": [
    "train.shape"
   ]
  },
  {
   "cell_type": "code",
   "execution_count": 64,
   "metadata": {},
   "outputs": [
    {
     "data": {
      "text/html": [
       "<div>\n",
       "<style scoped>\n",
       "    .dataframe tbody tr th:only-of-type {\n",
       "        vertical-align: middle;\n",
       "    }\n",
       "\n",
       "    .dataframe tbody tr th {\n",
       "        vertical-align: top;\n",
       "    }\n",
       "\n",
       "    .dataframe thead th {\n",
       "        text-align: right;\n",
       "    }\n",
       "</style>\n",
       "<table border=\"1\" class=\"dataframe\">\n",
       "  <thead>\n",
       "    <tr style=\"text-align: right;\">\n",
       "      <th></th>\n",
       "      <th>Id</th>\n",
       "      <th>MSSubClass</th>\n",
       "      <th>MSZoning</th>\n",
       "      <th>LotFrontage</th>\n",
       "      <th>LotArea</th>\n",
       "      <th>Street</th>\n",
       "      <th>Alley</th>\n",
       "      <th>LotShape</th>\n",
       "      <th>LandContour</th>\n",
       "      <th>Utilities</th>\n",
       "      <th>...</th>\n",
       "      <th>PoolArea</th>\n",
       "      <th>PoolQC</th>\n",
       "      <th>Fence</th>\n",
       "      <th>MiscFeature</th>\n",
       "      <th>MiscVal</th>\n",
       "      <th>MoSold</th>\n",
       "      <th>YrSold</th>\n",
       "      <th>SaleType</th>\n",
       "      <th>SaleCondition</th>\n",
       "      <th>SalePrice</th>\n",
       "    </tr>\n",
       "  </thead>\n",
       "  <tbody>\n",
       "    <tr>\n",
       "      <th>0</th>\n",
       "      <td>1</td>\n",
       "      <td>60</td>\n",
       "      <td>RL</td>\n",
       "      <td>65.0</td>\n",
       "      <td>8450</td>\n",
       "      <td>Pave</td>\n",
       "      <td>NaN</td>\n",
       "      <td>Reg</td>\n",
       "      <td>Lvl</td>\n",
       "      <td>AllPub</td>\n",
       "      <td>...</td>\n",
       "      <td>0</td>\n",
       "      <td>NaN</td>\n",
       "      <td>NaN</td>\n",
       "      <td>NaN</td>\n",
       "      <td>0</td>\n",
       "      <td>2</td>\n",
       "      <td>2008</td>\n",
       "      <td>WD</td>\n",
       "      <td>Normal</td>\n",
       "      <td>208500</td>\n",
       "    </tr>\n",
       "    <tr>\n",
       "      <th>1</th>\n",
       "      <td>2</td>\n",
       "      <td>20</td>\n",
       "      <td>RL</td>\n",
       "      <td>80.0</td>\n",
       "      <td>9600</td>\n",
       "      <td>Pave</td>\n",
       "      <td>NaN</td>\n",
       "      <td>Reg</td>\n",
       "      <td>Lvl</td>\n",
       "      <td>AllPub</td>\n",
       "      <td>...</td>\n",
       "      <td>0</td>\n",
       "      <td>NaN</td>\n",
       "      <td>NaN</td>\n",
       "      <td>NaN</td>\n",
       "      <td>0</td>\n",
       "      <td>5</td>\n",
       "      <td>2007</td>\n",
       "      <td>WD</td>\n",
       "      <td>Normal</td>\n",
       "      <td>181500</td>\n",
       "    </tr>\n",
       "    <tr>\n",
       "      <th>2</th>\n",
       "      <td>3</td>\n",
       "      <td>60</td>\n",
       "      <td>RL</td>\n",
       "      <td>68.0</td>\n",
       "      <td>11250</td>\n",
       "      <td>Pave</td>\n",
       "      <td>NaN</td>\n",
       "      <td>IR1</td>\n",
       "      <td>Lvl</td>\n",
       "      <td>AllPub</td>\n",
       "      <td>...</td>\n",
       "      <td>0</td>\n",
       "      <td>NaN</td>\n",
       "      <td>NaN</td>\n",
       "      <td>NaN</td>\n",
       "      <td>0</td>\n",
       "      <td>9</td>\n",
       "      <td>2008</td>\n",
       "      <td>WD</td>\n",
       "      <td>Normal</td>\n",
       "      <td>223500</td>\n",
       "    </tr>\n",
       "    <tr>\n",
       "      <th>3</th>\n",
       "      <td>4</td>\n",
       "      <td>70</td>\n",
       "      <td>RL</td>\n",
       "      <td>60.0</td>\n",
       "      <td>9550</td>\n",
       "      <td>Pave</td>\n",
       "      <td>NaN</td>\n",
       "      <td>IR1</td>\n",
       "      <td>Lvl</td>\n",
       "      <td>AllPub</td>\n",
       "      <td>...</td>\n",
       "      <td>0</td>\n",
       "      <td>NaN</td>\n",
       "      <td>NaN</td>\n",
       "      <td>NaN</td>\n",
       "      <td>0</td>\n",
       "      <td>2</td>\n",
       "      <td>2006</td>\n",
       "      <td>WD</td>\n",
       "      <td>Abnorml</td>\n",
       "      <td>140000</td>\n",
       "    </tr>\n",
       "    <tr>\n",
       "      <th>4</th>\n",
       "      <td>5</td>\n",
       "      <td>60</td>\n",
       "      <td>RL</td>\n",
       "      <td>84.0</td>\n",
       "      <td>14260</td>\n",
       "      <td>Pave</td>\n",
       "      <td>NaN</td>\n",
       "      <td>IR1</td>\n",
       "      <td>Lvl</td>\n",
       "      <td>AllPub</td>\n",
       "      <td>...</td>\n",
       "      <td>0</td>\n",
       "      <td>NaN</td>\n",
       "      <td>NaN</td>\n",
       "      <td>NaN</td>\n",
       "      <td>0</td>\n",
       "      <td>12</td>\n",
       "      <td>2008</td>\n",
       "      <td>WD</td>\n",
       "      <td>Normal</td>\n",
       "      <td>250000</td>\n",
       "    </tr>\n",
       "    <tr>\n",
       "      <th>...</th>\n",
       "      <td>...</td>\n",
       "      <td>...</td>\n",
       "      <td>...</td>\n",
       "      <td>...</td>\n",
       "      <td>...</td>\n",
       "      <td>...</td>\n",
       "      <td>...</td>\n",
       "      <td>...</td>\n",
       "      <td>...</td>\n",
       "      <td>...</td>\n",
       "      <td>...</td>\n",
       "      <td>...</td>\n",
       "      <td>...</td>\n",
       "      <td>...</td>\n",
       "      <td>...</td>\n",
       "      <td>...</td>\n",
       "      <td>...</td>\n",
       "      <td>...</td>\n",
       "      <td>...</td>\n",
       "      <td>...</td>\n",
       "      <td>...</td>\n",
       "    </tr>\n",
       "    <tr>\n",
       "      <th>1455</th>\n",
       "      <td>1456</td>\n",
       "      <td>60</td>\n",
       "      <td>RL</td>\n",
       "      <td>62.0</td>\n",
       "      <td>7917</td>\n",
       "      <td>Pave</td>\n",
       "      <td>NaN</td>\n",
       "      <td>Reg</td>\n",
       "      <td>Lvl</td>\n",
       "      <td>AllPub</td>\n",
       "      <td>...</td>\n",
       "      <td>0</td>\n",
       "      <td>NaN</td>\n",
       "      <td>NaN</td>\n",
       "      <td>NaN</td>\n",
       "      <td>0</td>\n",
       "      <td>8</td>\n",
       "      <td>2007</td>\n",
       "      <td>WD</td>\n",
       "      <td>Normal</td>\n",
       "      <td>175000</td>\n",
       "    </tr>\n",
       "    <tr>\n",
       "      <th>1456</th>\n",
       "      <td>1457</td>\n",
       "      <td>20</td>\n",
       "      <td>RL</td>\n",
       "      <td>85.0</td>\n",
       "      <td>13175</td>\n",
       "      <td>Pave</td>\n",
       "      <td>NaN</td>\n",
       "      <td>Reg</td>\n",
       "      <td>Lvl</td>\n",
       "      <td>AllPub</td>\n",
       "      <td>...</td>\n",
       "      <td>0</td>\n",
       "      <td>NaN</td>\n",
       "      <td>MnPrv</td>\n",
       "      <td>NaN</td>\n",
       "      <td>0</td>\n",
       "      <td>2</td>\n",
       "      <td>2010</td>\n",
       "      <td>WD</td>\n",
       "      <td>Normal</td>\n",
       "      <td>210000</td>\n",
       "    </tr>\n",
       "    <tr>\n",
       "      <th>1457</th>\n",
       "      <td>1458</td>\n",
       "      <td>70</td>\n",
       "      <td>RL</td>\n",
       "      <td>66.0</td>\n",
       "      <td>9042</td>\n",
       "      <td>Pave</td>\n",
       "      <td>NaN</td>\n",
       "      <td>Reg</td>\n",
       "      <td>Lvl</td>\n",
       "      <td>AllPub</td>\n",
       "      <td>...</td>\n",
       "      <td>0</td>\n",
       "      <td>NaN</td>\n",
       "      <td>GdPrv</td>\n",
       "      <td>Shed</td>\n",
       "      <td>2500</td>\n",
       "      <td>5</td>\n",
       "      <td>2010</td>\n",
       "      <td>WD</td>\n",
       "      <td>Normal</td>\n",
       "      <td>266500</td>\n",
       "    </tr>\n",
       "    <tr>\n",
       "      <th>1458</th>\n",
       "      <td>1459</td>\n",
       "      <td>20</td>\n",
       "      <td>RL</td>\n",
       "      <td>68.0</td>\n",
       "      <td>9717</td>\n",
       "      <td>Pave</td>\n",
       "      <td>NaN</td>\n",
       "      <td>Reg</td>\n",
       "      <td>Lvl</td>\n",
       "      <td>AllPub</td>\n",
       "      <td>...</td>\n",
       "      <td>0</td>\n",
       "      <td>NaN</td>\n",
       "      <td>NaN</td>\n",
       "      <td>NaN</td>\n",
       "      <td>0</td>\n",
       "      <td>4</td>\n",
       "      <td>2010</td>\n",
       "      <td>WD</td>\n",
       "      <td>Normal</td>\n",
       "      <td>142125</td>\n",
       "    </tr>\n",
       "    <tr>\n",
       "      <th>1459</th>\n",
       "      <td>1460</td>\n",
       "      <td>20</td>\n",
       "      <td>RL</td>\n",
       "      <td>75.0</td>\n",
       "      <td>9937</td>\n",
       "      <td>Pave</td>\n",
       "      <td>NaN</td>\n",
       "      <td>Reg</td>\n",
       "      <td>Lvl</td>\n",
       "      <td>AllPub</td>\n",
       "      <td>...</td>\n",
       "      <td>0</td>\n",
       "      <td>NaN</td>\n",
       "      <td>NaN</td>\n",
       "      <td>NaN</td>\n",
       "      <td>0</td>\n",
       "      <td>6</td>\n",
       "      <td>2008</td>\n",
       "      <td>WD</td>\n",
       "      <td>Normal</td>\n",
       "      <td>147500</td>\n",
       "    </tr>\n",
       "  </tbody>\n",
       "</table>\n",
       "<p>1460 rows × 81 columns</p>\n",
       "</div>"
      ],
      "text/plain": [
       "        Id  MSSubClass MSZoning  LotFrontage  LotArea Street Alley LotShape  \\\n",
       "0        1          60       RL         65.0     8450   Pave   NaN      Reg   \n",
       "1        2          20       RL         80.0     9600   Pave   NaN      Reg   \n",
       "2        3          60       RL         68.0    11250   Pave   NaN      IR1   \n",
       "3        4          70       RL         60.0     9550   Pave   NaN      IR1   \n",
       "4        5          60       RL         84.0    14260   Pave   NaN      IR1   \n",
       "...    ...         ...      ...          ...      ...    ...   ...      ...   \n",
       "1455  1456          60       RL         62.0     7917   Pave   NaN      Reg   \n",
       "1456  1457          20       RL         85.0    13175   Pave   NaN      Reg   \n",
       "1457  1458          70       RL         66.0     9042   Pave   NaN      Reg   \n",
       "1458  1459          20       RL         68.0     9717   Pave   NaN      Reg   \n",
       "1459  1460          20       RL         75.0     9937   Pave   NaN      Reg   \n",
       "\n",
       "     LandContour Utilities  ... PoolArea PoolQC  Fence MiscFeature MiscVal  \\\n",
       "0            Lvl    AllPub  ...        0    NaN    NaN         NaN       0   \n",
       "1            Lvl    AllPub  ...        0    NaN    NaN         NaN       0   \n",
       "2            Lvl    AllPub  ...        0    NaN    NaN         NaN       0   \n",
       "3            Lvl    AllPub  ...        0    NaN    NaN         NaN       0   \n",
       "4            Lvl    AllPub  ...        0    NaN    NaN         NaN       0   \n",
       "...          ...       ...  ...      ...    ...    ...         ...     ...   \n",
       "1455         Lvl    AllPub  ...        0    NaN    NaN         NaN       0   \n",
       "1456         Lvl    AllPub  ...        0    NaN  MnPrv         NaN       0   \n",
       "1457         Lvl    AllPub  ...        0    NaN  GdPrv        Shed    2500   \n",
       "1458         Lvl    AllPub  ...        0    NaN    NaN         NaN       0   \n",
       "1459         Lvl    AllPub  ...        0    NaN    NaN         NaN       0   \n",
       "\n",
       "     MoSold YrSold  SaleType  SaleCondition  SalePrice  \n",
       "0         2   2008        WD         Normal     208500  \n",
       "1         5   2007        WD         Normal     181500  \n",
       "2         9   2008        WD         Normal     223500  \n",
       "3         2   2006        WD        Abnorml     140000  \n",
       "4        12   2008        WD         Normal     250000  \n",
       "...     ...    ...       ...            ...        ...  \n",
       "1455      8   2007        WD         Normal     175000  \n",
       "1456      2   2010        WD         Normal     210000  \n",
       "1457      5   2010        WD         Normal     266500  \n",
       "1458      4   2010        WD         Normal     142125  \n",
       "1459      6   2008        WD         Normal     147500  \n",
       "\n",
       "[1460 rows x 81 columns]"
      ]
     },
     "execution_count": 64,
     "metadata": {},
     "output_type": "execute_result"
    }
   ],
   "source": [
    "train"
   ]
  },
  {
   "cell_type": "code",
   "execution_count": 65,
   "metadata": {
    "colab": {
     "base_uri": "https://localhost:8080/",
     "height": 282
    },
    "executionInfo": {
     "elapsed": 389,
     "status": "ok",
     "timestamp": 1676548925265,
     "user": {
      "displayName": "Tevfik Aytekin",
      "userId": "03705756795675396046"
     },
     "user_tz": -180
    },
    "id": "twMZrE9N1vPK",
    "outputId": "f6f63285-9060-4d5e-8cc8-99b021d362df"
   },
   "outputs": [
    {
     "data": {
      "text/plain": [
       "<matplotlib.collections.PathCollection at 0x7ffdb18d12d0>"
      ]
     },
     "execution_count": 65,
     "metadata": {},
     "output_type": "execute_result"
    },
    {
     "data": {
      "image/png": "[encoded data removed]",
      "text/plain": [
       "<Figure size 432x288 with 1 Axes>"
      ]
     },
     "metadata": {
      "needs_background": "light"
     },
     "output_type": "display_data"
    }
   ],
   "source": [
    "plt.scatter(train.loc[:,\"GrLivArea\"], train.loc[:,\"SalePrice\"])"
   ]
  },
  {
   "cell_type": "code",
   "execution_count": 67,
   "metadata": {
    "colab": {
     "base_uri": "https://localhost:8080/",
     "height": 282
    },
    "executionInfo": {
     "elapsed": 862,
     "status": "ok",
     "timestamp": 1676548938497,
     "user": {
      "displayName": "Tevfik Aytekin",
      "userId": "03705756795675396046"
     },
     "user_tz": -180
    },
    "id": "NhzwdI9H1vPL",
    "outputId": "ca028381-6a91-43ff-bcc0-75d15162dcaa",
    "scrolled": true
   },
   "outputs": [
    {
     "data": {
      "text/plain": [
       "<matplotlib.collections.PathCollection at 0x7ffdb0808ed0>"
      ]
     },
     "execution_count": 67,
     "metadata": {},
     "output_type": "execute_result"
    },
    {
     "data": {
      "image/png": "[encoded data removed]",
      "text/plain": [
       "<Figure size 432x288 with 1 Axes>"
      ]
     },
     "metadata": {
      "needs_background": "light"
     },
     "output_type": "display_data"
    }
   ],
   "source": [
    "train2 = train[(train.GrLivArea < 4000) & (train.SalePrice < 400000)]\n",
    "plt.scatter(train2.loc[:,\"GrLivArea\"], train2.loc[:,\"SalePrice\"])"
   ]
  },
  {
   "cell_type": "code",
   "execution_count": 68,
   "metadata": {
    "colab": {
     "base_uri": "https://localhost:8080/",
     "height": 317
    },
    "executionInfo": {
     "elapsed": 356,
     "status": "ok",
     "timestamp": 1676548942540,
     "user": {
      "displayName": "Tevfik Aytekin",
      "userId": "03705756795675396046"
     },
     "user_tz": -180
    },
    "id": "cQ37F_9i1vPL",
    "outputId": "30427743-4766-4040-a181-8b697566393e"
   },
   "outputs": [
    {
     "name": "stdout",
     "output_type": "stream",
     "text": [
      "(257, 1) (257,)\n",
      "(29, 1) (29,)\n"
     ]
    },
    {
     "data": {
      "text/plain": [
       "<matplotlib.collections.PathCollection at 0x7ffdb1f42310>"
      ]
     },
     "execution_count": 68,
     "metadata": {},
     "output_type": "execute_result"
    },
    {
     "data": {
      "image/png": "[encoded data removed]",
      "text/plain": [
       "<Figure size 432x288 with 1 Axes>"
      ]
     },
     "metadata": {
      "needs_background": "light"
     },
     "output_type": "display_data"
    }
   ],
   "source": [
    "# Take a small sample of the data in order to work with nicer diagrams.\n",
    "# Make a test / train split\n",
    "\n",
    "train2 = train2.sample(frac=0.2)\n",
    "X = train2[['GrLivArea']]\n",
    "y = train2['SalePrice']\n",
    "\n",
    "X_train, X_test, y_train, y_test = train_test_split(X, y, test_size=0.1)\n",
    "print (X_train.shape, y_train.shape)\n",
    "print (X_test.shape, y_test.shape)\n",
    "plt.scatter(X_train, y_train)"
   ]
  },
  {
   "cell_type": "code",
   "execution_count": 69,
   "metadata": {
    "id": "KIJYbjy21vPM"
   },
   "outputs": [],
   "source": [
    "# fit a linear model\n",
    "model = linear_model.LinearRegression()\n",
    "model = model.fit(X_train, y_train)\n",
    "train_predictions = model.predict(X_train)\n",
    "test_predictions = model.predict(X_test)"
   ]
  },
  {
   "cell_type": "code",
   "execution_count": 70,
   "metadata": {
    "colab": {
     "base_uri": "https://localhost:8080/",
     "height": 282
    },
    "executionInfo": {
     "elapsed": 370,
     "status": "ok",
     "timestamp": 1676548996168,
     "user": {
      "displayName": "Tevfik Aytekin",
      "userId": "03705756795675396046"
     },
     "user_tz": -180
    },
    "id": "uZSvKcuH1vPN",
    "outputId": "e5f367ec-463f-4033-e1c3-81737ca67c96"
   },
   "outputs": [
    {
     "data": {
      "text/plain": [
       "[<matplotlib.lines.Line2D at 0x7ffdb190bf10>]"
      ]
     },
     "execution_count": 70,
     "metadata": {},
     "output_type": "execute_result"
    },
    {
     "data": {
      "image/png": "[encoded data removed]",
      "text/plain": [
       "<Figure size 432x288 with 1 Axes>"
      ]
     },
     "metadata": {
      "needs_background": "light"
     },
     "output_type": "display_data"
    }
   ],
   "source": [
    "#Plot regression line on training data\n",
    "plt.scatter(X_train, y_train,  color='black')\n",
    "plt.plot(X_train, train_predictions, color='blue', linewidth=3)\n"
   ]
  },
  {
   "cell_type": "code",
   "execution_count": 71,
   "metadata": {
    "colab": {
     "base_uri": "https://localhost:8080/"
    },
    "executionInfo": {
     "elapsed": 308,
     "status": "ok",
     "timestamp": 1676549029042,
     "user": {
      "displayName": "Tevfik Aytekin",
      "userId": "03705756795675396046"
     },
     "user_tz": -180
    },
    "id": "KJM88IUQ1vPO",
    "outputId": "b9d7e4ac-a7ef-4fc2-ad79-235745d7cef8"
   },
   "outputs": [
    {
     "name": "stdout",
     "output_type": "stream",
     "text": [
      "32557.996932653332\n",
      "[95.85]\n"
     ]
    }
   ],
   "source": [
    "# Show the intercept and the coefficient of the model (which is a line)\n",
    "print (model.intercept_)\n",
    "print (model.coef_)"
   ]
  },
  {
   "cell_type": "code",
   "execution_count": 72,
   "metadata": {
    "id": "Pem-eSeW1vPO"
   },
   "outputs": [],
   "source": [
    "def predict(GrLivArea):\n",
    "    return model.intercept_ + model.coef_*GrLivArea"
   ]
  },
  {
   "cell_type": "code",
   "execution_count": 75,
   "metadata": {
    "colab": {
     "base_uri": "https://localhost:8080/"
    },
    "executionInfo": {
     "elapsed": 311,
     "status": "ok",
     "timestamp": 1676549068141,
     "user": {
      "displayName": "Tevfik Aytekin",
      "userId": "03705756795675396046"
     },
     "user_tz": -180
    },
    "id": "BtsCMw9n1vPP",
    "outputId": "2d18741f-66b6-4135-a8c6-307dcdb935ef"
   },
   "outputs": [
    {
     "data": {
      "text/plain": [
       "array([128409.84])"
      ]
     },
     "execution_count": 75,
     "metadata": {},
     "output_type": "execute_result"
    }
   ],
   "source": [
    "predict(1000)"
   ]
  },
  {
   "cell_type": "markdown",
   "metadata": {
    "id": "tmUE-80N1vPP"
   },
   "source": [
    "#### Can we interpret the above coefficient as increase in price per square feet?"
   ]
  },
  {
   "cell_type": "code",
   "execution_count": 76,
   "metadata": {
    "colab": {
     "base_uri": "https://localhost:8080/",
     "height": 282
    },
    "executionInfo": {
     "elapsed": 354,
     "status": "ok",
     "timestamp": 1676549205541,
     "user": {
      "displayName": "Tevfik Aytekin",
      "userId": "03705756795675396046"
     },
     "user_tz": -180
    },
    "id": "gT2NU2gG1vPQ",
    "outputId": "d8790a92-4b5a-4b08-9df0-9f77e519b630",
    "scrolled": true
   },
   "outputs": [
    {
     "data": {
      "text/plain": [
       "[<matplotlib.lines.Line2D at 0x7ffdb1f8fc90>]"
      ]
     },
     "execution_count": 76,
     "metadata": {},
     "output_type": "execute_result"
    },
    {
     "data": {
      "image/png": "[encoded data removed]",
      "text/plain": [
       "<Figure size 432x288 with 1 Axes>"
      ]
     },
     "metadata": {
      "needs_background": "light"
     },
     "output_type": "display_data"
    }
   ],
   "source": [
    "#Plot regression line on test data\n",
    "plt.scatter(X_test, y_test,  color='black')\n",
    "plt.plot(X_test, test_predictions, color='blue', linewidth=3)"
   ]
  },
  {
   "cell_type": "code",
   "execution_count": 79,
   "metadata": {
    "colab": {
     "base_uri": "https://localhost:8080/"
    },
    "executionInfo": {
     "elapsed": 326,
     "status": "ok",
     "timestamp": 1676549210935,
     "user": {
      "displayName": "Tevfik Aytekin",
      "userId": "03705756795675396046"
     },
     "user_tz": -180
    },
    "id": "KSkrpe661vPR",
    "outputId": "7c8d785f-24db-41a1-8711-150cc34c2342",
    "scrolled": true
   },
   "outputs": [
    {
     "name": "stdout",
     "output_type": "stream",
     "text": [
      "Training MAE: 34771.36339730841\n",
      "34771.36339730841\n",
      "Test MAE: 29434.39786185651\n"
     ]
    }
   ],
   "source": [
    "# training and test set mean absolute error (MAE)\n",
    "print(\"Training MAE:\", mean_absolute_error(y_train, train_predictions))\n",
    "# or\n",
    "print(np.mean(np.abs(y_train - train_predictions)))\n",
    "\n",
    "print(\"Test MAE:\", mean_absolute_error(y_test, test_predictions))\n"
   ]
  },
  {
   "cell_type": "code",
   "execution_count": 80,
   "metadata": {
    "colab": {
     "base_uri": "https://localhost:8080/"
    },
    "executionInfo": {
     "elapsed": 335,
     "status": "ok",
     "timestamp": 1676549215331,
     "user": {
      "displayName": "Tevfik Aytekin",
      "userId": "03705756795675396046"
     },
     "user_tz": -180
    },
    "id": "Iy-qrFF_1vPS",
    "outputId": "343116f4-2256-472f-8225-b15c860ce145"
   },
   "outputs": [
    {
     "name": "stdout",
     "output_type": "stream",
     "text": [
      "Test MAPE: 15.830847723988784\n"
     ]
    }
   ],
   "source": [
    "def mean_absolute_percentage_error(y_true, y_pred): \n",
    "    return np.mean(np.abs((y_true - y_pred) / y_true)) * 100\n",
    "print(\"Test MAPE:\", mean_absolute_percentage_error(y_test, test_predictions))"
   ]
  },
  {
   "cell_type": "code",
   "execution_count": null,
   "metadata": {
    "colab": {
     "base_uri": "https://localhost:8080/"
    },
    "executionInfo": {
     "elapsed": 264,
     "status": "ok",
     "timestamp": 1675872210772,
     "user": {
      "displayName": "Tevfik Aytekin",
      "userId": "03705756795675396046"
     },
     "user_tz": -180
    },
    "id": "MOI1qmQR1vPS",
    "outputId": "66b5f170-0b2d-4512-9fc9-e042ac297187",
    "scrolled": true
   },
   "outputs": [],
   "source": [
    "print(\"r-squared:\", model.score(X_test, y_test))"
   ]
  },
  {
   "cell_type": "markdown",
   "metadata": {
    "id": "33vilOa91vPS"
   },
   "source": [
    "## The Coefficient of Determination, r-squared ($r^2$)"
   ]
  },
  {
   "cell_type": "markdown",
   "metadata": {
    "id": "Rk2slREc1vPT"
   },
   "source": [
    "$r^2$, is the percentage of the dependent variable variation that a model explains. What does this mean? Baseline model predicts always the mean value (a horizontal line). We can find the SSE of the baseline model (call it MSSE). Find the SSE of the regression line (call it RSSE). \n",
    "\n",
    "$$r^2 = 1 - \\frac{RSSE}{MSSE} = \\frac{(MSSE - RSSE)}{MSSE}$$ \n",
    "\n",
    "$r^2$ compares the performance of the model with respect to baseline. If it is 0 it means the model performance is as bad as the baseline, if it is 1 it means that the model performance is perfect. \n",
    "\n",
    "What is the range of values can $r^2$ take? Can it be a negative value?\n",
    "\n",
    "More information is [here](https://onlinecourses.science.psu.edu/stat501/node/255/)\n",
    "\n",
    "$r$ in $r^2$ refers to Pearson's correlation coefficient. Relation between $r$ and $r^2$ is [here](http://www.win-vector.com/blog/2011/11/correlation-and-r-squared/)\n"
   ]
  },
  {
   "cell_type": "code",
   "execution_count": 81,
   "metadata": {
    "colab": {
     "base_uri": "https://localhost:8080/"
    },
    "executionInfo": {
     "elapsed": 352,
     "status": "ok",
     "timestamp": 1675863745348,
     "user": {
      "displayName": "Tevfik Aytekin",
      "userId": "03705756795675396046"
     },
     "user_tz": -180
    },
    "id": "E9Ng86vK1vPT",
    "outputId": "8c5473c2-2662-45fc-c088-9cb7478f4955"
   },
   "outputs": [
    {
     "name": "stdout",
     "output_type": "stream",
     "text": [
      "Baseline (mean) MAE: 55488.17227961894\n",
      "Baseline (mean) MAPE: 30.790132822153403\n"
     ]
    }
   ],
   "source": [
    "# baseline - predict always the mean SalePrice value\n",
    "\n",
    "mean_sales_price = y_train.mean()\n",
    "mean_array = np.ones(y_test.size)*mean_sales_price\n",
    "print(\"Baseline (mean) MAE:\", mean_absolute_error(y_test, mean_array))\n",
    "print(\"Baseline (mean) MAPE:\", mean_absolute_percentage_error(y_test, mean_array))\n"
   ]
  },
  {
   "cell_type": "code",
   "execution_count": null,
   "metadata": {
    "colab": {
     "base_uri": "https://localhost:8080/"
    },
    "executionInfo": {
     "elapsed": 258,
     "status": "ok",
     "timestamp": 1675863747998,
     "user": {
      "displayName": "Tevfik Aytekin",
      "userId": "03705756795675396046"
     },
     "user_tz": -180
    },
    "id": "qpU-S6P21vPT",
    "outputId": "eb97e38a-4e09-4a71-f568-d3ebd630651b"
   },
   "outputs": [],
   "source": [
    "# Scores according to Kaggle challenge metric\n",
    "from sklearn.metrics import mean_squared_log_error\n",
    "\n",
    "\n",
    "def kaggle_score2(y_true,y_pred):\n",
    "    return np.sqrt(mean_squared_log_error(y_true, y_pred));\n",
    "def kaggle_score(y_true,y_pred):\n",
    "    return np.sqrt(mean_squared_error(np.log(y_true), np.log(y_pred)));\n",
    "\n",
    "print(\"Test Kaggle-score:\", kaggle_score(y_test, test_predictions))\n",
    "print(\"Baseline (mean) Kaggle-score:\", kaggle_score(y_test,mean_array))\n"
   ]
  },
  {
   "cell_type": "code",
   "execution_count": 82,
   "metadata": {
    "colab": {
     "base_uri": "https://localhost:8080/",
     "height": 206
    },
    "executionInfo": {
     "elapsed": 311,
     "status": "ok",
     "timestamp": 1676549271963,
     "user": {
      "displayName": "Tevfik Aytekin",
      "userId": "03705756795675396046"
     },
     "user_tz": -180
    },
    "id": "Q_-Md07P1vPU",
    "outputId": "1b1dca16-2eb1-4023-d326-eb9f1e202171"
   },
   "outputs": [
    {
     "data": {
      "text/html": [
       "<div>\n",
       "<style scoped>\n",
       "    .dataframe tbody tr th:only-of-type {\n",
       "        vertical-align: middle;\n",
       "    }\n",
       "\n",
       "    .dataframe tbody tr th {\n",
       "        vertical-align: top;\n",
       "    }\n",
       "\n",
       "    .dataframe thead th {\n",
       "        text-align: right;\n",
       "    }\n",
       "</style>\n",
       "<table border=\"1\" class=\"dataframe\">\n",
       "  <thead>\n",
       "    <tr style=\"text-align: right;\">\n",
       "      <th></th>\n",
       "      <th>GrLivArea</th>\n",
       "      <th>BedroomAbvGr</th>\n",
       "    </tr>\n",
       "  </thead>\n",
       "  <tbody>\n",
       "    <tr>\n",
       "      <th>0</th>\n",
       "      <td>1710</td>\n",
       "      <td>3</td>\n",
       "    </tr>\n",
       "    <tr>\n",
       "      <th>1</th>\n",
       "      <td>1262</td>\n",
       "      <td>3</td>\n",
       "    </tr>\n",
       "    <tr>\n",
       "      <th>2</th>\n",
       "      <td>1786</td>\n",
       "      <td>3</td>\n",
       "    </tr>\n",
       "    <tr>\n",
       "      <th>3</th>\n",
       "      <td>1717</td>\n",
       "      <td>3</td>\n",
       "    </tr>\n",
       "    <tr>\n",
       "      <th>4</th>\n",
       "      <td>2198</td>\n",
       "      <td>4</td>\n",
       "    </tr>\n",
       "  </tbody>\n",
       "</table>\n",
       "</div>"
      ],
      "text/plain": [
       "   GrLivArea  BedroomAbvGr\n",
       "0       1710             3\n",
       "1       1262             3\n",
       "2       1786             3\n",
       "3       1717             3\n",
       "4       2198             4"
      ]
     },
     "execution_count": 82,
     "metadata": {},
     "output_type": "execute_result"
    }
   ],
   "source": [
    "# Prediction with two input variables\n",
    "\n",
    "X = train.loc[:,['GrLivArea','BedroomAbvGr']]\n",
    "y = train.loc[:,'SalePrice']\n",
    "\n",
    "X.head(5)"
   ]
  },
  {
   "cell_type": "code",
   "execution_count": 87,
   "metadata": {
    "colab": {
     "base_uri": "https://localhost:8080/"
    },
    "executionInfo": {
     "elapsed": 795,
     "status": "ok",
     "timestamp": 1676549296573,
     "user": {
      "displayName": "Tevfik Aytekin",
      "userId": "03705756795675396046"
     },
     "user_tz": -180
    },
    "id": "__OoBIjJ1vPU",
    "outputId": "ce8ee693-5172-45c6-a7be-a90c790adcf9"
   },
   "outputs": [
    {
     "name": "stdout",
     "output_type": "stream",
     "text": [
      "Test MAE: 34819.489899280125\n",
      "Test MAPE: 21.832127333531737\n",
      "Intercept: 61944.01447819825\n",
      "[['GrLivArea' '126.77045356592971']\n",
      " ['Bedroom' '-25364.783576286995']]\n"
     ]
    }
   ],
   "source": [
    "mae, kaggle, mape = [], [], []\n",
    "for i in range(1,10):\n",
    "    X_train, X_test, y_train, y_test = train_test_split(X, y, test_size=0.1)\n",
    "    #X = X.fillna(X.mean()) #is this ok?\n",
    "    X_train = X_train.fillna(X_train.mean())\n",
    "    X_test = X_test.fillna(X_test.mean())\n",
    "\n",
    "    lm = linear_model.LinearRegression()\n",
    "    model = lm.fit(X_train, y_train)\n",
    "    test_predictions = model.predict(X_test)\n",
    "    mae.append(mean_absolute_error(y_test, test_predictions))\n",
    "    #kaggle.append(kaggle_score(y_test, test_predictions))\n",
    "    mape.append(mean_absolute_percentage_error(y_test, test_predictions))\n",
    "\n",
    "print(\"Test MAE:\", np.mean(mae))\n",
    "#print(\"Test Kaggle-Score:\", np.mean(kaggle))\n",
    "print(\"Test MAPE:\", np.mean(mape))\n",
    "print (\"Intercept:\", model.intercept_)\n",
    "combined = np.vstack((['GrLivArea','Bedroom'], model.coef_)).T\n",
    "print(combined)"
   ]
  },
  {
   "cell_type": "markdown",
   "metadata": {
    "id": "9tJ1G5_Z1vPU"
   },
   "source": [
    "### The coefficient of Bedroom is negative! Does increase in the number of bedrooms negatively effect house price?\n",
    "\n",
    "Interpretation of linear models are relatively easy (of course one should be careful about the assumptions of the model). For numerical features, changing the numerical feature by one unit changes the prediction by an amount of the size of its coefficient **when all other feature values are fixed**. So, it makes sense for the increase in the number of bedrooms to have a negative effect on sales price when the area is fixed. \n",
    "\n",
    "If you only use the BedroomAbvGr feature for prediction things will change."
   ]
  },
  {
   "cell_type": "code",
   "execution_count": 88,
   "metadata": {
    "colab": {
     "base_uri": "https://localhost:8080/"
    },
    "executionInfo": {
     "elapsed": 267,
     "status": "ok",
     "timestamp": 1675872227010,
     "user": {
      "displayName": "Tevfik Aytekin",
      "userId": "03705756795675396046"
     },
     "user_tz": -180
    },
    "id": "8FcgikJh1vPV",
    "outputId": "a35fc366-dbfc-403c-b7c9-055f4efc2548"
   },
   "outputs": [
    {
     "name": "stdout",
     "output_type": "stream",
     "text": [
      "Test MAE: 59189.89263550901\n",
      "Test Kaggle-Score: 0.41316866677645037\n",
      "Test MAPE: 36.18947210700773\n",
      "Intercept: 130244.56101820614\n",
      "[['Bedroom' '17808.83456720836']]\n"
     ]
    }
   ],
   "source": [
    "# Prediction with only Bedroom\n",
    "\n",
    "X = train.loc[:,['BedroomAbvGr']]\n",
    "y = train.loc[:,'SalePrice']\n",
    "\n",
    "mae, kaggle, mape = [], [], []\n",
    "for i in range(1,10):\n",
    "    X_train, X_test, y_train, y_test = train_test_split(X, y, test_size=0.1)\n",
    "    X_train = X_train.fillna(X_train.mean())\n",
    "    X_test = X_test.fillna(X_test.mean())\n",
    "\n",
    "    lm = linear_model.LinearRegression()\n",
    "    model = lm.fit(X_train, y_train)\n",
    "    test_predictions = model.predict(X_test)\n",
    "    mae.append(mean_absolute_error(y_test, test_predictions))\n",
    "    kaggle.append(kaggle_score(y_test, test_predictions))\n",
    "    mape.append(mean_absolute_percentage_error(y_test, test_predictions))\n",
    "\n",
    "print(\"Test MAE:\", np.mean(mae))\n",
    "print(\"Test Kaggle-Score:\", np.mean(kaggle))\n",
    "print(\"Test MAPE:\", np.mean(mape))\n",
    "print (\"Intercept:\", model.intercept_)\n",
    "combined = np.vstack((['Bedroom'], model.coef_)).T\n",
    "print(combined)"
   ]
  },
  {
   "cell_type": "markdown",
   "metadata": {
    "id": "QbpLUSwkSLOk"
   },
   "source": [
    "### Prediction with two uncorrelated features"
   ]
  },
  {
   "cell_type": "code",
   "execution_count": 89,
   "metadata": {
    "colab": {
     "base_uri": "https://localhost:8080/"
    },
    "executionInfo": {
     "elapsed": 274,
     "status": "ok",
     "timestamp": 1675872302790,
     "user": {
      "displayName": "Tevfik Aytekin",
      "userId": "03705756795675396046"
     },
     "user_tz": -180
    },
    "id": "3u_ZF932Sl9l",
    "outputId": "4c986622-cf29-47fc-fc0e-59b4cc598d6c"
   },
   "outputs": [
    {
     "data": {
      "text/plain": [
       "array([[1.00, 0.20],\n",
       "       [0.20, 1.00]])"
      ]
     },
     "execution_count": 89,
     "metadata": {},
     "output_type": "execute_result"
    }
   ],
   "source": [
    "np.corrcoef(train.GrLivArea, train.YearBuilt)"
   ]
  },
  {
   "cell_type": "code",
   "execution_count": 90,
   "metadata": {
    "colab": {
     "base_uri": "https://localhost:8080/"
    },
    "executionInfo": {
     "elapsed": 290,
     "status": "ok",
     "timestamp": 1675872329345,
     "user": {
      "displayName": "Tevfik Aytekin",
      "userId": "03705756795675396046"
     },
     "user_tz": -180
    },
    "id": "j-Ut0nKhSKn0",
    "outputId": "76d7d9df-ae17-4839-c376-382deff2ecf5"
   },
   "outputs": [
    {
     "name": "stdout",
     "output_type": "stream",
     "text": [
      "Test MAE: 29330.313599629288\n",
      "Test Kaggle-score: 0.21437183167184076\n",
      "Test MAPE: 17.349413678488354\n",
      "Intercept: -2036737.4279292903\n",
      "[['GrLivArea' 94.65972862850059]\n",
      " ['YearBuilt' 1052.5925161892615]]\n"
     ]
    }
   ],
   "source": [
    "X = train.loc[:,['GrLivArea','YearBuilt']]\n",
    "y = train.loc[:,'SalePrice']\n",
    "X_train, X_test, y_train, y_test = train_test_split(X, y, test_size=0.1)\n",
    "X_train = X_train.fillna(X_train.mean())\n",
    "X_test = X_test.fillna(X_test.mean())\n",
    "\n",
    "\n",
    "lm = linear_model.LinearRegression()\n",
    "model = lm.fit(X_train, y_train)\n",
    "test_predictions = model.predict(X_test)\n",
    "print(\"Test MAE:\", mean_absolute_error(y_test, test_predictions))\n",
    "print(\"Test Kaggle-score:\", kaggle_score(y_test, np.abs(test_predictions)))\n",
    "print(\"Test MAPE:\", mean_absolute_percentage_error(y_test, test_predictions))\n",
    "print (\"Intercept:\", model.intercept_)\n",
    "combined = np.vstack((X.columns, model.coef_)).T\n",
    "print(combined)\n"
   ]
  },
  {
   "cell_type": "code",
   "execution_count": 91,
   "metadata": {
    "colab": {
     "base_uri": "https://localhost:8080/"
    },
    "executionInfo": {
     "elapsed": 236,
     "status": "ok",
     "timestamp": 1675863770955,
     "user": {
      "displayName": "Tevfik Aytekin",
      "userId": "03705756795675396046"
     },
     "user_tz": -180
    },
    "id": "ZEt3-eoH1vPV",
    "outputId": "9d2dc12e-70c3-43bf-e785-c8592be5411c",
    "scrolled": true
   },
   "outputs": [
    {
     "name": "stdout",
     "output_type": "stream",
     "text": [
      "Test MAE: 23847.626784708074\n",
      "Test Kaggle-Score: 0.21626431463695406\n",
      "Test MAPE: 13.837151265722387\n",
      "Intercept: -1148735.678011484\n",
      "[['OverallQual' '19548.268246939548']\n",
      " ['GrLivArea' '50.59862864460722']\n",
      " ['GarageCars' '12474.124935189267']\n",
      " ['GarageArea' '8.87328309401237']\n",
      " ['TotalBsmtSF' '19.581180393410925']\n",
      " ['1stFlrSF' '13.063407123711073']\n",
      " ['FullBath' '-6035.962261647926']\n",
      " ['TotRmsAbvGrd' '114.28659542629194']\n",
      " ['YearBuilt' '265.20817975363644']\n",
      " ['YearRemodAdd' '280.806587478701']]\n"
     ]
    }
   ],
   "source": [
    "# Run linear regression with top correlated 10 attributes with SalePrice\n",
    "cors = train.corr(); \n",
    "top10 = np.abs(cors.loc[:, \"SalePrice\"]).sort_values(ascending = False).head(11)\n",
    "top10 = top10.index.values.tolist()\n",
    "top10.pop(0)\n",
    "\n",
    "X = train.loc[:,top10]\n",
    "y = train.loc[:,'SalePrice']\n",
    "\n",
    "mae, kaggle, mape = [], [], []\n",
    "for i in range(1,10):\n",
    "    X_train, X_test, y_train, y_test = train_test_split(X, y, test_size=0.1)\n",
    "    X_train = X_train.fillna(X_train.mean())\n",
    "    X_test = X_test.fillna(X_test.mean())\n",
    "\n",
    "    lm = linear_model.LinearRegression()\n",
    "    model = lm.fit(X_train, y_train)\n",
    "    test_predictions = model.predict(X_test)\n",
    "    mae.append(mean_absolute_error(y_test, test_predictions))\n",
    "    kaggle.append(kaggle_score(y_test, np.abs(test_predictions)))\n",
    "    mape.append(mean_absolute_percentage_error(y_test, test_predictions))\n",
    "\n",
    "print(\"Test MAE:\", np.mean(mae))\n",
    "print(\"Test Kaggle-Score:\", np.mean(kaggle))\n",
    "print(\"Test MAPE:\", np.mean(mape))\n",
    "print (\"Intercept:\", model.intercept_)\n",
    "combined = np.vstack((top10, model.coef_)).T\n",
    "print(combined)\n"
   ]
  },
  {
   "cell_type": "markdown",
   "metadata": {
    "id": "1Lc0HMIV1vPW"
   },
   "source": [
    "## Solution with normal equations"
   ]
  },
  {
   "cell_type": "code",
   "execution_count": 92,
   "metadata": {
    "id": "4_VA_KVp1vPW"
   },
   "outputs": [],
   "source": [
    "X = X_train\n",
    "y = y_train\n",
    "\n",
    "# add intercept\n",
    "ones = np.ones(len(X)).reshape(len(X),1)\n",
    "X = np.hstack((ones,X))\n",
    "\n",
    "XTX = np.dot(X.T,X)\n",
    "INV_XTX = np.linalg.inv(XTX)\n",
    "INV_XTXXT = np.dot(INV_XTX, X.T)\n",
    "result = np.dot(INV_XTXXT,y)"
   ]
  },
  {
   "cell_type": "code",
   "execution_count": 93,
   "metadata": {
    "id": "lvizOXaW1vPW",
    "outputId": "88ba4105-3305-4f9f-8422-d8d408468e67"
   },
   "outputs": [
    {
     "data": {
      "text/plain": [
       "array([-1148735.68, 19548.27, 50.60, 12474.12, 8.87, 19.58, 13.06,\n",
       "       -6035.96, 114.29, 265.21, 280.81])"
      ]
     },
     "execution_count": 93,
     "metadata": {},
     "output_type": "execute_result"
    }
   ],
   "source": [
    "float_formatter = \"{:.2f}\".format\n",
    "np.set_printoptions(formatter={'float_kind':float_formatter})\n",
    "result"
   ]
  },
  {
   "cell_type": "markdown",
   "metadata": {
    "id": "e9XdPdQg1vPW"
   },
   "source": [
    "As you can see we got the same coeffcients and intercept"
   ]
  },
  {
   "cell_type": "code",
   "execution_count": 94,
   "metadata": {
    "colab": {
     "base_uri": "https://localhost:8080/"
    },
    "executionInfo": {
     "elapsed": 2248,
     "status": "ok",
     "timestamp": 1675856297229,
     "user": {
      "displayName": "Tevfik Aytekin",
      "userId": "03705756795675396046"
     },
     "user_tz": -180
    },
    "id": "yhpQiaH61vPW",
    "outputId": "56148c92-3d1d-456c-b9c0-6a01a3e9db8d",
    "scrolled": false
   },
   "outputs": [
    {
     "name": "stdout",
     "output_type": "stream",
     "text": [
      "Test MAE: 20994.882852321847\n",
      "Test Kaggle-Score: 0.22994938899389825\n",
      "Test MAPE: 12.168067756682063\n",
      "Intercept: -107780.84963867933\n",
      "[['MSSubClass' -50.8314662006]\n",
      " ['LotFrontage' 52.606761296727825]\n",
      " ['LotArea' 0.7180641767736144]\n",
      " ['OverallQual' 6571.89810464743]\n",
      " ['OverallCond' 5711.012147777959]\n",
      " ['YearBuilt' 283.05565063185605]\n",
      " ['YearRemodAdd' 99.71989107779129]\n",
      " ['MasVnrArea' 24.728042449179355]\n",
      " ['BsmtFinSF1' 16.57037261719688]\n",
      " ['BsmtFinSF2' 7.620919097310093]\n",
      " ['BsmtUnfSF' -3.4544840650389688]\n",
      " ['TotalBsmtSF' 20.736822821185797]\n",
      " ['1stFlrSF' 8.914821689214477]\n",
      " ['2ndFlrSF' 29.236480121018303]\n",
      " ['LowQualFinSF' -3.565706461466263]\n",
      " ['GrLivArea' 34.585630964822485]\n",
      " ['BsmtFullBath' 595.1687671709353]\n",
      " ['BsmtHalfBath' -46.48299376237533]\n",
      " ['FullBath' 3734.2254979279273]\n",
      " ['HalfBath' 73.49802366799265]\n",
      " ['BedroomAbvGr' -4066.5831762287517]\n",
      " ['KitchenAbvGr' -14374.830787391094]\n",
      " ['TotRmsAbvGrd' 2141.971527824138]\n",
      " ['Fireplaces' 6594.688915053571]\n",
      " ['GarageYrBlt' -82.35855882857709]\n",
      " ['GarageCars' 3347.135124964228]\n",
      " ['GarageArea' 22.490386806717822]\n",
      " ['WoodDeckSF' 16.46191491306263]\n",
      " ['OpenPorchSF' 9.644026721039666]\n",
      " ['EnclosedPorch' 23.562985135312722]\n",
      " ['3SsnPorch' 29.4918232978371]\n",
      " ['ScreenPorch' 47.50929209890279]\n",
      " ['PoolArea' 6472.38597828027]\n",
      " ['MiscVal' 3.6602407825998853]\n",
      " ['MoSold' -543.6957342174895]\n",
      " ['YrSold' -281.93314852340353]\n",
      " ['MSZoning_C (all)' -21651.346633183195]\n",
      " ['MSZoning_FV' 14302.198361447616]\n",
      " ['MSZoning_RH' 997.9102109019263]\n",
      " ['MSZoning_RL' 6238.596557652441]\n",
      " ['MSZoning_RM' 112.64150352217867]\n",
      " ['Street_Grvl' -17241.626003790832]\n",
      " ['Street_Pave' 17241.626003794834]\n",
      " ['Alley_Grvl' 144.6733008516801]\n",
      " ['Alley_Pave' -4705.738179821177]\n",
      " ['LotShape_IR1' -3630.2525490391477]\n",
      " ['LotShape_IR2' -2244.7206543575885]\n",
      " ['LotShape_IR3' 7242.891540522065]\n",
      " ['LotShape_Reg' -1367.9183362715203]\n",
      " ['LandContour_Bnk' -1091.812495268972]\n",
      " ['LandContour_HLS' 8076.391883083892]\n",
      " ['LandContour_Low' -11611.145704948227]\n",
      " ['LandContour_Lvl' 4626.566317174398]\n",
      " ['Utilities_AllPub' 22150.990863685503]\n",
      " ['Utilities_NoSeWa' -22150.99086366564]\n",
      " ['LotConfig_Corner' 3464.0247727079077]\n",
      " ['LotConfig_CulDSac' 12850.599827603874]\n",
      " ['LotConfig_FR2' -4721.215934692188]\n",
      " ['LotConfig_FR3' -13155.910030046523]\n",
      " ['LotConfig_Inside' 1562.5013646382952]\n",
      " ['LandSlope_Gtl' 13047.896186940334]\n",
      " ['LandSlope_Mod' 20499.724305942458]\n",
      " ['LandSlope_Sev' -33547.62049287292]\n",
      " ['Neighborhood_Blmngtn' 5500.258158054189]\n",
      " ['Neighborhood_Blueste' 16970.088278248528]\n",
      " ['Neighborhood_BrDale' 4124.806042145101]\n",
      " ['Neighborhood_BrkSide' -3670.684122926892]\n",
      " ['Neighborhood_ClearCr' -14391.842554464354]\n",
      " ['Neighborhood_CollgCr' -6496.8510281594845]\n",
      " ['Neighborhood_Crawfor' 8901.904898333007]\n",
      " ['Neighborhood_Edwards' -18600.941755231026]\n",
      " ['Neighborhood_Gilbert' -6265.0333781585]\n",
      " ['Neighborhood_IDOTRR' -11451.727281579726]\n",
      " ['Neighborhood_MeadowV' 5975.05469883702]\n",
      " ['Neighborhood_Mitchel' -17019.912186281235]\n",
      " ['Neighborhood_NAmes' -14565.807992050268]\n",
      " ['Neighborhood_NPkVill' 14945.41155312409]\n",
      " ['Neighborhood_NWAmes' -14606.79870741585]\n",
      " ['Neighborhood_NoRidge' 26548.831175344705]\n",
      " ['Neighborhood_NridgHt' 25330.730113489994]\n",
      " ['Neighborhood_OldTown' -13352.34184796248]\n",
      " ['Neighborhood_SWISU' -13252.960636187485]\n",
      " ['Neighborhood_Sawyer' -9260.07144750201]\n",
      " ['Neighborhood_SawyerW' -1277.0691824867235]\n",
      " ['Neighborhood_Somerst' 2693.5814058091505]\n",
      " ['Neighborhood_StoneBr' 37280.72867511667]\n",
      " ['Neighborhood_Timber' -7095.493523972153]\n",
      " ['Neighborhood_Veenker' 3036.140646400181]\n",
      " ['Condition1_Artery' -4819.351534963719]\n",
      " ['Condition1_Feedr' 349.2793044175095]\n",
      " ['Condition1_Norm' 9704.355956916355]\n",
      " ['Condition1_PosA' 1162.7273433761754]\n",
      " ['Condition1_PosN' 6556.333400579435]\n",
      " ['Condition1_RRAe' -21211.236588725802]\n",
      " ['Condition1_RRAn' 7039.362286546619]\n",
      " ['Condition1_RRNe' -9159.634308950788]\n",
      " ['Condition1_RRNn' 10378.164140852185]\n",
      " ['Condition2_Artery' 47482.501050439045]\n",
      " ['Condition2_Feedr' 45510.6032171174]\n",
      " ['Condition2_Norm' 47187.39195767184]\n",
      " ['Condition2_PosA' 1.2872078514192253e-08]\n",
      " ['Condition2_PosN' -172223.49378962297]\n",
      " ['Condition2_RRAe' -46281.07962120497]\n",
      " ['Condition2_RRAn' 31302.926275139038]\n",
      " ['Condition2_RRNn' 47021.15091042662]\n",
      " ['BldgType_1Fam' 7112.648872583441]\n",
      " ['BldgType_2fmCon' 9473.144408833163]\n",
      " ['BldgType_Duplex' 2013.4154693286707]\n",
      " ['BldgType_Twnhs' -10696.16335458179]\n",
      " ['BldgType_TwnhsE' -7903.04539598106]\n",
      " ['HouseStyle_1.5Fin' 2200.4302360711454]\n",
      " ['HouseStyle_1.5Unf' 14340.510652566625]\n",
      " ['HouseStyle_1Story' 10511.445160501098]\n",
      " ['HouseStyle_2.5Fin' -24756.283797618544]\n",
      " ['HouseStyle_2.5Unf' -8225.064728030939]\n",
      " ['HouseStyle_2Story' -3977.732036370261]\n",
      " ['HouseStyle_SFoyer' 3857.568381047764]\n",
      " ['HouseStyle_SLvl' 6049.126131340648]\n",
      " ['RoofStyle_Flat' -25943.070020704912]\n",
      " ['RoofStyle_Gable' -16437.74024924744]\n",
      " ['RoofStyle_Gambrel' -13474.286346411036]\n",
      " ['RoofStyle_Hip' -17789.839488293666]\n",
      " ['RoofStyle_Mansard' -5764.528920513716]\n",
      " ['RoofStyle_Shed' 79409.46502524316]\n",
      " ['RoofMatl_ClyTile' -70934.26573913556]\n",
      " ['RoofMatl_CompShg' -18227.218751989923]\n",
      " ['RoofMatl_Membran' 83709.60089462789]\n",
      " ['RoofMatl_Metal' 52352.470550250575]\n",
      " ['RoofMatl_Roll' -37619.056973555445]\n",
      " ['RoofMatl_Tar&Grv' -16403.88568910012]\n",
      " ['RoofMatl_WdShake' -28770.012901792175]\n",
      " ['RoofMatl_WdShngl' 35892.368610761274]\n",
      " ['Exterior1st_AsbShng' 16819.51628968097]\n",
      " ['Exterior1st_AsphShn' -12753.348474078477]\n",
      " ['Exterior1st_BrkComm' 917.2653088829826]\n",
      " ['Exterior1st_BrkFace' 17292.140699200027]\n",
      " ['Exterior1st_CBlock' -9425.191591538645]\n",
      " ['Exterior1st_CemntBd' -1628.7810842506572]\n",
      " ['Exterior1st_HdBoard' -2527.064926179425]\n",
      " ['Exterior1st_ImStucc' -9352.481448501016]\n",
      " ['Exterior1st_MetalSd' 1276.3651842089364]\n",
      " ['Exterior1st_Plywood' -4238.498349177294]\n",
      " ['Exterior1st_Stone' 5940.408977740038]\n",
      " ['Exterior1st_Stucco' 12790.901549907774]\n",
      " ['Exterior1st_VinylSd' -9219.154012234072]\n",
      " ['Exterior1st_Wd Sdng' -7071.450896810353]\n",
      " ['Exterior1st_WdShing' 1179.3727729708542]\n",
      " ['Exterior2nd_AsbShng' -9056.551949622217]\n",
      " ['Exterior2nd_AsphShn' 8620.56230684123]\n",
      " ['Exterior2nd_Brk Cmn' 4959.272964244741]\n",
      " ['Exterior2nd_BrkFace' 1205.148344753301]\n",
      " ['Exterior2nd_CBlock' -9425.191591544713]\n",
      " ['Exterior2nd_CmentBd' 2957.312108631192]\n",
      " ['Exterior2nd_HdBoard' 2370.605456872436]\n",
      " ['Exterior2nd_ImStucc' 4651.147002725803]\n",
      " ['Exterior2nd_MetalSd' 3362.9127841280683]\n",
      " ['Exterior2nd_Other' -14523.616838592548]\n",
      " ['Exterior2nd_Plywood' 2063.9748824761505]\n",
      " ['Exterior2nd_Stone' -16623.360368147118]\n",
      " ['Exterior2nd_Stucco' -4312.497586954886]\n",
      " ['Exterior2nd_VinylSd' 13660.154074851689]\n",
      " ['Exterior2nd_Wd Sdng' 9664.781449734151]\n",
      " ['Exterior2nd_Wd Shng' 425.3469592873028]\n",
      " ['MasVnrType_BrkCmn' -3284.0275862755047]\n",
      " ['MasVnrType_BrkFace' -1268.758872007136]\n",
      " ['MasVnrType_None' 1320.8744368956836]\n",
      " ['MasVnrType_Stone' 1963.2732347028375]\n",
      " ['ExterQual_Ex' 14045.789739099968]\n",
      " ['ExterQual_Fa' 4129.649283821752]\n",
      " ['ExterQual_Gd' -8783.513600283733]\n",
      " ['ExterQual_TA' -9391.925422698689]\n",
      " ['ExterCond_Ex' 1017.1829827899559]\n",
      " ['ExterCond_Fa' -3386.4909049136972]\n",
      " ['ExterCond_Gd' -5114.097800945543]\n",
      " ['ExterCond_Po' 9382.509038733107]\n",
      " ['ExterCond_TA' -1899.1033157397176]\n",
      " ['Foundation_BrkTil' 4240.957445558359]\n",
      " ['Foundation_CBlock' 8028.628982544583]\n",
      " ['Foundation_PConc' 11246.878345138173]\n",
      " ['Foundation_Slab' -1202.3450270705484]\n",
      " ['Foundation_Stone' 10498.752046943606]\n",
      " ['Foundation_Wood' -32812.87179314486]\n",
      " ['BsmtQual_Ex' -740.7123802856917]\n",
      " ['BsmtQual_Fa' -11081.00175031917]\n",
      " ['BsmtQual_Gd' -14073.376067665422]\n",
      " ['BsmtQual_TA' -11061.939203002861]\n",
      " ['BsmtCond_Fa' -28378.646446316514]\n",
      " ['BsmtCond_Gd' -28119.91757960609]\n",
      " ['BsmtCond_Po' 46047.21637940738]\n",
      " ['BsmtCond_TA' -26505.68175479193]\n",
      " ['BsmtExposure_Av' 11801.011885719514]\n",
      " ['BsmtExposure_Gd' 28008.538973179075]\n",
      " ['BsmtExposure_Mn' 8107.8819031008325]\n",
      " ['BsmtExposure_No' 6939.47429536108]\n",
      " ['BsmtFinType1_ALQ' -7125.193331411756]\n",
      " ['BsmtFinType1_BLQ' -4281.792756609231]\n",
      " ['BsmtFinType1_GLQ' -2272.4695894315173]\n",
      " ['BsmtFinType1_LwQ' -12504.87826101479]\n",
      " ['BsmtFinType1_Rec' -8475.514014990076]\n",
      " ['BsmtFinType1_Unf' -2297.1814481000824]\n",
      " ['BsmtFinType2_ALQ' 31291.10097957419]\n",
      " ['BsmtFinType2_BLQ' 14871.25671312387]\n",
      " ['BsmtFinType2_GLQ' 27264.48018342412]\n",
      " ['BsmtFinType2_LwQ' 17857.80629505455]\n",
      " ['BsmtFinType2_Rec' 19195.96100919175]\n",
      " ['BsmtFinType2_Unf' 21181.4548500245]\n",
      " ['Heating_Floor' 6.111804395914078e-10]\n",
      " ['Heating_GasA' 4857.737925097218]\n",
      " ['Heating_GasW' 165.2228875819009]\n",
      " ['Heating_Grav' -6304.3126370156915]\n",
      " ['Heating_OthW' -13104.791616544153]\n",
      " ['Heating_Wall' 14386.143440817863]\n",
      " ['HeatingQC_Ex' -218.86074087807015]\n",
      " ['HeatingQC_Fa' 2000.2204339283799]\n",
      " ['HeatingQC_Gd' -2916.724006700171]\n",
      " ['HeatingQC_Po' 3587.0896237829634]\n",
      " ['HeatingQC_TA' -2451.7253101156525]\n",
      " ['CentralAir_N' -684.2218123030985]\n",
      " ['CentralAir_Y' 684.2218123358199]\n",
      " ['Electrical_FuseA' -11431.65887587858]\n",
      " ['Electrical_FuseF' -11322.125448703298]\n",
      " ['Electrical_FuseP' -11283.962383658423]\n",
      " ['Electrical_Mix' -3.637978807091713e-11]\n",
      " ['Electrical_SBrkr' -13370.518414380971]\n",
      " ['KitchenQual_Ex' 14654.37396227763]\n",
      " ['KitchenQual_Fa' -2408.582560754561]\n",
      " ['KitchenQual_Gd' -5978.092226830132]\n",
      " ['KitchenQual_TA' -6267.699174573499]\n",
      " ['Functional_Maj1' 405.73042162885395]\n",
      " ['Functional_Maj2' -1786.4733907675927]\n",
      " ['Functional_Min1' 9616.722135661712]\n",
      " ['Functional_Min2' 14187.446174949098]\n",
      " ['Functional_Mod' -3344.6723208443454]\n",
      " ['Functional_Sev' -38489.53914158825]\n",
      " ['Functional_Typ' 19410.78612097806]\n",
      " ['FireplaceQu_Ex' 1536.9748267873708]\n",
      " ['FireplaceQu_Fa' -10274.049590922274]\n",
      " ['FireplaceQu_Gd' -5690.018250356593]\n",
      " ['FireplaceQu_Po' -730.7788202154961]\n",
      " ['FireplaceQu_TA' -5593.268700246396]\n",
      " ['GarageType_2Types' -23505.040952269526]\n",
      " ['GarageType_Attchd' -1921.3344338206348]\n",
      " ['GarageType_Basment' 704.6006294073597]\n",
      " ['GarageType_BuiltIn' -4484.584673661078]\n",
      " ['GarageType_CarPort' 5595.748999115856]\n",
      " ['GarageType_Detchd' 2842.5901735567154]\n",
      " ['GarageFinish_Fin' -6064.221066935701]\n",
      " ['GarageFinish_RFn' -8223.971635704556]\n",
      " ['GarageFinish_Unf' -6479.82755490406]\n",
      " ['GarageQual_Ex' 90280.80934821133]\n",
      " ['GarageQual_Fa' -25725.726270160212]\n",
      " ['GarageQual_Gd' -12805.317613465724]\n",
      " ['GarageQual_Po' -53789.176523908674]\n",
      " ['GarageQual_TA' -18728.609198376987]\n",
      " ['GarageCond_Ex' -86651.44879487711]\n",
      " ['GarageCond_Fa' 14015.193557163737]\n",
      " ['GarageCond_Gd' 18407.721206422724]\n",
      " ['GarageCond_Po' 17732.91085052509]\n",
      " ['GarageCond_TA' 15727.602923166925]\n",
      " ['PavedDrive_N' 2295.378245883441]\n",
      " ['PavedDrive_P' -3756.92378705918]\n",
      " ['PavedDrive_Y' 1461.5455411521984]\n",
      " ['PoolQC_Ex' -3361119.064470995]\n",
      " ['PoolQC_Fa' -1699059.19766428]\n",
      " ['PoolQC_Gd' -3687824.094308066]\n",
      " ['Fence_GdPrv' -7812.37204226419]\n",
      " ['Fence_GdWo' -741.6777256974254]\n",
      " ['Fence_MnPrv' -1003.6355463849237]\n",
      " ['Fence_MnWw' -7243.8742231438755]\n",
      " ['MiscFeature_Gar2' -56812.45966277218]\n",
      " ['MiscFeature_Othr' 6620.612491798117]\n",
      " ['MiscFeature_Shed' -184.723425343476]\n",
      " ['MiscFeature_TenC' -1699059.197664248]\n",
      " ['SaleType_COD' -8066.244531360528]\n",
      " ['SaleType_CWD' 4278.31869492001]\n",
      " ['SaleType_Con' 15364.02001623243]\n",
      " ['SaleType_ConLD' 3481.6694387576827]\n",
      " ['SaleType_ConLI' -3254.918162675472]\n",
      " ['SaleType_ConLw' -9206.534413523666]\n",
      " ['SaleType_New' 7593.810272024643]\n",
      " ['SaleType_Oth' -935.8021328764019]\n",
      " ['SaleType_WD' -9254.319181582052]\n",
      " ['SaleCondition_Abnorml' -4173.694809989139]\n",
      " ['SaleCondition_AdjLand' 4106.744432113114]\n",
      " ['SaleCondition_Alloca' 3934.010893476769]\n",
      " ['SaleCondition_Family' -5679.999877606187]\n",
      " ['SaleCondition_Normal' 2237.7956102493513]\n",
      " ['SaleCondition_Partial' -424.85624835067256]]\n"
     ]
    }
   ],
   "source": [
    "# run linear regression with full data\n",
    "X = train.loc[:,'MSSubClass':'SaleCondition']\n",
    "y = train.loc[:,'SalePrice']\n",
    "X = pd.get_dummies(X);\n",
    "mae, kaggle, mape = [], [], []\n",
    "for i in range(1,10):\n",
    "    X_train, X_test, y_train, y_test = train_test_split(X, y, test_size=0.1)\n",
    "    X_train = X_train.fillna(X_train.mean())\n",
    "    X_test = X_test.fillna(X_test.mean())\n",
    "\n",
    "    lm = linear_model.LinearRegression()\n",
    "    model = lm.fit(X_train, y_train)\n",
    "    test_predictions = model.predict(X_test)\n",
    "    mae.append(mean_absolute_error(y_test, test_predictions))\n",
    "    kaggle.append(kaggle_score(y_test, np.abs(test_predictions)))\n",
    "    mape.append(mean_absolute_percentage_error(y_test, test_predictions))\n",
    "\n",
    "print(\"Test MAE:\", np.mean(mae))\n",
    "print(\"Test Kaggle-Score:\", np.mean(kaggle))\n",
    "print(\"Test MAPE:\", np.mean(mape))\n",
    "print (\"Intercept:\", model.intercept_)\n",
    "combined = np.vstack((X.columns, model.coef_)).T\n",
    "print(combined)"
   ]
  },
  {
   "cell_type": "markdown",
   "metadata": {
    "id": "eF4Yw-mu1vPX"
   },
   "source": [
    "[Dummy encoding](https://github.com/tevfikaytekin/data_science/blob/master/collin_dummy.ipynb)"
   ]
  },
  {
   "cell_type": "code",
   "execution_count": null,
   "metadata": {
    "colab": {
     "base_uri": "https://localhost:8080/"
    },
    "executionInfo": {
     "elapsed": 233,
     "status": "ok",
     "timestamp": 1675863787712,
     "user": {
      "displayName": "Tevfik Aytekin",
      "userId": "03705756795675396046"
     },
     "user_tz": -180
    },
    "id": "QnhffeHq1vPX",
    "outputId": "ac2e42e1-f7a9-4e49-cd6e-670ee7b2fb08"
   },
   "outputs": [],
   "source": [
    "# Cross validation with a single line\n",
    "X = X.fillna(X.mean()) #!!! Test data is used in the mean\n",
    "result = cross_val_score(model, X, y, scoring=\"neg_mean_absolute_error\", cv = 5)\n",
    "print(result)\n"
   ]
  },
  {
   "cell_type": "markdown",
   "metadata": {
    "id": "_LGiY6sF1vPX"
   },
   "source": [
    "### Scaling and centering\n",
    "In regression scaling is important for interpreting the resulting coefficients. And centering is important in order not to create correlated variables in creating polynomial terms. \n",
    "\n",
    "#### min-max scaling\n",
    "\n",
    "$$\n",
    "x_i = \\frac{x_i - x_{min}}{x_{max}-x_{min}}\n",
    "$$\n",
    "\n",
    "where $x$ is a feature vector (a column of the data matrix), $x_i$ is the original value, $x_{min}$ is the minimum and $x_{max}$ is the maximum value in $x$. "
   ]
  },
  {
   "cell_type": "code",
   "execution_count": 95,
   "metadata": {
    "colab": {
     "base_uri": "https://localhost:8080/",
     "height": 143
    },
    "executionInfo": {
     "elapsed": 431,
     "status": "ok",
     "timestamp": 1675863792571,
     "user": {
      "displayName": "Tevfik Aytekin",
      "userId": "03705756795675396046"
     },
     "user_tz": -180
    },
    "id": "Bl4wiCSL1vPY",
    "outputId": "04e10637-eb03-4e12-c17a-840211fa01af"
   },
   "outputs": [
    {
     "data": {
      "text/html": [
       "<div>\n",
       "<style scoped>\n",
       "    .dataframe tbody tr th:only-of-type {\n",
       "        vertical-align: middle;\n",
       "    }\n",
       "\n",
       "    .dataframe tbody tr th {\n",
       "        vertical-align: top;\n",
       "    }\n",
       "\n",
       "    .dataframe thead th {\n",
       "        text-align: right;\n",
       "    }\n",
       "</style>\n",
       "<table border=\"1\" class=\"dataframe\">\n",
       "  <thead>\n",
       "    <tr style=\"text-align: right;\">\n",
       "      <th></th>\n",
       "      <th>area</th>\n",
       "      <th>built</th>\n",
       "      <th>price</th>\n",
       "    </tr>\n",
       "  </thead>\n",
       "  <tbody>\n",
       "    <tr>\n",
       "      <th>5</th>\n",
       "      <td>100</td>\n",
       "      <td>1990</td>\n",
       "      <td>100000</td>\n",
       "    </tr>\n",
       "    <tr>\n",
       "      <th>10</th>\n",
       "      <td>120</td>\n",
       "      <td>2002</td>\n",
       "      <td>150000</td>\n",
       "    </tr>\n",
       "    <tr>\n",
       "      <th>15</th>\n",
       "      <td>90</td>\n",
       "      <td>2012</td>\n",
       "      <td>120000</td>\n",
       "    </tr>\n",
       "  </tbody>\n",
       "</table>\n",
       "</div>"
      ],
      "text/plain": [
       "    area  built   price\n",
       "5    100   1990  100000\n",
       "10   120   2002  150000\n",
       "15    90   2012  120000"
      ]
     },
     "execution_count": 95,
     "metadata": {},
     "output_type": "execute_result"
    }
   ],
   "source": [
    "# create a DataFrame \n",
    "df = pd.DataFrame([[100, 1990, 100000],\n",
    "                  [120, 2002, 150000],\n",
    "                  [90, 2012, 120000]],\n",
    "                 index = [5, 10,15],\n",
    "                 columns = [\"area\",\"built\",\"price\"])\n",
    "df"
   ]
  },
  {
   "cell_type": "code",
   "execution_count": 96,
   "metadata": {
    "colab": {
     "base_uri": "https://localhost:8080/"
    },
    "executionInfo": {
     "elapsed": 264,
     "status": "ok",
     "timestamp": 1675872469841,
     "user": {
      "displayName": "Tevfik Aytekin",
      "userId": "03705756795675396046"
     },
     "user_tz": -180
    },
    "id": "p_DzUuDR1vPY",
    "outputId": "6588afb9-fd70-4489-8e5c-5cb8c73715ca"
   },
   "outputs": [
    {
     "name": "stdout",
     "output_type": "stream",
     "text": [
      "[120.00 2012.00 150000.00]\n",
      "[90.00 1990.00 100000.00]\n"
     ]
    }
   ],
   "source": [
    "from sklearn.preprocessing import MinMaxScaler\n",
    "scaler = MinMaxScaler()\n",
    "scaler = scaler.fit(df)\n",
    "print(scaler.data_max_)\n",
    "print(scaler.data_min_)"
   ]
  },
  {
   "cell_type": "code",
   "execution_count": 97,
   "metadata": {
    "id": "89ctio-s1vPZ",
    "outputId": "efbb57f1-4127-45b5-9901-945c533939ca"
   },
   "outputs": [
    {
     "name": "stdout",
     "output_type": "stream",
     "text": [
      "[[0.33 0.00 0.00]\n",
      " [1.00 0.55 1.00]\n",
      " [0.00 1.00 0.40]]\n"
     ]
    }
   ],
   "source": [
    "print(scaler.transform(df))"
   ]
  },
  {
   "cell_type": "markdown",
   "metadata": {
    "id": "CeJgmOWq1vPZ"
   },
   "source": [
    "#### Standard scaling\n",
    "\n",
    "$$\n",
    "x_i = \\frac{x_i - \\bar{x}}{s_x}\n",
    "$$\n",
    "\n",
    "where $x$ is a feature vector (a column of the data matrix), $x_i$ is the original value, $\\bar{x}$ is the mean of $x$ and $s_x$ is the std of $x$. "
   ]
  },
  {
   "cell_type": "code",
   "execution_count": 98,
   "metadata": {
    "colab": {
     "base_uri": "https://localhost:8080/"
    },
    "executionInfo": {
     "elapsed": 271,
     "status": "ok",
     "timestamp": 1675872473599,
     "user": {
      "displayName": "Tevfik Aytekin",
      "userId": "03705756795675396046"
     },
     "user_tz": -180
    },
    "id": "P7b4Y0Dt1vPa",
    "outputId": "0a1341b9-3aaa-45c5-f3fa-2d5f3ae864cc"
   },
   "outputs": [
    {
     "name": "stdout",
     "output_type": "stream",
     "text": [
      "[[-0.27 -1.26 -1.14]\n",
      " [1.34 0.07 1.30]\n",
      " [-1.07 1.19 -0.16]]\n"
     ]
    }
   ],
   "source": [
    "from sklearn.preprocessing import StandardScaler\n",
    "scaler = StandardScaler()\n",
    "scaler = scaler.fit(df)\n",
    "print(scaler.transform(df))"
   ]
  },
  {
   "cell_type": "markdown",
   "metadata": {
    "id": "sgYX6iQL1vPa"
   },
   "source": [
    "### Example"
   ]
  },
  {
   "cell_type": "code",
   "execution_count": 99,
   "metadata": {
    "colab": {
     "base_uri": "https://localhost:8080/"
    },
    "executionInfo": {
     "elapsed": 323,
     "status": "ok",
     "timestamp": 1675872483831,
     "user": {
      "displayName": "Tevfik Aytekin",
      "userId": "03705756795675396046"
     },
     "user_tz": -180
    },
    "id": "_YItcP9B1vPa",
    "outputId": "90241293-1141-4e96-c400-f247a1a8dfbf"
   },
   "outputs": [
    {
     "name": "stdout",
     "output_type": "stream",
     "text": [
      "Test MAE: 34459.729496464635\n",
      "Test Kaggle-score: 0.24618875137547064\n",
      "Test MAPE: 19.329265225013113\n",
      "Intercept: -40324.439581674\n",
      "[['GrLivArea' 437476.08135993185]\n",
      " ['YearBuilt' 142728.64505857904]]\n",
      "[[0.19 0.97]\n",
      " [0.24 0.20]\n",
      " [0.31 0.99]\n",
      " ...\n",
      " [0.26 0.59]\n",
      " [0.27 0.49]\n",
      " [0.53 0.06]]\n"
     ]
    }
   ],
   "source": [
    "X = train.loc[:,['GrLivArea','YearBuilt']]\n",
    "y = train.loc[:,'SalePrice']\n",
    "#X = pd.get_dummies(X)\n",
    "X_train, X_test, y_train, y_test = train_test_split(X, y, test_size=0.1)\n",
    "X_train = X_train.fillna(X_train.mean())\n",
    "X_test = X_test.fillna(X_test.mean())\n",
    "\n",
    "scaler = MinMaxScaler()\n",
    "scaler = scaler.fit(X_train)\n",
    "X_train_scaled = scaler.transform(X_train)\n",
    "# test set should be scaled with the scaler trained on the training set.\n",
    "X_test_scaled = scaler.transform(X_test)\n",
    "\n",
    "lm = linear_model.LinearRegression()\n",
    "model = lm.fit(X_train_scaled, y_train)\n",
    "test_predictions = model.predict(X_test_scaled)\n",
    "print(\"Test MAE:\", mean_absolute_error(y_test, test_predictions))\n",
    "print(\"Test Kaggle-score:\", kaggle_score(y_test, np.abs(test_predictions)))\n",
    "print(\"Test MAPE:\", mean_absolute_percentage_error(y_test, test_predictions))\n",
    "print (\"Intercept:\", model.intercept_)\n",
    "combined = np.vstack((X.columns, model.coef_)).T\n",
    "print(combined)\n",
    "print(X_train_scaled)"
   ]
  },
  {
   "cell_type": "markdown",
   "metadata": {
    "id": "KChyED9l1vPa"
   },
   "source": [
    "### Overfitting"
   ]
  },
  {
   "cell_type": "code",
   "execution_count": 100,
   "metadata": {
    "id": "3aJ2Pies1vPb",
    "outputId": "24357174-6f09-4e3c-ad2b-4b471d830ba8"
   },
   "outputs": [
    {
     "name": "stdout",
     "output_type": "stream",
     "text": [
      "(38, 1) (38,)\n",
      "(5, 1) (5,)\n"
     ]
    },
    {
     "data": {
      "text/plain": [
       "[<matplotlib.lines.Line2D at 0x7ffdb2257d10>]"
      ]
     },
     "execution_count": 100,
     "metadata": {},
     "output_type": "execute_result"
    },
    {
     "data": {
      "image/png": "[encoded data removed]",
      "text/plain": [
       "<Figure size 432x288 with 1 Axes>"
      ]
     },
     "metadata": {
      "needs_background": "light"
     },
     "output_type": "display_data"
    }
   ],
   "source": [
    "train2 = train[(train.GrLivArea < 4000) & (train.SalePrice < 400000)]\n",
    "train3 = train2.sample(frac=0.03)\n",
    "X = train3[['GrLivArea']]\n",
    "y = train3['SalePrice']\n",
    "\n",
    "X_train, X_test, y_train, y_test = train_test_split(X, y, test_size=0.1)\n",
    "print (X_train.shape, y_train.shape)\n",
    "print (X_test.shape, y_test.shape)\n",
    "plt.scatter(X_train, y_train)\n",
    "\n",
    "model_slr = linear_model.LinearRegression()\n",
    "model = model_slr.fit(X_train, y_train)\n",
    "train_predictions = model_slr.predict(X_train)\n",
    "test_predictions = model_slr.predict(X_test)\n",
    "\n",
    "plt.scatter(X_train, y_train,  color='black')\n",
    "plt.plot(X_train, train_predictions, color='blue', linewidth=3)"
   ]
  },
  {
   "cell_type": "code",
   "execution_count": 101,
   "metadata": {
    "id": "12IlvFl31vPb",
    "outputId": "5c0bd687-d37d-46ff-ce02-2cecd0db98ff"
   },
   "outputs": [
    {
     "data": {
      "text/plain": [
       "[<matplotlib.lines.Line2D at 0x7ffdb18a7ed0>]"
      ]
     },
     "execution_count": 101,
     "metadata": {},
     "output_type": "execute_result"
    },
    {
     "data": {
      "image/png": "[encoded data removed]",
      "text/plain": [
       "<Figure size 432x288 with 1 Axes>"
      ]
     },
     "metadata": {
      "needs_background": "light"
     },
     "output_type": "display_data"
    }
   ],
   "source": [
    "# Add poynomial features\n",
    "X = np.array([7,6,5,4,3,2,1])\n",
    "y = np.array([1,2,3,4,6,6,7])\n",
    "y = -y**2\n",
    "X = X.reshape(-1,1)\n",
    "\n",
    "model = linear_model.LinearRegression()\n",
    "model = model.fit(X, y)\n",
    "\n",
    "train_predictions = model.predict(X)\n",
    "\n",
    "plt.scatter(X, y,  color='black')\n",
    "plt.plot(X, train_predictions, color='blue', linewidth=3)\n",
    "\n"
   ]
  },
  {
   "cell_type": "code",
   "execution_count": 103,
   "metadata": {
    "id": "H5YNXkmN1vPb",
    "outputId": "1061089f-7a8d-4b85-fdc7-3363b149956b"
   },
   "outputs": [
    {
     "name": "stdout",
     "output_type": "stream",
     "text": [
      "[[ 7 49]\n",
      " [ 6 36]\n",
      " [ 5 25]\n",
      " [ 4 16]\n",
      " [ 3  9]\n",
      " [ 2  4]\n",
      " [ 1  1]]\n",
      "[13.25 -0.61]\n",
      "-62.4285714285714\n"
     ]
    },
    {
     "data": {
      "image/png": "[encoded data removed]",
      "text/plain": [
       "<Figure size 432x288 with 1 Axes>"
      ]
     },
     "metadata": {
      "needs_background": "light"
     },
     "output_type": "display_data"
    }
   ],
   "source": [
    "# Add poynomial features\n",
    "X = np.array([7,6,5,4,3,2,1])\n",
    "y = np.array([1,2,3,4,6,6,7])\n",
    "y = -y**2\n",
    "X = X.reshape(-1,1)\n",
    "X = np.c_[X,X**2]\n",
    "model = linear_model.LinearRegression()\n",
    "model = model.fit(X, y)\n",
    "X2 = np.linspace(1,7,100)\n",
    "X2 = X2.reshape(-1,1)\n",
    "X2 = np.c_[X2,X2**2]\n",
    "train_predictions = model.predict(X2)\n",
    "\n",
    "plt.scatter(X[:,0], y,  color='black')\n",
    "plt.plot(X2[:,0], train_predictions, color='blue', linewidth=3)\n",
    "print(X)\n",
    "print(model.coef_)\n",
    "print(model.intercept_)"
   ]
  },
  {
   "cell_type": "code",
   "execution_count": 104,
   "metadata": {
    "id": "Aiqjhnzn1vPb",
    "outputId": "2504353c-a076-46aa-d26e-7cfa7e97bd65"
   },
   "outputs": [
    {
     "name": "stdout",
     "output_type": "stream",
     "text": [
      "[3.93 7.14 6.47 -0.50 -6.86 4.27 -1.06 0.12 -0.01]\n",
      "-62.50258416955434\n"
     ]
    },
    {
     "data": {
      "image/png": "[encoded data removed]",
      "text/plain": [
       "<Figure size 432x288 with 1 Axes>"
      ]
     },
     "metadata": {
      "needs_background": "light"
     },
     "output_type": "display_data"
    }
   ],
   "source": [
    "# Add poynomial features\n",
    "X = np.array([7,6,5,4,3,2,1])\n",
    "y = np.array([1,2,3,4,6,6,7])\n",
    "y = -y**2\n",
    "X = X.reshape(-1,1)\n",
    "X = np.c_[X,X**2,X**3,X**4,X**5,X**6,X**7,X**8,X**9]\n",
    "# Add more polynomial features and plot the result\n",
    "model = linear_model.LinearRegression()\n",
    "model = model.fit(X, y)\n",
    "\n",
    "X2 = np.linspace(1,7,100)\n",
    "X2 = X2.reshape(-1,1)\n",
    "X2 = np.c_[X2,X2**2,X2**3,X2**4,X2**5,X2**6,X2**7,X2**8,X2**9]\n",
    "train_predictions = model.predict(X2)\n",
    "\n",
    "plt.scatter(X[:,0], y,  color='black')\n",
    "plt.plot(X2[:,0], train_predictions, color='blue', linewidth=3)\n",
    "print(model.coef_)\n",
    "print(model.intercept_)"
   ]
  },
  {
   "cell_type": "markdown",
   "metadata": {
    "id": "KNZKHA0E1vPc"
   },
   "source": [
    "### Ridge Regression"
   ]
  },
  {
   "cell_type": "code",
   "execution_count": 105,
   "metadata": {
    "id": "OFrLCUCo1vPc",
    "outputId": "6bb5d85d-eff1-435c-d7de-0e000e4a3de9"
   },
   "outputs": [
    {
     "name": "stdout",
     "output_type": "stream",
     "text": [
      "[0.17 0.32 0.34 0.12 -0.16 0.11 -0.03 0.00 -0.00]\n",
      "-46.628314514269405\n"
     ]
    },
    {
     "data": {
      "image/png": "[encoded data removed]",
      "text/plain": [
       "<Figure size 432x288 with 1 Axes>"
      ]
     },
     "metadata": {
      "needs_background": "light"
     },
     "output_type": "display_data"
    }
   ],
   "source": [
    "from sklearn.linear_model import Ridge\n",
    "X = np.array([7,6,5,4,3,2,1])\n",
    "y = np.array([1,2,3,4,6,6,7])\n",
    "y = -y**2\n",
    "X = X.reshape(-1,1)\n",
    "X = np.c_[X,X**2,X**3,X**4,X**5,X**6,X**7,X**8,X**9]\n",
    "# Add more polynomial features and plot the result\n",
    "model = linear_model.Ridge(alpha=10)\n",
    "# play with the value of alpha and see its effect.\n",
    "model = model.fit(X, y)\n",
    "\n",
    "X2 = np.linspace(1,7,100)\n",
    "X2 = X2.reshape(-1,1)\n",
    "X2 = np.c_[X2,X2**2,X2**3,X2**4,X2**5,X2**6,X2**7,X2**8,X2**9]\n",
    "train_predictions = model.predict(X2)\n",
    "\n",
    "plt.scatter(X[:,0], y,  color='black')\n",
    "plt.plot(X2[:,0], train_predictions, color='blue', linewidth=3)\n",
    "print(model.coef_)\n",
    "print(model.intercept_)"
   ]
  },
  {
   "cell_type": "markdown",
   "metadata": {
    "id": "foMLc-hU1vPc"
   },
   "source": [
    "### PolynomialFeatures method in Python"
   ]
  },
  {
   "cell_type": "code",
   "execution_count": null,
   "metadata": {
    "id": "dD8ujx261vPd",
    "outputId": "551103cf-cbe4-4907-f201-0f7ea34796f8"
   },
   "outputs": [],
   "source": [
    "from sklearn.preprocessing import PolynomialFeatures\n",
    "X = train.loc[:,['GrLivArea','BedroomAbvGr']]\n",
    "y = train.loc[:,'SalePrice']\n",
    "X = X.fillna(X.mean())\n",
    "poly = PolynomialFeatures(degree=2, include_bias=False)\n",
    "X = poly.fit_transform(X)\n",
    "mae, kaggle, mape = [], [], []\n",
    "for i in range(1,10):\n",
    "    X_train, X_test, y_train, y_test = train_test_split(X, y, test_size=0.1)\n",
    "    #X = X.fillna(X.mean()) #is this ok?\n",
    "    #X_train = X_train.fillna(X_train.mean())\n",
    "    #X_test = X_test.fillna(X_test.mean())\n",
    "\n",
    "    lm = linear_model.LinearRegression()\n",
    "    model = lm.fit(X_train, y_train)\n",
    "    test_predictions = model.predict(X_test)\n",
    "    mae.append(mean_absolute_error(y_test, test_predictions))\n",
    "    kaggle.append(kaggle_score(y_test, test_predictions))\n",
    "    mape.append(mean_absolute_percentage_error(y_test, test_predictions))\n",
    "\n",
    "print(\"Test MAE:\", np.mean(mae))\n",
    "print(\"Test Kaggle-Score:\", np.mean(kaggle))\n",
    "print(\"Test MAPE:\", np.mean(mape))\n",
    "print (\"Intercept:\", model.intercept_)\n",
    "print(X);"
   ]
  },
  {
   "cell_type": "markdown",
   "metadata": {
    "id": "AnfXQjYL1vPd"
   },
   "source": [
    "### Batch Gradient Descent Implementation"
   ]
  },
  {
   "cell_type": "code",
   "execution_count": 110,
   "metadata": {},
   "outputs": [],
   "source": [
    "class MyLinearRegression:\n",
    "    \n",
    "    def cost(self, X, y, w, b):\n",
    "        return np.sum(np.abs((np.dot(X,w) + b) - y))/X.shape[0]\n",
    "\n",
    "    def __init__(self, n_iter = 100, learning_rate = 0.1, anim = False):\n",
    "        self.n_iter = n_iter\n",
    "        self.learning_rate = learning_rate\n",
    "        self.cost_array = []\n",
    "        self.anim = anim\n",
    "    def predict(self, X):\n",
    "        \n",
    "        preds = np.dot(X, self.w) + self.b\n",
    "        return preds.reshape(-1)\n",
    "\n",
    "    # Define the update function for the animation\n",
    "    def update(self, i):\n",
    "        y = np.dot(self.X,self.dw_array[i,:]) + self.b\n",
    "        self.line.set_data(self.X, y)\n",
    "        self.ax.set_title(f'Epoch {i}, Loss: {self.cost_array[i]:.4f}')\n",
    "        return self.line,\n",
    "   \n",
    "    def fit(self, X, y):\n",
    "        self.X = X\n",
    "        self.y = y\n",
    "        n_features = X.shape[1]\n",
    "        self.dw_array = np.zeros([self.n_iter, n_features])\n",
    "        self.b_array = np.zeros(self.n_iter)\n",
    "\n",
    "        self.w = np.random.rand(n_features,1)\n",
    "        self.b = np.random.rand()\n",
    "        m = X.shape[0]\n",
    "        y = y.reshape(y.size, 1)\n",
    "\n",
    "        \n",
    "        for iters in range(self.n_iter):\n",
    "            c = self.cost(X,y,self.w,self.b)\n",
    "            self.cost_array.append(c) \n",
    "            w_back = copy.deepcopy(self.w)\n",
    "            for j in range(n_features): \n",
    "                dw = 0\n",
    "                for i in range(m):\n",
    "                    dw = dw + (y[i] - (np.dot(X[i].reshape([1,n_features]), w_back) + self.b)) * X[i,j]\n",
    "                self.w[j] = w_back[j] + self.learning_rate * dw/m;\n",
    "                self.dw_array[iters, j] = self.w[j]\n",
    "            db = 0\n",
    "            for i in range(m):\n",
    "                db = db + (y[i] - (np.dot(X[i].reshape([1,n_features]), w_back) + self.b))\n",
    "            self.b = self.b + self.learning_rate * db/m;\n",
    "            self.b_array[iters] = self.b\n",
    "\n",
    "            \n",
    "        if self.anim == True:\n",
    "            self.fig, self.ax = plt.subplots()\n",
    "            self.ax.scatter(X, y,  color='black')\n",
    "            self.line, = self.ax.plot([], [], lw=2)\n",
    "                \n",
    "            # Create the animation object and display it in the notebook\n",
    "            self.anim = FuncAnimation(self.fig, self.update, frames=self.n_iter, interval=200)\n",
    "            plt.show()\n"
   ]
  },
  {
   "cell_type": "code",
   "execution_count": 111,
   "metadata": {},
   "outputs": [],
   "source": [
    "X = train.loc[:,['GrLivArea']]\n",
    "y = train.loc[:,'SalePrice']\n",
    "X = X.to_numpy()\n",
    "y = y.to_numpy()\n",
    "#scaler = MinMaxScaler()\n",
    "#scaler = scaler.fit(X)\n",
    "#X = scaler.transform(X)"
   ]
  },
  {
   "cell_type": "code",
   "execution_count": 121,
   "metadata": {},
   "outputs": [
    {
     "data": {
      "application/javascript": [
       "/* Put everything inside the global mpl namespace */\n",
       "/* global mpl */\n",
       "window.mpl = {};\n",
       "\n",
       "mpl.get_websocket_type = function () {\n",
       "    if (typeof WebSocket !== 'undefined') {\n",
       "        return WebSocket;\n",
       "    } else if (typeof MozWebSocket !== 'undefined') {\n",
       "        return MozWebSocket;\n",
       "    } else {\n",
       "        alert(\n",
       "            'Your browser does not have WebSocket support. ' +\n",
       "                'Please try Chrome, Safari or Firefox ≥ 6. ' +\n",
       "                'Firefox 4 and 5 are also supported but you ' +\n",
       "                'have to enable WebSockets in about:config.'\n",
       "        );\n",
       "    }\n",
       "};\n",
       "\n",
       "mpl.figure = function (figure_id, websocket, ondownload, parent_element) {\n",
       "    this.id = figure_id;\n",
       "\n",
       "    this.ws = websocket;\n",
       "\n",
       "    this.supports_binary = this.ws.binaryType !== undefined;\n",
       "\n",
       "    if (!this.supports_binary) {\n",
       "        var warnings = document.getElementById('mpl-warnings');\n",
       "        if (warnings) {\n",
       "            warnings.style.display = 'block';\n",
       "            warnings.textContent =\n",
       "                'This browser does not support binary websocket messages. ' +\n",
       "                'Performance may be slow.';\n",
       "        }\n",
       "    }\n",
       "\n",
       "    this.imageObj = new Image();\n",
       "\n",
       "    this.context = undefined;\n",
       "    this.message = undefined;\n",
       "    this.canvas = undefined;\n",
       "    this.rubberband_canvas = undefined;\n",
       "    this.rubberband_context = undefined;\n",
       "    this.format_dropdown = undefined;\n",
       "\n",
       "    this.image_mode = 'full';\n",
       "\n",
       "    this.root = document.createElement('div');\n",
       "    this.root.setAttribute('style', 'display: inline-block');\n",
       "    this._root_extra_style(this.root);\n",
       "\n",
       "    parent_element.appendChild(this.root);\n",
       "\n",
       "    this._init_header(this);\n",
       "    this._init_canvas(this);\n",
       "    this._init_toolbar(this);\n",
       "\n",
       "    var fig = this;\n",
       "\n",
       "    this.waiting = false;\n",
       "\n",
       "    this.ws.onopen = function () {\n",
       "        fig.send_message('supports_binary', { value: fig.supports_binary });\n",
       "        fig.send_message('send_image_mode', {});\n",
       "        if (fig.ratio !== 1) {\n",
       "            fig.send_message('set_device_pixel_ratio', {\n",
       "                device_pixel_ratio: fig.ratio,\n",
       "            });\n",
       "        }\n",
       "        fig.send_message('refresh', {});\n",
       "    };\n",
       "\n",
       "    this.imageObj.onload = function () {\n",
       "        if (fig.image_mode === 'full') {\n",
       "            // Full images could contain transparency (where diff images\n",
       "            // almost always do), so we need to clear the canvas so that\n",
       "            // there is no ghosting.\n",
       "            fig.context.clearRect(0, 0, fig.canvas.width, fig.canvas.height);\n",
       "        }\n",
       "        fig.context.drawImage(fig.imageObj, 0, 0);\n",
       "    };\n",
       "\n",
       "    this.imageObj.onunload = function () {\n",
       "        fig.ws.close();\n",
       "    };\n",
       "\n",
       "    this.ws.onmessage = this._make_on_message_function(this);\n",
       "\n",
       "    this.ondownload = ondownload;\n",
       "};\n",
       "\n",
       "mpl.figure.prototype._init_header = function () {\n",
       "    var titlebar = document.createElement('div');\n",
       "    titlebar.classList =\n",
       "        'ui-dialog-titlebar ui-widget-header ui-corner-all ui-helper-clearfix';\n",
       "    var titletext = document.createElement('div');\n",
       "    titletext.classList = 'ui-dialog-title';\n",
       "    titletext.setAttribute(\n",
       "        'style',\n",
       "        'width: 100%; text-align: center; padding: 3px;'\n",
       "    );\n",
       "    titlebar.appendChild(titletext);\n",
       "    this.root.appendChild(titlebar);\n",
       "    this.header = titletext;\n",
       "};\n",
       "\n",
       "mpl.figure.prototype._canvas_extra_style = function (_canvas_div) {};\n",
       "\n",
       "mpl.figure.prototype._root_extra_style = function (_canvas_div) {};\n",
       "\n",
       "mpl.figure.prototype._init_canvas = function () {\n",
       "    var fig = this;\n",
       "\n",
       "    var canvas_div = (this.canvas_div = document.createElement('div'));\n",
       "    canvas_div.setAttribute(\n",
       "        'style',\n",
       "        'border: 1px solid #ddd;' +\n",
       "            'box-sizing: content-box;' +\n",
       "            'clear: both;' +\n",
       "            'min-height: 1px;' +\n",
       "            'min-width: 1px;' +\n",
       "            'outline: 0;' +\n",
       "            'overflow: hidden;' +\n",
       "            'position: relative;' +\n",
       "            'resize: both;'\n",
       "    );\n",
       "\n",
       "    function on_keyboard_event_closure(name) {\n",
       "        return function (event) {\n",
       "            return fig.key_event(event, name);\n",
       "        };\n",
       "    }\n",
       "\n",
       "    canvas_div.addEventListener(\n",
       "        'keydown',\n",
       "        on_keyboard_event_closure('key_press')\n",
       "    );\n",
       "    canvas_div.addEventListener(\n",
       "        'keyup',\n",
       "        on_keyboard_event_closure('key_release')\n",
       "    );\n",
       "\n",
       "    this._canvas_extra_style(canvas_div);\n",
       "    this.root.appendChild(canvas_div);\n",
       "\n",
       "    var canvas = (this.canvas = document.createElement('canvas'));\n",
       "    canvas.classList.add('mpl-canvas');\n",
       "    canvas.setAttribute('style', 'box-sizing: content-box;');\n",
       "\n",
       "    this.context = canvas.getContext('2d');\n",
       "\n",
       "    var backingStore =\n",
       "        this.context.backingStorePixelRatio ||\n",
       "        this.context.webkitBackingStorePixelRatio ||\n",
       "        this.context.mozBackingStorePixelRatio ||\n",
       "        this.context.msBackingStorePixelRatio ||\n",
       "        this.context.oBackingStorePixelRatio ||\n",
       "        this.context.backingStorePixelRatio ||\n",
       "        1;\n",
       "\n",
       "    this.ratio = (window.devicePixelRatio || 1) / backingStore;\n",
       "\n",
       "    var rubberband_canvas = (this.rubberband_canvas = document.createElement(\n",
       "        'canvas'\n",
       "    ));\n",
       "    rubberband_canvas.setAttribute(\n",
       "        'style',\n",
       "        'box-sizing: content-box; position: absolute; left: 0; top: 0; z-index: 1;'\n",
       "    );\n",
       "\n",
       "    // Apply a ponyfill if ResizeObserver is not implemented by browser.\n",
       "    if (this.ResizeObserver === undefined) {\n",
       "        if (window.ResizeObserver !== undefined) {\n",
       "            this.ResizeObserver = window.ResizeObserver;\n",
       "        } else {\n",
       "            var obs = _JSXTOOLS_RESIZE_OBSERVER({});\n",
       "            this.ResizeObserver = obs.ResizeObserver;\n",
       "        }\n",
       "    }\n",
       "\n",
       "    this.resizeObserverInstance = new this.ResizeObserver(function (entries) {\n",
       "        var nentries = entries.length;\n",
       "        for (var i = 0; i < nentries; i++) {\n",
       "            var entry = entries[i];\n",
       "            var width, height;\n",
       "            if (entry.contentBoxSize) {\n",
       "                if (entry.contentBoxSize instanceof Array) {\n",
       "                    // Chrome 84 implements new version of spec.\n",
       "                    width = entry.contentBoxSize[0].inlineSize;\n",
       "                    height = entry.contentBoxSize[0].blockSize;\n",
       "                } else {\n",
       "                    // Firefox implements old version of spec.\n",
       "                    width = entry.contentBoxSize.inlineSize;\n",
       "                    height = entry.contentBoxSize.blockSize;\n",
       "                }\n",
       "            } else {\n",
       "                // Chrome <84 implements even older version of spec.\n",
       "                width = entry.contentRect.width;\n",
       "                height = entry.contentRect.height;\n",
       "            }\n",
       "\n",
       "            // Keep the size of the canvas and rubber band canvas in sync with\n",
       "            // the canvas container.\n",
       "            if (entry.devicePixelContentBoxSize) {\n",
       "                // Chrome 84 implements new version of spec.\n",
       "                canvas.setAttribute(\n",
       "                    'width',\n",
       "                    entry.devicePixelContentBoxSize[0].inlineSize\n",
       "                );\n",
       "                canvas.setAttribute(\n",
       "                    'height',\n",
       "                    entry.devicePixelContentBoxSize[0].blockSize\n",
       "                );\n",
       "            } else {\n",
       "                canvas.setAttribute('width', width * fig.ratio);\n",
       "                canvas.setAttribute('height', height * fig.ratio);\n",
       "            }\n",
       "            canvas.setAttribute(\n",
       "                'style',\n",
       "                'width: ' + width + 'px; height: ' + height + 'px;'\n",
       "            );\n",
       "\n",
       "            rubberband_canvas.setAttribute('width', width);\n",
       "            rubberband_canvas.setAttribute('height', height);\n",
       "\n",
       "            // And update the size in Python. We ignore the initial 0/0 size\n",
       "            // that occurs as the element is placed into the DOM, which should\n",
       "            // otherwise not happen due to the minimum size styling.\n",
       "            if (fig.ws.readyState == 1 && width != 0 && height != 0) {\n",
       "                fig.request_resize(width, height);\n",
       "            }\n",
       "        }\n",
       "    });\n",
       "    this.resizeObserverInstance.observe(canvas_div);\n",
       "\n",
       "    function on_mouse_event_closure(name) {\n",
       "        return function (event) {\n",
       "            return fig.mouse_event(event, name);\n",
       "        };\n",
       "    }\n",
       "\n",
       "    rubberband_canvas.addEventListener(\n",
       "        'mousedown',\n",
       "        on_mouse_event_closure('button_press')\n",
       "    );\n",
       "    rubberband_canvas.addEventListener(\n",
       "        'mouseup',\n",
       "        on_mouse_event_closure('button_release')\n",
       "    );\n",
       "    rubberband_canvas.addEventListener(\n",
       "        'dblclick',\n",
       "        on_mouse_event_closure('dblclick')\n",
       "    );\n",
       "    // Throttle sequential mouse events to 1 every 20ms.\n",
       "    rubberband_canvas.addEventListener(\n",
       "        'mousemove',\n",
       "        on_mouse_event_closure('motion_notify')\n",
       "    );\n",
       "\n",
       "    rubberband_canvas.addEventListener(\n",
       "        'mouseenter',\n",
       "        on_mouse_event_closure('figure_enter')\n",
       "    );\n",
       "    rubberband_canvas.addEventListener(\n",
       "        'mouseleave',\n",
       "        on_mouse_event_closure('figure_leave')\n",
       "    );\n",
       "\n",
       "    canvas_div.addEventListener('wheel', function (event) {\n",
       "        if (event.deltaY < 0) {\n",
       "            event.step = 1;\n",
       "        } else {\n",
       "            event.step = -1;\n",
       "        }\n",
       "        on_mouse_event_closure('scroll')(event);\n",
       "    });\n",
       "\n",
       "    canvas_div.appendChild(canvas);\n",
       "    canvas_div.appendChild(rubberband_canvas);\n",
       "\n",
       "    this.rubberband_context = rubberband_canvas.getContext('2d');\n",
       "    this.rubberband_context.strokeStyle = '#000000';\n",
       "\n",
       "    this._resize_canvas = function (width, height, forward) {\n",
       "        if (forward) {\n",
       "            canvas_div.style.width = width + 'px';\n",
       "            canvas_div.style.height = height + 'px';\n",
       "        }\n",
       "    };\n",
       "\n",
       "    // Disable right mouse context menu.\n",
       "    this.rubberband_canvas.addEventListener('contextmenu', function (_e) {\n",
       "        event.preventDefault();\n",
       "        return false;\n",
       "    });\n",
       "\n",
       "    function set_focus() {\n",
       "        canvas.focus();\n",
       "        canvas_div.focus();\n",
       "    }\n",
       "\n",
       "    window.setTimeout(set_focus, 100);\n",
       "};\n",
       "\n",
       "mpl.figure.prototype._init_toolbar = function () {\n",
       "    var fig = this;\n",
       "\n",
       "    var toolbar = document.createElement('div');\n",
       "    toolbar.classList = 'mpl-toolbar';\n",
       "    this.root.appendChild(toolbar);\n",
       "\n",
       "    function on_click_closure(name) {\n",
       "        return function (_event) {\n",
       "            return fig.toolbar_button_onclick(name);\n",
       "        };\n",
       "    }\n",
       "\n",
       "    function on_mouseover_closure(tooltip) {\n",
       "        return function (event) {\n",
       "            if (!event.currentTarget.disabled) {\n",
       "                return fig.toolbar_button_onmouseover(tooltip);\n",
       "            }\n",
       "        };\n",
       "    }\n",
       "\n",
       "    fig.buttons = {};\n",
       "    var buttonGroup = document.createElement('div');\n",
       "    buttonGroup.classList = 'mpl-button-group';\n",
       "    for (var toolbar_ind in mpl.toolbar_items) {\n",
       "        var name = mpl.toolbar_items[toolbar_ind][0];\n",
       "        var tooltip = mpl.toolbar_items[toolbar_ind][1];\n",
       "        var image = mpl.toolbar_items[toolbar_ind][2];\n",
       "        var method_name = mpl.toolbar_items[toolbar_ind][3];\n",
       "\n",
       "        if (!name) {\n",
       "            /* Instead of a spacer, we start a new button group. */\n",
       "            if (buttonGroup.hasChildNodes()) {\n",
       "                toolbar.appendChild(buttonGroup);\n",
       "            }\n",
       "            buttonGroup = document.createElement('div');\n",
       "            buttonGroup.classList = 'mpl-button-group';\n",
       "            continue;\n",
       "        }\n",
       "\n",
       "        var button = (fig.buttons[name] = document.createElement('button'));\n",
       "        button.classList = 'mpl-widget';\n",
       "        button.setAttribute('role', 'button');\n",
       "        button.setAttribute('aria-disabled', 'false');\n",
       "        button.addEventListener('click', on_click_closure(method_name));\n",
       "        button.addEventListener('mouseover', on_mouseover_closure(tooltip));\n",
       "\n",
       "        var icon_img = document.createElement('img');\n",
       "        icon_img.src = '_images/' + image + '.png';\n",
       "        icon_img.srcset = '_images/' + image + '_large.png 2x';\n",
       "        icon_img.alt = tooltip;\n",
       "        button.appendChild(icon_img);\n",
       "\n",
       "        buttonGroup.appendChild(button);\n",
       "    }\n",
       "\n",
       "    if (buttonGroup.hasChildNodes()) {\n",
       "        toolbar.appendChild(buttonGroup);\n",
       "    }\n",
       "\n",
       "    var fmt_picker = document.createElement('select');\n",
       "    fmt_picker.classList = 'mpl-widget';\n",
       "    toolbar.appendChild(fmt_picker);\n",
       "    this.format_dropdown = fmt_picker;\n",
       "\n",
       "    for (var ind in mpl.extensions) {\n",
       "        var fmt = mpl.extensions[ind];\n",
       "        var option = document.createElement('option');\n",
       "        option.selected = fmt === mpl.default_extension;\n",
       "        option.innerHTML = fmt;\n",
       "        fmt_picker.appendChild(option);\n",
       "    }\n",
       "\n",
       "    var status_bar = document.createElement('span');\n",
       "    status_bar.classList = 'mpl-message';\n",
       "    toolbar.appendChild(status_bar);\n",
       "    this.message = status_bar;\n",
       "};\n",
       "\n",
       "mpl.figure.prototype.request_resize = function (x_pixels, y_pixels) {\n",
       "    // Request matplotlib to resize the figure. Matplotlib will then trigger a resize in the client,\n",
       "    // which will in turn request a refresh of the image.\n",
       "    this.send_message('resize', { width: x_pixels, height: y_pixels });\n",
       "};\n",
       "\n",
       "mpl.figure.prototype.send_message = function (type, properties) {\n",
       "    properties['type'] = type;\n",
       "    properties['figure_id'] = this.id;\n",
       "    this.ws.send(JSON.stringify(properties));\n",
       "};\n",
       "\n",
       "mpl.figure.prototype.send_draw_message = function () {\n",
       "    if (!this.waiting) {\n",
       "        this.waiting = true;\n",
       "        this.ws.send(JSON.stringify({ type: 'draw', figure_id: this.id }));\n",
       "    }\n",
       "};\n",
       "\n",
       "mpl.figure.prototype.handle_save = function (fig, _msg) {\n",
       "    var format_dropdown = fig.format_dropdown;\n",
       "    var format = format_dropdown.options[format_dropdown.selectedIndex].value;\n",
       "    fig.ondownload(fig, format);\n",
       "};\n",
       "\n",
       "mpl.figure.prototype.handle_resize = function (fig, msg) {\n",
       "    var size = msg['size'];\n",
       "    if (size[0] !== fig.canvas.width || size[1] !== fig.canvas.height) {\n",
       "        fig._resize_canvas(size[0], size[1], msg['forward']);\n",
       "        fig.send_message('refresh', {});\n",
       "    }\n",
       "};\n",
       "\n",
       "mpl.figure.prototype.handle_rubberband = function (fig, msg) {\n",
       "    var x0 = msg['x0'] / fig.ratio;\n",
       "    var y0 = (fig.canvas.height - msg['y0']) / fig.ratio;\n",
       "    var x1 = msg['x1'] / fig.ratio;\n",
       "    var y1 = (fig.canvas.height - msg['y1']) / fig.ratio;\n",
       "    x0 = Math.floor(x0) + 0.5;\n",
       "    y0 = Math.floor(y0) + 0.5;\n",
       "    x1 = Math.floor(x1) + 0.5;\n",
       "    y1 = Math.floor(y1) + 0.5;\n",
       "    var min_x = Math.min(x0, x1);\n",
       "    var min_y = Math.min(y0, y1);\n",
       "    var width = Math.abs(x1 - x0);\n",
       "    var height = Math.abs(y1 - y0);\n",
       "\n",
       "    fig.rubberband_context.clearRect(\n",
       "        0,\n",
       "        0,\n",
       "        fig.canvas.width / fig.ratio,\n",
       "        fig.canvas.height / fig.ratio\n",
       "    );\n",
       "\n",
       "    fig.rubberband_context.strokeRect(min_x, min_y, width, height);\n",
       "};\n",
       "\n",
       "mpl.figure.prototype.handle_figure_label = function (fig, msg) {\n",
       "    // Updates the figure title.\n",
       "    fig.header.textContent = msg['label'];\n",
       "};\n",
       "\n",
       "mpl.figure.prototype.handle_cursor = function (fig, msg) {\n",
       "    fig.rubberband_canvas.style.cursor = msg['cursor'];\n",
       "};\n",
       "\n",
       "mpl.figure.prototype.handle_message = function (fig, msg) {\n",
       "    fig.message.textContent = msg['message'];\n",
       "};\n",
       "\n",
       "mpl.figure.prototype.handle_draw = function (fig, _msg) {\n",
       "    // Request the server to send over a new figure.\n",
       "    fig.send_draw_message();\n",
       "};\n",
       "\n",
       "mpl.figure.prototype.handle_image_mode = function (fig, msg) {\n",
       "    fig.image_mode = msg['mode'];\n",
       "};\n",
       "\n",
       "mpl.figure.prototype.handle_history_buttons = function (fig, msg) {\n",
       "    for (var key in msg) {\n",
       "        if (!(key in fig.buttons)) {\n",
       "            continue;\n",
       "        }\n",
       "        fig.buttons[key].disabled = !msg[key];\n",
       "        fig.buttons[key].setAttribute('aria-disabled', !msg[key]);\n",
       "    }\n",
       "};\n",
       "\n",
       "mpl.figure.prototype.handle_navigate_mode = function (fig, msg) {\n",
       "    if (msg['mode'] === 'PAN') {\n",
       "        fig.buttons['Pan'].classList.add('active');\n",
       "        fig.buttons['Zoom'].classList.remove('active');\n",
       "    } else if (msg['mode'] === 'ZOOM') {\n",
       "        fig.buttons['Pan'].classList.remove('active');\n",
       "        fig.buttons['Zoom'].classList.add('active');\n",
       "    } else {\n",
       "        fig.buttons['Pan'].classList.remove('active');\n",
       "        fig.buttons['Zoom'].classList.remove('active');\n",
       "    }\n",
       "};\n",
       "\n",
       "mpl.figure.prototype.updated_canvas_event = function () {\n",
       "    // Called whenever the canvas gets updated.\n",
       "    this.send_message('ack', {});\n",
       "};\n",
       "\n",
       "// A function to construct a web socket function for onmessage handling.\n",
       "// Called in the figure constructor.\n",
       "mpl.figure.prototype._make_on_message_function = function (fig) {\n",
       "    return function socket_on_message(evt) {\n",
       "        if (evt.data instanceof Blob) {\n",
       "            var img = evt.data;\n",
       "            if (img.type !== 'image/png') {\n",
       "                /* FIXME: We get \"Resource interpreted as Image but\n",
       "                 * transferred with MIME type text/plain:\" errors on\n",
       "                 * Chrome.  But how to set the MIME type?  It doesn't seem\n",
       "                 * to be part of the websocket stream */\n",
       "                img.type = 'image/png';\n",
       "            }\n",
       "\n",
       "            /* Free the memory for the previous frames */\n",
       "            if (fig.imageObj.src) {\n",
       "                (window.URL || window.webkitURL).revokeObjectURL(\n",
       "                    fig.imageObj.src\n",
       "                );\n",
       "            }\n",
       "\n",
       "            fig.imageObj.src = (window.URL || window.webkitURL).createObjectURL(\n",
       "                img\n",
       "            );\n",
       "            fig.updated_canvas_event();\n",
       "            fig.waiting = false;\n",
       "            return;\n",
       "        } else if (\n",
       "            typeof evt.data === 'string' &&\n",
       "            evt.data.slice(0, 21) === 'data:image/png;base64'\n",
       "        ) {\n",
       "            fig.imageObj.src = evt.data;\n",
       "            fig.updated_canvas_event();\n",
       "            fig.waiting = false;\n",
       "            return;\n",
       "        }\n",
       "\n",
       "        var msg = JSON.parse(evt.data);\n",
       "        var msg_type = msg['type'];\n",
       "\n",
       "        // Call the  \"handle_{type}\" callback, which takes\n",
       "        // the figure and JSON message as its only arguments.\n",
       "        try {\n",
       "            var callback = fig['handle_' + msg_type];\n",
       "        } catch (e) {\n",
       "            console.log(\n",
       "                \"No handler for the '\" + msg_type + \"' message type: \",\n",
       "                msg\n",
       "            );\n",
       "            return;\n",
       "        }\n",
       "\n",
       "        if (callback) {\n",
       "            try {\n",
       "                // console.log(\"Handling '\" + msg_type + \"' message: \", msg);\n",
       "                callback(fig, msg);\n",
       "            } catch (e) {\n",
       "                console.log(\n",
       "                    \"Exception inside the 'handler_\" + msg_type + \"' callback:\",\n",
       "                    e,\n",
       "                    e.stack,\n",
       "                    msg\n",
       "                );\n",
       "            }\n",
       "        }\n",
       "    };\n",
       "};\n",
       "\n",
       "// from https://stackoverflow.com/questions/1114465/getting-mouse-location-in-canvas\n",
       "mpl.findpos = function (e) {\n",
       "    //this section is from http://www.quirksmode.org/js/events_properties.html\n",
       "    var targ;\n",
       "    if (!e) {\n",
       "        e = window.event;\n",
       "    }\n",
       "    if (e.target) {\n",
       "        targ = e.target;\n",
       "    } else if (e.srcElement) {\n",
       "        targ = e.srcElement;\n",
       "    }\n",
       "    if (targ.nodeType === 3) {\n",
       "        // defeat Safari bug\n",
       "        targ = targ.parentNode;\n",
       "    }\n",
       "\n",
       "    // pageX,Y are the mouse positions relative to the document\n",
       "    var boundingRect = targ.getBoundingClientRect();\n",
       "    var x = e.pageX - (boundingRect.left + document.body.scrollLeft);\n",
       "    var y = e.pageY - (boundingRect.top + document.body.scrollTop);\n",
       "\n",
       "    return { x: x, y: y };\n",
       "};\n",
       "\n",
       "/*\n",
       " * return a copy of an object with only non-object keys\n",
       " * we need this to avoid circular references\n",
       " * https://stackoverflow.com/a/24161582/3208463\n",
       " */\n",
       "function simpleKeys(original) {\n",
       "    return Object.keys(original).reduce(function (obj, key) {\n",
       "        if (typeof original[key] !== 'object') {\n",
       "            obj[key] = original[key];\n",
       "        }\n",
       "        return obj;\n",
       "    }, {});\n",
       "}\n",
       "\n",
       "mpl.figure.prototype.mouse_event = function (event, name) {\n",
       "    var canvas_pos = mpl.findpos(event);\n",
       "\n",
       "    if (name === 'button_press') {\n",
       "        this.canvas.focus();\n",
       "        this.canvas_div.focus();\n",
       "    }\n",
       "\n",
       "    var x = canvas_pos.x * this.ratio;\n",
       "    var y = canvas_pos.y * this.ratio;\n",
       "\n",
       "    this.send_message(name, {\n",
       "        x: x,\n",
       "        y: y,\n",
       "        button: event.button,\n",
       "        step: event.step,\n",
       "        guiEvent: simpleKeys(event),\n",
       "    });\n",
       "\n",
       "    /* This prevents the web browser from automatically changing to\n",
       "     * the text insertion cursor when the button is pressed.  We want\n",
       "     * to control all of the cursor setting manually through the\n",
       "     * 'cursor' event from matplotlib */\n",
       "    event.preventDefault();\n",
       "    return false;\n",
       "};\n",
       "\n",
       "mpl.figure.prototype._key_event_extra = function (_event, _name) {\n",
       "    // Handle any extra behaviour associated with a key event\n",
       "};\n",
       "\n",
       "mpl.figure.prototype.key_event = function (event, name) {\n",
       "    // Prevent repeat events\n",
       "    if (name === 'key_press') {\n",
       "        if (event.key === this._key) {\n",
       "            return;\n",
       "        } else {\n",
       "            this._key = event.key;\n",
       "        }\n",
       "    }\n",
       "    if (name === 'key_release') {\n",
       "        this._key = null;\n",
       "    }\n",
       "\n",
       "    var value = '';\n",
       "    if (event.ctrlKey && event.key !== 'Control') {\n",
       "        value += 'ctrl+';\n",
       "    }\n",
       "    else if (event.altKey && event.key !== 'Alt') {\n",
       "        value += 'alt+';\n",
       "    }\n",
       "    else if (event.shiftKey && event.key !== 'Shift') {\n",
       "        value += 'shift+';\n",
       "    }\n",
       "\n",
       "    value += 'k' + event.key;\n",
       "\n",
       "    this._key_event_extra(event, name);\n",
       "\n",
       "    this.send_message(name, { key: value, guiEvent: simpleKeys(event) });\n",
       "    return false;\n",
       "};\n",
       "\n",
       "mpl.figure.prototype.toolbar_button_onclick = function (name) {\n",
       "    if (name === 'download') {\n",
       "        this.handle_save(this, null);\n",
       "    } else {\n",
       "        this.send_message('toolbar_button', { name: name });\n",
       "    }\n",
       "};\n",
       "\n",
       "mpl.figure.prototype.toolbar_button_onmouseover = function (tooltip) {\n",
       "    this.message.textContent = tooltip;\n",
       "};\n",
       "\n",
       "///////////////// REMAINING CONTENT GENERATED BY embed_js.py /////////////////\n",
       "// prettier-ignore\n",
       "var _JSXTOOLS_RESIZE_OBSERVER=function(A){var t,i=new WeakMap,n=new WeakMap,a=new WeakMap,r=new WeakMap,o=new Set;function s(e){if(!(this instanceof s))throw new TypeError(\"Constructor requires 'new' operator\");i.set(this,e)}function h(){throw new TypeError(\"Function is not a constructor\")}function c(e,t,i,n){e=0 in arguments?Number(arguments[0]):0,t=1 in arguments?Number(arguments[1]):0,i=2 in arguments?Number(arguments[2]):0,n=3 in arguments?Number(arguments[3]):0,this.right=(this.x=this.left=e)+(this.width=i),this.bottom=(this.y=this.top=t)+(this.height=n),Object.freeze(this)}function d(){t=requestAnimationFrame(d);var s=new WeakMap,p=new Set;o.forEach((function(t){r.get(t).forEach((function(i){var r=t instanceof window.SVGElement,o=a.get(t),d=r?0:parseFloat(o.paddingTop),f=r?0:parseFloat(o.paddingRight),l=r?0:parseFloat(o.paddingBottom),u=r?0:parseFloat(o.paddingLeft),g=r?0:parseFloat(o.borderTopWidth),m=r?0:parseFloat(o.borderRightWidth),w=r?0:parseFloat(o.borderBottomWidth),b=u+f,F=d+l,v=(r?0:parseFloat(o.borderLeftWidth))+m,W=g+w,y=r?0:t.offsetHeight-W-t.clientHeight,E=r?0:t.offsetWidth-v-t.clientWidth,R=b+v,z=F+W,M=r?t.width:parseFloat(o.width)-R-E,O=r?t.height:parseFloat(o.height)-z-y;if(n.has(t)){var k=n.get(t);if(k[0]===M&&k[1]===O)return}n.set(t,[M,O]);var S=Object.create(h.prototype);S.target=t,S.contentRect=new c(u,d,M,O),s.has(i)||(s.set(i,[]),p.add(i)),s.get(i).push(S)}))})),p.forEach((function(e){i.get(e).call(e,s.get(e),e)}))}return s.prototype.observe=function(i){if(i instanceof window.Element){r.has(i)||(r.set(i,new Set),o.add(i),a.set(i,window.getComputedStyle(i)));var n=r.get(i);n.has(this)||n.add(this),cancelAnimationFrame(t),t=requestAnimationFrame(d)}},s.prototype.unobserve=function(i){if(i instanceof window.Element&&r.has(i)){var n=r.get(i);n.has(this)&&(n.delete(this),n.size||(r.delete(i),o.delete(i))),n.size||r.delete(i),o.size||cancelAnimationFrame(t)}},A.DOMRectReadOnly=c,A.ResizeObserver=s,A.ResizeObserverEntry=h,A}; // eslint-disable-line\n",
       "mpl.toolbar_items = [[\"Home\", \"Reset original view\", \"fa fa-home icon-home\", \"home\"], [\"Back\", \"Back to previous view\", \"fa fa-arrow-left icon-arrow-left\", \"back\"], [\"Forward\", \"Forward to next view\", \"fa fa-arrow-right icon-arrow-right\", \"forward\"], [\"\", \"\", \"\", \"\"], [\"Pan\", \"Left button pans, Right button zooms\\nx/y fixes axis, CTRL fixes aspect\", \"fa fa-arrows icon-move\", \"pan\"], [\"Zoom\", \"Zoom to rectangle\\nx/y fixes axis\", \"fa fa-square-o icon-check-empty\", \"zoom\"], [\"\", \"\", \"\", \"\"], [\"Download\", \"Download plot\", \"fa fa-floppy-o icon-save\", \"download\"]];\n",
       "\n",
       "mpl.extensions = [\"eps\", \"jpeg\", \"pgf\", \"pdf\", \"png\", \"ps\", \"raw\", \"svg\", \"tif\"];\n",
       "\n",
       "mpl.default_extension = \"png\";/* global mpl */\n",
       "\n",
       "var comm_websocket_adapter = function (comm) {\n",
       "    // Create a \"websocket\"-like object which calls the given IPython comm\n",
       "    // object with the appropriate methods. Currently this is a non binary\n",
       "    // socket, so there is still some room for performance tuning.\n",
       "    var ws = {};\n",
       "\n",
       "    ws.binaryType = comm.kernel.ws.binaryType;\n",
       "    ws.readyState = comm.kernel.ws.readyState;\n",
       "    function updateReadyState(_event) {\n",
       "        if (comm.kernel.ws) {\n",
       "            ws.readyState = comm.kernel.ws.readyState;\n",
       "        } else {\n",
       "            ws.readyState = 3; // Closed state.\n",
       "        }\n",
       "    }\n",
       "    comm.kernel.ws.addEventListener('open', updateReadyState);\n",
       "    comm.kernel.ws.addEventListener('close', updateReadyState);\n",
       "    comm.kernel.ws.addEventListener('error', updateReadyState);\n",
       "\n",
       "    ws.close = function () {\n",
       "        comm.close();\n",
       "    };\n",
       "    ws.send = function (m) {\n",
       "        //console.log('sending', m);\n",
       "        comm.send(m);\n",
       "    };\n",
       "    // Register the callback with on_msg.\n",
       "    comm.on_msg(function (msg) {\n",
       "        //console.log('receiving', msg['content']['data'], msg);\n",
       "        var data = msg['content']['data'];\n",
       "        if (data['blob'] !== undefined) {\n",
       "            data = {\n",
       "                data: new Blob(msg['buffers'], { type: data['blob'] }),\n",
       "            };\n",
       "        }\n",
       "        // Pass the mpl event to the overridden (by mpl) onmessage function.\n",
       "        ws.onmessage(data);\n",
       "    });\n",
       "    return ws;\n",
       "};\n",
       "\n",
       "mpl.mpl_figure_comm = function (comm, msg) {\n",
       "    // This is the function which gets called when the mpl process\n",
       "    // starts-up an IPython Comm through the \"matplotlib\" channel.\n",
       "\n",
       "    var id = msg.content.data.id;\n",
       "    // Get hold of the div created by the display call when the Comm\n",
       "    // socket was opened in Python.\n",
       "    var element = document.getElementById(id);\n",
       "    var ws_proxy = comm_websocket_adapter(comm);\n",
       "\n",
       "    function ondownload(figure, _format) {\n",
       "        window.open(figure.canvas.toDataURL());\n",
       "    }\n",
       "\n",
       "    var fig = new mpl.figure(id, ws_proxy, ondownload, element);\n",
       "\n",
       "    // Call onopen now - mpl needs it, as it is assuming we've passed it a real\n",
       "    // web socket which is closed, not our websocket->open comm proxy.\n",
       "    ws_proxy.onopen();\n",
       "\n",
       "    fig.parent_element = element;\n",
       "    fig.cell_info = mpl.find_output_cell(\"<div id='\" + id + \"'></div>\");\n",
       "    if (!fig.cell_info) {\n",
       "        console.error('Failed to find cell for figure', id, fig);\n",
       "        return;\n",
       "    }\n",
       "    fig.cell_info[0].output_area.element.on(\n",
       "        'cleared',\n",
       "        { fig: fig },\n",
       "        fig._remove_fig_handler\n",
       "    );\n",
       "};\n",
       "\n",
       "mpl.figure.prototype.handle_close = function (fig, msg) {\n",
       "    var width = fig.canvas.width / fig.ratio;\n",
       "    fig.cell_info[0].output_area.element.off(\n",
       "        'cleared',\n",
       "        fig._remove_fig_handler\n",
       "    );\n",
       "    fig.resizeObserverInstance.unobserve(fig.canvas_div);\n",
       "\n",
       "    // Update the output cell to use the data from the current canvas.\n",
       "    fig.push_to_output();\n",
       "    var dataURL = fig.canvas.toDataURL();\n",
       "    // Re-enable the keyboard manager in IPython - without this line, in FF,\n",
       "    // the notebook keyboard shortcuts fail.\n",
       "    IPython.keyboard_manager.enable();\n",
       "    fig.parent_element.innerHTML =\n",
       "        '<img src=\"' + dataURL + '\" width=\"' + width + '\">';\n",
       "    fig.close_ws(fig, msg);\n",
       "};\n",
       "\n",
       "mpl.figure.prototype.close_ws = function (fig, msg) {\n",
       "    fig.send_message('closing', msg);\n",
       "    // fig.ws.close()\n",
       "};\n",
       "\n",
       "mpl.figure.prototype.push_to_output = function (_remove_interactive) {\n",
       "    // Turn the data on the canvas into data in the output cell.\n",
       "    var width = this.canvas.width / this.ratio;\n",
       "    var dataURL = this.canvas.toDataURL();\n",
       "    this.cell_info[1]['text/html'] =\n",
       "        '<img src=\"' + dataURL + '\" width=\"' + width + '\">';\n",
       "};\n",
       "\n",
       "mpl.figure.prototype.updated_canvas_event = function () {\n",
       "    // Tell IPython that the notebook contents must change.\n",
       "    IPython.notebook.set_dirty(true);\n",
       "    this.send_message('ack', {});\n",
       "    var fig = this;\n",
       "    // Wait a second, then push the new image to the DOM so\n",
       "    // that it is saved nicely (might be nice to debounce this).\n",
       "    setTimeout(function () {\n",
       "        fig.push_to_output();\n",
       "    }, 1000);\n",
       "};\n",
       "\n",
       "mpl.figure.prototype._init_toolbar = function () {\n",
       "    var fig = this;\n",
       "\n",
       "    var toolbar = document.createElement('div');\n",
       "    toolbar.classList = 'btn-toolbar';\n",
       "    this.root.appendChild(toolbar);\n",
       "\n",
       "    function on_click_closure(name) {\n",
       "        return function (_event) {\n",
       "            return fig.toolbar_button_onclick(name);\n",
       "        };\n",
       "    }\n",
       "\n",
       "    function on_mouseover_closure(tooltip) {\n",
       "        return function (event) {\n",
       "            if (!event.currentTarget.disabled) {\n",
       "                return fig.toolbar_button_onmouseover(tooltip);\n",
       "            }\n",
       "        };\n",
       "    }\n",
       "\n",
       "    fig.buttons = {};\n",
       "    var buttonGroup = document.createElement('div');\n",
       "    buttonGroup.classList = 'btn-group';\n",
       "    var button;\n",
       "    for (var toolbar_ind in mpl.toolbar_items) {\n",
       "        var name = mpl.toolbar_items[toolbar_ind][0];\n",
       "        var tooltip = mpl.toolbar_items[toolbar_ind][1];\n",
       "        var image = mpl.toolbar_items[toolbar_ind][2];\n",
       "        var method_name = mpl.toolbar_items[toolbar_ind][3];\n",
       "\n",
       "        if (!name) {\n",
       "            /* Instead of a spacer, we start a new button group. */\n",
       "            if (buttonGroup.hasChildNodes()) {\n",
       "                toolbar.appendChild(buttonGroup);\n",
       "            }\n",
       "            buttonGroup = document.createElement('div');\n",
       "            buttonGroup.classList = 'btn-group';\n",
       "            continue;\n",
       "        }\n",
       "\n",
       "        button = fig.buttons[name] = document.createElement('button');\n",
       "        button.classList = 'btn btn-default';\n",
       "        button.href = '#';\n",
       "        button.title = name;\n",
       "        button.innerHTML = '<i class=\"fa ' + image + ' fa-lg\"></i>';\n",
       "        button.addEventListener('click', on_click_closure(method_name));\n",
       "        button.addEventListener('mouseover', on_mouseover_closure(tooltip));\n",
       "        buttonGroup.appendChild(button);\n",
       "    }\n",
       "\n",
       "    if (buttonGroup.hasChildNodes()) {\n",
       "        toolbar.appendChild(buttonGroup);\n",
       "    }\n",
       "\n",
       "    // Add the status bar.\n",
       "    var status_bar = document.createElement('span');\n",
       "    status_bar.classList = 'mpl-message pull-right';\n",
       "    toolbar.appendChild(status_bar);\n",
       "    this.message = status_bar;\n",
       "\n",
       "    // Add the close button to the window.\n",
       "    var buttongrp = document.createElement('div');\n",
       "    buttongrp.classList = 'btn-group inline pull-right';\n",
       "    button = document.createElement('button');\n",
       "    button.classList = 'btn btn-mini btn-primary';\n",
       "    button.href = '#';\n",
       "    button.title = 'Stop Interaction';\n",
       "    button.innerHTML = '<i class=\"fa fa-power-off icon-remove icon-large\"></i>';\n",
       "    button.addEventListener('click', function (_evt) {\n",
       "        fig.handle_close(fig, {});\n",
       "    });\n",
       "    button.addEventListener(\n",
       "        'mouseover',\n",
       "        on_mouseover_closure('Stop Interaction')\n",
       "    );\n",
       "    buttongrp.appendChild(button);\n",
       "    var titlebar = this.root.querySelector('.ui-dialog-titlebar');\n",
       "    titlebar.insertBefore(buttongrp, titlebar.firstChild);\n",
       "};\n",
       "\n",
       "mpl.figure.prototype._remove_fig_handler = function (event) {\n",
       "    var fig = event.data.fig;\n",
       "    if (event.target !== this) {\n",
       "        // Ignore bubbled events from children.\n",
       "        return;\n",
       "    }\n",
       "    fig.close_ws(fig, {});\n",
       "};\n",
       "\n",
       "mpl.figure.prototype._root_extra_style = function (el) {\n",
       "    el.style.boxSizing = 'content-box'; // override notebook setting of border-box.\n",
       "};\n",
       "\n",
       "mpl.figure.prototype._canvas_extra_style = function (el) {\n",
       "    // this is important to make the div 'focusable\n",
       "    el.setAttribute('tabindex', 0);\n",
       "    // reach out to IPython and tell the keyboard manager to turn it's self\n",
       "    // off when our div gets focus\n",
       "\n",
       "    // location in version 3\n",
       "    if (IPython.notebook.keyboard_manager) {\n",
       "        IPython.notebook.keyboard_manager.register_events(el);\n",
       "    } else {\n",
       "        // location in version 2\n",
       "        IPython.keyboard_manager.register_events(el);\n",
       "    }\n",
       "};\n",
       "\n",
       "mpl.figure.prototype._key_event_extra = function (event, _name) {\n",
       "    // Check for shift+enter\n",
       "    if (event.shiftKey && event.which === 13) {\n",
       "        this.canvas_div.blur();\n",
       "        // select the cell after this one\n",
       "        var index = IPython.notebook.find_cell_index(this.cell_info[0]);\n",
       "        IPython.notebook.select(index + 1);\n",
       "    }\n",
       "};\n",
       "\n",
       "mpl.figure.prototype.handle_save = function (fig, _msg) {\n",
       "    fig.ondownload(fig, null);\n",
       "};\n",
       "\n",
       "mpl.find_output_cell = function (html_output) {\n",
       "    // Return the cell and output element which can be found *uniquely* in the notebook.\n",
       "    // Note - this is a bit hacky, but it is done because the \"notebook_saving.Notebook\"\n",
       "    // IPython event is triggered only after the cells have been serialised, which for\n",
       "    // our purposes (turning an active figure into a static one), is too late.\n",
       "    var cells = IPython.notebook.get_cells();\n",
       "    var ncells = cells.length;\n",
       "    for (var i = 0; i < ncells; i++) {\n",
       "        var cell = cells[i];\n",
       "        if (cell.cell_type === 'code') {\n",
       "            for (var j = 0; j < cell.output_area.outputs.length; j++) {\n",
       "                var data = cell.output_area.outputs[j];\n",
       "                if (data.data) {\n",
       "                    // IPython >= 3 moved mimebundle to data attribute of output\n",
       "                    data = data.data;\n",
       "                }\n",
       "                if (data['text/html'] === html_output) {\n",
       "                    return [cell, data, j];\n",
       "                }\n",
       "            }\n",
       "        }\n",
       "    }\n",
       "};\n",
       "\n",
       "// Register the function which deals with the matplotlib target/channel.\n",
       "// The kernel may be null if the page has been refreshed.\n",
       "if (IPython.notebook.kernel !== null) {\n",
       "    IPython.notebook.kernel.comm_manager.register_target(\n",
       "        'matplotlib',\n",
       "        mpl.mpl_figure_comm\n",
       "    );\n",
       "}\n"
      ],
      "text/plain": [
       "<IPython.core.display.Javascript object>"
      ]
     },
     "metadata": {},
     "output_type": "display_data"
    },
    {
     "data": {
      "text/html": [
       "<img src=\"data:image/png;base64,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\" width=\"432\">"
      ],
      "text/plain": [
       "<IPython.core.display.HTML object>"
      ]
     },
     "metadata": {},
     "output_type": "display_data"
    }
   ],
   "source": [
    "%matplotlib notebook\n",
    "model = MyLinearRegression(n_iter = 100, learning_rate=0.00000001, anim=True)\n",
    "model.fit(X,y)"
   ]
  },
  {
   "cell_type": "code",
   "execution_count": null,
   "metadata": {},
   "outputs": [],
   "source": [
    "plt.plot(model.cost_array)"
   ]
  },
  {
   "cell_type": "code",
   "execution_count": null,
   "metadata": {
    "scrolled": true
   },
   "outputs": [],
   "source": [
    "from sklearn.metrics import mean_absolute_error\n",
    "X = train.loc[:,['GrLivArea']]\n",
    "y = train.loc[:,'SalePrice']\n",
    "X = pd.get_dummies(X)\n",
    "X_train, X_test, y_train, y_test = train_test_split(X, y, test_size=0.1)\n",
    "X_train = X_train.fillna(X_train.mean())\n",
    "X_test = X_test.fillna(X_test.mean())\n",
    "\n",
    "reg1 = linear_model.LinearRegression()\n",
    "reg2 = MyLinearRegression(n_iter=1000, learning_rate=0.0000001)\n",
    "\n",
    "X_train = X_train.to_numpy()\n",
    "y_train = y_train.to_numpy()\n",
    "X_test = X_test.to_numpy()\n",
    "\n",
    "reg1.fit(X_train, y_train)\n",
    "reg2.fit(X_train, y_train)\n",
    "\n",
    "print(mean_absolute_error(y_test, reg1.predict(X_test)))\n",
    "print(mean_absolute_error(y_test, reg2.predict(X_test)))\n",
    "print(mean_absolute_error(y_train, reg2.predict(X_train)))\n"
   ]
  },
  {
   "cell_type": "code",
   "execution_count": null,
   "metadata": {},
   "outputs": [],
   "source": [
    "print(reg1.coef_)\n",
    "print(reg1.intercept_)"
   ]
  },
  {
   "cell_type": "code",
   "execution_count": null,
   "metadata": {},
   "outputs": [],
   "source": [
    "print(reg2.w)\n",
    "print(reg2.b)"
   ]
  },
  {
   "cell_type": "code",
   "execution_count": null,
   "metadata": {},
   "outputs": [],
   "source": [
    "plt.scatter(X_test, y_test,  color='black')\n",
    "plt.plot(X_test, reg1.predict(X_test), color='blue', linewidth=3)\n",
    "plt.plot(X_test, reg2.predict(X_test), color='red', linewidth=3)"
   ]
  },
  {
   "cell_type": "code",
   "execution_count": null,
   "metadata": {},
   "outputs": [],
   "source": []
  }
 ],
 "metadata": {
  "colab": {
   "provenance": []
  },
  "kernelspec": {
   "display_name": "Python 3",
   "language": "python",
   "name": "python3"
  },
  "language_info": {
   "codemirror_mode": {
    "name": "ipython",
    "version": 3
   },
   "file_extension": ".py",
   "mimetype": "text/x-python",
   "name": "python",
   "nbconvert_exporter": "python",
   "pygments_lexer": "ipython3",
   "version": "3.7.7"
  }
 },
 "nbformat": 4,
 "nbformat_minor": 1
}
