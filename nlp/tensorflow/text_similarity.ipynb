{
 "cells": [
  {
   "cell_type": "markdown",
   "metadata": {
    "id": "Tce3stUlHN0L"
   },
   "source": [
    "##### Copyright 2020 The TensorFlow Authors."
   ]
  },
  {
   "cell_type": "code",
   "execution_count": 1,
   "metadata": {
    "cellView": "form",
    "execution": {
     "iopub.execute_input": "2023-11-16T14:14:53.287702Z",
     "iopub.status.busy": "2023-11-16T14:14:53.287443Z",
     "iopub.status.idle": "2023-11-16T14:14:53.291198Z",
     "shell.execute_reply": "2023-11-16T14:14:53.290639Z"
    },
    "id": "tuOe1ymfHZPu"
   },
   "outputs": [],
   "source": [
    "#@title Licensed under the Apache License, Version 2.0 (the \"License\");\n",
    "# you may not use this file except in compliance with the License.\n",
    "# You may obtain a copy of the License at\n",
    "#\n",
    "# https://www.apache.org/licenses/LICENSE-2.0\n",
    "#\n",
    "# Unless required by applicable law or agreed to in writing, software\n",
    "# distributed under the License is distributed on an \"AS IS\" BASIS,\n",
    "# WITHOUT WARRANTIES OR CONDITIONS OF ANY KIND, either express or implied.\n",
    "# See the License for the specific language governing permissions and\n",
    "# limitations under the License."
   ]
  },
  {
   "cell_type": "markdown",
   "metadata": {
    "id": "qFdPvlXBOdUN"
   },
   "source": [
    "# TF.Text Metrics"
   ]
  },
  {
   "cell_type": "markdown",
   "metadata": {
    "id": "MfBg1C5NB3X0"
   },
   "source": [
    "<table class=\"tfo-notebook-buttons\" align=\"left\">\n",
    "  <td>\n",
    "    <a target=\"_blank\" href=\"https://www.tensorflow.org/text/tutorials/text_similarity\"><img src=\"https://www.tensorflow.org/images/tf_logo_32px.png\" />View on TensorFlow.org</a>\n",
    "  </td>\n",
    "  <td>\n",
    "    <a target=\"_blank\" href=\"https://colab.research.google.com/github/tensorflow/text/blob/master/docs/tutorials/text_similarity.ipynb\"><img src=\"https://www.tensorflow.org/images/colab_logo_32px.png\" />Run in Google Colab</a>\n",
    "  </td>\n",
    "  <td>\n",
    "    <a target=\"_blank\" href=\"https://github.com/tensorflow/text/blob/master/docs/tutorials/text_similarity.ipynb\"><img src=\"https://www.tensorflow.org/images/GitHub-Mark-32px.png\" />View on GitHub</a>\n",
    "  </td>\n",
    "  <td>\n",
    "    <a href=\"https://storage.googleapis.com/tensorflow_docs/text/docs/tutorials/text_similarity.ipynb\"><img src=\"https://www.tensorflow.org/images/download_logo_32px.png\" />Download notebook</a>\n",
    "  </td>\n",
    "</table>"
   ]
  },
  {
   "cell_type": "markdown",
   "metadata": {
    "id": "xHxb-dlhMIzW"
   },
   "source": [
    "## Overview\n",
    "\n",
    "TensorFlow Text provides a collection of text-metrics-related classes and ops ready to use with TensorFlow 2.0. The library contains implementations of text-similarity metrics such as ROUGE-L, required for automatic evaluation of text generation models.\n",
    "\n",
    "The benefit of using these ops in evaluating your models is that they are compatible with TPU evaluation and work nicely with TF streaming metric APIs."
   ]
  },
  {
   "cell_type": "markdown",
   "metadata": {
    "id": "MUXex9ctTuDB"
   },
   "source": [
    "## Setup"
   ]
  },
  {
   "cell_type": "code",
   "execution_count": 2,
   "metadata": {
    "execution": {
     "iopub.execute_input": "2023-11-16T14:14:53.294529Z",
     "iopub.status.busy": "2023-11-16T14:14:53.294291Z",
     "iopub.status.idle": "2023-11-16T14:15:17.036367Z",
     "shell.execute_reply": "2023-11-16T14:15:17.035483Z"
    },
    "id": "K_8D_DtQJ0kC"
   },
   "outputs": [
    {
     "name": "stdout",
     "output_type": "stream",
     "text": [
      "\u001b[31mERROR: pip's dependency resolver does not currently take into account all the packages that are installed. This behaviour is the source of the following dependency conflicts.\r\n",
      "tensorflow-datasets 4.9.3 requires protobuf>=3.20, but you have protobuf 3.19.6 which is incompatible.\r\n",
      "tensorflow-metadata 1.14.0 requires protobuf<4.21,>=3.20.3, but you have protobuf 3.19.6 which is incompatible.\u001b[0m\u001b[31m\r\n",
      "\u001b[0m"
     ]
    }
   ],
   "source": [
    "!pip install -q \"tensorflow-text==2.11.*\""
   ]
  },
  {
   "cell_type": "code",
   "execution_count": 3,
   "metadata": {
    "execution": {
     "iopub.execute_input": "2023-11-16T14:15:17.040711Z",
     "iopub.status.busy": "2023-11-16T14:15:17.040424Z",
     "iopub.status.idle": "2023-11-16T14:15:19.253794Z",
     "shell.execute_reply": "2023-11-16T14:15:19.253016Z"
    },
    "id": "IqR2PQG4ZaZ0"
   },
   "outputs": [
    {
     "name": "stderr",
     "output_type": "stream",
     "text": [
      "2023-11-16 14:15:17.221359: W tensorflow/compiler/xla/stream_executor/platform/default/dso_loader.cc:64] Could not load dynamic library 'libcudart.so.11.0'; dlerror: libcudart.so.11.0: cannot open shared object file: No such file or directory\n"
     ]
    },
    {
     "name": "stderr",
     "output_type": "stream",
     "text": [
      "2023-11-16 14:15:18.023785: W tensorflow/compiler/xla/stream_executor/platform/default/dso_loader.cc:64] Could not load dynamic library 'libnvinfer.so.7'; dlerror: libnvinfer.so.7: cannot open shared object file: No such file or directory\n",
      "2023-11-16 14:15:18.023888: W tensorflow/compiler/xla/stream_executor/platform/default/dso_loader.cc:64] Could not load dynamic library 'libnvinfer_plugin.so.7'; dlerror: libnvinfer_plugin.so.7: cannot open shared object file: No such file or directory\n",
      "2023-11-16 14:15:18.023899: W tensorflow/compiler/tf2tensorrt/utils/py_utils.cc:38] TF-TRT Warning: Cannot dlopen some TensorRT libraries. If you would like to use Nvidia GPU with TensorRT, please make sure the missing libraries mentioned above are installed properly.\n"
     ]
    }
   ],
   "source": [
    "import tensorflow as tf\n",
    "import tensorflow_text as text"
   ]
  },
  {
   "cell_type": "markdown",
   "metadata": {
    "id": "QKp40qS-DGEZ"
   },
   "source": [
    "### ROUGE-L\n",
    "\n",
    "The Rouge-L metric is a score from 0 to 1 indicating how similar two sequences are, based on the length of the longest common subsequence (LCS). In particular, Rouge-L is the weighted harmonic mean (or f-measure) combining the LCS precision (the percentage of the hypothesis sequence covered by the LCS) and the LCS recall (the percentage of the reference sequence covered by the LCS).\n",
    "\n",
    "Source: https://www.microsoft.com/en-us/research/publication/rouge-a-package-for-automatic-evaluation-of-summaries/\n",
    "\n",
    "The TF.Text implementation returns the F-measure, Precision, and Recall for each (hypothesis, reference) pair.\n",
    "\n",
    "Consider the following hypothesis/reference pair:"
   ]
  },
  {
   "cell_type": "code",
   "execution_count": 4,
   "metadata": {
    "execution": {
     "iopub.execute_input": "2023-11-16T14:15:19.258444Z",
     "iopub.status.busy": "2023-11-16T14:15:19.258053Z",
     "iopub.status.idle": "2023-11-16T14:15:19.887250Z",
     "shell.execute_reply": "2023-11-16T14:15:19.886418Z"
    },
    "id": "WUgEkGHRKafG"
   },
   "outputs": [
    {
     "name": "stderr",
     "output_type": "stream",
     "text": [
      "2023-11-16 14:15:19.800786: W tensorflow/compiler/xla/stream_executor/platform/default/dso_loader.cc:64] Could not load dynamic library 'libcudart.so.11.0'; dlerror: libcudart.so.11.0: cannot open shared object file: No such file or directory\n",
      "2023-11-16 14:15:19.800884: W tensorflow/compiler/xla/stream_executor/platform/default/dso_loader.cc:64] Could not load dynamic library 'libcublas.so.11'; dlerror: libcublas.so.11: cannot open shared object file: No such file or directory\n",
      "2023-11-16 14:15:19.800949: W tensorflow/compiler/xla/stream_executor/platform/default/dso_loader.cc:64] Could not load dynamic library 'libcublasLt.so.11'; dlerror: libcublasLt.so.11: cannot open shared object file: No such file or directory\n",
      "2023-11-16 14:15:19.801005: W tensorflow/compiler/xla/stream_executor/platform/default/dso_loader.cc:64] Could not load dynamic library 'libcufft.so.10'; dlerror: libcufft.so.10: cannot open shared object file: No such file or directory\n",
      "2023-11-16 14:15:19.858671: W tensorflow/compiler/xla/stream_executor/platform/default/dso_loader.cc:64] Could not load dynamic library 'libcusparse.so.11'; dlerror: libcusparse.so.11: cannot open shared object file: No such file or directory\n",
      "2023-11-16 14:15:19.858893: W tensorflow/core/common_runtime/gpu/gpu_device.cc:1934] Cannot dlopen some GPU libraries. Please make sure the missing libraries mentioned above are installed properly if you would like to use GPU. Follow the guide at https://www.tensorflow.org/ins"
     ]
    },
    {
     "name": "stderr",
     "output_type": "stream",
     "text": [
      "tall/gpu for how to download and setup the required libraries for your platform.\n",
      "Skipping registering GPU devices...\n"
     ]
    }
   ],
   "source": [
    "hypotheses = tf.ragged.constant([['captain', 'of', 'the', 'delta', 'flight'],\n",
    "                                 ['the', '1990', 'transcript']])\n",
    "references = tf.ragged.constant([['delta', 'air', 'lines', 'flight'],\n",
    "                                 ['this', 'concludes', 'the', 'transcript']])"
   ]
  },
  {
   "cell_type": "markdown",
   "metadata": {
    "id": "qeiXnY-_Khp1"
   },
   "source": [
    "The hypotheses and references are expected to be tf.RaggedTensors of tokens. Tokens are required instead of raw sentences because no single tokenization strategy fits all tasks.\n",
    "\n",
    "Now we can call text.metrics.rouge_l and get our result back:"
   ]
  },
  {
   "cell_type": "code",
   "execution_count": 5,
   "metadata": {
    "execution": {
     "iopub.execute_input": "2023-11-16T14:15:19.891514Z",
     "iopub.status.busy": "2023-11-16T14:15:19.891223Z",
     "iopub.status.idle": "2023-11-16T14:15:19.897518Z",
     "shell.execute_reply": "2023-11-16T14:15:19.896904Z"
    },
    "id": "LS_NigzqKgtT"
   },
   "outputs": [
    {
     "name": "stdout",
     "output_type": "stream",
     "text": [
      "F-Measure: tf.Tensor([0.44444448 0.57142854], shape=(2,), dtype=float32)\n",
      "P-Measure: tf.Tensor([0.4       0.6666667], shape=(2,), dtype=float32)\n",
      "R-Measure: tf.Tensor([0.5 0.5], shape=(2,), dtype=float32)\n"
     ]
    }
   ],
   "source": [
    "result = text.metrics.rouge_l(hypotheses, references)\n",
    "print('F-Measure: %s' % result.f_measure)\n",
    "print('P-Measure: %s' % result.p_measure)\n",
    "print('R-Measure: %s' % result.r_measure)"
   ]
  },
  {
   "cell_type": "markdown",
   "metadata": {
    "id": "FQoprhImKoD0"
   },
   "source": [
    "ROUGE-L has an additional hyperparameter, alpha, which determines the weight of the harmonic mean used for computing the F-Measure. Values closer to 0 treat Recall as more important and values closer to 1 treat Precision as more important. alpha defaults to .5, which corresponds to equal weight for Precision and Recall."
   ]
  },
  {
   "cell_type": "code",
   "execution_count": 6,
   "metadata": {
    "execution": {
     "iopub.execute_input": "2023-11-16T14:15:19.900512Z",
     "iopub.status.busy": "2023-11-16T14:15:19.900283Z",
     "iopub.status.idle": "2023-11-16T14:15:19.905321Z",
     "shell.execute_reply": "2023-11-16T14:15:19.904686Z"
    },
    "id": "Q2ZnjOIgKnnS"
   },
   "outputs": [
    {
     "name": "stdout",
     "output_type": "stream",
     "text": [
      "F-Measure (alpha=0): tf.Tensor([0.5 0.5], shape=(2,), dtype=float32)\n",
      "P-Measure (alpha=0): tf.Tensor([0.4       0.6666667], shape=(2,), dtype=float32)\n",
      "R-Measure (alpha=0): tf.Tensor([0.5 0.5], shape=(2,), dtype=float32)\n"
     ]
    }
   ],
   "source": [
    "# Compute ROUGE-L with alpha=0\n",
    "result = text.metrics.rouge_l(hypotheses, references, alpha=0)\n",
    "print('F-Measure (alpha=0): %s' % result.f_measure)\n",
    "print('P-Measure (alpha=0): %s' % result.p_measure)\n",
    "print('R-Measure (alpha=0): %s' % result.r_measure)"
   ]
  },
  {
   "cell_type": "code",
   "execution_count": 7,
   "metadata": {
    "execution": {
     "iopub.execute_input": "2023-11-16T14:15:19.908472Z",
     "iopub.status.busy": "2023-11-16T14:15:19.907931Z",
     "iopub.status.idle": "2023-11-16T14:15:19.912757Z",
     "shell.execute_reply": "2023-11-16T14:15:19.912149Z"
    },
    "id": "iYUYiLJhKseb"
   },
   "outputs": [
    {
     "name": "stdout",
     "output_type": "stream",
     "text": [
      "F-Measure (alpha=1): tf.Tensor([0.4       0.6666667], shape=(2,), dtype=float32)\n",
      "P-Measure (alpha=1): tf.Tensor([0.4       0.6666667], shape=(2,), dtype=float32)\n",
      "R-Measure (alpha=1): tf.Tensor([0.5 0.5], shape=(2,), dtype=float32)\n"
     ]
    }
   ],
   "source": [
    "# Compute ROUGE-L with alpha=1\n",
    "result = text.metrics.rouge_l(hypotheses, references, alpha=1)\n",
    "print('F-Measure (alpha=1): %s' % result.f_measure)\n",
    "print('P-Measure (alpha=1): %s' % result.p_measure)\n",
    "print('R-Measure (alpha=1): %s' % result.r_measure)"
   ]
  }
 ],
 "metadata": {
  "colab": {
   "collapsed_sections": [
    "Tce3stUlHN0L"
   ],
   "name": "text_similarity.ipynb",
   "toc_visible": true
  },
  "kernelspec": {
   "display_name": "Python 3",
   "name": "python3"
  },
  "language_info": {
   "codemirror_mode": {
    "name": "ipython",
    "version": 3
   },
   "file_extension": ".py",
   "mimetype": "text/x-python",
   "name": "python",
   "nbconvert_exporter": "python",
   "pygments_lexer": "ipython3",
   "version": "3.9.18"
  }
 },
 "nbformat": 4,
 "nbformat_minor": 0
}
